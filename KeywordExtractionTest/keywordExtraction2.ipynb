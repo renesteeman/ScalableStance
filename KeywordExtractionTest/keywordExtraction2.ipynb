{
 "cells": [
  {
   "cell_type": "code",
   "execution_count": 1,
   "metadata": {
    "collapsed": true
   },
   "outputs": [],
   "source": [
    "import nltk\n",
    "# nltk.download('punkt')\n",
    "# nltk.download('averaged_perceptron_tagger')\n",
    "\n",
    "def get_nouns(doc):\n",
    "    noun_tags = ['NN', 'NNP']\n",
    "    words = nltk.tokenize.word_tokenize(doc)\n",
    "    pos_tagged = nltk.pos_tag(words)\n",
    "    nouns = []\n",
    "\n",
    "    for word in pos_tagged:\n",
    "        if word[1] in noun_tags:\n",
    "            noun = word[0].replace(\"'\", \"\")\n",
    "            nouns.append(noun)\n",
    "\n",
    "    return nouns"
   ]
  },
  {
   "cell_type": "code",
   "execution_count": 4,
   "outputs": [
    {
     "name": "stdout",
     "output_type": "stream",
     "text": [
      "{'Jedi', 'CNET', 'Wars', 'Andor', 'Star'}\n"
     ]
    }
   ],
   "source": [
    "docs = [\"Count Dooku Voice Actor Corey Burton Tried Something New on Star Wars: Tales of the Jedi\", \"'Andor' Episode 8 Explained: 'Rogue One' Cameos and a 'Star Wars' Hell Prison - CNET\", \"Andor Gave Us the Gayest Screen Fade in Star Wars History\", \"Ahsoka Tano Herself, Ashley Eckstein, Breaks Down Star Wars: Tales of the Jedi\", \"Star Wars: The Deckbuilding Game could rule the galaxy of 2-player card games\", \"There's a new Star Wars project from Damon Lindelof in the works\", \"Star Wars Fatigue Shouldn't Stop You From Watching 'Andor' - CNET\", \"'Andor' is the best 'Star Wars' show since 'The Mandalorian' — but the least popular\", \"Star Wars characters take over Mexico City - Reuters\"]\n",
    "\n",
    "nouns_combined = []\n",
    "for doc in docs:\n",
    "    nouns = get_nouns(doc)\n",
    "    nouns_combined.extend(nouns)\n",
    "\n",
    "nouns_combined = sorted(nouns_combined, key = nouns_combined.count, reverse = True)\n",
    "\n",
    "most_common_nouns = set()\n",
    "for noun in nouns_combined:\n",
    "    if len(most_common_nouns) < 5:\n",
    "        most_common_nouns.add(noun)\n",
    "\n",
    "print(most_common_nouns)"
   ],
   "metadata": {
    "collapsed": false
   }
  }
 ],
 "metadata": {
  "kernelspec": {
   "display_name": "Python 3",
   "language": "python",
   "name": "python3"
  },
  "language_info": {
   "codemirror_mode": {
    "name": "ipython",
    "version": 2
   },
   "file_extension": ".py",
   "mimetype": "text/x-python",
   "name": "python",
   "nbconvert_exporter": "python",
   "pygments_lexer": "ipython2",
   "version": "2.7.6"
  }
 },
 "nbformat": 4,
 "nbformat_minor": 0
}
