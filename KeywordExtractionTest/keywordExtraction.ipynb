{
 "cells": [
  {
   "cell_type": "code",
   "execution_count": 89,
   "metadata": {
    "collapsed": true
   },
   "outputs": [
    {
     "data": {
      "text/plain": "['star wars fatigue',\n 'star wars fatigue shouldn',\n 'star wars fatigue shouldn stop']"
     },
     "execution_count": 89,
     "metadata": {},
     "output_type": "execute_result"
    }
   ],
   "source": [
    "# Based on https://towardsdatascience.com/keyword-extraction-with-bert-724efca412ea\n",
    "doc = \"\"\"\n",
    "         Star Wars Fatigue Shouldn't Stop You From Watching 'Andor' - CNET\n",
    "      \"\"\"\n",
    "\n",
    "from sklearn.feature_extraction.text import CountVectorizer\n",
    "\n",
    "n_gram_range = (1, 5)\n",
    "stop_words = \"english\"\n",
    "\n",
    "# Extract candidate words/phrases\n",
    "count = CountVectorizer(ngram_range=n_gram_range, stop_words=stop_words).fit([doc])\n",
    "candidates = count.get_feature_names_out()\n",
    "\n",
    "from sentence_transformers import SentenceTransformer\n",
    "\n",
    "model = SentenceTransformer('distilbert-base-nli-mean-tokens')\n",
    "doc_embedding = model.encode([doc])\n",
    "candidate_embeddings = model.encode(candidates)\n",
    "\n",
    "from sklearn.metrics.pairwise import cosine_similarity\n",
    "\n",
    "top_n = 3\n",
    "distances = cosine_similarity(doc_embedding, candidate_embeddings)\n",
    "keywords = [candidates[index] for index in distances.argsort()[0][-top_n:]]\n",
    "\n",
    "keywords"
   ]
  },
  {
   "cell_type": "code",
   "execution_count": 90,
   "outputs": [],
   "source": [
    "from sklearn.feature_extraction.text import CountVectorizer\n",
    "from sentence_transformers import SentenceTransformer\n",
    "from sklearn.metrics.pairwise import cosine_similarity\n",
    "\n",
    "def get_keywords(docs):\n",
    "    proposed_keywords = []\n",
    "\n",
    "    for doc in docs:\n",
    "        n_gram_range = (3, 3)\n",
    "        stop_words = \"english\"\n",
    "\n",
    "        # Extract candidate words/phrases\n",
    "        count = CountVectorizer(ngram_range=n_gram_range, stop_words=stop_words).fit(docs)\n",
    "        candidates = count.get_feature_names_out()\n",
    "\n",
    "        model = SentenceTransformer('distilbert-base-nli-mean-tokens')\n",
    "        doc_embedding = model.encode([doc])\n",
    "        candidate_embeddings = model.encode(candidates)\n",
    "\n",
    "        top_n = 5\n",
    "        distances = cosine_similarity(doc_embedding, candidate_embeddings)\n",
    "        keywords = [candidates[index] for index in distances.argsort()[0][-top_n:]]\n",
    "        proposed_keywords.extend(keywords)\n",
    "\n",
    "    proposed_keywords = sorted(proposed_keywords, key = proposed_keywords.count, reverse = True)\n",
    "\n",
    "    top_keywords = set()\n",
    "    for keyword in proposed_keywords:\n",
    "        if len(top_keywords) < 5:\n",
    "            top_keywords.add(keyword)\n",
    "\n",
    "    return top_keywords"
   ],
   "metadata": {
    "collapsed": false
   }
  },
  {
   "cell_type": "code",
   "execution_count": 91,
   "outputs": [
    {
     "name": "stdout",
     "output_type": "stream",
     "text": [
      "{'star wars hell', 'breaks star wars', 'new star wars', 'wars tales jedi', 'star wars mandalorian'}\n"
     ]
    }
   ],
   "source": [
    "# Results for Star Wars 09/11/2022\n",
    "docs = [\"Count Dooku Voice Actor Corey Burton Tried Something New on Star Wars: Tales of the Jedi\", \"'Andor' Episode 8 Explained: 'Rogue One' Cameos and a 'Star Wars' Hell Prison - CNET\", \"Andor Gave Us the Gayest Screen Fade in Star Wars History\", \"Ahsoka Tano Herself, Ashley Eckstein, Breaks Down Star Wars: Tales of the Jedi\", \"Star Wars: The Deckbuilding Game could rule the galaxy of 2-player card games\", \"There's a new Star Wars project from Damon Lindelof in the works\", \"Star Wars Fatigue Shouldn't Stop You From Watching 'Andor' - CNET\", \"'Andor' is the best 'Star Wars' show since 'The Mandalorian' — but the least popular\", \"Star Wars characters take over Mexico City - Reuters\"]\n",
    "\n",
    "print(get_keywords(docs))"
   ],
   "metadata": {
    "collapsed": false
   }
  }
 ],
 "metadata": {
  "kernelspec": {
   "display_name": "Python 3",
   "language": "python",
   "name": "python3"
  },
  "language_info": {
   "codemirror_mode": {
    "name": "ipython",
    "version": 2
   },
   "file_extension": ".py",
   "mimetype": "text/x-python",
   "name": "python",
   "nbconvert_exporter": "python",
   "pygments_lexer": "ipython2",
   "version": "2.7.6"
  }
 },
 "nbformat": 4,
 "nbformat_minor": 0
}
