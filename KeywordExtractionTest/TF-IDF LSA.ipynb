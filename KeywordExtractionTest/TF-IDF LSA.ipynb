{
 "cells": [
  {
   "cell_type": "code",
   "execution_count": 46,
   "outputs": [
    {
     "name": "stdout",
     "output_type": "stream",
     "text": [
      "['canadas goalkeeper crepeau miss world cup broken leg reuters', 'world cup stadium alcohol ban emblematic contradictions', 'andor episode 8 explained rogue one cameos star wars hell prison cnet', 'ukraine roundup refugees urged stay away dirty bomb claims', 'ukraine nuclear agency thickens alleged dirty bomb plot ctv news', 'death boy lockdown fuels backlash chinas zerocovid policy', 'world cup fifa head comments beer ban cp24', 'count dooku voice actor corey burton tried something new star wars tales jedi', 'star wars characters take mexico city reuters', 'update 2hong kong stocks tumble xi appointments fan economic fears yuan weakens', 'ukraine war roundup missile blast poland zambian familys grief', 'alarmed suicide attack china pakistan join hands probe reuters', 't20 world cup pakistan beat netherlands avoid elimination', 'theres new star wars project damon lindelof works', 'ahsoka tano herself ashley eckstein breaks down star wars tales jedi', 'chance peace ukraine says frances macron reuters', 'russia says ukraine hands 50 prisoners war reuterscom', 'ukraine war wagner chief prigozhin defends brutal killing video', 't20 world cup bangladesh bowlers impress secure victory netherlands', 'andor best star wars show since the mandalorian least popular', 'china supports central soes issue tech innovation bonds reuters', 'andor gave us gayest screen fade star wars history', 'star wars the deckbuilding game could rule galaxy 2player card games', 'star wars fatigue shouldnt stop you from watching andor cnet']\n"
     ]
    },
    {
     "name": "stderr",
     "output_type": "stream",
     "text": [
      "[nltk_data] Downloading package wordnet to\n",
      "[nltk_data]     C:\\Users\\steem\\AppData\\Roaming\\nltk_data...\n",
      "[nltk_data]   Package wordnet is already up-to-date!\n",
      "[nltk_data] Downloading package omw-1.4 to\n",
      "[nltk_data]     C:\\Users\\steem\\AppData\\Roaming\\nltk_data...\n",
      "[nltk_data]   Package omw-1.4 is already up-to-date!\n",
      "[nltk_data] Downloading package stopwords to\n",
      "[nltk_data]     C:\\Users\\steem\\AppData\\Roaming\\nltk_data...\n",
      "[nltk_data]   Package stopwords is already up-to-date!\n"
     ]
    }
   ],
   "source": [
    "import nltk\n",
    "nltk.download('wordnet')\n",
    "nltk.download('omw-1.4')\n",
    "nltk.download('stopwords')\n",
    "import string\n",
    "import numpy as np\n",
    "import random\n",
    "\n",
    "words_to_filter = ['Reuters']\n",
    "\n",
    "docs_StarWars = [\"Count Dooku Voice Actor Corey Burton Tried Something New on Star Wars: Tales of the Jedi\", \"'Andor' Episode 8 Explained: 'Rogue One' Cameos and a 'Star Wars' Hell Prison - CNET\", \"Andor Gave Us the Gayest Screen Fade in Star Wars History\", \"Ahsoka Tano Herself, Ashley Eckstein, Breaks Down Star Wars: Tales of the Jedi\", \"Star Wars: The Deckbuilding Game could rule the galaxy of 2-player card games\", \"There's a new Star Wars project from Damon Lindelof in the works\", \"Star Wars Fatigue Shouldn't Stop You From Watching 'Andor' - CNET\", \"'Andor' is the best 'Star Wars' show since 'The Mandalorian' — but the least popular\", \"Star Wars characters take over Mexico City - Reuters\"]\n",
    "\n",
    "docs_China = [\"Alarmed by suicide attack, China and Pakistan join hands in probe - Reuters\", \"Death of boy in lockdown fuels backlash against China's zero-Covid policy\", \"UPDATE 2-Hong Kong stocks tumble as Xi appointments fan economic fears; yuan weakens\", \"China supports central SOEs to issue tech innovation bonds - Reuters\"]\n",
    "\n",
    "docs_WorldCup = [\"World Cup: FIFA head comments on beer ban - CP24\", \"T20 World Cup: Bangladesh bowlers impress to secure victory over Netherlands\", \"Canada's goalkeeper Crepeau to miss World Cup with broken leg - Reuters\", \"World Cup stadium alcohol ban emblematic of contradictions\", \"T20 World Cup: Pakistan beat Netherlands to avoid elimination\"]\n",
    "\n",
    "docs_Ukraine = [\"Ukraine war: Wagner chief Prigozhin defends brutal killing video\", \"Chance for peace in Ukraine, says France's Macron - Reuters\", \"Ukraine nuclear agency thickens alleged dirty bomb plot - CTV News\", \"Ukraine war round-up: Missile blast in Poland and Zambian family's grief\", \"Ukraine round-up: Refugees urged to stay away and 'dirty bomb' claims\", \"Russia says Ukraine hands over 50 prisoners of war - Reuters.com\"]\n",
    "\n",
    "docs = [docs_StarWars, docs_China, docs_WorldCup, docs_Ukraine]\n",
    "docs = list(np.concatenate(docs).flat)\n",
    "random.shuffle(docs)\n",
    "\n",
    "lemmatizer = nltk.stem.WordNetLemmatizer()\n",
    "tokenizer = nltk.tokenize.RegexpTokenizer(r'\\w+')\n",
    "stop_words = nltk.corpus.stopwords.words('english')\n",
    "\n",
    "def clean_text(text):\n",
    "    text = \"\".join([char for char in text if char not in string.punctuation])\n",
    "    text = lemmatizer.lemmatize(text)\n",
    "    text = tokenizer.tokenize(text)\n",
    "    text = [word for word in text if word not in stop_words]\n",
    "    text = ' '.join(text)\n",
    "    text = text.lower()\n",
    "\n",
    "    return text\n",
    "\n",
    "docs = [clean_text(doc) for doc in docs]\n",
    "print(docs)"
   ],
   "metadata": {
    "collapsed": false
   }
  },
  {
   "cell_type": "code",
   "execution_count": 47,
   "outputs": [
    {
     "name": "stdout",
     "output_type": "stream",
     "text": [
      "['canadas goalkeeper crepeau miss world cup broken leg reuters', 'world cup stadium alcohol ban emblematic contradictions', 'andor episode 8 explained rogue one cameos star wars hell prison cnet', 'ukraine roundup refugees urged stay away dirty bomb claims', 'ukraine nuclear agency thickens alleged dirty bomb plot ctv news', 'death boy lockdown fuels backlash chinas zerocovid policy', 'world cup fifa head comments beer ban cp24', 'count dooku voice actor corey burton tried something new star wars tales jedi', 'star wars characters take mexico city reuters', 'update 2hong kong stocks tumble xi appointments fan economic fears yuan weakens', 'ukraine war roundup missile blast poland zambian familys grief', 'alarmed suicide attack china pakistan join hands probe reuters', 't20 world cup pakistan beat netherlands avoid elimination', 'theres new star wars project damon lindelof works', 'ahsoka tano herself ashley eckstein breaks down star wars tales jedi', 'chance peace ukraine says frances macron reuters', 'russia says ukraine hands 50 prisoners war reuterscom', 'ukraine war wagner chief prigozhin defends brutal killing video', 't20 world cup bangladesh bowlers impress secure victory netherlands', 'andor best star wars show since the mandalorian least popular', 'china supports central soes issue tech innovation bonds reuters', 'andor gave us gayest screen fade star wars history', 'star wars the deckbuilding game could rule galaxy 2player card games', 'star wars fatigue shouldnt stop you from watching andor cnet']\n"
     ]
    }
   ],
   "source": [
    "import sklearn as sk\n",
    "import pandas as pd\n",
    "\n",
    "print(docs)\n",
    "vectorizer = sk.feature_extraction.text.TfidfVectorizer(use_idf=True)\n",
    "docs_vectors = vectorizer.fit_transform(docs)\n",
    "\n",
    "docs_vectors = docs_vectors.toarray()\n",
    "docs_vectors = pd.DataFrame(docs_vectors)\n",
    "docs_vectors = docs_vectors - docs_vectors.mean()"
   ],
   "metadata": {
    "collapsed": false
   }
  },
  {
   "cell_type": "code",
   "execution_count": 48,
   "outputs": [
    {
     "name": "stdout",
     "output_type": "stream",
     "text": [
      "PCA explained variance: 0.14940704372740998 %\n",
      "Group 1\n",
      "                                                    0\n",
      "3   ukraine roundup refugees urged stay away dirty...\n",
      "4   ukraine nuclear agency thickens alleged dirty ...\n",
      "10  ukraine war roundup missile blast poland zambi...\n",
      "15   chance peace ukraine says frances macron reuters\n",
      "16  russia says ukraine hands 50 prisoners war reu...\n",
      "17  ukraine war wagner chief prigozhin defends bru...\n",
      "Group 2\n",
      "                                                    0\n",
      "2   andor episode 8 explained rogue one cameos sta...\n",
      "7   count dooku voice actor corey burton tried som...\n",
      "8       star wars characters take mexico city reuters\n",
      "13  theres new star wars project damon lindelof works\n",
      "14  ahsoka tano herself ashley eckstein breaks dow...\n",
      "19  andor best star wars show since the mandaloria...\n",
      "21  andor gave us gayest screen fade star wars his...\n",
      "22  star wars the deckbuilding game could rule gal...\n",
      "23  star wars fatigue shouldnt stop you from watch...\n",
      "Group 3\n",
      "                                                    0\n",
      "0   canadas goalkeeper crepeau miss world cup brok...\n",
      "1   world cup stadium alcohol ban emblematic contr...\n",
      "6          world cup fifa head comments beer ban cp24\n",
      "12  t20 world cup pakistan beat netherlands avoid ...\n",
      "18  t20 world cup bangladesh bowlers impress secur...\n"
     ]
    },
    {
     "data": {
      "text/plain": "<Figure size 640x480 with 1 Axes>",
      "image/png": "[encoded data removed]"
     },
     "metadata": {},
     "output_type": "display_data"
    }
   ],
   "source": [
    "import numpy as np\n",
    "from sklearn.cluster import KMeans, AgglomerativeClustering\n",
    "from sklearn.decomposition import PCA\n",
    "import matplotlib.pyplot as plt\n",
    "\n",
    "pca = PCA(n_components=2)\n",
    "pca.fit(docs_vectors)\n",
    "print(\"PCA explained variance:\", sum(pca.explained_variance_ratio_), \"%\")\n",
    "\n",
    "fitted_PCA = pd.DataFrame(pca.fit_transform(docs_vectors))\n",
    "\n",
    "# clusters = KMeans(n_clusters=4).fit(fitted_PCA)\n",
    "clusters = AgglomerativeClustering(linkage='ward', distance_threshold=1.5, n_clusters=None).fit(fitted_PCA)\n",
    "\n",
    "y_clusters = clusters.fit_predict(docs_vectors)\n",
    "\n",
    "plt.scatter(fitted_PCA[y_clusters==0][0], fitted_PCA[y_clusters==0][1], s=100, c='red', label ='Cluster 1')\n",
    "plt.scatter(fitted_PCA[y_clusters==1][0], fitted_PCA[y_clusters==1][1], s=100, c='blue', label ='Cluster 2')\n",
    "plt.scatter(fitted_PCA[y_clusters==2][0], fitted_PCA[y_clusters==2][1], s=100, c='green', label ='Cluster 3')\n",
    "\n",
    "docs_pd = pd.DataFrame(docs)\n",
    "\n",
    "group1 = docs_pd[y_clusters==0]\n",
    "\n",
    "print(\"Group 1\")\n",
    "print(group1)\n",
    "\n",
    "print(\"Group 2\")\n",
    "print(docs_pd[y_clusters==1])\n",
    "\n",
    "print(\"Group 3\")\n",
    "print(docs_pd[y_clusters==2])"
   ],
   "metadata": {
    "collapsed": false
   }
  },
  {
   "cell_type": "code",
   "execution_count": 49,
   "outputs": [
    {
     "name": "stderr",
     "output_type": "stream",
     "text": [
      "[nltk_data] Downloading package punkt to\n",
      "[nltk_data]     C:\\Users\\steem\\AppData\\Roaming\\nltk_data...\n",
      "[nltk_data]   Package punkt is already up-to-date!\n"
     ]
    }
   ],
   "source": [
    "from sentence_transformers import SentenceTransformer\n",
    "nltk.download('punkt')\n",
    "\n",
    "transformer = SentenceTransformer('all-mpnet-base-v2')\n",
    "\n",
    "group1 = group1.values.tolist()\n",
    "group1 = list(np.concatenate(group1).flat)"
   ],
   "metadata": {
    "collapsed": false
   }
  },
  {
   "cell_type": "code",
   "execution_count": 50,
   "outputs": [
    {
     "name": "stdout",
     "output_type": "stream",
     "text": [
      "['ukraine roundup refugees urged stay away dirty bomb claims', 'ukraine nuclear agency thickens alleged dirty bomb plot ctv news', 'ukraine war roundup missile blast poland zambian familys grief', 'chance peace ukraine says frances macron reuters', 'russia says ukraine hands 50 prisoners war reuterscom', 'ukraine war wagner chief prigozhin defends brutal killing video']\n"
     ]
    }
   ],
   "source": [
    "print(group1)\n",
    "\n",
    "groupEmbeddings = transformer.encode(group1)"
   ],
   "metadata": {
    "collapsed": false
   }
  }
 ],
 "metadata": {
  "kernelspec": {
   "display_name": "Python 3",
   "language": "python",
   "name": "python3"
  },
  "language_info": {
   "codemirror_mode": {
    "name": "ipython",
    "version": 2
   },
   "file_extension": ".py",
   "mimetype": "text/x-python",
   "name": "python",
   "nbconvert_exporter": "python",
   "pygments_lexer": "ipython2",
   "version": "2.7.6"
  }
 },
 "nbformat": 4,
 "nbformat_minor": 0
}
