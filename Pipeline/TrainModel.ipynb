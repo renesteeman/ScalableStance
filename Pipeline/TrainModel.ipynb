{
 "cells": [
  {
   "cell_type": "code",
   "execution_count": 9,
   "outputs": [],
   "source": [
    "import tensorflow as tf\n",
    "import tensorflow_hub as hub\n",
    "import tensorflow_text\n",
    "import pandas as pd\n",
    "from sklearn.model_selection import train_test_split\n",
    "import matplotlib.pyplot as plt\n",
    "import hopsworks"
   ],
   "metadata": {
    "collapsed": false
   }
  },
  {
   "cell_type": "code",
   "execution_count": 10,
   "outputs": [
    {
     "name": "stdout",
     "output_type": "stream",
     "text": [
      "Connection closed.\n",
      "Connected. Call `.close()` to terminate connection gracefully.\n",
      "\n",
      "Logged in to project, explore it here https://c.app.hopsworks.ai:443/p/5270\n",
      "Connected. Call `.close()` to terminate connection gracefully.\n",
      "2022-12-29 11:43:13,498 INFO: USE `scalablemltask1_featurestore`\n",
      "2022-12-29 11:43:13,961 INFO: SELECT `fg0`.`title` `title`, `fg0`.`saved_at` `saved_at`, `fg0`.`url` `url`, `fg0`.`stance` `stance`, `fg0`.`title_stance` `title_stance`, `fg0`.`title_topic` `title_topic`, `fg0`.`predicted_topic` `predicted_topic`\n",
      "FROM `scalablemltask1_featurestore`.`training_data_stance_1` `fg0`\n"
     ]
    },
    {
     "name": "stderr",
     "output_type": "stream",
     "text": [
      "UserWarning: pandas only supports SQLAlchemy connectable (engine/connection) or database string URI or sqlite3 DBAPI2 connection. Other DBAPI2 objects are not tested. Please consider using SQLAlchemy.\n"
     ]
    },
    {
     "data": {
      "text/plain": "                                                                                                                    title  \\\n1            Stocks making the biggest moves midday: Netflix, Snap, Warner Bros. Discovery, AT&T, Novavax and more - CNBC   \n2                Intel 13th Gen non-K CPUs are 28% to 64% faster than 12th Gen according to leaked tests - VideoCardz.com   \n3      Religion is not the factor that most influences rejection of evolutionary theory in schools, study says - Phys.org   \n4                                    Let's a-go! Super Nintendo World sets Universal Studios opening date - The A.V. Club   \n5                                    What parents should know about Covid vaccine boosters for kids age 5 and under - CNN   \n..                                                                                                                    ...   \n505                                                           Pope Francis says world suffering a \"famine of peace\" - BBC   \n506  Chicago-area ComEd customers warned rolling power outages are possible Christmas Eve, Christmas Day - FOX 32 Chicago   \n507                                                           How Americans Really Feel About Elon Musk - FiveThirtyEight   \n508                                     UN says 2022 is one of the worst years for Rohingya refugees - Al Jazeera English   \n509                      CDC: Flu season starting to wane after brutal start, including at least 12,000 deaths - Fox News   \n\n       saved_at  \\\n1    16/12/2022   \n2    15/12/2022   \n3    15/12/2022   \n4    15/12/2022   \n5    15/12/2022   \n..          ...   \n505  25/12/2022   \n506  25/12/2022   \n507  23/12/2022   \n508  27/12/2022   \n509  25/12/2022   \n\n                                                                                                                                      url  \\\n1    https://www.cnbc.com/2022/12/15/stocks-making-the-biggest-moves-midday-netflix-snap-warner-bros-discovery-att-novavax-and-more-.html   \n2                       https://videocardz.com/newz/intel-13th-gen-non-k-cpus-are-28-to-64-faster-than-12th-gen-according-to-leaked-tests   \n3                                                          https://phys.org/news/2022-12-religion-factor-evolutionary-theory-schools.html   \n4                                                https://www.avclub.com/super-nintendo-world-universal-studios-hollywood-opens-1849893923   \n5                                         https://www.cnn.com/2022/12/14/health/covid-bivalent-vaccine-young-children-wellness/index.html   \n..                                                                                                                                    ...   \n505                                                                                        https://www.bbc.com/news/world-europe-64089428   \n506  https://www.fox32chicago.com/news/chicago-area-comed-customers-warned-rolling-power-outages-are-possible-christmas-eve-christmas-day   \n507                                                       https://fivethirtyeight.com/features/how-americans-really-feel-about-elon-musk/   \n508                                                                                           https://www.youtube.com/watch?v=b0Z21inyu8k   \n509                           https://www.foxnews.com/health/cdc-flu-season-starting-wane-after-brutal-start-including-least-12000-deaths   \n\n    stance  \\\n1      1.0   \n2      2.0   \n3      2.0   \n4      2.0   \n5      1.0   \n..     ...   \n505    0.0   \n506    0.0   \n507    1.0   \n508    0.0   \n509    1.0   \n\n                                                                                                          title_stance  \\\n1                 stocks making the biggest moves midday netflix snap warner bros discovery at t novavax and more cnbc   \n2                 intel 13th gen non k cpus are 28 to 64 faster than 12th gen according to leaked tests videocardz com   \n3      religion is not the factor that most influences rejection of evolutionary theory in schools study says phys org   \n4                                     let s a go super nintendo world sets universal studios opening date the a v club   \n5                                   what parents should know about covid vaccine boosters for kids age 5 and under cnn   \n..                                                                                                                 ...   \n505                                                            pope francis says world suffering a famine of peace bbc   \n506  chicago area comed customers warned rolling power outages are possible christmas eve christmas day fox 32 chicago   \n507                                                          how americans really feel about elon musk fivethirtyeight   \n508                                    un says 2022 is one of the worst years for rohingya refugees al jazeera english   \n509                       cdc flu season starting to wane after brutal start including at least 12 000 deaths fox news   \n\n                                                                                                       title_topic  \\\n1                               stocks making biggest moves midday netflix snap warner bros discovery novavax cnbc   \n2                            intel 13th gen non k cpus 28 64 faster 12th gen according leaked tests videocardz com   \n3                             religion factor influences rejection evolutionary theory schools study says phys org   \n4                                           let go super nintendo world sets universal studios opening date v club   \n5                                                               parents know covid vaccine boosters kids age 5 cnn   \n..                                                                                                             ...   \n505                                                             pope francis says world suffering famine peace bbc   \n506  chicago area comed customers warned rolling power outages possible christmas eve christmas day fox 32 chicago   \n507                                                                americans really feel elon musk fivethirtyeight   \n508                                              un says 2022 one worst years rohingya refugees al jazeera english   \n509                               cdc flu season starting wane brutal start including least 12 000 deaths fox news   \n\n                      subjects  \n1         cramer, market, cnbc  \n2    videocardz, inch, macbook  \n3    neuroscience, heart, help  \n4       nintendo, switch, life  \n5          covid, vaccines, 19  \n..                         ...  \n505         cup, africa, world  \n506       storm, power, winter  \n507        twitter, musk, elon  \n508         cup, africa, world  \n509              flu, rsv, dog  \n\n[492 rows x 7 columns]",
      "text/html": "<div>\n<style scoped>\n    .dataframe tbody tr th:only-of-type {\n        vertical-align: middle;\n    }\n\n    .dataframe tbody tr th {\n        vertical-align: top;\n    }\n\n    .dataframe thead th {\n        text-align: right;\n    }\n</style>\n<table border=\"1\" class=\"dataframe\">\n  <thead>\n    <tr style=\"text-align: right;\">\n      <th></th>\n      <th>title</th>\n      <th>saved_at</th>\n      <th>url</th>\n      <th>stance</th>\n      <th>title_stance</th>\n      <th>title_topic</th>\n      <th>subjects</th>\n    </tr>\n  </thead>\n  <tbody>\n    <tr>\n      <th>1</th>\n      <td>Stocks making the biggest moves midday: Netflix, Snap, Warner Bros. Discovery, AT&amp;T, Novavax and more - CNBC</td>\n      <td>16/12/2022</td>\n      <td>https://www.cnbc.com/2022/12/15/stocks-making-the-biggest-moves-midday-netflix-snap-warner-bros-discovery-att-novavax-and-more-.html</td>\n      <td>1.0</td>\n      <td>stocks making the biggest moves midday netflix snap warner bros discovery at t novavax and more cnbc</td>\n      <td>stocks making biggest moves midday netflix snap warner bros discovery novavax cnbc</td>\n      <td>cramer, market, cnbc</td>\n    </tr>\n    <tr>\n      <th>2</th>\n      <td>Intel 13th Gen non-K CPUs are 28% to 64% faster than 12th Gen according to leaked tests - VideoCardz.com</td>\n      <td>15/12/2022</td>\n      <td>https://videocardz.com/newz/intel-13th-gen-non-k-cpus-are-28-to-64-faster-than-12th-gen-according-to-leaked-tests</td>\n      <td>2.0</td>\n      <td>intel 13th gen non k cpus are 28 to 64 faster than 12th gen according to leaked tests videocardz com</td>\n      <td>intel 13th gen non k cpus 28 64 faster 12th gen according leaked tests videocardz com</td>\n      <td>videocardz, inch, macbook</td>\n    </tr>\n    <tr>\n      <th>3</th>\n      <td>Religion is not the factor that most influences rejection of evolutionary theory in schools, study says - Phys.org</td>\n      <td>15/12/2022</td>\n      <td>https://phys.org/news/2022-12-religion-factor-evolutionary-theory-schools.html</td>\n      <td>2.0</td>\n      <td>religion is not the factor that most influences rejection of evolutionary theory in schools study says phys org</td>\n      <td>religion factor influences rejection evolutionary theory schools study says phys org</td>\n      <td>neuroscience, heart, help</td>\n    </tr>\n    <tr>\n      <th>4</th>\n      <td>Let's a-go! Super Nintendo World sets Universal Studios opening date - The A.V. Club</td>\n      <td>15/12/2022</td>\n      <td>https://www.avclub.com/super-nintendo-world-universal-studios-hollywood-opens-1849893923</td>\n      <td>2.0</td>\n      <td>let s a go super nintendo world sets universal studios opening date the a v club</td>\n      <td>let go super nintendo world sets universal studios opening date v club</td>\n      <td>nintendo, switch, life</td>\n    </tr>\n    <tr>\n      <th>5</th>\n      <td>What parents should know about Covid vaccine boosters for kids age 5 and under - CNN</td>\n      <td>15/12/2022</td>\n      <td>https://www.cnn.com/2022/12/14/health/covid-bivalent-vaccine-young-children-wellness/index.html</td>\n      <td>1.0</td>\n      <td>what parents should know about covid vaccine boosters for kids age 5 and under cnn</td>\n      <td>parents know covid vaccine boosters kids age 5 cnn</td>\n      <td>covid, vaccines, 19</td>\n    </tr>\n    <tr>\n      <th>...</th>\n      <td>...</td>\n      <td>...</td>\n      <td>...</td>\n      <td>...</td>\n      <td>...</td>\n      <td>...</td>\n      <td>...</td>\n    </tr>\n    <tr>\n      <th>505</th>\n      <td>Pope Francis says world suffering a \"famine of peace\" - BBC</td>\n      <td>25/12/2022</td>\n      <td>https://www.bbc.com/news/world-europe-64089428</td>\n      <td>0.0</td>\n      <td>pope francis says world suffering a famine of peace bbc</td>\n      <td>pope francis says world suffering famine peace bbc</td>\n      <td>cup, africa, world</td>\n    </tr>\n    <tr>\n      <th>506</th>\n      <td>Chicago-area ComEd customers warned rolling power outages are possible Christmas Eve, Christmas Day - FOX 32 Chicago</td>\n      <td>25/12/2022</td>\n      <td>https://www.fox32chicago.com/news/chicago-area-comed-customers-warned-rolling-power-outages-are-possible-christmas-eve-christmas-day</td>\n      <td>0.0</td>\n      <td>chicago area comed customers warned rolling power outages are possible christmas eve christmas day fox 32 chicago</td>\n      <td>chicago area comed customers warned rolling power outages possible christmas eve christmas day fox 32 chicago</td>\n      <td>storm, power, winter</td>\n    </tr>\n    <tr>\n      <th>507</th>\n      <td>How Americans Really Feel About Elon Musk - FiveThirtyEight</td>\n      <td>23/12/2022</td>\n      <td>https://fivethirtyeight.com/features/how-americans-really-feel-about-elon-musk/</td>\n      <td>1.0</td>\n      <td>how americans really feel about elon musk fivethirtyeight</td>\n      <td>americans really feel elon musk fivethirtyeight</td>\n      <td>twitter, musk, elon</td>\n    </tr>\n    <tr>\n      <th>508</th>\n      <td>UN says 2022 is one of the worst years for Rohingya refugees - Al Jazeera English</td>\n      <td>27/12/2022</td>\n      <td>https://www.youtube.com/watch?v=b0Z21inyu8k</td>\n      <td>0.0</td>\n      <td>un says 2022 is one of the worst years for rohingya refugees al jazeera english</td>\n      <td>un says 2022 one worst years rohingya refugees al jazeera english</td>\n      <td>cup, africa, world</td>\n    </tr>\n    <tr>\n      <th>509</th>\n      <td>CDC: Flu season starting to wane after brutal start, including at least 12,000 deaths - Fox News</td>\n      <td>25/12/2022</td>\n      <td>https://www.foxnews.com/health/cdc-flu-season-starting-wane-after-brutal-start-including-least-12000-deaths</td>\n      <td>1.0</td>\n      <td>cdc flu season starting to wane after brutal start including at least 12 000 deaths fox news</td>\n      <td>cdc flu season starting wane brutal start including least 12 000 deaths fox news</td>\n      <td>flu, rsv, dog</td>\n    </tr>\n  </tbody>\n</table>\n<p>492 rows × 7 columns</p>\n</div>"
     },
     "metadata": {},
     "output_type": "display_data"
    }
   ],
   "source": [
    "# 1 -> external dataset, 2 -> local labelled data, 3 -> Hopsworks labelled data\n",
    "USE_HOPSWORKS = True\n",
    "\n",
    "if USE_HOPSWORKS:\n",
    "    project = hopsworks.login()\n",
    "    feature_store = project.get_feature_store()\n",
    "    article_feature_group = feature_store.get_feature_group(name=\"training_data_stance\", version=1)\n",
    "    data = article_feature_group.read()\n",
    "    data = data.rename(columns={'title': 'title', 'predicted_topic': 'subjects', 'stance': 'stance'})\n",
    "    # as somehow Hopsworks ended up with NaNs at random rows, filter these rows\n",
    "    data = data[data['stance'].notnull()]\n",
    "    # convert from 1=neg, 2=neu, 3=pro to 0=neg, 1=neu, 2=pro\n",
    "    data['stance'] = data['stance']-1\n",
    "    data['stance'] = data['stance'].astype('category')\n",
    "else:\n",
    "    data = pd.read_csv('data/stance_data.csv')\n",
    "    data = data.rename(columns={'post': 'title', 'new_topic': 'subjects', 'label': 'stance'})\n",
    "    data['stance'] = data['stance'].astype('category')\n",
    "    # convert from 0=neg, 1=pro, 2=neu to 0=neg, 1=neu, 2=pro\n",
    "    neu = data['stance'] == 1\n",
    "    data.loc[data['stance'] == 2, 'stance'] = 1\n",
    "    data.loc[neu, 'stance'] = 2\n",
    "\n",
    "display(data)"
   ],
   "metadata": {
    "collapsed": false
   }
  },
  {
   "cell_type": "code",
   "execution_count": 11,
   "outputs": [
    {
     "data": {
      "text/plain": "                                                                                                                    title  \\\n1            Stocks making the biggest moves midday: Netflix, Snap, Warner Bros. Discovery, AT&T, Novavax and more - CNBC   \n2                Intel 13th Gen non-K CPUs are 28% to 64% faster than 12th Gen according to leaked tests - VideoCardz.com   \n3      Religion is not the factor that most influences rejection of evolutionary theory in schools, study says - Phys.org   \n4                                    Let's a-go! Super Nintendo World sets Universal Studios opening date - The A.V. Club   \n5                                    What parents should know about Covid vaccine boosters for kids age 5 and under - CNN   \n..                                                                                                                    ...   \n505                                                           Pope Francis says world suffering a \"famine of peace\" - BBC   \n506  Chicago-area ComEd customers warned rolling power outages are possible Christmas Eve, Christmas Day - FOX 32 Chicago   \n507                                                           How Americans Really Feel About Elon Musk - FiveThirtyEight   \n508                                     UN says 2022 is one of the worst years for Rohingya refugees - Al Jazeera English   \n509                      CDC: Flu season starting to wane after brutal start, including at least 12,000 deaths - Fox News   \n\n       saved_at  \\\n1    16/12/2022   \n2    15/12/2022   \n3    15/12/2022   \n4    15/12/2022   \n5    15/12/2022   \n..          ...   \n505  25/12/2022   \n506  25/12/2022   \n507  23/12/2022   \n508  27/12/2022   \n509  25/12/2022   \n\n                                                                                                                                      url  \\\n1    https://www.cnbc.com/2022/12/15/stocks-making-the-biggest-moves-midday-netflix-snap-warner-bros-discovery-att-novavax-and-more-.html   \n2                       https://videocardz.com/newz/intel-13th-gen-non-k-cpus-are-28-to-64-faster-than-12th-gen-according-to-leaked-tests   \n3                                                          https://phys.org/news/2022-12-religion-factor-evolutionary-theory-schools.html   \n4                                                https://www.avclub.com/super-nintendo-world-universal-studios-hollywood-opens-1849893923   \n5                                         https://www.cnn.com/2022/12/14/health/covid-bivalent-vaccine-young-children-wellness/index.html   \n..                                                                                                                                    ...   \n505                                                                                        https://www.bbc.com/news/world-europe-64089428   \n506  https://www.fox32chicago.com/news/chicago-area-comed-customers-warned-rolling-power-outages-are-possible-christmas-eve-christmas-day   \n507                                                       https://fivethirtyeight.com/features/how-americans-really-feel-about-elon-musk/   \n508                                                                                           https://www.youtube.com/watch?v=b0Z21inyu8k   \n509                           https://www.foxnews.com/health/cdc-flu-season-starting-wane-after-brutal-start-including-least-12000-deaths   \n\n    stance  \\\n1      1.0   \n2      2.0   \n3      2.0   \n4      2.0   \n5      1.0   \n..     ...   \n505    0.0   \n506    0.0   \n507    1.0   \n508    0.0   \n509    1.0   \n\n                                                                                                          title_stance  \\\n1                 stocks making the biggest moves midday netflix snap warner bros discovery at t novavax and more cnbc   \n2                 intel 13th gen non k cpus are 28 to 64 faster than 12th gen according to leaked tests videocardz com   \n3      religion is not the factor that most influences rejection of evolutionary theory in schools study says phys org   \n4                                     let s a go super nintendo world sets universal studios opening date the a v club   \n5                                   what parents should know about covid vaccine boosters for kids age 5 and under cnn   \n..                                                                                                                 ...   \n505                                                            pope francis says world suffering a famine of peace bbc   \n506  chicago area comed customers warned rolling power outages are possible christmas eve christmas day fox 32 chicago   \n507                                                          how americans really feel about elon musk fivethirtyeight   \n508                                    un says 2022 is one of the worst years for rohingya refugees al jazeera english   \n509                       cdc flu season starting to wane after brutal start including at least 12 000 deaths fox news   \n\n                                                                                                       title_topic  \\\n1                               stocks making biggest moves midday netflix snap warner bros discovery novavax cnbc   \n2                            intel 13th gen non k cpus 28 64 faster 12th gen according leaked tests videocardz com   \n3                             religion factor influences rejection evolutionary theory schools study says phys org   \n4                                           let go super nintendo world sets universal studios opening date v club   \n5                                                               parents know covid vaccine boosters kids age 5 cnn   \n..                                                                                                             ...   \n505                                                             pope francis says world suffering famine peace bbc   \n506  chicago area comed customers warned rolling power outages possible christmas eve christmas day fox 32 chicago   \n507                                                                americans really feel elon musk fivethirtyeight   \n508                                              un says 2022 one worst years rohingya refugees al jazeera english   \n509                               cdc flu season starting wane brutal start including least 12 000 deaths fox news   \n\n                      subjects  \n1         cramer, market, cnbc  \n2    videocardz, inch, macbook  \n3    neuroscience, heart, help  \n4       nintendo, switch, life  \n5          covid, vaccines, 19  \n..                         ...  \n505         cup, africa, world  \n506       storm, power, winter  \n507        twitter, musk, elon  \n508         cup, africa, world  \n509              flu, rsv, dog  \n\n[492 rows x 7 columns]",
      "text/html": "<div>\n<style scoped>\n    .dataframe tbody tr th:only-of-type {\n        vertical-align: middle;\n    }\n\n    .dataframe tbody tr th {\n        vertical-align: top;\n    }\n\n    .dataframe thead th {\n        text-align: right;\n    }\n</style>\n<table border=\"1\" class=\"dataframe\">\n  <thead>\n    <tr style=\"text-align: right;\">\n      <th></th>\n      <th>title</th>\n      <th>saved_at</th>\n      <th>url</th>\n      <th>stance</th>\n      <th>title_stance</th>\n      <th>title_topic</th>\n      <th>subjects</th>\n    </tr>\n  </thead>\n  <tbody>\n    <tr>\n      <th>1</th>\n      <td>Stocks making the biggest moves midday: Netflix, Snap, Warner Bros. Discovery, AT&amp;T, Novavax and more - CNBC</td>\n      <td>16/12/2022</td>\n      <td>https://www.cnbc.com/2022/12/15/stocks-making-the-biggest-moves-midday-netflix-snap-warner-bros-discovery-att-novavax-and-more-.html</td>\n      <td>1.0</td>\n      <td>stocks making the biggest moves midday netflix snap warner bros discovery at t novavax and more cnbc</td>\n      <td>stocks making biggest moves midday netflix snap warner bros discovery novavax cnbc</td>\n      <td>cramer, market, cnbc</td>\n    </tr>\n    <tr>\n      <th>2</th>\n      <td>Intel 13th Gen non-K CPUs are 28% to 64% faster than 12th Gen according to leaked tests - VideoCardz.com</td>\n      <td>15/12/2022</td>\n      <td>https://videocardz.com/newz/intel-13th-gen-non-k-cpus-are-28-to-64-faster-than-12th-gen-according-to-leaked-tests</td>\n      <td>2.0</td>\n      <td>intel 13th gen non k cpus are 28 to 64 faster than 12th gen according to leaked tests videocardz com</td>\n      <td>intel 13th gen non k cpus 28 64 faster 12th gen according leaked tests videocardz com</td>\n      <td>videocardz, inch, macbook</td>\n    </tr>\n    <tr>\n      <th>3</th>\n      <td>Religion is not the factor that most influences rejection of evolutionary theory in schools, study says - Phys.org</td>\n      <td>15/12/2022</td>\n      <td>https://phys.org/news/2022-12-religion-factor-evolutionary-theory-schools.html</td>\n      <td>2.0</td>\n      <td>religion is not the factor that most influences rejection of evolutionary theory in schools study says phys org</td>\n      <td>religion factor influences rejection evolutionary theory schools study says phys org</td>\n      <td>neuroscience, heart, help</td>\n    </tr>\n    <tr>\n      <th>4</th>\n      <td>Let's a-go! Super Nintendo World sets Universal Studios opening date - The A.V. Club</td>\n      <td>15/12/2022</td>\n      <td>https://www.avclub.com/super-nintendo-world-universal-studios-hollywood-opens-1849893923</td>\n      <td>2.0</td>\n      <td>let s a go super nintendo world sets universal studios opening date the a v club</td>\n      <td>let go super nintendo world sets universal studios opening date v club</td>\n      <td>nintendo, switch, life</td>\n    </tr>\n    <tr>\n      <th>5</th>\n      <td>What parents should know about Covid vaccine boosters for kids age 5 and under - CNN</td>\n      <td>15/12/2022</td>\n      <td>https://www.cnn.com/2022/12/14/health/covid-bivalent-vaccine-young-children-wellness/index.html</td>\n      <td>1.0</td>\n      <td>what parents should know about covid vaccine boosters for kids age 5 and under cnn</td>\n      <td>parents know covid vaccine boosters kids age 5 cnn</td>\n      <td>covid, vaccines, 19</td>\n    </tr>\n    <tr>\n      <th>...</th>\n      <td>...</td>\n      <td>...</td>\n      <td>...</td>\n      <td>...</td>\n      <td>...</td>\n      <td>...</td>\n      <td>...</td>\n    </tr>\n    <tr>\n      <th>505</th>\n      <td>Pope Francis says world suffering a \"famine of peace\" - BBC</td>\n      <td>25/12/2022</td>\n      <td>https://www.bbc.com/news/world-europe-64089428</td>\n      <td>0.0</td>\n      <td>pope francis says world suffering a famine of peace bbc</td>\n      <td>pope francis says world suffering famine peace bbc</td>\n      <td>cup, africa, world</td>\n    </tr>\n    <tr>\n      <th>506</th>\n      <td>Chicago-area ComEd customers warned rolling power outages are possible Christmas Eve, Christmas Day - FOX 32 Chicago</td>\n      <td>25/12/2022</td>\n      <td>https://www.fox32chicago.com/news/chicago-area-comed-customers-warned-rolling-power-outages-are-possible-christmas-eve-christmas-day</td>\n      <td>0.0</td>\n      <td>chicago area comed customers warned rolling power outages are possible christmas eve christmas day fox 32 chicago</td>\n      <td>chicago area comed customers warned rolling power outages possible christmas eve christmas day fox 32 chicago</td>\n      <td>storm, power, winter</td>\n    </tr>\n    <tr>\n      <th>507</th>\n      <td>How Americans Really Feel About Elon Musk - FiveThirtyEight</td>\n      <td>23/12/2022</td>\n      <td>https://fivethirtyeight.com/features/how-americans-really-feel-about-elon-musk/</td>\n      <td>1.0</td>\n      <td>how americans really feel about elon musk fivethirtyeight</td>\n      <td>americans really feel elon musk fivethirtyeight</td>\n      <td>twitter, musk, elon</td>\n    </tr>\n    <tr>\n      <th>508</th>\n      <td>UN says 2022 is one of the worst years for Rohingya refugees - Al Jazeera English</td>\n      <td>27/12/2022</td>\n      <td>https://www.youtube.com/watch?v=b0Z21inyu8k</td>\n      <td>0.0</td>\n      <td>un says 2022 is one of the worst years for rohingya refugees al jazeera english</td>\n      <td>un says 2022 one worst years rohingya refugees al jazeera english</td>\n      <td>cup, africa, world</td>\n    </tr>\n    <tr>\n      <th>509</th>\n      <td>CDC: Flu season starting to wane after brutal start, including at least 12,000 deaths - Fox News</td>\n      <td>25/12/2022</td>\n      <td>https://www.foxnews.com/health/cdc-flu-season-starting-wane-after-brutal-start-including-least-12000-deaths</td>\n      <td>1.0</td>\n      <td>cdc flu season starting to wane after brutal start including at least 12 000 deaths fox news</td>\n      <td>cdc flu season starting wane brutal start including least 12 000 deaths fox news</td>\n      <td>flu, rsv, dog</td>\n    </tr>\n  </tbody>\n</table>\n<p>492 rows × 7 columns</p>\n</div>"
     },
     "metadata": {},
     "output_type": "display_data"
    },
    {
     "name": "stdout",
     "output_type": "stream",
     "text": [
      "title             object\n",
      "saved_at          object\n",
      "url               object\n",
      "stance          category\n",
      "title_stance      object\n",
      "title_topic       object\n",
      "subjects          object\n",
      "dtype: object\n"
     ]
    },
    {
     "data": {
      "text/plain": "                                                                                                     title  \\\n42                        Moving on From Melatonin? This Dietary Supplement Can Also Help You Sleep - CNET   \n128                       Taco Bell may add fries to its menu permanently to compete with McDonald's - CNN   \n320                New Study Links COVID-19 Vaccination Status to Increased Risk of Car Crashes - Jalopnik   \n103               Aaron Dean found guilty of manslaughter in 2019 killing of Atatiana Jefferson - CBS News   \n494                                            Paris shooting: Protests after deadly attack on Kurds - BBC   \n..                                                                                                     ...   \n149                 2 children died from severe strep since November amid rise in hospitalizations - 9NEWS   \n115                 TikTok may push potentially harmful content to teens within minutes, study finds - CNN   \n138             House passes bill to replace bust of Roger Taney with one honoring Thurgood Marshall - CNN   \n328          Free Gran Turismo 7 Update 1.27 Adds Five Cars to PS5, PS4 and Norwegian Scapes - Push Square   \n159  Two years after Covid vaccines rolled out, researchers are calling for newer, better options - msnNOW   \n\n                      subjects  \n42   neuroscience, heart, help  \n128        twitter, musk, elon  \n320        covid, vaccines, 19  \n103     shooting, paris, kurds  \n494     shooting, paris, kurds  \n..                         ...  \n149      strep, children, died  \n115       chatgpt, tiktok, ban  \n138       bill, crypto, scheme  \n328       kotaku, update, xbox  \n159        covid, vaccines, 19  \n\n[329 rows x 2 columns]",
      "text/html": "<div>\n<style scoped>\n    .dataframe tbody tr th:only-of-type {\n        vertical-align: middle;\n    }\n\n    .dataframe tbody tr th {\n        vertical-align: top;\n    }\n\n    .dataframe thead th {\n        text-align: right;\n    }\n</style>\n<table border=\"1\" class=\"dataframe\">\n  <thead>\n    <tr style=\"text-align: right;\">\n      <th></th>\n      <th>title</th>\n      <th>subjects</th>\n    </tr>\n  </thead>\n  <tbody>\n    <tr>\n      <th>42</th>\n      <td>Moving on From Melatonin? This Dietary Supplement Can Also Help You Sleep - CNET</td>\n      <td>neuroscience, heart, help</td>\n    </tr>\n    <tr>\n      <th>128</th>\n      <td>Taco Bell may add fries to its menu permanently to compete with McDonald's - CNN</td>\n      <td>twitter, musk, elon</td>\n    </tr>\n    <tr>\n      <th>320</th>\n      <td>New Study Links COVID-19 Vaccination Status to Increased Risk of Car Crashes - Jalopnik</td>\n      <td>covid, vaccines, 19</td>\n    </tr>\n    <tr>\n      <th>103</th>\n      <td>Aaron Dean found guilty of manslaughter in 2019 killing of Atatiana Jefferson - CBS News</td>\n      <td>shooting, paris, kurds</td>\n    </tr>\n    <tr>\n      <th>494</th>\n      <td>Paris shooting: Protests after deadly attack on Kurds - BBC</td>\n      <td>shooting, paris, kurds</td>\n    </tr>\n    <tr>\n      <th>...</th>\n      <td>...</td>\n      <td>...</td>\n    </tr>\n    <tr>\n      <th>149</th>\n      <td>2 children died from severe strep since November amid rise in hospitalizations - 9NEWS</td>\n      <td>strep, children, died</td>\n    </tr>\n    <tr>\n      <th>115</th>\n      <td>TikTok may push potentially harmful content to teens within minutes, study finds - CNN</td>\n      <td>chatgpt, tiktok, ban</td>\n    </tr>\n    <tr>\n      <th>138</th>\n      <td>House passes bill to replace bust of Roger Taney with one honoring Thurgood Marshall - CNN</td>\n      <td>bill, crypto, scheme</td>\n    </tr>\n    <tr>\n      <th>328</th>\n      <td>Free Gran Turismo 7 Update 1.27 Adds Five Cars to PS5, PS4 and Norwegian Scapes - Push Square</td>\n      <td>kotaku, update, xbox</td>\n    </tr>\n    <tr>\n      <th>159</th>\n      <td>Two years after Covid vaccines rolled out, researchers are calling for newer, better options - msnNOW</td>\n      <td>covid, vaccines, 19</td>\n    </tr>\n  </tbody>\n</table>\n<p>329 rows × 2 columns</p>\n</div>"
     },
     "metadata": {},
     "output_type": "display_data"
    }
   ],
   "source": [
    "# data_train = data\n",
    "X_train, X_test, y_train, y_test = train_test_split(data[['title', 'subjects']], data['stance'], test_size=0.33)\n",
    "\n",
    "pd.set_option('display.max_colwidth', None)\n",
    "display(data)\n",
    "print(data.dtypes)\n",
    "\n",
    "display(X_train)"
   ],
   "metadata": {
    "collapsed": false
   }
  },
  {
   "cell_type": "code",
   "execution_count": 12,
   "outputs": [
    {
     "name": "stdout",
     "output_type": "stream",
     "text": [
      "Model: \"model_1\"\n",
      "__________________________________________________________________________________________________\n",
      " Layer (type)                   Output Shape         Param #     Connected to                     \n",
      "==================================================================================================\n",
      " title (InputLayer)             [(None,)]            0           []                               \n",
      "                                                                                                  \n",
      " subjects (InputLayer)          [(None,)]            0           []                               \n",
      "                                                                                                  \n",
      " preprocessing (KerasLayer)     {'input_word_ids':   0           ['title[0][0]',                  \n",
      "                                (None, 128),                      'subjects[0][0]']               \n",
      "                                 'input_type_ids':                                                \n",
      "                                (None, 128),                                                      \n",
      "                                 'input_mask': (Non                                               \n",
      "                                e, 128)}                                                          \n",
      "                                                                                                  \n",
      " BERT_encoder (KerasLayer)      {'pooled_output': (  177853441   ['preprocessing[0][0]',          \n",
      "                                None, 768),                       'preprocessing[0][1]',          \n",
      "                                 'sequence_output':               'preprocessing[0][2]',          \n",
      "                                 (None, 128, 768),                'preprocessing[1][0]',          \n",
      "                                 'encoder_outputs':               'preprocessing[1][1]',          \n",
      "                                 [(None, 128, 768),               'preprocessing[1][2]']          \n",
      "                                 (None, 128, 768),                                                \n",
      "                                 (None, 128, 768),                                                \n",
      "                                 (None, 128, 768),                                                \n",
      "                                 (None, 128, 768),                                                \n",
      "                                 (None, 128, 768),                                                \n",
      "                                 (None, 128, 768),                                                \n",
      "                                 (None, 128, 768),                                                \n",
      "                                 (None, 128, 768),                                                \n",
      "                                 (None, 128, 768),                                                \n",
      "                                 (None, 128, 768),                                                \n",
      "                                 (None, 128, 768)],                                               \n",
      "                                 'default': (None,                                                \n",
      "                                768)}                                                             \n",
      "                                                                                                  \n",
      " concatenate_1 (Concatenate)    (None, 1536)         0           ['BERT_encoder[0][13]',          \n",
      "                                                                  'BERT_encoder[1][13]']          \n",
      "                                                                                                  \n",
      " dense_2 (Dense)                (None, 300)          461100      ['concatenate_1[0][0]']          \n",
      "                                                                                                  \n",
      " dense_3 (Dense)                (None, 100)          30100       ['dense_2[0][0]']                \n",
      "                                                                                                  \n",
      " prediction (Dense)             (None, 3)            303         ['dense_3[0][0]']                \n",
      "                                                                                                  \n",
      "==================================================================================================\n",
      "Total params: 178,344,944\n",
      "Trainable params: 491,503\n",
      "Non-trainable params: 177,853,441\n",
      "__________________________________________________________________________________________________\n"
     ]
    },
    {
     "data": {
      "image/png": "[encoded data removed]",
      "text/plain": "<IPython.core.display.Image object>"
     },
     "execution_count": 12,
     "metadata": {},
     "output_type": "execute_result"
    }
   ],
   "source": [
    "tfhub_handle_preprocess = \"https://tfhub.dev/tensorflow/bert_multi_cased_preprocess/3\"\n",
    "tfhub_handle_encoder = \"https://tfhub.dev/tensorflow/bert_multi_cased_L-12_H-768_A-12/4\"\n",
    "hidden_layer_sizes = [300, 100]\n",
    "alpha_leaky_relu = 0.01\n",
    "dropout = 0\n",
    "number_of_output_classes = 3\n",
    "\n",
    "def build_classifier_model():\n",
    "    # Handle categorical labels\n",
    "    # encoded_stance = get_category_encoding_layer(name='categorical', dataset=data_train, dtype='string')\n",
    "\n",
    "    # BERT embeddings\n",
    "    preprocessor = hub.KerasLayer(tfhub_handle_preprocess, name='preprocessing')\n",
    "    encoder = hub.KerasLayer(tfhub_handle_encoder, trainable=False, name='BERT_encoder')\n",
    "\n",
    "    title = tf.keras.layers.Input(shape=(), dtype=tf.string, name='title')\n",
    "    titles_preprocessed = preprocessor(title)\n",
    "\n",
    "    subjects = tf.keras.layers.Input(shape=(), dtype=tf.string, name='subjects')\n",
    "    subjects_preprocessed = preprocessor(subjects)\n",
    "\n",
    "    # pooled_output gives the embedding per input sequence, alternatively sequence_output would give it per input token\n",
    "    titles_embedded = encoder(titles_preprocessed)[\"pooled_output\"]\n",
    "    subjects_embedded = encoder(subjects_preprocessed)[\"pooled_output\"]\n",
    "\n",
    "    # Concat features\n",
    "    # titles_embedded = tf.keras.layers.Flatten()(titles_embedded)\n",
    "    # subjects_embedded = tf.keras.layers.Flatten()(subjects_embedded)\n",
    "    concatenated_features = tf.keras.layers.Concatenate()([titles_embedded, subjects_embedded])\n",
    "    out = concatenated_features\n",
    "\n",
    "    # Neural network hidden layers\n",
    "    for number_of_hidden_units in hidden_layer_sizes:\n",
    "        out = tf.keras.layers.Dense(number_of_hidden_units, activation=tf.keras.layers.LeakyReLU(alpha=alpha_leaky_relu))(out)\n",
    "        if dropout > 0:\n",
    "            out = tf.keras.layers.Dropout(dropout)(out)\n",
    "\n",
    "    # Output\n",
    "    out = tf.keras.layers.Dense(number_of_output_classes, activation=tf.nn.softmax, name='prediction')(out)\n",
    "\n",
    "    return tf.keras.Model(\n",
    "        inputs = [title, subjects],\n",
    "        outputs = out\n",
    "    )\n",
    "\n",
    "# In case of \"SavedModel file does not exist at:\" error, go the Temp\\tfhub_modules folder it references and delete it\n",
    "model = build_classifier_model()\n",
    "model.summary()\n",
    "tf.keras.utils.plot_model(model)"
   ],
   "metadata": {
    "collapsed": false
   }
  },
  {
   "cell_type": "code",
   "execution_count": null,
   "outputs": [
    {
     "name": "stdout",
     "output_type": "stream",
     "text": [
      "Epoch 1/5\n",
      "11/11 [==============================] - 86s 8s/step - loss: 1.1370 - accuracy: 0.3951 - val_loss: 1.1227 - val_accuracy: 0.4110\n",
      "Epoch 2/5\n",
      " 7/11 [==================>...........] - ETA: 26s - loss: 1.0921 - accuracy: 0.4152"
     ]
    }
   ],
   "source": [
    "# steps_per_epoch = tf.data.experimental.cardinality(data_train).numpy()\n",
    "# num_train_steps = steps_per_epoch * epochs\n",
    "# num_warmup_steps = int(0.1*num_train_steps)\n",
    "#\n",
    "# init_lr = 3e-5\n",
    "# optimizer = tf.keras.optimizers.create_optimizer( init_lr=init_lr,\n",
    "#                                                   num_train_steps=num_train_steps,\n",
    "#                                                   num_warmup_steps=num_warmup_steps,\n",
    "#                                                   optimizer_type='adamw')\n",
    "\n",
    "model.compile(optimizer=tf.keras.optimizers.Adam(),\n",
    "              loss=tf.keras.losses.SparseCategoricalCrossentropy(),\n",
    "              metrics=[\"accuracy\"])\n",
    "\n",
    "epochs=5\n",
    "history = model.fit(\n",
    "    x=[\n",
    "        X_train['title'],\n",
    "        X_train['subjects']\n",
    "    ],\n",
    "    y=y_train,\n",
    "    epochs=epochs,\n",
    "    validation_data=([X_test['title'], X_test['subjects']], y_test)\n",
    ")\n"
   ],
   "metadata": {
    "collapsed": false,
    "pycharm": {
     "is_executing": true
    }
   }
  },
  {
   "cell_type": "code",
   "execution_count": null,
   "outputs": [],
   "source": [
    "acc = history.history['accuracy']\n",
    "val_acc = history.history['val_accuracy']\n",
    "\n",
    "loss = history.history['loss']\n",
    "val_loss = history.history['val_loss']\n",
    "\n",
    "epochs_range = range(epochs)\n",
    "\n",
    "plt.figure(figsize=(8, 8))\n",
    "plt.subplot(1, 2, 1)\n",
    "plt.plot(epochs_range, acc, label='Training Accuracy')\n",
    "plt.plot(epochs_range, val_acc, label='Validation Accuracy')\n",
    "plt.legend(loc='lower right')\n",
    "plt.title('Training and Validation Accuracy')\n",
    "\n",
    "plt.subplot(1, 2, 2)\n",
    "plt.plot(epochs_range, loss, label='Training Loss')\n",
    "plt.plot(epochs_range, val_loss, label='Validation Loss')\n",
    "plt.legend(loc='upper right')\n",
    "plt.title('Training and Validation Loss')\n",
    "plt.show()"
   ],
   "metadata": {
    "collapsed": false,
    "pycharm": {
     "is_executing": true
    }
   }
  },
  {
   "cell_type": "code",
   "execution_count": null,
   "outputs": [],
   "source": [
    "model.save(\"/models/stance_model_v4\")"
   ],
   "metadata": {
    "collapsed": false,
    "pycharm": {
     "is_executing": true
    }
   }
  },
  {
   "cell_type": "code",
   "execution_count": null,
   "outputs": [],
   "source": [
    "from tensorflow import keras\n",
    "\n",
    "# load model\n",
    "# model = keras.models.load_model(\"/models/stance_model_v1\")"
   ],
   "metadata": {
    "collapsed": false,
    "pycharm": {
     "is_executing": true
    }
   }
  }
 ],
 "metadata": {
  "kernelspec": {
   "display_name": "Python 3",
   "language": "python",
   "name": "python3"
  },
  "language_info": {
   "codemirror_mode": {
    "name": "ipython",
    "version": 2
   },
   "file_extension": ".py",
   "mimetype": "text/x-python",
   "name": "python",
   "nbconvert_exporter": "python",
   "pygments_lexer": "ipython2",
   "version": "2.7.6"
  }
 },
 "nbformat": 4,
 "nbformat_minor": 0
}
