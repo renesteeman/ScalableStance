{
 "cells": [
  {
   "cell_type": "code",
   "execution_count": 6,
   "outputs": [
    {
     "name": "stderr",
     "output_type": "stream",
     "text": [
      "[nltk_data] Downloading package wordnet to\n",
      "[nltk_data]     C:\\Users\\steem\\AppData\\Roaming\\nltk_data...\n",
      "[nltk_data]   Package wordnet is already up-to-date!\n",
      "[nltk_data] Downloading package omw-1.4 to\n",
      "[nltk_data]     C:\\Users\\steem\\AppData\\Roaming\\nltk_data...\n",
      "[nltk_data]   Package omw-1.4 is already up-to-date!\n",
      "[nltk_data] Downloading package stopwords to\n",
      "[nltk_data]     C:\\Users\\steem\\AppData\\Roaming\\nltk_data...\n",
      "[nltk_data]   Package stopwords is already up-to-date!\n"
     ]
    }
   ],
   "source": [
    "import nltk\n",
    "nltk.download('wordnet')\n",
    "nltk.download('omw-1.4')\n",
    "nltk.download('stopwords')\n",
    "import string\n",
    "import numpy as np\n",
    "import random\n",
    "from bertopic import BERTopic\n",
    "from sklearn.cluster import AgglomerativeClustering\n",
    "from sentence_transformers import SentenceTransformer\n",
    "import tensorflow as tf\n",
    "import tensorflow_hub as hub\n",
    "import tensorflow_text\n",
    "import pandas as pd\n",
    "import keras\n",
    "from pathlib import Path"
   ],
   "metadata": {
    "collapsed": false
   }
  },
  {
   "cell_type": "markdown",
   "source": [
    "Cleaning article content"
   ],
   "metadata": {
    "collapsed": false
   }
  },
  {
   "cell_type": "code",
   "execution_count": 7,
   "outputs": [],
   "source": [
    "custom_words_to_filter = ['Reuters', 'Reuters.com', 'CNET']\n",
    "\n",
    "lemmatizer = nltk.stem.WordNetLemmatizer()\n",
    "tokenizer = nltk.tokenize.RegexpTokenizer(r'\\w+')\n",
    "stop_words = nltk.corpus.stopwords.words('english')\n",
    "words_to_filter = np.concatenate((stop_words, custom_words_to_filter))\n",
    "\n",
    "def clean_text(text):\n",
    "    text = \"\".join([char for char in text if char not in string.punctuation])\n",
    "    text = lemmatizer.lemmatize(text)\n",
    "    text = tokenizer.tokenize(text)\n",
    "    text = [word for word in text if word not in words_to_filter]\n",
    "    text = ' '.join(text)\n",
    "    text = text.lower()\n",
    "\n",
    "    return text"
   ],
   "metadata": {
    "collapsed": false
   }
  },
  {
   "cell_type": "code",
   "execution_count": 12,
   "outputs": [
    {
     "name": "stdout",
     "output_type": "stream",
     "text": [
      "['count dooku voice actor corey burton tried something new star wars tales jedi', 'andor episode 8 explained rogue one cameos star wars hell prison', 'andor gave us gayest screen fade star wars history', 'ahsoka tano herself ashley eckstein breaks down star wars tales jedi', 'star wars the deckbuilding game could rule galaxy 2player card games', 'theres new star wars project damon lindelof works', 'star wars fatigue shouldnt stop you from watching andor', 'andor best star wars show since the mandalorian least popular', 'star wars characters take mexico city', 'alarmed suicide attack china pakistan join hands probe', 'death boy lockdown fuels backlash chinas zerocovid policy', 'update 2hong kong stocks tumble xi appointments fan economic fears yuan weakens', 'china supports central soes issue tech innovation bonds', 'world cup fifa head comments beer ban cp24', 't20 world cup bangladesh bowlers impress secure victory netherlands', 'canadas goalkeeper crepeau miss world cup broken leg', 'world cup stadium alcohol ban emblematic contradictions', 't20 world cup pakistan beat netherlands avoid elimination', 'ukraine war wagner chief prigozhin defends brutal killing video', 'chance peace ukraine says frances macron', 'ukraine nuclear agency thickens alleged dirty bomb plot ctv news', 'ukraine war roundup missile blast poland zambian familys grief', 'ukraine roundup refugees urged stay away dirty bomb claims', 'russia says ukraine hands 50 prisoners war reuterscom']\n"
     ]
    }
   ],
   "source": [
    "docs_StarWars = [\"Count Dooku Voice Actor Corey Burton Tried Something New on Star Wars: Tales of the Jedi\", \"'Andor' Episode 8 Explained: 'Rogue One' Cameos and a 'Star Wars' Hell Prison - CNET\", \"Andor Gave Us the Gayest Screen Fade in Star Wars History\", \"Ahsoka Tano Herself, Ashley Eckstein, Breaks Down Star Wars: Tales of the Jedi\", \"Star Wars: The Deckbuilding Game could rule the galaxy of 2-player card games\", \"There's a new Star Wars project from Damon Lindelof in the works\", \"Star Wars Fatigue Shouldn't Stop You From Watching 'Andor' - CNET\", \"'Andor' is the best 'Star Wars' show since 'The Mandalorian' — but the least popular\", \"Star Wars characters take over Mexico City - Reuters\"]\n",
    "\n",
    "docs_China = [\"Alarmed by suicide attack, China and Pakistan join hands in probe - Reuters\", \"Death of boy in lockdown fuels backlash against China's zero-Covid policy\", \"UPDATE 2-Hong Kong stocks tumble as Xi appointments fan economic fears; yuan weakens\", \"China supports central SOEs to issue tech innovation bonds - Reuters\"]\n",
    "\n",
    "docs_WorldCup = [\"World Cup: FIFA head comments on beer ban - CP24\", \"T20 World Cup: Bangladesh bowlers impress to secure victory over Netherlands\", \"Canada's goalkeeper Crepeau to miss World Cup with broken leg - Reuters\", \"World Cup stadium alcohol ban emblematic of contradictions\", \"T20 World Cup: Pakistan beat Netherlands to avoid elimination\"]\n",
    "\n",
    "docs_Ukraine = [\"Ukraine war: Wagner chief Prigozhin defends brutal killing video\", \"Chance for peace in Ukraine, says France's Macron - Reuters\", \"Ukraine nuclear agency thickens alleged dirty bomb plot - CTV News\", \"Ukraine war round-up: Missile blast in Poland and Zambian family's grief\", \"Ukraine round-up: Refugees urged to stay away and 'dirty bomb' claims\", \"Russia says Ukraine hands over 50 prisoners of war - Reuters.com\"]\n",
    "\n",
    "docs = [docs_StarWars, docs_China, docs_WorldCup, docs_Ukraine]\n",
    "docs = list(np.concatenate(docs).flat)\n",
    "\n",
    "# data_path = ( Path.cwd() / \"data/RoundedTestDataset\").resolve()\n",
    "# testdata = pd.DataFrame(docs, columns=['title'])\n",
    "# testdata.to_csv(data_path, encoding='utf-8', index=False)\n",
    "\n",
    "docs = [clean_text(doc) for doc in docs]\n",
    "print(docs)"
   ],
   "metadata": {
    "collapsed": false
   }
  },
  {
   "cell_type": "code",
   "execution_count": 10,
   "outputs": [
    {
     "data": {
      "text/plain": "                                                                              title  \\\n0                         death boy lockdown fuels backlash chinas zerocovid policy   \n1                              canadas goalkeeper crepeau miss world cup broken leg   \n2                                             star wars characters take mexico city   \n3                           star wars fatigue shouldnt stop you from watching andor   \n4                            alarmed suicide attack china pakistan join hands probe   \n5               t20 world cup bangladesh bowlers impress secure victory netherlands   \n6                        ukraine roundup refugees urged stay away dirty bomb claims   \n7                             russia says ukraine hands 50 prisoners war reuterscom   \n8                           world cup stadium alcohol ban emblematic contradictions   \n9     count dooku voice actor corey burton tried something new star wars tales jedi   \n10                    andor best star wars show since the mandalorian least popular   \n11                        t20 world cup pakistan beat netherlands avoid elimination   \n12             ahsoka tano herself ashley eckstein breaks down star wars tales jedi   \n13                  ukraine war wagner chief prigozhin defends brutal killing video   \n14  update 2hong kong stocks tumble xi appointments fan economic fears yuan weakens   \n15                   ukraine war roundup missile blast poland zambian familys grief   \n16                          china supports central soes issue tech innovation bonds   \n17                               andor gave us gayest screen fade star wars history   \n18                 andor episode 8 explained rogue one cameos star wars hell prison   \n19                                       world cup fifa head comments beer ban cp24   \n20             star wars the deckbuilding game could rule galaxy 2player card games   \n21                                theres new star wars project damon lindelof works   \n22                                         chance peace ukraine says frances macron   \n23                 ukraine nuclear agency thickens alleged dirty bomb plot ctv news   \n\n   stance   subjects  \n0       1      China  \n1       1  world_cup  \n2       1      Andor  \n3       0      Andor  \n4       0      China  \n5       1  world_cup  \n6       0    Ukraine  \n7       0    Ukraine  \n8       2  world_cup  \n9       1      Andor  \n10      2      Andor  \n11      1  world_cup  \n12      0      Andor  \n13      0    Ukraine  \n14      0      China  \n15      2    Ukraine  \n16      2      China  \n17      2      Andor  \n18      0      Andor  \n19      0  world_cup  \n20      1      Andor  \n21      2      Andor  \n22      1    Ukraine  \n23      2    Ukraine  ",
      "text/html": "<div>\n<style scoped>\n    .dataframe tbody tr th:only-of-type {\n        vertical-align: middle;\n    }\n\n    .dataframe tbody tr th {\n        vertical-align: top;\n    }\n\n    .dataframe thead th {\n        text-align: right;\n    }\n</style>\n<table border=\"1\" class=\"dataframe\">\n  <thead>\n    <tr style=\"text-align: right;\">\n      <th></th>\n      <th>title</th>\n      <th>stance</th>\n      <th>subjects</th>\n    </tr>\n  </thead>\n  <tbody>\n    <tr>\n      <th>0</th>\n      <td>death boy lockdown fuels backlash chinas zerocovid policy</td>\n      <td>1</td>\n      <td>China</td>\n    </tr>\n    <tr>\n      <th>1</th>\n      <td>canadas goalkeeper crepeau miss world cup broken leg</td>\n      <td>1</td>\n      <td>world_cup</td>\n    </tr>\n    <tr>\n      <th>2</th>\n      <td>star wars characters take mexico city</td>\n      <td>1</td>\n      <td>Andor</td>\n    </tr>\n    <tr>\n      <th>3</th>\n      <td>star wars fatigue shouldnt stop you from watching andor</td>\n      <td>0</td>\n      <td>Andor</td>\n    </tr>\n    <tr>\n      <th>4</th>\n      <td>alarmed suicide attack china pakistan join hands probe</td>\n      <td>0</td>\n      <td>China</td>\n    </tr>\n    <tr>\n      <th>5</th>\n      <td>t20 world cup bangladesh bowlers impress secure victory netherlands</td>\n      <td>1</td>\n      <td>world_cup</td>\n    </tr>\n    <tr>\n      <th>6</th>\n      <td>ukraine roundup refugees urged stay away dirty bomb claims</td>\n      <td>0</td>\n      <td>Ukraine</td>\n    </tr>\n    <tr>\n      <th>7</th>\n      <td>russia says ukraine hands 50 prisoners war reuterscom</td>\n      <td>0</td>\n      <td>Ukraine</td>\n    </tr>\n    <tr>\n      <th>8</th>\n      <td>world cup stadium alcohol ban emblematic contradictions</td>\n      <td>2</td>\n      <td>world_cup</td>\n    </tr>\n    <tr>\n      <th>9</th>\n      <td>count dooku voice actor corey burton tried something new star wars tales jedi</td>\n      <td>1</td>\n      <td>Andor</td>\n    </tr>\n    <tr>\n      <th>10</th>\n      <td>andor best star wars show since the mandalorian least popular</td>\n      <td>2</td>\n      <td>Andor</td>\n    </tr>\n    <tr>\n      <th>11</th>\n      <td>t20 world cup pakistan beat netherlands avoid elimination</td>\n      <td>1</td>\n      <td>world_cup</td>\n    </tr>\n    <tr>\n      <th>12</th>\n      <td>ahsoka tano herself ashley eckstein breaks down star wars tales jedi</td>\n      <td>0</td>\n      <td>Andor</td>\n    </tr>\n    <tr>\n      <th>13</th>\n      <td>ukraine war wagner chief prigozhin defends brutal killing video</td>\n      <td>0</td>\n      <td>Ukraine</td>\n    </tr>\n    <tr>\n      <th>14</th>\n      <td>update 2hong kong stocks tumble xi appointments fan economic fears yuan weakens</td>\n      <td>0</td>\n      <td>China</td>\n    </tr>\n    <tr>\n      <th>15</th>\n      <td>ukraine war roundup missile blast poland zambian familys grief</td>\n      <td>2</td>\n      <td>Ukraine</td>\n    </tr>\n    <tr>\n      <th>16</th>\n      <td>china supports central soes issue tech innovation bonds</td>\n      <td>2</td>\n      <td>China</td>\n    </tr>\n    <tr>\n      <th>17</th>\n      <td>andor gave us gayest screen fade star wars history</td>\n      <td>2</td>\n      <td>Andor</td>\n    </tr>\n    <tr>\n      <th>18</th>\n      <td>andor episode 8 explained rogue one cameos star wars hell prison</td>\n      <td>0</td>\n      <td>Andor</td>\n    </tr>\n    <tr>\n      <th>19</th>\n      <td>world cup fifa head comments beer ban cp24</td>\n      <td>0</td>\n      <td>world_cup</td>\n    </tr>\n    <tr>\n      <th>20</th>\n      <td>star wars the deckbuilding game could rule galaxy 2player card games</td>\n      <td>1</td>\n      <td>Andor</td>\n    </tr>\n    <tr>\n      <th>21</th>\n      <td>theres new star wars project damon lindelof works</td>\n      <td>2</td>\n      <td>Andor</td>\n    </tr>\n    <tr>\n      <th>22</th>\n      <td>chance peace ukraine says frances macron</td>\n      <td>1</td>\n      <td>Ukraine</td>\n    </tr>\n    <tr>\n      <th>23</th>\n      <td>ukraine nuclear agency thickens alleged dirty bomb plot ctv news</td>\n      <td>2</td>\n      <td>Ukraine</td>\n    </tr>\n  </tbody>\n</table>\n</div>"
     },
     "metadata": {},
     "output_type": "display_data"
    },
    {
     "name": "stdout",
     "output_type": "stream",
     "text": [
      "title         object\n",
      "stance      category\n",
      "subjects      object\n",
      "dtype: object\n"
     ]
    }
   ],
   "source": [
    "USE_DATASET = False\n",
    "\n",
    "if USE_DATASET:\n",
    "    data = pd.read_csv('stance_data.csv')\n",
    "    data = data.rename(columns={'post': 'title', 'new_topic': 'subjects', 'label': 'stance'})\n",
    "    data['stance'] = data['stance'].astype('category')\n",
    "    # convert from 0=con, 1=pro, 2=neutral to 0=neg, 1=neu, 2=pro\n",
    "    neu = data['stance'] == 1\n",
    "    data.loc[data['stance'] == 2, 'stance'] = 1\n",
    "    data.loc[neu, 'stance'] = 2\n",
    "else:\n",
    "    data = pd.DataFrame(docs, columns=['title'])\n",
    "    label_options = ['world cup', 'Andor', 'China', 'Ukraine'] # Ukraine subjects reflecting positive outcome of war (pos = could end 'well')\n",
    "    subjects = len(docs_StarWars)*['Andor'] + len(docs_China)*['China'] + len(docs_WorldCup)*['world_cup'] + len(docs_Ukraine)*['Ukraine']\n",
    "    stance = ['neu', 'neg', 'pos', 'neg', 'neu', 'pos', 'neg', 'pos', 'neu', 'neg', 'neu', 'neg', 'pos', 'neg', 'neu', 'neu', 'pos', 'neu', 'neg', 'neu', 'pos', 'pos', 'neg', 'neg']\n",
    "    data['stance'] = stance\n",
    "    data['subjects'] = subjects\n",
    "\n",
    "    data = data.sample(frac=1).reset_index(drop=True)\n",
    "\n",
    "    # Note that the categorical index has to start at 0 (so -1 for negative stance isn't allowed)\n",
    "    data.loc[ data['stance'] == 'neg', 'stance' ] = 0\n",
    "    data.loc[ data['stance'] == 'neu', 'stance' ] = 1\n",
    "    data.loc[ data['stance'] == 'pos', 'stance' ] = 2\n",
    "\n",
    "    data['title'] = data['title'].astype('str')\n",
    "    data['subjects'] = data['subjects'].astype('str')\n",
    "    data['stance'] = data['stance'].astype('category')\n",
    "\n",
    "    # data_path = ( Path.cwd() / \"data/RoundedDataset\").resolve()\n",
    "    # data.to_csv(data_path, encoding='utf-8', index=False)\n",
    "\n",
    "pd.set_option('display.max_colwidth', None)\n",
    "display(data)\n",
    "print(data.dtypes)"
   ],
   "metadata": {
    "collapsed": false
   }
  },
  {
   "cell_type": "markdown",
   "source": [
    "Label topics"
   ],
   "metadata": {
    "collapsed": false
   }
  },
  {
   "cell_type": "code",
   "execution_count": 40,
   "outputs": [
    {
     "data": {
      "text/plain": "   Topic  Count                         Name               CustomName\n0      0      9       0_wars_star_andor_jedi        wars, star, andor\n1      1      6   1_ukraine_war_says_roundup       ukraine, war, says\n2      2      5  2_cup_world_netherlands_t20  cup, world, netherlands\n3      3      4     3_china_2hong_yuan_fuels       china, 2hong, yuan",
      "text/html": "<div>\n<style scoped>\n    .dataframe tbody tr th:only-of-type {\n        vertical-align: middle;\n    }\n\n    .dataframe tbody tr th {\n        vertical-align: top;\n    }\n\n    .dataframe thead th {\n        text-align: right;\n    }\n</style>\n<table border=\"1\" class=\"dataframe\">\n  <thead>\n    <tr style=\"text-align: right;\">\n      <th></th>\n      <th>Topic</th>\n      <th>Count</th>\n      <th>Name</th>\n      <th>CustomName</th>\n    </tr>\n  </thead>\n  <tbody>\n    <tr>\n      <th>0</th>\n      <td>0</td>\n      <td>9</td>\n      <td>0_wars_star_andor_jedi</td>\n      <td>wars, star, andor</td>\n    </tr>\n    <tr>\n      <th>1</th>\n      <td>1</td>\n      <td>6</td>\n      <td>1_ukraine_war_says_roundup</td>\n      <td>ukraine, war, says</td>\n    </tr>\n    <tr>\n      <th>2</th>\n      <td>2</td>\n      <td>5</td>\n      <td>2_cup_world_netherlands_t20</td>\n      <td>cup, world, netherlands</td>\n    </tr>\n    <tr>\n      <th>3</th>\n      <td>3</td>\n      <td>4</td>\n      <td>3_china_2hong_yuan_fuels</td>\n      <td>china, 2hong, yuan</td>\n    </tr>\n  </tbody>\n</table>\n</div>"
     },
     "execution_count": 40,
     "metadata": {},
     "output_type": "execute_result"
    }
   ],
   "source": [
    "sentence_model = SentenceTransformer(\"paraphrase-multilingual-mpnet-base-v2\")\n",
    "embeddings = sentence_model.encode(data['title'])\n",
    "\n",
    "# TODO: try n_gram_range=(a, b) inside BERTopic\n",
    "cluster_model = AgglomerativeClustering(linkage='ward', distance_threshold=1.5, n_clusters=None)\n",
    "topic_model = BERTopic(hdbscan_model=cluster_model).fit(data['title'], embeddings)\n",
    "topics, probs = topic_model.fit_transform(data['title'])\n",
    "\n",
    "topic_labels = topic_model.generate_topic_labels(nr_words=3,\n",
    "                                                 topic_prefix=False,\n",
    "                                                 word_length=15,\n",
    "                                                 separator=\", \")\n",
    "topic_model.set_topic_labels(topic_labels)\n",
    "# topic_model.save('topic_model')\n",
    "\n",
    "topic_model.get_topic_info()"
   ],
   "metadata": {
    "collapsed": false
   }
  },
  {
   "cell_type": "code",
   "execution_count": 41,
   "outputs": [
    {
     "data": {
      "text/plain": "                                                                              title  \\\n0                                andor gave us gayest screen fade star wars history   \n1                                             star wars characters take mexico city   \n2               t20 world cup bangladesh bowlers impress secure victory netherlands   \n3                           china supports central soes issue tech innovation bonds   \n4     count dooku voice actor corey burton tried something new star wars tales jedi   \n5                  andor episode 8 explained rogue one cameos star wars hell prison   \n6                    ukraine war roundup missile blast poland zambian familys grief   \n7                                 theres new star wars project damon lindelof works   \n8                   ukraine war wagner chief prigozhin defends brutal killing video   \n9              ahsoka tano herself ashley eckstein breaks down star wars tales jedi   \n10             star wars the deckbuilding game could rule galaxy 2player card games   \n11                             canadas goalkeeper crepeau miss world cup broken leg   \n12                                       world cup fifa head comments beer ban cp24   \n13                       ukraine roundup refugees urged stay away dirty bomb claims   \n14                        death boy lockdown fuels backlash chinas zerocovid policy   \n15                          star wars fatigue shouldnt stop you from watching andor   \n16                          world cup stadium alcohol ban emblematic contradictions   \n17                                         chance peace ukraine says frances macron   \n18  update 2hong kong stocks tumble xi appointments fan economic fears yuan weakens   \n19                            russia says ukraine hands 50 prisoners war reuterscom   \n20                 ukraine nuclear agency thickens alleged dirty bomb plot ctv news   \n21                    andor best star wars show since the mandalorian least popular   \n22                           alarmed suicide attack china pakistan join hands probe   \n23                        t20 world cup pakistan beat netherlands avoid elimination   \n\n   stance   subjects          predicted_topic  \n0       2      Andor        wars, star, andor  \n1       1      Andor        wars, star, andor  \n2       1  world_cup  cup, world, netherlands  \n3       2      China       china, 2hong, yuan  \n4       1      Andor        wars, star, andor  \n5       0      Andor        wars, star, andor  \n6       2    Ukraine       ukraine, war, says  \n7       2      Andor        wars, star, andor  \n8       0    Ukraine       ukraine, war, says  \n9       0      Andor        wars, star, andor  \n10      1      Andor        wars, star, andor  \n11      1  world_cup  cup, world, netherlands  \n12      0  world_cup  cup, world, netherlands  \n13      0    Ukraine       ukraine, war, says  \n14      1      China       china, 2hong, yuan  \n15      0      Andor        wars, star, andor  \n16      2  world_cup  cup, world, netherlands  \n17      1    Ukraine       ukraine, war, says  \n18      0      China       china, 2hong, yuan  \n19      0    Ukraine       ukraine, war, says  \n20      2    Ukraine       ukraine, war, says  \n21      2      Andor        wars, star, andor  \n22      0      China       china, 2hong, yuan  \n23      1  world_cup  cup, world, netherlands  ",
      "text/html": "<div>\n<style scoped>\n    .dataframe tbody tr th:only-of-type {\n        vertical-align: middle;\n    }\n\n    .dataframe tbody tr th {\n        vertical-align: top;\n    }\n\n    .dataframe thead th {\n        text-align: right;\n    }\n</style>\n<table border=\"1\" class=\"dataframe\">\n  <thead>\n    <tr style=\"text-align: right;\">\n      <th></th>\n      <th>title</th>\n      <th>stance</th>\n      <th>subjects</th>\n      <th>predicted_topic</th>\n    </tr>\n  </thead>\n  <tbody>\n    <tr>\n      <th>0</th>\n      <td>andor gave us gayest screen fade star wars history</td>\n      <td>2</td>\n      <td>Andor</td>\n      <td>wars, star, andor</td>\n    </tr>\n    <tr>\n      <th>1</th>\n      <td>star wars characters take mexico city</td>\n      <td>1</td>\n      <td>Andor</td>\n      <td>wars, star, andor</td>\n    </tr>\n    <tr>\n      <th>2</th>\n      <td>t20 world cup bangladesh bowlers impress secure victory netherlands</td>\n      <td>1</td>\n      <td>world_cup</td>\n      <td>cup, world, netherlands</td>\n    </tr>\n    <tr>\n      <th>3</th>\n      <td>china supports central soes issue tech innovation bonds</td>\n      <td>2</td>\n      <td>China</td>\n      <td>china, 2hong, yuan</td>\n    </tr>\n    <tr>\n      <th>4</th>\n      <td>count dooku voice actor corey burton tried something new star wars tales jedi</td>\n      <td>1</td>\n      <td>Andor</td>\n      <td>wars, star, andor</td>\n    </tr>\n    <tr>\n      <th>5</th>\n      <td>andor episode 8 explained rogue one cameos star wars hell prison</td>\n      <td>0</td>\n      <td>Andor</td>\n      <td>wars, star, andor</td>\n    </tr>\n    <tr>\n      <th>6</th>\n      <td>ukraine war roundup missile blast poland zambian familys grief</td>\n      <td>2</td>\n      <td>Ukraine</td>\n      <td>ukraine, war, says</td>\n    </tr>\n    <tr>\n      <th>7</th>\n      <td>theres new star wars project damon lindelof works</td>\n      <td>2</td>\n      <td>Andor</td>\n      <td>wars, star, andor</td>\n    </tr>\n    <tr>\n      <th>8</th>\n      <td>ukraine war wagner chief prigozhin defends brutal killing video</td>\n      <td>0</td>\n      <td>Ukraine</td>\n      <td>ukraine, war, says</td>\n    </tr>\n    <tr>\n      <th>9</th>\n      <td>ahsoka tano herself ashley eckstein breaks down star wars tales jedi</td>\n      <td>0</td>\n      <td>Andor</td>\n      <td>wars, star, andor</td>\n    </tr>\n    <tr>\n      <th>10</th>\n      <td>star wars the deckbuilding game could rule galaxy 2player card games</td>\n      <td>1</td>\n      <td>Andor</td>\n      <td>wars, star, andor</td>\n    </tr>\n    <tr>\n      <th>11</th>\n      <td>canadas goalkeeper crepeau miss world cup broken leg</td>\n      <td>1</td>\n      <td>world_cup</td>\n      <td>cup, world, netherlands</td>\n    </tr>\n    <tr>\n      <th>12</th>\n      <td>world cup fifa head comments beer ban cp24</td>\n      <td>0</td>\n      <td>world_cup</td>\n      <td>cup, world, netherlands</td>\n    </tr>\n    <tr>\n      <th>13</th>\n      <td>ukraine roundup refugees urged stay away dirty bomb claims</td>\n      <td>0</td>\n      <td>Ukraine</td>\n      <td>ukraine, war, says</td>\n    </tr>\n    <tr>\n      <th>14</th>\n      <td>death boy lockdown fuels backlash chinas zerocovid policy</td>\n      <td>1</td>\n      <td>China</td>\n      <td>china, 2hong, yuan</td>\n    </tr>\n    <tr>\n      <th>15</th>\n      <td>star wars fatigue shouldnt stop you from watching andor</td>\n      <td>0</td>\n      <td>Andor</td>\n      <td>wars, star, andor</td>\n    </tr>\n    <tr>\n      <th>16</th>\n      <td>world cup stadium alcohol ban emblematic contradictions</td>\n      <td>2</td>\n      <td>world_cup</td>\n      <td>cup, world, netherlands</td>\n    </tr>\n    <tr>\n      <th>17</th>\n      <td>chance peace ukraine says frances macron</td>\n      <td>1</td>\n      <td>Ukraine</td>\n      <td>ukraine, war, says</td>\n    </tr>\n    <tr>\n      <th>18</th>\n      <td>update 2hong kong stocks tumble xi appointments fan economic fears yuan weakens</td>\n      <td>0</td>\n      <td>China</td>\n      <td>china, 2hong, yuan</td>\n    </tr>\n    <tr>\n      <th>19</th>\n      <td>russia says ukraine hands 50 prisoners war reuterscom</td>\n      <td>0</td>\n      <td>Ukraine</td>\n      <td>ukraine, war, says</td>\n    </tr>\n    <tr>\n      <th>20</th>\n      <td>ukraine nuclear agency thickens alleged dirty bomb plot ctv news</td>\n      <td>2</td>\n      <td>Ukraine</td>\n      <td>ukraine, war, says</td>\n    </tr>\n    <tr>\n      <th>21</th>\n      <td>andor best star wars show since the mandalorian least popular</td>\n      <td>2</td>\n      <td>Andor</td>\n      <td>wars, star, andor</td>\n    </tr>\n    <tr>\n      <th>22</th>\n      <td>alarmed suicide attack china pakistan join hands probe</td>\n      <td>0</td>\n      <td>China</td>\n      <td>china, 2hong, yuan</td>\n    </tr>\n    <tr>\n      <th>23</th>\n      <td>t20 world cup pakistan beat netherlands avoid elimination</td>\n      <td>1</td>\n      <td>world_cup</td>\n      <td>cup, world, netherlands</td>\n    </tr>\n  </tbody>\n</table>\n</div>"
     },
     "metadata": {},
     "output_type": "display_data"
    }
   ],
   "source": [
    "topic_labels_series = pd.Series(topic_labels)\n",
    "docs_topic = topic_labels_series[topics].tolist()\n",
    "data['predicted_topic'] = docs_topic\n",
    "display(data)"
   ],
   "metadata": {
    "collapsed": false
   }
  },
  {
   "cell_type": "code",
   "execution_count": 42,
   "outputs": [
    {
     "data": {
      "application/vnd.plotly.v1+json": {
       "data": [
        {
         "hoverinfo": "text",
         "hovertext": [
          null
         ],
         "marker": {
          "color": "#CFD8DC",
          "opacity": 0.5,
          "size": 5
         },
         "mode": "markers+text",
         "name": "other",
         "showlegend": false,
         "x": [
          null
         ],
         "y": [
          null
         ],
         "type": "scattergl"
        },
        {
         "hoverinfo": "text",
         "hovertext": [
          "death boy lockdown fuels backlash chinas zerocovid policy",
          "count dooku voice actor corey burton tried something new star wars tales jedi",
          "alarmed suicide attack china pakistan join hands probe",
          "canadas goalkeeper crepeau miss world cup broken leg",
          "ukraine war roundup missile blast poland zambian familys grief",
          "andor episode 8 explained rogue one cameos star wars hell prison",
          "andor best star wars show since the mandalorian least popular",
          "theres new star wars project damon lindelof works",
          "star wars the deckbuilding game could rule galaxy 2player card games",
          null
         ],
         "marker": {
          "opacity": 0.5,
          "size": 5
         },
         "mode": "markers+text",
         "name": "wars, star, andor",
         "text": [
          "",
          "",
          "",
          "",
          "",
          "",
          "",
          "",
          "",
          "wars, star, andor"
         ],
         "textfont": {
          "size": 12
         },
         "x": [
          0.1058531105518341,
          1.149832010269165,
          1.2269011735916138,
          0.409729540348053,
          0.8974059820175171,
          0.6002551317214966,
          0.5072451829910278,
          0.8913374543190002,
          0.9399007558822632,
          0.7476067543029785
         ],
         "y": [
          4.918018341064453,
          4.426389217376709,
          4.926723957061768,
          4.575225353240967,
          4.05137300491333,
          4.114894390106201,
          5.147458553314209,
          4.794653415679932,
          5.16804313659668,
          4.680308818817139
         ],
         "type": "scattergl"
        },
        {
         "hoverinfo": "text",
         "hovertext": [
          "world cup fifa head comments beer ban cp24",
          "chance peace ukraine says frances macron",
          "star wars characters take mexico city",
          "ukraine nuclear agency thickens alleged dirty bomb plot ctv news",
          "star wars fatigue shouldnt stop you from watching andor",
          "t20 world cup pakistan beat netherlands avoid elimination",
          null
         ],
         "marker": {
          "opacity": 0.5,
          "size": 5
         },
         "mode": "markers+text",
         "name": "ukraine, war, says",
         "text": [
          "",
          "",
          "",
          "",
          "",
          "",
          "ukraine, war, says"
         ],
         "textfont": {
          "size": 12
         },
         "x": [
          4.014829158782959,
          3.995539426803589,
          3.6555206775665283,
          3.7609007358551025,
          3.8359146118164062,
          4.425054550170898,
          3.9479596614837646
         ],
         "y": [
          2.920041084289551,
          2.416642189025879,
          2.2651162147521973,
          3.311838150024414,
          2.7451257705688477,
          2.6359994411468506,
          2.7157936096191406
         ],
         "type": "scattergl"
        },
        {
         "hoverinfo": "text",
         "hovertext": [
          "russia says ukraine hands 50 prisoners war reuterscom",
          "china supports central soes issue tech innovation bonds",
          "update 2hong kong stocks tumble xi appointments fan economic fears yuan weakens",
          "andor gave us gayest screen fade star wars history",
          "world cup stadium alcohol ban emblematic contradictions",
          null
         ],
         "marker": {
          "opacity": 0.5,
          "size": 5
         },
         "mode": "markers+text",
         "name": "cup, world, netherlands",
         "text": [
          "",
          "",
          "",
          "",
          "",
          "cup, world, netherlands"
         ],
         "textfont": {
          "size": 12
         },
         "x": [
          5.252583980560303,
          5.441130638122559,
          4.973189353942871,
          5.5741424560546875,
          5.515737056732178,
          5.3513569831848145
         ],
         "y": [
          2.542797327041626,
          3.0105135440826416,
          2.7310876846313477,
          2.6574840545654297,
          3.4390316009521484,
          2.876183032989502
         ],
         "type": "scattergl"
        },
        {
         "hoverinfo": "text",
         "hovertext": [
          "ukraine war wagner chief prigozhin defends brutal killing video",
          "t20 world cup bangladesh bowlers impress secure victory netherlands",
          "ahsoka tano herself ashley eckstein breaks down star wars tales jedi",
          "ukraine roundup refugees urged stay away dirty bomb claims",
          null
         ],
         "marker": {
          "opacity": 0.5,
          "size": 5
         },
         "mode": "markers+text",
         "name": "china, 2hong, yuan",
         "text": [
          "",
          "",
          "",
          "",
          "china, 2hong, yuan"
         ],
         "textfont": {
          "size": 12
         },
         "x": [
          3.932892322540283,
          4.491345405578613,
          4.213040828704834,
          4.211158275604248,
          4.212109565734863
         ],
         "y": [
          4.913346290588379,
          4.782423496246338,
          5.05465030670166,
          4.618957042694092,
          4.842344284057617
         ],
         "type": "scattergl"
        }
       ],
       "layout": {
        "template": {
         "data": {
          "barpolar": [
           {
            "marker": {
             "line": {
              "color": "white",
              "width": 0.5
             },
             "pattern": {
              "fillmode": "overlay",
              "size": 10,
              "solidity": 0.2
             }
            },
            "type": "barpolar"
           }
          ],
          "bar": [
           {
            "error_x": {
             "color": "rgb(36,36,36)"
            },
            "error_y": {
             "color": "rgb(36,36,36)"
            },
            "marker": {
             "line": {
              "color": "white",
              "width": 0.5
             },
             "pattern": {
              "fillmode": "overlay",
              "size": 10,
              "solidity": 0.2
             }
            },
            "type": "bar"
           }
          ],
          "carpet": [
           {
            "aaxis": {
             "endlinecolor": "rgb(36,36,36)",
             "gridcolor": "white",
             "linecolor": "white",
             "minorgridcolor": "white",
             "startlinecolor": "rgb(36,36,36)"
            },
            "baxis": {
             "endlinecolor": "rgb(36,36,36)",
             "gridcolor": "white",
             "linecolor": "white",
             "minorgridcolor": "white",
             "startlinecolor": "rgb(36,36,36)"
            },
            "type": "carpet"
           }
          ],
          "choropleth": [
           {
            "colorbar": {
             "outlinewidth": 1,
             "tickcolor": "rgb(36,36,36)",
             "ticks": "outside"
            },
            "type": "choropleth"
           }
          ],
          "contourcarpet": [
           {
            "colorbar": {
             "outlinewidth": 1,
             "tickcolor": "rgb(36,36,36)",
             "ticks": "outside"
            },
            "type": "contourcarpet"
           }
          ],
          "contour": [
           {
            "colorbar": {
             "outlinewidth": 1,
             "tickcolor": "rgb(36,36,36)",
             "ticks": "outside"
            },
            "colorscale": [
             [
              0.0,
              "#440154"
             ],
             [
              0.1111111111111111,
              "#482878"
             ],
             [
              0.2222222222222222,
              "#3e4989"
             ],
             [
              0.3333333333333333,
              "#31688e"
             ],
             [
              0.4444444444444444,
              "#26828e"
             ],
             [
              0.5555555555555556,
              "#1f9e89"
             ],
             [
              0.6666666666666666,
              "#35b779"
             ],
             [
              0.7777777777777778,
              "#6ece58"
             ],
             [
              0.8888888888888888,
              "#b5de2b"
             ],
             [
              1.0,
              "#fde725"
             ]
            ],
            "type": "contour"
           }
          ],
          "heatmapgl": [
           {
            "colorbar": {
             "outlinewidth": 1,
             "tickcolor": "rgb(36,36,36)",
             "ticks": "outside"
            },
            "colorscale": [
             [
              0.0,
              "#440154"
             ],
             [
              0.1111111111111111,
              "#482878"
             ],
             [
              0.2222222222222222,
              "#3e4989"
             ],
             [
              0.3333333333333333,
              "#31688e"
             ],
             [
              0.4444444444444444,
              "#26828e"
             ],
             [
              0.5555555555555556,
              "#1f9e89"
             ],
             [
              0.6666666666666666,
              "#35b779"
             ],
             [
              0.7777777777777778,
              "#6ece58"
             ],
             [
              0.8888888888888888,
              "#b5de2b"
             ],
             [
              1.0,
              "#fde725"
             ]
            ],
            "type": "heatmapgl"
           }
          ],
          "heatmap": [
           {
            "colorbar": {
             "outlinewidth": 1,
             "tickcolor": "rgb(36,36,36)",
             "ticks": "outside"
            },
            "colorscale": [
             [
              0.0,
              "#440154"
             ],
             [
              0.1111111111111111,
              "#482878"
             ],
             [
              0.2222222222222222,
              "#3e4989"
             ],
             [
              0.3333333333333333,
              "#31688e"
             ],
             [
              0.4444444444444444,
              "#26828e"
             ],
             [
              0.5555555555555556,
              "#1f9e89"
             ],
             [
              0.6666666666666666,
              "#35b779"
             ],
             [
              0.7777777777777778,
              "#6ece58"
             ],
             [
              0.8888888888888888,
              "#b5de2b"
             ],
             [
              1.0,
              "#fde725"
             ]
            ],
            "type": "heatmap"
           }
          ],
          "histogram2dcontour": [
           {
            "colorbar": {
             "outlinewidth": 1,
             "tickcolor": "rgb(36,36,36)",
             "ticks": "outside"
            },
            "colorscale": [
             [
              0.0,
              "#440154"
             ],
             [
              0.1111111111111111,
              "#482878"
             ],
             [
              0.2222222222222222,
              "#3e4989"
             ],
             [
              0.3333333333333333,
              "#31688e"
             ],
             [
              0.4444444444444444,
              "#26828e"
             ],
             [
              0.5555555555555556,
              "#1f9e89"
             ],
             [
              0.6666666666666666,
              "#35b779"
             ],
             [
              0.7777777777777778,
              "#6ece58"
             ],
             [
              0.8888888888888888,
              "#b5de2b"
             ],
             [
              1.0,
              "#fde725"
             ]
            ],
            "type": "histogram2dcontour"
           }
          ],
          "histogram2d": [
           {
            "colorbar": {
             "outlinewidth": 1,
             "tickcolor": "rgb(36,36,36)",
             "ticks": "outside"
            },
            "colorscale": [
             [
              0.0,
              "#440154"
             ],
             [
              0.1111111111111111,
              "#482878"
             ],
             [
              0.2222222222222222,
              "#3e4989"
             ],
             [
              0.3333333333333333,
              "#31688e"
             ],
             [
              0.4444444444444444,
              "#26828e"
             ],
             [
              0.5555555555555556,
              "#1f9e89"
             ],
             [
              0.6666666666666666,
              "#35b779"
             ],
             [
              0.7777777777777778,
              "#6ece58"
             ],
             [
              0.8888888888888888,
              "#b5de2b"
             ],
             [
              1.0,
              "#fde725"
             ]
            ],
            "type": "histogram2d"
           }
          ],
          "histogram": [
           {
            "marker": {
             "line": {
              "color": "white",
              "width": 0.6
             }
            },
            "type": "histogram"
           }
          ],
          "mesh3d": [
           {
            "colorbar": {
             "outlinewidth": 1,
             "tickcolor": "rgb(36,36,36)",
             "ticks": "outside"
            },
            "type": "mesh3d"
           }
          ],
          "parcoords": [
           {
            "line": {
             "colorbar": {
              "outlinewidth": 1,
              "tickcolor": "rgb(36,36,36)",
              "ticks": "outside"
             }
            },
            "type": "parcoords"
           }
          ],
          "pie": [
           {
            "automargin": true,
            "type": "pie"
           }
          ],
          "scatter3d": [
           {
            "line": {
             "colorbar": {
              "outlinewidth": 1,
              "tickcolor": "rgb(36,36,36)",
              "ticks": "outside"
             }
            },
            "marker": {
             "colorbar": {
              "outlinewidth": 1,
              "tickcolor": "rgb(36,36,36)",
              "ticks": "outside"
             }
            },
            "type": "scatter3d"
           }
          ],
          "scattercarpet": [
           {
            "marker": {
             "colorbar": {
              "outlinewidth": 1,
              "tickcolor": "rgb(36,36,36)",
              "ticks": "outside"
             }
            },
            "type": "scattercarpet"
           }
          ],
          "scattergeo": [
           {
            "marker": {
             "colorbar": {
              "outlinewidth": 1,
              "tickcolor": "rgb(36,36,36)",
              "ticks": "outside"
             }
            },
            "type": "scattergeo"
           }
          ],
          "scattergl": [
           {
            "marker": {
             "colorbar": {
              "outlinewidth": 1,
              "tickcolor": "rgb(36,36,36)",
              "ticks": "outside"
             }
            },
            "type": "scattergl"
           }
          ],
          "scattermapbox": [
           {
            "marker": {
             "colorbar": {
              "outlinewidth": 1,
              "tickcolor": "rgb(36,36,36)",
              "ticks": "outside"
             }
            },
            "type": "scattermapbox"
           }
          ],
          "scatterpolargl": [
           {
            "marker": {
             "colorbar": {
              "outlinewidth": 1,
              "tickcolor": "rgb(36,36,36)",
              "ticks": "outside"
             }
            },
            "type": "scatterpolargl"
           }
          ],
          "scatterpolar": [
           {
            "marker": {
             "colorbar": {
              "outlinewidth": 1,
              "tickcolor": "rgb(36,36,36)",
              "ticks": "outside"
             }
            },
            "type": "scatterpolar"
           }
          ],
          "scatter": [
           {
            "fillpattern": {
             "fillmode": "overlay",
             "size": 10,
             "solidity": 0.2
            },
            "type": "scatter"
           }
          ],
          "scatterternary": [
           {
            "marker": {
             "colorbar": {
              "outlinewidth": 1,
              "tickcolor": "rgb(36,36,36)",
              "ticks": "outside"
             }
            },
            "type": "scatterternary"
           }
          ],
          "surface": [
           {
            "colorbar": {
             "outlinewidth": 1,
             "tickcolor": "rgb(36,36,36)",
             "ticks": "outside"
            },
            "colorscale": [
             [
              0.0,
              "#440154"
             ],
             [
              0.1111111111111111,
              "#482878"
             ],
             [
              0.2222222222222222,
              "#3e4989"
             ],
             [
              0.3333333333333333,
              "#31688e"
             ],
             [
              0.4444444444444444,
              "#26828e"
             ],
             [
              0.5555555555555556,
              "#1f9e89"
             ],
             [
              0.6666666666666666,
              "#35b779"
             ],
             [
              0.7777777777777778,
              "#6ece58"
             ],
             [
              0.8888888888888888,
              "#b5de2b"
             ],
             [
              1.0,
              "#fde725"
             ]
            ],
            "type": "surface"
           }
          ],
          "table": [
           {
            "cells": {
             "fill": {
              "color": "rgb(237,237,237)"
             },
             "line": {
              "color": "white"
             }
            },
            "header": {
             "fill": {
              "color": "rgb(217,217,217)"
             },
             "line": {
              "color": "white"
             }
            },
            "type": "table"
           }
          ]
         },
         "layout": {
          "annotationdefaults": {
           "arrowhead": 0,
           "arrowwidth": 1
          },
          "autotypenumbers": "strict",
          "coloraxis": {
           "colorbar": {
            "outlinewidth": 1,
            "tickcolor": "rgb(36,36,36)",
            "ticks": "outside"
           }
          },
          "colorscale": {
           "diverging": [
            [
             0.0,
             "rgb(103,0,31)"
            ],
            [
             0.1,
             "rgb(178,24,43)"
            ],
            [
             0.2,
             "rgb(214,96,77)"
            ],
            [
             0.3,
             "rgb(244,165,130)"
            ],
            [
             0.4,
             "rgb(253,219,199)"
            ],
            [
             0.5,
             "rgb(247,247,247)"
            ],
            [
             0.6,
             "rgb(209,229,240)"
            ],
            [
             0.7,
             "rgb(146,197,222)"
            ],
            [
             0.8,
             "rgb(67,147,195)"
            ],
            [
             0.9,
             "rgb(33,102,172)"
            ],
            [
             1.0,
             "rgb(5,48,97)"
            ]
           ],
           "sequential": [
            [
             0.0,
             "#440154"
            ],
            [
             0.1111111111111111,
             "#482878"
            ],
            [
             0.2222222222222222,
             "#3e4989"
            ],
            [
             0.3333333333333333,
             "#31688e"
            ],
            [
             0.4444444444444444,
             "#26828e"
            ],
            [
             0.5555555555555556,
             "#1f9e89"
            ],
            [
             0.6666666666666666,
             "#35b779"
            ],
            [
             0.7777777777777778,
             "#6ece58"
            ],
            [
             0.8888888888888888,
             "#b5de2b"
            ],
            [
             1.0,
             "#fde725"
            ]
           ],
           "sequentialminus": [
            [
             0.0,
             "#440154"
            ],
            [
             0.1111111111111111,
             "#482878"
            ],
            [
             0.2222222222222222,
             "#3e4989"
            ],
            [
             0.3333333333333333,
             "#31688e"
            ],
            [
             0.4444444444444444,
             "#26828e"
            ],
            [
             0.5555555555555556,
             "#1f9e89"
            ],
            [
             0.6666666666666666,
             "#35b779"
            ],
            [
             0.7777777777777778,
             "#6ece58"
            ],
            [
             0.8888888888888888,
             "#b5de2b"
            ],
            [
             1.0,
             "#fde725"
            ]
           ]
          },
          "colorway": [
           "#1F77B4",
           "#FF7F0E",
           "#2CA02C",
           "#D62728",
           "#9467BD",
           "#8C564B",
           "#E377C2",
           "#7F7F7F",
           "#BCBD22",
           "#17BECF"
          ],
          "font": {
           "color": "rgb(36,36,36)"
          },
          "geo": {
           "bgcolor": "white",
           "lakecolor": "white",
           "landcolor": "white",
           "showlakes": true,
           "showland": true,
           "subunitcolor": "white"
          },
          "hoverlabel": {
           "align": "left"
          },
          "hovermode": "closest",
          "mapbox": {
           "style": "light"
          },
          "paper_bgcolor": "white",
          "plot_bgcolor": "white",
          "polar": {
           "angularaxis": {
            "gridcolor": "rgb(232,232,232)",
            "linecolor": "rgb(36,36,36)",
            "showgrid": false,
            "showline": true,
            "ticks": "outside"
           },
           "bgcolor": "white",
           "radialaxis": {
            "gridcolor": "rgb(232,232,232)",
            "linecolor": "rgb(36,36,36)",
            "showgrid": false,
            "showline": true,
            "ticks": "outside"
           }
          },
          "scene": {
           "xaxis": {
            "backgroundcolor": "white",
            "gridcolor": "rgb(232,232,232)",
            "gridwidth": 2,
            "linecolor": "rgb(36,36,36)",
            "showbackground": true,
            "showgrid": false,
            "showline": true,
            "ticks": "outside",
            "zeroline": false,
            "zerolinecolor": "rgb(36,36,36)"
           },
           "yaxis": {
            "backgroundcolor": "white",
            "gridcolor": "rgb(232,232,232)",
            "gridwidth": 2,
            "linecolor": "rgb(36,36,36)",
            "showbackground": true,
            "showgrid": false,
            "showline": true,
            "ticks": "outside",
            "zeroline": false,
            "zerolinecolor": "rgb(36,36,36)"
           },
           "zaxis": {
            "backgroundcolor": "white",
            "gridcolor": "rgb(232,232,232)",
            "gridwidth": 2,
            "linecolor": "rgb(36,36,36)",
            "showbackground": true,
            "showgrid": false,
            "showline": true,
            "ticks": "outside",
            "zeroline": false,
            "zerolinecolor": "rgb(36,36,36)"
           }
          },
          "shapedefaults": {
           "fillcolor": "black",
           "line": {
            "width": 0
           },
           "opacity": 0.3
          },
          "ternary": {
           "aaxis": {
            "gridcolor": "rgb(232,232,232)",
            "linecolor": "rgb(36,36,36)",
            "showgrid": false,
            "showline": true,
            "ticks": "outside"
           },
           "baxis": {
            "gridcolor": "rgb(232,232,232)",
            "linecolor": "rgb(36,36,36)",
            "showgrid": false,
            "showline": true,
            "ticks": "outside"
           },
           "bgcolor": "white",
           "caxis": {
            "gridcolor": "rgb(232,232,232)",
            "linecolor": "rgb(36,36,36)",
            "showgrid": false,
            "showline": true,
            "ticks": "outside"
           }
          },
          "title": {
           "x": 0.05
          },
          "xaxis": {
           "automargin": true,
           "gridcolor": "rgb(232,232,232)",
           "linecolor": "rgb(36,36,36)",
           "showgrid": false,
           "showline": true,
           "ticks": "outside",
           "title": {
            "standoff": 15
           },
           "zeroline": false,
           "zerolinecolor": "rgb(36,36,36)"
          },
          "yaxis": {
           "automargin": true,
           "gridcolor": "rgb(232,232,232)",
           "linecolor": "rgb(36,36,36)",
           "showgrid": false,
           "showline": true,
           "ticks": "outside",
           "title": {
            "standoff": 15
           },
           "zeroline": false,
           "zerolinecolor": "rgb(36,36,36)"
          }
         }
        },
        "shapes": [
         {
          "line": {
           "color": "#CFD8DC",
           "width": 2
          },
          "type": "line",
          "x0": 3.2501194842159746,
          "x1": 3.2501194842159746,
          "y0": 1.9253487825393676,
          "y1": 5.943249607086182
         },
         {
          "line": {
           "color": "#9E9E9E",
           "width": 2
          },
          "type": "line",
          "x0": 0.089975143969059,
          "x1": 6.4102638244628904,
          "y0": 3.934299194812775,
          "y1": 3.934299194812775
         }
        ],
        "annotations": [
         {
          "showarrow": false,
          "text": "D1",
          "x": 0.089975143969059,
          "y": 3.934299194812775,
          "yshift": 10
         },
         {
          "showarrow": false,
          "text": "D2",
          "x": 3.2501194842159746,
          "xshift": 10,
          "y": 5.943249607086182
         }
        ],
        "title": {
         "font": {
          "size": 22,
          "color": "Black"
         },
         "text": "<b>Documents and Topics",
         "x": 0.5,
         "xanchor": "center",
         "yanchor": "top"
        },
        "width": 1200,
        "height": 750,
        "xaxis": {
         "visible": false
        },
        "yaxis": {
         "visible": false
        }
       },
       "config": {
        "plotlyServerURL": "https://plot.ly"
       }
      },
      "text/html": "<div>                            <div id=\"3e69c0ed-c8a7-459f-8fa7-6cb68c7f70e6\" class=\"plotly-graph-div\" style=\"height:750px; width:1200px;\"></div>            <script type=\"text/javascript\">                require([\"plotly\"], function(Plotly) {                    window.PLOTLYENV=window.PLOTLYENV || {};                                    if (document.getElementById(\"3e69c0ed-c8a7-459f-8fa7-6cb68c7f70e6\")) {                    Plotly.newPlot(                        \"3e69c0ed-c8a7-459f-8fa7-6cb68c7f70e6\",                        [{\"hoverinfo\":\"text\",\"hovertext\":[null],\"marker\":{\"color\":\"#CFD8DC\",\"opacity\":0.5,\"size\":5},\"mode\":\"markers+text\",\"name\":\"other\",\"showlegend\":false,\"x\":[null],\"y\":[null],\"type\":\"scattergl\"},{\"hoverinfo\":\"text\",\"hovertext\":[\"death boy lockdown fuels backlash chinas zerocovid policy\",\"count dooku voice actor corey burton tried something new star wars tales jedi\",\"alarmed suicide attack china pakistan join hands probe\",\"canadas goalkeeper crepeau miss world cup broken leg\",\"ukraine war roundup missile blast poland zambian familys grief\",\"andor episode 8 explained rogue one cameos star wars hell prison\",\"andor best star wars show since the mandalorian least popular\",\"theres new star wars project damon lindelof works\",\"star wars the deckbuilding game could rule galaxy 2player card games\",null],\"marker\":{\"opacity\":0.5,\"size\":5},\"mode\":\"markers+text\",\"name\":\"wars, star, andor\",\"text\":[\"\",\"\",\"\",\"\",\"\",\"\",\"\",\"\",\"\",\"wars, star, andor\"],\"textfont\":{\"size\":12},\"x\":[0.1058531105518341,1.149832010269165,1.2269011735916138,0.409729540348053,0.8974059820175171,0.6002551317214966,0.5072451829910278,0.8913374543190002,0.9399007558822632,0.7476067543029785],\"y\":[4.918018341064453,4.426389217376709,4.926723957061768,4.575225353240967,4.05137300491333,4.114894390106201,5.147458553314209,4.794653415679932,5.16804313659668,4.680308818817139],\"type\":\"scattergl\"},{\"hoverinfo\":\"text\",\"hovertext\":[\"world cup fifa head comments beer ban cp24\",\"chance peace ukraine says frances macron\",\"star wars characters take mexico city\",\"ukraine nuclear agency thickens alleged dirty bomb plot ctv news\",\"star wars fatigue shouldnt stop you from watching andor\",\"t20 world cup pakistan beat netherlands avoid elimination\",null],\"marker\":{\"opacity\":0.5,\"size\":5},\"mode\":\"markers+text\",\"name\":\"ukraine, war, says\",\"text\":[\"\",\"\",\"\",\"\",\"\",\"\",\"ukraine, war, says\"],\"textfont\":{\"size\":12},\"x\":[4.014829158782959,3.995539426803589,3.6555206775665283,3.7609007358551025,3.8359146118164062,4.425054550170898,3.9479596614837646],\"y\":[2.920041084289551,2.416642189025879,2.2651162147521973,3.311838150024414,2.7451257705688477,2.6359994411468506,2.7157936096191406],\"type\":\"scattergl\"},{\"hoverinfo\":\"text\",\"hovertext\":[\"russia says ukraine hands 50 prisoners war reuterscom\",\"china supports central soes issue tech innovation bonds\",\"update 2hong kong stocks tumble xi appointments fan economic fears yuan weakens\",\"andor gave us gayest screen fade star wars history\",\"world cup stadium alcohol ban emblematic contradictions\",null],\"marker\":{\"opacity\":0.5,\"size\":5},\"mode\":\"markers+text\",\"name\":\"cup, world, netherlands\",\"text\":[\"\",\"\",\"\",\"\",\"\",\"cup, world, netherlands\"],\"textfont\":{\"size\":12},\"x\":[5.252583980560303,5.441130638122559,4.973189353942871,5.5741424560546875,5.515737056732178,5.3513569831848145],\"y\":[2.542797327041626,3.0105135440826416,2.7310876846313477,2.6574840545654297,3.4390316009521484,2.876183032989502],\"type\":\"scattergl\"},{\"hoverinfo\":\"text\",\"hovertext\":[\"ukraine war wagner chief prigozhin defends brutal killing video\",\"t20 world cup bangladesh bowlers impress secure victory netherlands\",\"ahsoka tano herself ashley eckstein breaks down star wars tales jedi\",\"ukraine roundup refugees urged stay away dirty bomb claims\",null],\"marker\":{\"opacity\":0.5,\"size\":5},\"mode\":\"markers+text\",\"name\":\"china, 2hong, yuan\",\"text\":[\"\",\"\",\"\",\"\",\"china, 2hong, yuan\"],\"textfont\":{\"size\":12},\"x\":[3.932892322540283,4.491345405578613,4.213040828704834,4.211158275604248,4.212109565734863],\"y\":[4.913346290588379,4.782423496246338,5.05465030670166,4.618957042694092,4.842344284057617],\"type\":\"scattergl\"}],                        {\"template\":{\"data\":{\"barpolar\":[{\"marker\":{\"line\":{\"color\":\"white\",\"width\":0.5},\"pattern\":{\"fillmode\":\"overlay\",\"size\":10,\"solidity\":0.2}},\"type\":\"barpolar\"}],\"bar\":[{\"error_x\":{\"color\":\"rgb(36,36,36)\"},\"error_y\":{\"color\":\"rgb(36,36,36)\"},\"marker\":{\"line\":{\"color\":\"white\",\"width\":0.5},\"pattern\":{\"fillmode\":\"overlay\",\"size\":10,\"solidity\":0.2}},\"type\":\"bar\"}],\"carpet\":[{\"aaxis\":{\"endlinecolor\":\"rgb(36,36,36)\",\"gridcolor\":\"white\",\"linecolor\":\"white\",\"minorgridcolor\":\"white\",\"startlinecolor\":\"rgb(36,36,36)\"},\"baxis\":{\"endlinecolor\":\"rgb(36,36,36)\",\"gridcolor\":\"white\",\"linecolor\":\"white\",\"minorgridcolor\":\"white\",\"startlinecolor\":\"rgb(36,36,36)\"},\"type\":\"carpet\"}],\"choropleth\":[{\"colorbar\":{\"outlinewidth\":1,\"tickcolor\":\"rgb(36,36,36)\",\"ticks\":\"outside\"},\"type\":\"choropleth\"}],\"contourcarpet\":[{\"colorbar\":{\"outlinewidth\":1,\"tickcolor\":\"rgb(36,36,36)\",\"ticks\":\"outside\"},\"type\":\"contourcarpet\"}],\"contour\":[{\"colorbar\":{\"outlinewidth\":1,\"tickcolor\":\"rgb(36,36,36)\",\"ticks\":\"outside\"},\"colorscale\":[[0.0,\"#440154\"],[0.1111111111111111,\"#482878\"],[0.2222222222222222,\"#3e4989\"],[0.3333333333333333,\"#31688e\"],[0.4444444444444444,\"#26828e\"],[0.5555555555555556,\"#1f9e89\"],[0.6666666666666666,\"#35b779\"],[0.7777777777777778,\"#6ece58\"],[0.8888888888888888,\"#b5de2b\"],[1.0,\"#fde725\"]],\"type\":\"contour\"}],\"heatmapgl\":[{\"colorbar\":{\"outlinewidth\":1,\"tickcolor\":\"rgb(36,36,36)\",\"ticks\":\"outside\"},\"colorscale\":[[0.0,\"#440154\"],[0.1111111111111111,\"#482878\"],[0.2222222222222222,\"#3e4989\"],[0.3333333333333333,\"#31688e\"],[0.4444444444444444,\"#26828e\"],[0.5555555555555556,\"#1f9e89\"],[0.6666666666666666,\"#35b779\"],[0.7777777777777778,\"#6ece58\"],[0.8888888888888888,\"#b5de2b\"],[1.0,\"#fde725\"]],\"type\":\"heatmapgl\"}],\"heatmap\":[{\"colorbar\":{\"outlinewidth\":1,\"tickcolor\":\"rgb(36,36,36)\",\"ticks\":\"outside\"},\"colorscale\":[[0.0,\"#440154\"],[0.1111111111111111,\"#482878\"],[0.2222222222222222,\"#3e4989\"],[0.3333333333333333,\"#31688e\"],[0.4444444444444444,\"#26828e\"],[0.5555555555555556,\"#1f9e89\"],[0.6666666666666666,\"#35b779\"],[0.7777777777777778,\"#6ece58\"],[0.8888888888888888,\"#b5de2b\"],[1.0,\"#fde725\"]],\"type\":\"heatmap\"}],\"histogram2dcontour\":[{\"colorbar\":{\"outlinewidth\":1,\"tickcolor\":\"rgb(36,36,36)\",\"ticks\":\"outside\"},\"colorscale\":[[0.0,\"#440154\"],[0.1111111111111111,\"#482878\"],[0.2222222222222222,\"#3e4989\"],[0.3333333333333333,\"#31688e\"],[0.4444444444444444,\"#26828e\"],[0.5555555555555556,\"#1f9e89\"],[0.6666666666666666,\"#35b779\"],[0.7777777777777778,\"#6ece58\"],[0.8888888888888888,\"#b5de2b\"],[1.0,\"#fde725\"]],\"type\":\"histogram2dcontour\"}],\"histogram2d\":[{\"colorbar\":{\"outlinewidth\":1,\"tickcolor\":\"rgb(36,36,36)\",\"ticks\":\"outside\"},\"colorscale\":[[0.0,\"#440154\"],[0.1111111111111111,\"#482878\"],[0.2222222222222222,\"#3e4989\"],[0.3333333333333333,\"#31688e\"],[0.4444444444444444,\"#26828e\"],[0.5555555555555556,\"#1f9e89\"],[0.6666666666666666,\"#35b779\"],[0.7777777777777778,\"#6ece58\"],[0.8888888888888888,\"#b5de2b\"],[1.0,\"#fde725\"]],\"type\":\"histogram2d\"}],\"histogram\":[{\"marker\":{\"line\":{\"color\":\"white\",\"width\":0.6}},\"type\":\"histogram\"}],\"mesh3d\":[{\"colorbar\":{\"outlinewidth\":1,\"tickcolor\":\"rgb(36,36,36)\",\"ticks\":\"outside\"},\"type\":\"mesh3d\"}],\"parcoords\":[{\"line\":{\"colorbar\":{\"outlinewidth\":1,\"tickcolor\":\"rgb(36,36,36)\",\"ticks\":\"outside\"}},\"type\":\"parcoords\"}],\"pie\":[{\"automargin\":true,\"type\":\"pie\"}],\"scatter3d\":[{\"line\":{\"colorbar\":{\"outlinewidth\":1,\"tickcolor\":\"rgb(36,36,36)\",\"ticks\":\"outside\"}},\"marker\":{\"colorbar\":{\"outlinewidth\":1,\"tickcolor\":\"rgb(36,36,36)\",\"ticks\":\"outside\"}},\"type\":\"scatter3d\"}],\"scattercarpet\":[{\"marker\":{\"colorbar\":{\"outlinewidth\":1,\"tickcolor\":\"rgb(36,36,36)\",\"ticks\":\"outside\"}},\"type\":\"scattercarpet\"}],\"scattergeo\":[{\"marker\":{\"colorbar\":{\"outlinewidth\":1,\"tickcolor\":\"rgb(36,36,36)\",\"ticks\":\"outside\"}},\"type\":\"scattergeo\"}],\"scattergl\":[{\"marker\":{\"colorbar\":{\"outlinewidth\":1,\"tickcolor\":\"rgb(36,36,36)\",\"ticks\":\"outside\"}},\"type\":\"scattergl\"}],\"scattermapbox\":[{\"marker\":{\"colorbar\":{\"outlinewidth\":1,\"tickcolor\":\"rgb(36,36,36)\",\"ticks\":\"outside\"}},\"type\":\"scattermapbox\"}],\"scatterpolargl\":[{\"marker\":{\"colorbar\":{\"outlinewidth\":1,\"tickcolor\":\"rgb(36,36,36)\",\"ticks\":\"outside\"}},\"type\":\"scatterpolargl\"}],\"scatterpolar\":[{\"marker\":{\"colorbar\":{\"outlinewidth\":1,\"tickcolor\":\"rgb(36,36,36)\",\"ticks\":\"outside\"}},\"type\":\"scatterpolar\"}],\"scatter\":[{\"fillpattern\":{\"fillmode\":\"overlay\",\"size\":10,\"solidity\":0.2},\"type\":\"scatter\"}],\"scatterternary\":[{\"marker\":{\"colorbar\":{\"outlinewidth\":1,\"tickcolor\":\"rgb(36,36,36)\",\"ticks\":\"outside\"}},\"type\":\"scatterternary\"}],\"surface\":[{\"colorbar\":{\"outlinewidth\":1,\"tickcolor\":\"rgb(36,36,36)\",\"ticks\":\"outside\"},\"colorscale\":[[0.0,\"#440154\"],[0.1111111111111111,\"#482878\"],[0.2222222222222222,\"#3e4989\"],[0.3333333333333333,\"#31688e\"],[0.4444444444444444,\"#26828e\"],[0.5555555555555556,\"#1f9e89\"],[0.6666666666666666,\"#35b779\"],[0.7777777777777778,\"#6ece58\"],[0.8888888888888888,\"#b5de2b\"],[1.0,\"#fde725\"]],\"type\":\"surface\"}],\"table\":[{\"cells\":{\"fill\":{\"color\":\"rgb(237,237,237)\"},\"line\":{\"color\":\"white\"}},\"header\":{\"fill\":{\"color\":\"rgb(217,217,217)\"},\"line\":{\"color\":\"white\"}},\"type\":\"table\"}]},\"layout\":{\"annotationdefaults\":{\"arrowhead\":0,\"arrowwidth\":1},\"autotypenumbers\":\"strict\",\"coloraxis\":{\"colorbar\":{\"outlinewidth\":1,\"tickcolor\":\"rgb(36,36,36)\",\"ticks\":\"outside\"}},\"colorscale\":{\"diverging\":[[0.0,\"rgb(103,0,31)\"],[0.1,\"rgb(178,24,43)\"],[0.2,\"rgb(214,96,77)\"],[0.3,\"rgb(244,165,130)\"],[0.4,\"rgb(253,219,199)\"],[0.5,\"rgb(247,247,247)\"],[0.6,\"rgb(209,229,240)\"],[0.7,\"rgb(146,197,222)\"],[0.8,\"rgb(67,147,195)\"],[0.9,\"rgb(33,102,172)\"],[1.0,\"rgb(5,48,97)\"]],\"sequential\":[[0.0,\"#440154\"],[0.1111111111111111,\"#482878\"],[0.2222222222222222,\"#3e4989\"],[0.3333333333333333,\"#31688e\"],[0.4444444444444444,\"#26828e\"],[0.5555555555555556,\"#1f9e89\"],[0.6666666666666666,\"#35b779\"],[0.7777777777777778,\"#6ece58\"],[0.8888888888888888,\"#b5de2b\"],[1.0,\"#fde725\"]],\"sequentialminus\":[[0.0,\"#440154\"],[0.1111111111111111,\"#482878\"],[0.2222222222222222,\"#3e4989\"],[0.3333333333333333,\"#31688e\"],[0.4444444444444444,\"#26828e\"],[0.5555555555555556,\"#1f9e89\"],[0.6666666666666666,\"#35b779\"],[0.7777777777777778,\"#6ece58\"],[0.8888888888888888,\"#b5de2b\"],[1.0,\"#fde725\"]]},\"colorway\":[\"#1F77B4\",\"#FF7F0E\",\"#2CA02C\",\"#D62728\",\"#9467BD\",\"#8C564B\",\"#E377C2\",\"#7F7F7F\",\"#BCBD22\",\"#17BECF\"],\"font\":{\"color\":\"rgb(36,36,36)\"},\"geo\":{\"bgcolor\":\"white\",\"lakecolor\":\"white\",\"landcolor\":\"white\",\"showlakes\":true,\"showland\":true,\"subunitcolor\":\"white\"},\"hoverlabel\":{\"align\":\"left\"},\"hovermode\":\"closest\",\"mapbox\":{\"style\":\"light\"},\"paper_bgcolor\":\"white\",\"plot_bgcolor\":\"white\",\"polar\":{\"angularaxis\":{\"gridcolor\":\"rgb(232,232,232)\",\"linecolor\":\"rgb(36,36,36)\",\"showgrid\":false,\"showline\":true,\"ticks\":\"outside\"},\"bgcolor\":\"white\",\"radialaxis\":{\"gridcolor\":\"rgb(232,232,232)\",\"linecolor\":\"rgb(36,36,36)\",\"showgrid\":false,\"showline\":true,\"ticks\":\"outside\"}},\"scene\":{\"xaxis\":{\"backgroundcolor\":\"white\",\"gridcolor\":\"rgb(232,232,232)\",\"gridwidth\":2,\"linecolor\":\"rgb(36,36,36)\",\"showbackground\":true,\"showgrid\":false,\"showline\":true,\"ticks\":\"outside\",\"zeroline\":false,\"zerolinecolor\":\"rgb(36,36,36)\"},\"yaxis\":{\"backgroundcolor\":\"white\",\"gridcolor\":\"rgb(232,232,232)\",\"gridwidth\":2,\"linecolor\":\"rgb(36,36,36)\",\"showbackground\":true,\"showgrid\":false,\"showline\":true,\"ticks\":\"outside\",\"zeroline\":false,\"zerolinecolor\":\"rgb(36,36,36)\"},\"zaxis\":{\"backgroundcolor\":\"white\",\"gridcolor\":\"rgb(232,232,232)\",\"gridwidth\":2,\"linecolor\":\"rgb(36,36,36)\",\"showbackground\":true,\"showgrid\":false,\"showline\":true,\"ticks\":\"outside\",\"zeroline\":false,\"zerolinecolor\":\"rgb(36,36,36)\"}},\"shapedefaults\":{\"fillcolor\":\"black\",\"line\":{\"width\":0},\"opacity\":0.3},\"ternary\":{\"aaxis\":{\"gridcolor\":\"rgb(232,232,232)\",\"linecolor\":\"rgb(36,36,36)\",\"showgrid\":false,\"showline\":true,\"ticks\":\"outside\"},\"baxis\":{\"gridcolor\":\"rgb(232,232,232)\",\"linecolor\":\"rgb(36,36,36)\",\"showgrid\":false,\"showline\":true,\"ticks\":\"outside\"},\"bgcolor\":\"white\",\"caxis\":{\"gridcolor\":\"rgb(232,232,232)\",\"linecolor\":\"rgb(36,36,36)\",\"showgrid\":false,\"showline\":true,\"ticks\":\"outside\"}},\"title\":{\"x\":0.05},\"xaxis\":{\"automargin\":true,\"gridcolor\":\"rgb(232,232,232)\",\"linecolor\":\"rgb(36,36,36)\",\"showgrid\":false,\"showline\":true,\"ticks\":\"outside\",\"title\":{\"standoff\":15},\"zeroline\":false,\"zerolinecolor\":\"rgb(36,36,36)\"},\"yaxis\":{\"automargin\":true,\"gridcolor\":\"rgb(232,232,232)\",\"linecolor\":\"rgb(36,36,36)\",\"showgrid\":false,\"showline\":true,\"ticks\":\"outside\",\"title\":{\"standoff\":15},\"zeroline\":false,\"zerolinecolor\":\"rgb(36,36,36)\"}}},\"shapes\":[{\"line\":{\"color\":\"#CFD8DC\",\"width\":2},\"type\":\"line\",\"x0\":3.2501194842159746,\"x1\":3.2501194842159746,\"y0\":1.9253487825393676,\"y1\":5.943249607086182},{\"line\":{\"color\":\"#9E9E9E\",\"width\":2},\"type\":\"line\",\"x0\":0.089975143969059,\"x1\":6.4102638244628904,\"y0\":3.934299194812775,\"y1\":3.934299194812775}],\"annotations\":[{\"showarrow\":false,\"text\":\"D1\",\"x\":0.089975143969059,\"y\":3.934299194812775,\"yshift\":10},{\"showarrow\":false,\"text\":\"D2\",\"x\":3.2501194842159746,\"xshift\":10,\"y\":5.943249607086182}],\"title\":{\"font\":{\"size\":22,\"color\":\"Black\"},\"text\":\"<b>Documents and Topics\",\"x\":0.5,\"xanchor\":\"center\",\"yanchor\":\"top\"},\"width\":1200,\"height\":750,\"xaxis\":{\"visible\":false},\"yaxis\":{\"visible\":false}},                        {\"responsive\": true}                    ).then(function(){\n                            \nvar gd = document.getElementById('3e69c0ed-c8a7-459f-8fa7-6cb68c7f70e6');\nvar x = new MutationObserver(function (mutations, observer) {{\n        var display = window.getComputedStyle(gd).display;\n        if (!display || display === 'none') {{\n            console.log([gd, 'removed!']);\n            Plotly.purge(gd);\n            observer.disconnect();\n        }}\n}});\n\n// Listen for the removal of the full notebook cells\nvar notebookContainer = gd.closest('#notebook-container');\nif (notebookContainer) {{\n    x.observe(notebookContainer, {childList: true});\n}}\n\n// Listen for the clearing of the current output cell\nvar outputEl = gd.closest('.output');\nif (outputEl) {{\n    x.observe(outputEl, {childList: true});\n}}\n\n                        })                };                });            </script>        </div>"
     },
     "metadata": {},
     "output_type": "display_data"
    }
   ],
   "source": [
    "topic_model.visualize_documents(docs, embeddings=embeddings, custom_labels=True)"
   ],
   "metadata": {
    "collapsed": false
   }
  },
  {
   "cell_type": "markdown",
   "source": [
    "Stance"
   ],
   "metadata": {
    "collapsed": false
   }
  },
  {
   "cell_type": "code",
   "execution_count": 43,
   "outputs": [
    {
     "name": "stdout",
     "output_type": "stream",
     "text": [
      "1/1 [==============================] - 5s 5s/step\n"
     ]
    }
   ],
   "source": [
    "# load model\n",
    "model_path = ( Path.cwd() / \"models/stance_model_v2\").resolve()\n",
    "model = keras.models.load_model(model_path)\n",
    "\n",
    "# inference\n",
    "probs = model.predict(\n",
    "    x=[\n",
    "        data['title'],\n",
    "        data['predicted_topic']\n",
    "    ]\n",
    ")\n",
    "predicted_class = np.argmax(probs, axis=1)"
   ],
   "metadata": {
    "collapsed": false
   }
  },
  {
   "cell_type": "code",
   "execution_count": 13,
   "outputs": [
    {
     "ename": "NameError",
     "evalue": "name 'probs' is not defined",
     "output_type": "error",
     "traceback": [
      "\u001B[1;31m---------------------------------------------------------------------------\u001B[0m",
      "\u001B[1;31mNameError\u001B[0m                                 Traceback (most recent call last)",
      "Cell \u001B[1;32mIn[13], line 1\u001B[0m\n\u001B[1;32m----> 1\u001B[0m predicted_class \u001B[38;5;241m=\u001B[39m \u001B[43mprobs\u001B[49m\u001B[38;5;241m.\u001B[39margmax(axis\u001B[38;5;241m=\u001B[39m\u001B[38;5;241m1\u001B[39m)\n\u001B[0;32m      2\u001B[0m display(probs)\n\u001B[0;32m      3\u001B[0m display(predicted_class)\n",
      "\u001B[1;31mNameError\u001B[0m: name 'probs' is not defined"
     ]
    }
   ],
   "source": [
    "display(probs)\n",
    "display(predicted_class)"
   ],
   "metadata": {
    "collapsed": false
   }
  },
  {
   "cell_type": "code",
   "execution_count": 44,
   "outputs": [],
   "source": [],
   "metadata": {
    "collapsed": false
   }
  }
 ],
 "metadata": {
  "kernelspec": {
   "display_name": "Python 3",
   "language": "python",
   "name": "python3"
  },
  "language_info": {
   "codemirror_mode": {
    "name": "ipython",
    "version": 2
   },
   "file_extension": ".py",
   "mimetype": "text/x-python",
   "name": "python",
   "nbconvert_exporter": "python",
   "pygments_lexer": "ipython2",
   "version": "2.7.6"
  }
 },
 "nbformat": 4,
 "nbformat_minor": 0
}
