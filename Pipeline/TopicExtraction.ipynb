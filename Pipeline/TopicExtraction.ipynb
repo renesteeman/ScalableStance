{
 "cells": [
  {
   "cell_type": "code",
   "execution_count": 1,
   "outputs": [],
   "source": [
    "from bertopic import BERTopic\n",
    "from sklearn.cluster import AgglomerativeClustering\n",
    "from sentence_transformers import SentenceTransformer\n",
    "import pandas as pd\n",
    "from pathlib import Path"
   ],
   "metadata": {
    "collapsed": false
   }
  },
  {
   "cell_type": "code",
   "execution_count": 2,
   "outputs": [],
   "source": [
    "data_path = ( Path.cwd() / \"data/RoundedCleanedArticles.csv\").resolve()\n",
    "data = pd.read_csv(data_path, encoding='utf-8')"
   ],
   "metadata": {
    "collapsed": false
   }
  },
  {
   "cell_type": "code",
   "execution_count": 3,
   "outputs": [
    {
     "data": {
      "text/plain": "   Topic  Count                         Name               CustomName\n0      0      9       0_star_wars_andor_jedi        star, wars, andor\n1      1      6     1_ukraine_war_bomb_dirty       ukraine, war, bomb\n2      2      5  2_cup_world_netherlands_t20  cup, world, netherlands\n3      3      4   3_china_alarmed_yuan_covid     china, alarmed, yuan",
      "text/html": "<div>\n<style scoped>\n    .dataframe tbody tr th:only-of-type {\n        vertical-align: middle;\n    }\n\n    .dataframe tbody tr th {\n        vertical-align: top;\n    }\n\n    .dataframe thead th {\n        text-align: right;\n    }\n</style>\n<table border=\"1\" class=\"dataframe\">\n  <thead>\n    <tr style=\"text-align: right;\">\n      <th></th>\n      <th>Topic</th>\n      <th>Count</th>\n      <th>Name</th>\n      <th>CustomName</th>\n    </tr>\n  </thead>\n  <tbody>\n    <tr>\n      <th>0</th>\n      <td>0</td>\n      <td>9</td>\n      <td>0_star_wars_andor_jedi</td>\n      <td>star, wars, andor</td>\n    </tr>\n    <tr>\n      <th>1</th>\n      <td>1</td>\n      <td>6</td>\n      <td>1_ukraine_war_bomb_dirty</td>\n      <td>ukraine, war, bomb</td>\n    </tr>\n    <tr>\n      <th>2</th>\n      <td>2</td>\n      <td>5</td>\n      <td>2_cup_world_netherlands_t20</td>\n      <td>cup, world, netherlands</td>\n    </tr>\n    <tr>\n      <th>3</th>\n      <td>3</td>\n      <td>4</td>\n      <td>3_china_alarmed_yuan_covid</td>\n      <td>china, alarmed, yuan</td>\n    </tr>\n  </tbody>\n</table>\n</div>"
     },
     "execution_count": 3,
     "metadata": {},
     "output_type": "execute_result"
    }
   ],
   "source": [
    "sentence_model = SentenceTransformer(\"paraphrase-multilingual-mpnet-base-v2\")\n",
    "embeddings = sentence_model.encode(data['title_topic'])\n",
    "\n",
    "# TODO: try n_gram_range=(a, b) inside BERTopic\n",
    "cluster_model = AgglomerativeClustering(linkage='ward', distance_threshold=1.5, n_clusters=None)\n",
    "topic_model = BERTopic(hdbscan_model=cluster_model).fit(data['title_topic'], embeddings)\n",
    "topics, probs = topic_model.fit_transform(data['title_topic'])\n",
    "\n",
    "topic_labels = topic_model.generate_topic_labels(nr_words=3,\n",
    "                                                 topic_prefix=False,\n",
    "                                                 word_length=15,\n",
    "                                                 separator=\", \")\n",
    "topic_model.set_topic_labels(topic_labels)\n",
    "# topic_model.save('topic_model')\n",
    "\n",
    "topic_model.get_topic_info()"
   ],
   "metadata": {
    "collapsed": false
   }
  },
  {
   "cell_type": "code",
   "execution_count": 4,
   "outputs": [
    {
     "data": {
      "text/plain": "                                                title  \\\n0   Count Dooku Voice Actor Corey Burton Tried Som...   \n1   'Andor' Episode 8 Explained: 'Rogue One' Cameo...   \n2   Andor Gave Us the Gayest Screen Fade in Star W...   \n3   Ahsoka Tano Herself, Ashley Eckstein, Breaks D...   \n4   Star Wars: The Deckbuilding Game could rule th...   \n5   There's a new Star Wars project from Damon Lin...   \n6   Star Wars Fatigue Shouldn't Stop You From Watc...   \n7   'Andor' is the best 'Star Wars' show since 'Th...   \n8   Star Wars characters take over Mexico City - R...   \n9   Alarmed by suicide attack, China and Pakistan ...   \n10  Death of boy in lockdown fuels backlash agains...   \n11  UPDATE 2-Hong Kong stocks tumble as Xi appoint...   \n12  China supports central SOEs to issue tech inno...   \n13   World Cup: FIFA head comments on beer ban - CP24   \n14  T20 World Cup: Bangladesh bowlers impress to s...   \n15  Canada's goalkeeper Crepeau to miss World Cup ...   \n16  World Cup stadium alcohol ban emblematic of co...   \n17  T20 World Cup: Pakistan beat Netherlands to av...   \n18  Ukraine war: Wagner chief Prigozhin defends br...   \n19  Chance for peace in Ukraine, says France's Mac...   \n20  Ukraine nuclear agency thickens alleged dirty ...   \n21  Ukraine war round-up: Missile blast in Poland ...   \n22  Ukraine round-up: Refugees urged to stay away ...   \n23  Russia says Ukraine hands over 50 prisoners of...   \n\n                                         title_stance  \\\n0   count dooku voice actor corey burton tried som...   \n1   andor episode 8 explained rogue one cameos and...   \n2   andor gave us the gayest screen fade in star w...   \n3   ahsoka tano herself ashley eckstein breaks dow...   \n4   star wars the deckbuilding game could rule the...   \n5   there s a new star wars project from damon lin...   \n6   star wars fatigue shouldn t stop you from watc...   \n7   andor is the best star wars show since the man...   \n8          star wars characters take over mexico city   \n9   alarmed by suicide attack china and pakistan j...   \n10  death of boy in lockdown fuels backlash agains...   \n11  update 2 hong kong stocks tumble as xi appoint...   \n12  china supports central soes to issue tech inno...   \n13      world cup fifa head comments on beer ban cp24   \n14  t20 world cup bangladesh bowlers impress to se...   \n15  canada s goalkeeper crepeau to miss world cup ...   \n16  world cup stadium alcohol ban emblematic of co...   \n17  t20 world cup pakistan beat netherlands to avo...   \n18  ukraine war wagner chief prigozhin defends bru...   \n19   chance for peace in ukraine says france s macron   \n20  ukraine nuclear agency thickens alleged dirty ...   \n21  ukraine war round up missile blast in poland a...   \n22  ukraine round up refugees urged to stay away a...   \n23  russia says ukraine hands over 50 prisoners of...   \n\n                                          title_topic          predicted_topic  \n0   count dooku voice actor corey burton tried som...        star, wars, andor  \n1   andor episode 8 explained rogue one cameos sta...        star, wars, andor  \n2   andor gave us gayest screen fade star wars his...        star, wars, andor  \n3   ahsoka tano ashley eckstein breaks star wars t...        star, wars, andor  \n4   star wars deckbuilding game could rule galaxy ...        star, wars, andor  \n5          new star wars project damon lindelof works        star, wars, andor  \n6               star wars fatigue stop watching andor        star, wars, andor  \n7   andor best star wars show since mandalorian le...        star, wars, andor  \n8               star wars characters take mexico city        star, wars, andor  \n9   alarmed suicide attack china pakistan join han...     china, alarmed, yuan  \n10  death boy lockdown fuels backlash china zero c...     china, alarmed, yuan  \n11  update 2 hong kong stocks tumble xi appointmen...     china, alarmed, yuan  \n12  china supports central soes issue tech innovat...     china, alarmed, yuan  \n13         world cup fifa head comments beer ban cp24  cup, world, netherlands  \n14  t20 world cup bangladesh bowlers impress secur...  cup, world, netherlands  \n15  canada goalkeeper crepeau miss world cup broke...  cup, world, netherlands  \n16  world cup stadium alcohol ban emblematic contr...  cup, world, netherlands  \n17  t20 world cup pakistan beat netherlands avoid ...  cup, world, netherlands  \n18  ukraine war wagner chief prigozhin defends bru...       ukraine, war, bomb  \n19            chance peace ukraine says france macron       ukraine, war, bomb  \n20  ukraine nuclear agency thickens alleged dirty ...       ukraine, war, bomb  \n21  ukraine war round missile blast poland zambian...       ukraine, war, bomb  \n22  ukraine round refugees urged stay away dirty b...       ukraine, war, bomb  \n23         russia says ukraine hands 50 prisoners war       ukraine, war, bomb  ",
      "text/html": "<div>\n<style scoped>\n    .dataframe tbody tr th:only-of-type {\n        vertical-align: middle;\n    }\n\n    .dataframe tbody tr th {\n        vertical-align: top;\n    }\n\n    .dataframe thead th {\n        text-align: right;\n    }\n</style>\n<table border=\"1\" class=\"dataframe\">\n  <thead>\n    <tr style=\"text-align: right;\">\n      <th></th>\n      <th>title</th>\n      <th>title_stance</th>\n      <th>title_topic</th>\n      <th>predicted_topic</th>\n    </tr>\n  </thead>\n  <tbody>\n    <tr>\n      <th>0</th>\n      <td>Count Dooku Voice Actor Corey Burton Tried Som...</td>\n      <td>count dooku voice actor corey burton tried som...</td>\n      <td>count dooku voice actor corey burton tried som...</td>\n      <td>star, wars, andor</td>\n    </tr>\n    <tr>\n      <th>1</th>\n      <td>'Andor' Episode 8 Explained: 'Rogue One' Cameo...</td>\n      <td>andor episode 8 explained rogue one cameos and...</td>\n      <td>andor episode 8 explained rogue one cameos sta...</td>\n      <td>star, wars, andor</td>\n    </tr>\n    <tr>\n      <th>2</th>\n      <td>Andor Gave Us the Gayest Screen Fade in Star W...</td>\n      <td>andor gave us the gayest screen fade in star w...</td>\n      <td>andor gave us gayest screen fade star wars his...</td>\n      <td>star, wars, andor</td>\n    </tr>\n    <tr>\n      <th>3</th>\n      <td>Ahsoka Tano Herself, Ashley Eckstein, Breaks D...</td>\n      <td>ahsoka tano herself ashley eckstein breaks dow...</td>\n      <td>ahsoka tano ashley eckstein breaks star wars t...</td>\n      <td>star, wars, andor</td>\n    </tr>\n    <tr>\n      <th>4</th>\n      <td>Star Wars: The Deckbuilding Game could rule th...</td>\n      <td>star wars the deckbuilding game could rule the...</td>\n      <td>star wars deckbuilding game could rule galaxy ...</td>\n      <td>star, wars, andor</td>\n    </tr>\n    <tr>\n      <th>5</th>\n      <td>There's a new Star Wars project from Damon Lin...</td>\n      <td>there s a new star wars project from damon lin...</td>\n      <td>new star wars project damon lindelof works</td>\n      <td>star, wars, andor</td>\n    </tr>\n    <tr>\n      <th>6</th>\n      <td>Star Wars Fatigue Shouldn't Stop You From Watc...</td>\n      <td>star wars fatigue shouldn t stop you from watc...</td>\n      <td>star wars fatigue stop watching andor</td>\n      <td>star, wars, andor</td>\n    </tr>\n    <tr>\n      <th>7</th>\n      <td>'Andor' is the best 'Star Wars' show since 'Th...</td>\n      <td>andor is the best star wars show since the man...</td>\n      <td>andor best star wars show since mandalorian le...</td>\n      <td>star, wars, andor</td>\n    </tr>\n    <tr>\n      <th>8</th>\n      <td>Star Wars characters take over Mexico City - R...</td>\n      <td>star wars characters take over mexico city</td>\n      <td>star wars characters take mexico city</td>\n      <td>star, wars, andor</td>\n    </tr>\n    <tr>\n      <th>9</th>\n      <td>Alarmed by suicide attack, China and Pakistan ...</td>\n      <td>alarmed by suicide attack china and pakistan j...</td>\n      <td>alarmed suicide attack china pakistan join han...</td>\n      <td>china, alarmed, yuan</td>\n    </tr>\n    <tr>\n      <th>10</th>\n      <td>Death of boy in lockdown fuels backlash agains...</td>\n      <td>death of boy in lockdown fuels backlash agains...</td>\n      <td>death boy lockdown fuels backlash china zero c...</td>\n      <td>china, alarmed, yuan</td>\n    </tr>\n    <tr>\n      <th>11</th>\n      <td>UPDATE 2-Hong Kong stocks tumble as Xi appoint...</td>\n      <td>update 2 hong kong stocks tumble as xi appoint...</td>\n      <td>update 2 hong kong stocks tumble xi appointmen...</td>\n      <td>china, alarmed, yuan</td>\n    </tr>\n    <tr>\n      <th>12</th>\n      <td>China supports central SOEs to issue tech inno...</td>\n      <td>china supports central soes to issue tech inno...</td>\n      <td>china supports central soes issue tech innovat...</td>\n      <td>china, alarmed, yuan</td>\n    </tr>\n    <tr>\n      <th>13</th>\n      <td>World Cup: FIFA head comments on beer ban - CP24</td>\n      <td>world cup fifa head comments on beer ban cp24</td>\n      <td>world cup fifa head comments beer ban cp24</td>\n      <td>cup, world, netherlands</td>\n    </tr>\n    <tr>\n      <th>14</th>\n      <td>T20 World Cup: Bangladesh bowlers impress to s...</td>\n      <td>t20 world cup bangladesh bowlers impress to se...</td>\n      <td>t20 world cup bangladesh bowlers impress secur...</td>\n      <td>cup, world, netherlands</td>\n    </tr>\n    <tr>\n      <th>15</th>\n      <td>Canada's goalkeeper Crepeau to miss World Cup ...</td>\n      <td>canada s goalkeeper crepeau to miss world cup ...</td>\n      <td>canada goalkeeper crepeau miss world cup broke...</td>\n      <td>cup, world, netherlands</td>\n    </tr>\n    <tr>\n      <th>16</th>\n      <td>World Cup stadium alcohol ban emblematic of co...</td>\n      <td>world cup stadium alcohol ban emblematic of co...</td>\n      <td>world cup stadium alcohol ban emblematic contr...</td>\n      <td>cup, world, netherlands</td>\n    </tr>\n    <tr>\n      <th>17</th>\n      <td>T20 World Cup: Pakistan beat Netherlands to av...</td>\n      <td>t20 world cup pakistan beat netherlands to avo...</td>\n      <td>t20 world cup pakistan beat netherlands avoid ...</td>\n      <td>cup, world, netherlands</td>\n    </tr>\n    <tr>\n      <th>18</th>\n      <td>Ukraine war: Wagner chief Prigozhin defends br...</td>\n      <td>ukraine war wagner chief prigozhin defends bru...</td>\n      <td>ukraine war wagner chief prigozhin defends bru...</td>\n      <td>ukraine, war, bomb</td>\n    </tr>\n    <tr>\n      <th>19</th>\n      <td>Chance for peace in Ukraine, says France's Mac...</td>\n      <td>chance for peace in ukraine says france s macron</td>\n      <td>chance peace ukraine says france macron</td>\n      <td>ukraine, war, bomb</td>\n    </tr>\n    <tr>\n      <th>20</th>\n      <td>Ukraine nuclear agency thickens alleged dirty ...</td>\n      <td>ukraine nuclear agency thickens alleged dirty ...</td>\n      <td>ukraine nuclear agency thickens alleged dirty ...</td>\n      <td>ukraine, war, bomb</td>\n    </tr>\n    <tr>\n      <th>21</th>\n      <td>Ukraine war round-up: Missile blast in Poland ...</td>\n      <td>ukraine war round up missile blast in poland a...</td>\n      <td>ukraine war round missile blast poland zambian...</td>\n      <td>ukraine, war, bomb</td>\n    </tr>\n    <tr>\n      <th>22</th>\n      <td>Ukraine round-up: Refugees urged to stay away ...</td>\n      <td>ukraine round up refugees urged to stay away a...</td>\n      <td>ukraine round refugees urged stay away dirty b...</td>\n      <td>ukraine, war, bomb</td>\n    </tr>\n    <tr>\n      <th>23</th>\n      <td>Russia says Ukraine hands over 50 prisoners of...</td>\n      <td>russia says ukraine hands over 50 prisoners of...</td>\n      <td>russia says ukraine hands 50 prisoners war</td>\n      <td>ukraine, war, bomb</td>\n    </tr>\n  </tbody>\n</table>\n</div>"
     },
     "metadata": {},
     "output_type": "display_data"
    }
   ],
   "source": [
    "topic_labels_series = pd.Series(topic_labels)\n",
    "docs_topic = topic_labels_series[topics].tolist()\n",
    "data['predicted_topic'] = docs_topic\n",
    "display(data)\n",
    "\n",
    "data_path = ( Path.cwd() / \"data/RoundedWithTopic.csv\").resolve()\n",
    "data.to_csv(data_path, encoding='utf-8', index=False)"
   ],
   "metadata": {
    "collapsed": false
   }
  }
 ],
 "metadata": {
  "kernelspec": {
   "display_name": "Python 3",
   "language": "python",
   "name": "python3"
  },
  "language_info": {
   "codemirror_mode": {
    "name": "ipython",
    "version": 2
   },
   "file_extension": ".py",
   "mimetype": "text/x-python",
   "name": "python",
   "nbconvert_exporter": "python",
   "pygments_lexer": "ipython2",
   "version": "2.7.6"
  }
 },
 "nbformat": 4,
 "nbformat_minor": 0
}
