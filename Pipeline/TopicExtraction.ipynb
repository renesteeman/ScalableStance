{
 "cells": [
  {
   "cell_type": "code",
   "execution_count": 1,
   "outputs": [],
   "source": [
    "from bertopic import BERTopic\n",
    "from sklearn.cluster import AgglomerativeClustering\n",
    "from sentence_transformers import SentenceTransformer\n",
    "import pandas as pd\n",
    "from pathlib import Path\n",
    "import hopsworks\n",
    "\n",
    "# Special thanks to Maarten Grootendorst https://maartengr.github.io/BERTopic/index.html\n",
    "# Even though I had already made a working version of the same architecture before finding this library,\n",
    "# it allowed for easy visualizations and allows for neat code that I don't have to maintain myself"
   ],
   "metadata": {
    "collapsed": false
   }
  },
  {
   "cell_type": "code",
   "execution_count": 2,
   "outputs": [
    {
     "name": "stdout",
     "output_type": "stream",
     "text": [
      "Connected. Call `.close()` to terminate connection gracefully.\n",
      "\n",
      "Logged in to project, explore it here https://c.app.hopsworks.ai:443/p/5270\n"
     ]
    },
    {
     "name": "stderr",
     "output_type": "stream",
     "text": [
      "DeprecationWarning: the imp module is deprecated in favour of importlib; see the module's documentation for alternative uses\n"
     ]
    },
    {
     "name": "stdout",
     "output_type": "stream",
     "text": [
      "Connected. Call `.close()` to terminate connection gracefully.\n",
      "2022-12-25 10:07:21,025 INFO: USE `scalablemltask1_featurestore`\n",
      "2022-12-25 10:07:21,534 INFO: SELECT `fg0`.`title` `title`, `fg0`.`url` `url`, `fg0`.`publishedat` `publishedat`, `fg0`.`title_stance` `title_stance`, `fg0`.`title_topic` `title_topic`\n",
      "FROM `scalablemltask1_featurestore`.`articles_daily_cleaned_1` `fg0`\n"
     ]
    }
   ],
   "source": [
    "USE_HOPSWORKS = True\n",
    "\n",
    "if USE_HOPSWORKS:\n",
    "    # Get data from feature store\n",
    "    project = hopsworks.login()\n",
    "    feature_store = project.get_feature_store()\n",
    "    article_feature_group = feature_store.get_feature_group(name=\"articles_daily_cleaned\", version=1)\n",
    "    data = article_feature_group.read()\n",
    "else:\n",
    "    data_path = ( Path.cwd() / \"data/RoundedCleanedArticles.csv\").resolve()\n",
    "    data = pd.read_csv(data_path, encoding='utf-8')"
   ],
   "metadata": {
    "collapsed": false
   }
  },
  {
   "cell_type": "code",
   "execution_count": 3,
   "outputs": [
    {
     "name": "stdout",
     "output_type": "stream",
     "text": [
      "2022-12-25 10:07:23,204 INFO: Load pretrained SentenceTransformer: paraphrase-multilingual-mpnet-base-v2\n",
      "2022-12-25 10:07:25,874 INFO: Use pytorch device: cpu\n"
     ]
    },
    {
     "data": {
      "text/plain": "Batches:   0%|          | 0/2 [00:00<?, ?it/s]",
      "application/vnd.jupyter.widget-view+json": {
       "version_major": 2,
       "version_minor": 0,
       "model_id": "28107bfad71c4c93be3da04f0f30b842"
      }
     },
     "metadata": {},
     "output_type": "display_data"
    },
    {
     "name": "stdout",
     "output_type": "stream",
     "text": [
      "2022-12-25 10:07:31,186 INFO: Load pretrained SentenceTransformer: all-MiniLM-L6-v2\n",
      "2022-12-25 10:07:31,404 INFO: Use pytorch device: cpu\n"
     ]
    },
    {
     "data": {
      "text/plain": "   Topic  Count                                     Name  \\\n0      0     11                  0_winter_storm_snow_cnn   \n1      1      8             1_arizona_lake_kari_election   \n2      2      7                         2_nfl_16_week_vs   \n3      3      7              3_bbc_english_space_strikes   \n4      4      6                    4_risk_verge_250_mass   \n5      5      4           5_suspension_bauer_trevor_espn   \n6      6      3            6_women_taliban_lanez_support   \n7      7      3  7_yahoo_voices_entertainment_fascinated   \n\n                     CustomName  \n0           winter, storm, snow  \n1           arizona, lake, kari  \n2                 nfl, 16, week  \n3           bbc, english, space  \n4              risk, verge, 250  \n5     suspension, bauer, trevor  \n6         women, taliban, lanez  \n7  yahoo, voices, entertainment  ",
      "text/html": "<div>\n<style scoped>\n    .dataframe tbody tr th:only-of-type {\n        vertical-align: middle;\n    }\n\n    .dataframe tbody tr th {\n        vertical-align: top;\n    }\n\n    .dataframe thead th {\n        text-align: right;\n    }\n</style>\n<table border=\"1\" class=\"dataframe\">\n  <thead>\n    <tr style=\"text-align: right;\">\n      <th></th>\n      <th>Topic</th>\n      <th>Count</th>\n      <th>Name</th>\n      <th>CustomName</th>\n    </tr>\n  </thead>\n  <tbody>\n    <tr>\n      <th>0</th>\n      <td>0</td>\n      <td>11</td>\n      <td>0_winter_storm_snow_cnn</td>\n      <td>winter, storm, snow</td>\n    </tr>\n    <tr>\n      <th>1</th>\n      <td>1</td>\n      <td>8</td>\n      <td>1_arizona_lake_kari_election</td>\n      <td>arizona, lake, kari</td>\n    </tr>\n    <tr>\n      <th>2</th>\n      <td>2</td>\n      <td>7</td>\n      <td>2_nfl_16_week_vs</td>\n      <td>nfl, 16, week</td>\n    </tr>\n    <tr>\n      <th>3</th>\n      <td>3</td>\n      <td>7</td>\n      <td>3_bbc_english_space_strikes</td>\n      <td>bbc, english, space</td>\n    </tr>\n    <tr>\n      <th>4</th>\n      <td>4</td>\n      <td>6</td>\n      <td>4_risk_verge_250_mass</td>\n      <td>risk, verge, 250</td>\n    </tr>\n    <tr>\n      <th>5</th>\n      <td>5</td>\n      <td>4</td>\n      <td>5_suspension_bauer_trevor_espn</td>\n      <td>suspension, bauer, trevor</td>\n    </tr>\n    <tr>\n      <th>6</th>\n      <td>6</td>\n      <td>3</td>\n      <td>6_women_taliban_lanez_support</td>\n      <td>women, taliban, lanez</td>\n    </tr>\n    <tr>\n      <th>7</th>\n      <td>7</td>\n      <td>3</td>\n      <td>7_yahoo_voices_entertainment_fascinated</td>\n      <td>yahoo, voices, entertainment</td>\n    </tr>\n  </tbody>\n</table>\n</div>"
     },
     "execution_count": 3,
     "metadata": {},
     "output_type": "execute_result"
    }
   ],
   "source": [
    "sentence_model = SentenceTransformer(\"paraphrase-multilingual-mpnet-base-v2\")\n",
    "embeddings = sentence_model.encode(data['title_topic'])\n",
    "\n",
    "cluster_model = AgglomerativeClustering(linkage='ward', distance_threshold=1.5, n_clusters=None)\n",
    "topic_model = BERTopic(hdbscan_model=cluster_model).fit(data['title_topic'], embeddings)\n",
    "topics, probs = topic_model.fit_transform(data['title_topic'])\n",
    "\n",
    "topic_labels = topic_model.generate_topic_labels(nr_words=3,\n",
    "                                                 topic_prefix=False,\n",
    "                                                 word_length=15,\n",
    "                                                 separator=\", \")\n",
    "topic_model.set_topic_labels(topic_labels)\n",
    "# topic_model.save('topic_model')\n",
    "\n",
    "topic_model.get_topic_info()"
   ],
   "metadata": {
    "collapsed": false
   }
  },
  {
   "cell_type": "code",
   "execution_count": 4,
   "outputs": [
    {
     "data": {
      "text/plain": "                                                title  \\\n0   Taliban minister defends closing universities ...   \n1   Russia considers ways to return space crew aft...   \n2   What could power grid 'rotating outages' look ...   \n3   A powerful winter storm claims at least 22 liv...   \n4   James Webb telescope: Amazing images show the ...   \n5   Elon Musk Warns Against Margin Debt on Risk of...   \n6   Jan. 6 House committee releases final report o...   \n7   NASA Explores a Winter Wonderland on Mars – Ot...   \n8   Dodgers' Trevor Bauer reinstated after suspens...   \n9   Paris shooting: Aftermath of violent unrest fo...   \n10  More migrants dropped outside vice president's...   \n11  As crematoriums fill up, China shifts how it c...   \n12  Top Plays from Week 16 | NFL 2022 Highlights -...   \n13  Rosenthal: How did Mets and Carlos Correa land...   \n14  Arizona lawyers: Kari Lake election loss lawsu...   \n15  Buffalo, New York winter storm leaves three de...   \n16  Megan Thee Stallion's Boyfriend Pardison Fonta...   \n17  Everything to know about Trevor Bauer's MLB su...   \n18  NFL Week 16 grades: Bengals earn 'B+' for wild...   \n19  Cassidy Hutchinson claims Trump figures sought...   \n20  Missing baby Kason Thomas found alive - NBC4 C...   \n21  Deep secrecy, high risk: How Zelensky's improb...   \n22  Ukraine war: Zelensky delivers defiant Christm...   \n23  Who is Chris Streveler? A look at the Jets pra...   \n24  'Once-in-a-generation storm' bears down on U.S...   \n25  Kari Lake's lawsuit over defeat in Arizona gov...   \n26  North Korea Sold Arms to Russia's Wagner Group...   \n27  Airport strikes: Travellers warned to expect d...   \n28  Fuel tanker explosion kills 10 in South Africa...   \n29  China stops publishing daily Covid figures ami...   \n30  Jets bench QB Zach Wilson for Chris Streveler ...   \n31  FTX co-founder Sam Bankman-Fried is back in th...   \n32  Senate passes $1.7 trillion government funding...   \n33    Stock futures are flat on Friday morning - CNBC   \n34  PM Update: Washington has coldest Christmas Ev...   \n35  Charlie Cox 'Fascinated' by Daredevil's 18-Epi...   \n36  5 arrested after 19-year-old killed in shootin...   \n37  Taliban orders NGOs to ban female employees fr...   \n38  Jacksonville Jaguars vs. New York Jets | 2022 ...   \n39  Read Microsoft's response to the FTC's Activis...   \n40  US winter storm will bring frostbite within mi...   \n41  'He knows he lost': Cassidy Hutchinson testifi...   \n42  Steelers honor Harris by rallying past Raiders...   \n43  Arizona to remove shipping container wall from...   \n44  Kari Lake's 2-day election challenge trial end...   \n45  Eagles vs. Cowboys: The good, the bad, and the...   \n46  Winter Storm Live Updates: Snow and Freezing T...   \n47  Latest Soyuz capsule leak prompts Russians to ...   \n48  Lindsay Lohan Beams in New Holiday Selfie With...   \n\n                                                  url           publishedat  \\\n0   https://www.theguardian.com/world/2022/dec/23/...  2022-12-23T01:50:00Z   \n1   https://www.aljazeera.com/news/2022/12/23/russ...  2022-12-23T03:59:49Z   \n2   https://abc6onyourside.com/news/local/power-el...  2022-12-24T22:44:53Z   \n3   https://www.cnn.com/2022/12/24/weather/christm...  2022-12-25T02:54:00Z   \n4   https://news.yahoo.com/james-webb-telescope-am...  2022-12-25T00:22:00Z   \n5   https://finance.yahoo.com/news/elon-musk-warns...  2022-12-24T23:51:44Z   \n6   https://www.cnbc.com/2022/12/22/trump-capitol-...  2022-12-23T02:48:00Z   \n7   https://scitechdaily.com/nasa-explores-a-winte...  2022-12-24T22:25:39Z   \n8   https://www.espn.com/mlb/story/_/id/35306975/d...  2022-12-23T04:24:35Z   \n9   https://www.bbc.com/news/av/world-europe-64087161  2022-12-24T22:09:40Z   \n10  https://www.cnn.com/2022/12/24/politics/migran...  2022-12-25T02:53:00Z   \n11  https://www.cnn.com/2022/12/22/china/china-cov...  2022-12-23T00:18:00Z   \n12        https://www.youtube.com/watch?v=zR1wExd_2Zo  2022-12-25T04:29:07Z   \n13  https://theathletic.com/4029332/2022/12/22/met...  2022-12-23T04:08:14Z   \n14  https://apnews.com/article/2022-midterm-electi...  2022-12-23T01:26:44Z   \n15  https://www.foxnews.com/us/buffalo-new-york-wi...  2022-12-25T00:53:02Z   \n16  https://www.billboard.com/music/music-news/meg...  2022-12-23T02:08:47Z   \n17  https://www.espn.com/mlb/story/_/id/35307636/t...  2022-12-23T04:32:12Z   \n18  https://www.cbssports.com/nfl/news/nfl-week-16...  2022-12-25T01:17:00Z   \n19  https://www.washingtonpost.com/national-securi...  2022-12-23T01:55:00Z   \n20        https://www.youtube.com/watch?v=LoOR8kPeoSM  2022-12-23T04:23:20Z   \n21  https://www.washingtonpost.com/politics/2022/1...  2022-12-23T03:00:00Z   \n22     https://www.bbc.com/news/world-europe-64088046  2022-12-24T23:22:51Z   \n23  https://www.cbssports.com/nfl/news/who-is-chri...  2022-12-23T04:49:00Z   \n24        https://www.youtube.com/watch?v=QxYsdRl-LLk  2022-12-23T03:13:33Z   \n25  https://www.cbsnews.com/news/kari-lake-lawsuit...  2022-12-25T02:20:00Z   \n26  https://www.themoscowtimes.com/2022/12/23/nort...  2022-12-23T06:32:27Z   \n27         https://www.bbc.com/news/business-64060584  2022-12-23T07:34:11Z   \n28  https://www.aljazeera.com/news/2022/12/24/nine...  2022-12-25T01:02:47Z   \n29  https://www.theguardian.com/world/2022/dec/25/...  2022-12-25T05:24:00Z   \n30  https://www.usatoday.com/story/sports/nfl/jets...  2022-12-23T03:51:00Z   \n31  https://www.theverge.com/2022/12/22/23523149/s...  2022-12-23T02:17:00Z   \n32  https://www.axios.com/2022/12/22/omnibus-gover...  2022-12-23T02:49:13Z   \n33  https://www.cnbc.com/2022/12/22/stock-market-f...  2022-12-23T05:49:00Z   \n34  https://www.washingtonpost.com/weather/2022/12...  2022-12-25T03:04:00Z   \n35  https://tvline.com/2022/12/22/charlie-cox-dare...  2022-12-23T01:00:00Z   \n36  https://www.cbsnews.com/minnesota/news/mall-of...  2022-12-25T04:43:00Z   \n37  https://www.cnn.com/2022/12/24/asia/taliban-fe...  2022-12-25T02:54:00Z   \n38        https://www.youtube.com/watch?v=C-q2qw_LqoI  2022-12-23T04:17:40Z   \n39  https://www.theverge.com/23523563/read-microso...  2022-12-23T02:17:00Z   \n40  https://www.bbc.com/news/world-us-canada-64061588  2022-12-23T04:41:28Z   \n41  https://www.cnn.com/2022/12/22/politics/cassid...  2022-12-23T01:22:00Z   \n42  https://www.espn.com/nfl/story/_/id/35317232/s...  2022-12-25T05:00:11Z   \n43  https://apnews.com/article/politics-mexico-ari...  2022-12-23T03:52:47Z   \n44  https://www.azcentral.com/story/news/politics/...  2022-12-23T01:28:11Z   \n45  https://www.bleedinggreennation.com/2022/12/24...  2022-12-25T02:21:28Z   \n46  https://www.wsj.com/livecoverage/winter-storm-...  2022-12-23T02:23:00Z   \n47  https://www.theguardian.com/science/2022/dec/2...  2022-12-23T03:33:00Z   \n48  https://www.eonline.com/news/1359368/lindsay-l...  2022-12-24T22:52:00Z   \n\n                                         title_stance  \\\n0   taliban minister defends closing universities ...   \n1   russia considers ways to return space crew aft...   \n2   what could power grid rotating outages look li...   \n3   a powerful winter storm claims at least 22 liv...   \n4   james webb telescope amazing images show the u...   \n5   elon musk warns against margin debt on risk of...   \n6   jan 6 house committee releases final report on...   \n7   nasa explores a winter wonderland on mars othe...   \n8   dodgers trevor bauer reinstated after suspensi...   \n9   paris shooting aftermath of violent unrest fol...   \n10  more migrants dropped outside vice president s...   \n11  as crematoriums fill up china shifts how it co...   \n12     top plays from week 16 nfl 2022 highlights nfl   \n13  rosenthal how did mets and carlos correa land ...   \n14  arizona lawyers kari lake election loss lawsui...   \n15  buffalo new york winter storm leaves three dea...   \n16  megan thee stallion s boyfriend pardison fonta...   \n17  everything to know about trevor bauer s mlb su...   \n18  nfl week 16 grades bengals earn b for wild win...   \n19  cassidy hutchinson claims trump figures sought...   \n20  missing baby kason thomas found alive nbc4 col...   \n21  deep secrecy high risk how zelensky s improbab...   \n22  ukraine war zelensky delivers defiant christma...   \n23  who is chris streveler a look at the jets prac...   \n24  once in a generation storm bears down on u s c...   \n25  kari lake s lawsuit over defeat in arizona gov...   \n26  north korea sold arms to russia s wagner group...   \n27  airport strikes travellers warned to expect di...   \n28  fuel tanker explosion kills 10 in south africa...   \n29  china stops publishing daily covid figures ami...   \n30  jets bench qb zach wilson for chris streveler ...   \n31  ftx co founder sam bankman fried is back in th...   \n32  senate passes 1 7 trillion government funding ...   \n33      stock futures are flat on friday morning cnbc   \n34  pm update washington has coldest christmas eve...   \n35  charlie cox fascinated by daredevil s 18 episo...   \n36  5 arrested after 19 year old killed in shootin...   \n37  taliban orders ngos to ban female employees fr...   \n38  jacksonville jaguars vs new york jets 2022 wee...   \n39  read microsoft s response to the ftc s activis...   \n40  us winter storm will bring frostbite within mi...   \n41  he knows he lost cassidy hutchinson testified ...   \n42  steelers honor harris by rallying past raiders...   \n43  arizona to remove shipping container wall from...   \n44  kari lake s 2 day election challenge trial end...   \n45  eagles vs cowboys the good the bad and the ugl...   \n46  winter storm live updates snow and freezing te...   \n47  latest soyuz capsule leak prompts russians to ...   \n48  lindsay lohan beams in new holiday selfie with...   \n\n                                          title_topic  \\\n0   taliban minister defends closing universities ...   \n1   russia considers ways return space crew capsul...   \n2   could power grid rotating outages look like ab...   \n3   powerful winter storm claims least 22 lives ac...   \n4   james webb telescope amazing images show unive...   \n5   elon musk warns margin debt risk market mass p...   \n6   jan 6 house committee releases final report tr...   \n7   nasa explores winter wonderland mars otherworl...   \n8   dodgers trevor bauer reinstated suspension cut...   \n9   paris shooting aftermath violent unrest follow...   \n10  migrants dropped outside vice president home f...   \n11  crematoriums fill china shifts counts covid de...   \n12          top plays week 16 nfl 2022 highlights nfl   \n13  rosenthal mets carlos correa land 12 years 315...   \n14  arizona lawyers kari lake election loss lawsui...   \n15  buffalo new york winter storm leaves three dea...   \n16  megan thee stallion boyfriend pardison fontain...   \n17  everything know trevor bauer mlb suspension re...   \n18  nfl week 16 grades bengals earn b wild win pat...   \n19  cassidy hutchinson claims trump figures sought...   \n20  missing baby kason thomas found alive nbc4 col...   \n21  deep secrecy high risk zelensky improbable c v...   \n22  ukraine war zelensky delivers defiant christma...   \n23  chris streveler look jets practice squad quart...   \n24         generation storm bears u cbc news national   \n25  kari lake lawsuit defeat arizona governor race...   \n26  north korea sold arms russia wagner group u sa...   \n27  airport strikes travellers warned expect disru...   \n28  fuel tanker explosion kills 10 south africa al...   \n29  china stops publishing daily covid figures ami...   \n30  jets bench qb zach wilson chris streveler game...   \n31  ftx co founder sam bankman fried back us relea...   \n32  senate passes 1 7 trillion government funding ...   \n33             stock futures flat friday morning cnbc   \n34  pm update washington coldest christmas eve aft...   \n35  charlie cox fascinated daredevil 18 episode or...   \n36  5 arrested 19 year old killed shooting mall am...   \n37  taliban orders ngos ban female employees comin...   \n38  jacksonville jaguars vs new york jets 2022 wee...   \n39  read microsoft response ftc activision blizzar...   \n40  us winter storm bring frostbite within minutes...   \n41  knows lost cassidy hutchinson testified trump ...   \n42   steelers honor harris rallying past raiders espn   \n43  arizona remove shipping container wall mexico ...   \n44  kari lake 2 day election challenge trial ends ...   \n45  eagles vs cowboys good bad ugly bleeding green...   \n46  winter storm live updates snow freezing temps ...   \n47  latest soyuz capsule leak prompts russians pla...   \n48  lindsay lohan beams new holiday selfie husband...   \n\n                 predicted_topic  \n0          women, taliban, lanez  \n1            bbc, english, space  \n2            winter, storm, snow  \n3            winter, storm, snow  \n4   yahoo, voices, entertainment  \n5               risk, verge, 250  \n6               risk, verge, 250  \n7            winter, storm, snow  \n8      suspension, bauer, trevor  \n9            bbc, english, space  \n10           winter, storm, snow  \n11           winter, storm, snow  \n12                 nfl, 16, week  \n13     suspension, bauer, trevor  \n14           arizona, lake, kari  \n15           winter, storm, snow  \n16         women, taliban, lanez  \n17     suspension, bauer, trevor  \n18                 nfl, 16, week  \n19           arizona, lake, kari  \n20           arizona, lake, kari  \n21              risk, verge, 250  \n22           bbc, english, space  \n23     suspension, bauer, trevor  \n24           winter, storm, snow  \n25           arizona, lake, kari  \n26           bbc, english, space  \n27           bbc, english, space  \n28           bbc, english, space  \n29           winter, storm, snow  \n30                 nfl, 16, week  \n31              risk, verge, 250  \n32              risk, verge, 250  \n33                 nfl, 16, week  \n34           winter, storm, snow  \n35  yahoo, voices, entertainment  \n36           arizona, lake, kari  \n37         women, taliban, lanez  \n38                 nfl, 16, week  \n39              risk, verge, 250  \n40           winter, storm, snow  \n41           arizona, lake, kari  \n42                 nfl, 16, week  \n43           arizona, lake, kari  \n44           arizona, lake, kari  \n45                 nfl, 16, week  \n46           winter, storm, snow  \n47           bbc, english, space  \n48  yahoo, voices, entertainment  ",
      "text/html": "<div>\n<style scoped>\n    .dataframe tbody tr th:only-of-type {\n        vertical-align: middle;\n    }\n\n    .dataframe tbody tr th {\n        vertical-align: top;\n    }\n\n    .dataframe thead th {\n        text-align: right;\n    }\n</style>\n<table border=\"1\" class=\"dataframe\">\n  <thead>\n    <tr style=\"text-align: right;\">\n      <th></th>\n      <th>title</th>\n      <th>url</th>\n      <th>publishedat</th>\n      <th>title_stance</th>\n      <th>title_topic</th>\n      <th>predicted_topic</th>\n    </tr>\n  </thead>\n  <tbody>\n    <tr>\n      <th>0</th>\n      <td>Taliban minister defends closing universities ...</td>\n      <td>https://www.theguardian.com/world/2022/dec/23/...</td>\n      <td>2022-12-23T01:50:00Z</td>\n      <td>taliban minister defends closing universities ...</td>\n      <td>taliban minister defends closing universities ...</td>\n      <td>women, taliban, lanez</td>\n    </tr>\n    <tr>\n      <th>1</th>\n      <td>Russia considers ways to return space crew aft...</td>\n      <td>https://www.aljazeera.com/news/2022/12/23/russ...</td>\n      <td>2022-12-23T03:59:49Z</td>\n      <td>russia considers ways to return space crew aft...</td>\n      <td>russia considers ways return space crew capsul...</td>\n      <td>bbc, english, space</td>\n    </tr>\n    <tr>\n      <th>2</th>\n      <td>What could power grid 'rotating outages' look ...</td>\n      <td>https://abc6onyourside.com/news/local/power-el...</td>\n      <td>2022-12-24T22:44:53Z</td>\n      <td>what could power grid rotating outages look li...</td>\n      <td>could power grid rotating outages look like ab...</td>\n      <td>winter, storm, snow</td>\n    </tr>\n    <tr>\n      <th>3</th>\n      <td>A powerful winter storm claims at least 22 liv...</td>\n      <td>https://www.cnn.com/2022/12/24/weather/christm...</td>\n      <td>2022-12-25T02:54:00Z</td>\n      <td>a powerful winter storm claims at least 22 liv...</td>\n      <td>powerful winter storm claims least 22 lives ac...</td>\n      <td>winter, storm, snow</td>\n    </tr>\n    <tr>\n      <th>4</th>\n      <td>James Webb telescope: Amazing images show the ...</td>\n      <td>https://news.yahoo.com/james-webb-telescope-am...</td>\n      <td>2022-12-25T00:22:00Z</td>\n      <td>james webb telescope amazing images show the u...</td>\n      <td>james webb telescope amazing images show unive...</td>\n      <td>yahoo, voices, entertainment</td>\n    </tr>\n    <tr>\n      <th>5</th>\n      <td>Elon Musk Warns Against Margin Debt on Risk of...</td>\n      <td>https://finance.yahoo.com/news/elon-musk-warns...</td>\n      <td>2022-12-24T23:51:44Z</td>\n      <td>elon musk warns against margin debt on risk of...</td>\n      <td>elon musk warns margin debt risk market mass p...</td>\n      <td>risk, verge, 250</td>\n    </tr>\n    <tr>\n      <th>6</th>\n      <td>Jan. 6 House committee releases final report o...</td>\n      <td>https://www.cnbc.com/2022/12/22/trump-capitol-...</td>\n      <td>2022-12-23T02:48:00Z</td>\n      <td>jan 6 house committee releases final report on...</td>\n      <td>jan 6 house committee releases final report tr...</td>\n      <td>risk, verge, 250</td>\n    </tr>\n    <tr>\n      <th>7</th>\n      <td>NASA Explores a Winter Wonderland on Mars – Ot...</td>\n      <td>https://scitechdaily.com/nasa-explores-a-winte...</td>\n      <td>2022-12-24T22:25:39Z</td>\n      <td>nasa explores a winter wonderland on mars othe...</td>\n      <td>nasa explores winter wonderland mars otherworl...</td>\n      <td>winter, storm, snow</td>\n    </tr>\n    <tr>\n      <th>8</th>\n      <td>Dodgers' Trevor Bauer reinstated after suspens...</td>\n      <td>https://www.espn.com/mlb/story/_/id/35306975/d...</td>\n      <td>2022-12-23T04:24:35Z</td>\n      <td>dodgers trevor bauer reinstated after suspensi...</td>\n      <td>dodgers trevor bauer reinstated suspension cut...</td>\n      <td>suspension, bauer, trevor</td>\n    </tr>\n    <tr>\n      <th>9</th>\n      <td>Paris shooting: Aftermath of violent unrest fo...</td>\n      <td>https://www.bbc.com/news/av/world-europe-64087161</td>\n      <td>2022-12-24T22:09:40Z</td>\n      <td>paris shooting aftermath of violent unrest fol...</td>\n      <td>paris shooting aftermath violent unrest follow...</td>\n      <td>bbc, english, space</td>\n    </tr>\n    <tr>\n      <th>10</th>\n      <td>More migrants dropped outside vice president's...</td>\n      <td>https://www.cnn.com/2022/12/24/politics/migran...</td>\n      <td>2022-12-25T02:53:00Z</td>\n      <td>more migrants dropped outside vice president s...</td>\n      <td>migrants dropped outside vice president home f...</td>\n      <td>winter, storm, snow</td>\n    </tr>\n    <tr>\n      <th>11</th>\n      <td>As crematoriums fill up, China shifts how it c...</td>\n      <td>https://www.cnn.com/2022/12/22/china/china-cov...</td>\n      <td>2022-12-23T00:18:00Z</td>\n      <td>as crematoriums fill up china shifts how it co...</td>\n      <td>crematoriums fill china shifts counts covid de...</td>\n      <td>winter, storm, snow</td>\n    </tr>\n    <tr>\n      <th>12</th>\n      <td>Top Plays from Week 16 | NFL 2022 Highlights -...</td>\n      <td>https://www.youtube.com/watch?v=zR1wExd_2Zo</td>\n      <td>2022-12-25T04:29:07Z</td>\n      <td>top plays from week 16 nfl 2022 highlights nfl</td>\n      <td>top plays week 16 nfl 2022 highlights nfl</td>\n      <td>nfl, 16, week</td>\n    </tr>\n    <tr>\n      <th>13</th>\n      <td>Rosenthal: How did Mets and Carlos Correa land...</td>\n      <td>https://theathletic.com/4029332/2022/12/22/met...</td>\n      <td>2022-12-23T04:08:14Z</td>\n      <td>rosenthal how did mets and carlos correa land ...</td>\n      <td>rosenthal mets carlos correa land 12 years 315...</td>\n      <td>suspension, bauer, trevor</td>\n    </tr>\n    <tr>\n      <th>14</th>\n      <td>Arizona lawyers: Kari Lake election loss lawsu...</td>\n      <td>https://apnews.com/article/2022-midterm-electi...</td>\n      <td>2022-12-23T01:26:44Z</td>\n      <td>arizona lawyers kari lake election loss lawsui...</td>\n      <td>arizona lawyers kari lake election loss lawsui...</td>\n      <td>arizona, lake, kari</td>\n    </tr>\n    <tr>\n      <th>15</th>\n      <td>Buffalo, New York winter storm leaves three de...</td>\n      <td>https://www.foxnews.com/us/buffalo-new-york-wi...</td>\n      <td>2022-12-25T00:53:02Z</td>\n      <td>buffalo new york winter storm leaves three dea...</td>\n      <td>buffalo new york winter storm leaves three dea...</td>\n      <td>winter, storm, snow</td>\n    </tr>\n    <tr>\n      <th>16</th>\n      <td>Megan Thee Stallion's Boyfriend Pardison Fonta...</td>\n      <td>https://www.billboard.com/music/music-news/meg...</td>\n      <td>2022-12-23T02:08:47Z</td>\n      <td>megan thee stallion s boyfriend pardison fonta...</td>\n      <td>megan thee stallion boyfriend pardison fontain...</td>\n      <td>women, taliban, lanez</td>\n    </tr>\n    <tr>\n      <th>17</th>\n      <td>Everything to know about Trevor Bauer's MLB su...</td>\n      <td>https://www.espn.com/mlb/story/_/id/35307636/t...</td>\n      <td>2022-12-23T04:32:12Z</td>\n      <td>everything to know about trevor bauer s mlb su...</td>\n      <td>everything know trevor bauer mlb suspension re...</td>\n      <td>suspension, bauer, trevor</td>\n    </tr>\n    <tr>\n      <th>18</th>\n      <td>NFL Week 16 grades: Bengals earn 'B+' for wild...</td>\n      <td>https://www.cbssports.com/nfl/news/nfl-week-16...</td>\n      <td>2022-12-25T01:17:00Z</td>\n      <td>nfl week 16 grades bengals earn b for wild win...</td>\n      <td>nfl week 16 grades bengals earn b wild win pat...</td>\n      <td>nfl, 16, week</td>\n    </tr>\n    <tr>\n      <th>19</th>\n      <td>Cassidy Hutchinson claims Trump figures sought...</td>\n      <td>https://www.washingtonpost.com/national-securi...</td>\n      <td>2022-12-23T01:55:00Z</td>\n      <td>cassidy hutchinson claims trump figures sought...</td>\n      <td>cassidy hutchinson claims trump figures sought...</td>\n      <td>arizona, lake, kari</td>\n    </tr>\n    <tr>\n      <th>20</th>\n      <td>Missing baby Kason Thomas found alive - NBC4 C...</td>\n      <td>https://www.youtube.com/watch?v=LoOR8kPeoSM</td>\n      <td>2022-12-23T04:23:20Z</td>\n      <td>missing baby kason thomas found alive nbc4 col...</td>\n      <td>missing baby kason thomas found alive nbc4 col...</td>\n      <td>arizona, lake, kari</td>\n    </tr>\n    <tr>\n      <th>21</th>\n      <td>Deep secrecy, high risk: How Zelensky's improb...</td>\n      <td>https://www.washingtonpost.com/politics/2022/1...</td>\n      <td>2022-12-23T03:00:00Z</td>\n      <td>deep secrecy high risk how zelensky s improbab...</td>\n      <td>deep secrecy high risk zelensky improbable c v...</td>\n      <td>risk, verge, 250</td>\n    </tr>\n    <tr>\n      <th>22</th>\n      <td>Ukraine war: Zelensky delivers defiant Christm...</td>\n      <td>https://www.bbc.com/news/world-europe-64088046</td>\n      <td>2022-12-24T23:22:51Z</td>\n      <td>ukraine war zelensky delivers defiant christma...</td>\n      <td>ukraine war zelensky delivers defiant christma...</td>\n      <td>bbc, english, space</td>\n    </tr>\n    <tr>\n      <th>23</th>\n      <td>Who is Chris Streveler? A look at the Jets pra...</td>\n      <td>https://www.cbssports.com/nfl/news/who-is-chri...</td>\n      <td>2022-12-23T04:49:00Z</td>\n      <td>who is chris streveler a look at the jets prac...</td>\n      <td>chris streveler look jets practice squad quart...</td>\n      <td>suspension, bauer, trevor</td>\n    </tr>\n    <tr>\n      <th>24</th>\n      <td>'Once-in-a-generation storm' bears down on U.S...</td>\n      <td>https://www.youtube.com/watch?v=QxYsdRl-LLk</td>\n      <td>2022-12-23T03:13:33Z</td>\n      <td>once in a generation storm bears down on u s c...</td>\n      <td>generation storm bears u cbc news national</td>\n      <td>winter, storm, snow</td>\n    </tr>\n    <tr>\n      <th>25</th>\n      <td>Kari Lake's lawsuit over defeat in Arizona gov...</td>\n      <td>https://www.cbsnews.com/news/kari-lake-lawsuit...</td>\n      <td>2022-12-25T02:20:00Z</td>\n      <td>kari lake s lawsuit over defeat in arizona gov...</td>\n      <td>kari lake lawsuit defeat arizona governor race...</td>\n      <td>arizona, lake, kari</td>\n    </tr>\n    <tr>\n      <th>26</th>\n      <td>North Korea Sold Arms to Russia's Wagner Group...</td>\n      <td>https://www.themoscowtimes.com/2022/12/23/nort...</td>\n      <td>2022-12-23T06:32:27Z</td>\n      <td>north korea sold arms to russia s wagner group...</td>\n      <td>north korea sold arms russia wagner group u sa...</td>\n      <td>bbc, english, space</td>\n    </tr>\n    <tr>\n      <th>27</th>\n      <td>Airport strikes: Travellers warned to expect d...</td>\n      <td>https://www.bbc.com/news/business-64060584</td>\n      <td>2022-12-23T07:34:11Z</td>\n      <td>airport strikes travellers warned to expect di...</td>\n      <td>airport strikes travellers warned expect disru...</td>\n      <td>bbc, english, space</td>\n    </tr>\n    <tr>\n      <th>28</th>\n      <td>Fuel tanker explosion kills 10 in South Africa...</td>\n      <td>https://www.aljazeera.com/news/2022/12/24/nine...</td>\n      <td>2022-12-25T01:02:47Z</td>\n      <td>fuel tanker explosion kills 10 in south africa...</td>\n      <td>fuel tanker explosion kills 10 south africa al...</td>\n      <td>bbc, english, space</td>\n    </tr>\n    <tr>\n      <th>29</th>\n      <td>China stops publishing daily Covid figures ami...</td>\n      <td>https://www.theguardian.com/world/2022/dec/25/...</td>\n      <td>2022-12-25T05:24:00Z</td>\n      <td>china stops publishing daily covid figures ami...</td>\n      <td>china stops publishing daily covid figures ami...</td>\n      <td>winter, storm, snow</td>\n    </tr>\n    <tr>\n      <th>30</th>\n      <td>Jets bench QB Zach Wilson for Chris Streveler ...</td>\n      <td>https://www.usatoday.com/story/sports/nfl/jets...</td>\n      <td>2022-12-23T03:51:00Z</td>\n      <td>jets bench qb zach wilson for chris streveler ...</td>\n      <td>jets bench qb zach wilson chris streveler game...</td>\n      <td>nfl, 16, week</td>\n    </tr>\n    <tr>\n      <th>31</th>\n      <td>FTX co-founder Sam Bankman-Fried is back in th...</td>\n      <td>https://www.theverge.com/2022/12/22/23523149/s...</td>\n      <td>2022-12-23T02:17:00Z</td>\n      <td>ftx co founder sam bankman fried is back in th...</td>\n      <td>ftx co founder sam bankman fried back us relea...</td>\n      <td>risk, verge, 250</td>\n    </tr>\n    <tr>\n      <th>32</th>\n      <td>Senate passes $1.7 trillion government funding...</td>\n      <td>https://www.axios.com/2022/12/22/omnibus-gover...</td>\n      <td>2022-12-23T02:49:13Z</td>\n      <td>senate passes 1 7 trillion government funding ...</td>\n      <td>senate passes 1 7 trillion government funding ...</td>\n      <td>risk, verge, 250</td>\n    </tr>\n    <tr>\n      <th>33</th>\n      <td>Stock futures are flat on Friday morning - CNBC</td>\n      <td>https://www.cnbc.com/2022/12/22/stock-market-f...</td>\n      <td>2022-12-23T05:49:00Z</td>\n      <td>stock futures are flat on friday morning cnbc</td>\n      <td>stock futures flat friday morning cnbc</td>\n      <td>nfl, 16, week</td>\n    </tr>\n    <tr>\n      <th>34</th>\n      <td>PM Update: Washington has coldest Christmas Ev...</td>\n      <td>https://www.washingtonpost.com/weather/2022/12...</td>\n      <td>2022-12-25T03:04:00Z</td>\n      <td>pm update washington has coldest christmas eve...</td>\n      <td>pm update washington coldest christmas eve aft...</td>\n      <td>winter, storm, snow</td>\n    </tr>\n    <tr>\n      <th>35</th>\n      <td>Charlie Cox 'Fascinated' by Daredevil's 18-Epi...</td>\n      <td>https://tvline.com/2022/12/22/charlie-cox-dare...</td>\n      <td>2022-12-23T01:00:00Z</td>\n      <td>charlie cox fascinated by daredevil s 18 episo...</td>\n      <td>charlie cox fascinated daredevil 18 episode or...</td>\n      <td>yahoo, voices, entertainment</td>\n    </tr>\n    <tr>\n      <th>36</th>\n      <td>5 arrested after 19-year-old killed in shootin...</td>\n      <td>https://www.cbsnews.com/minnesota/news/mall-of...</td>\n      <td>2022-12-25T04:43:00Z</td>\n      <td>5 arrested after 19 year old killed in shootin...</td>\n      <td>5 arrested 19 year old killed shooting mall am...</td>\n      <td>arizona, lake, kari</td>\n    </tr>\n    <tr>\n      <th>37</th>\n      <td>Taliban orders NGOs to ban female employees fr...</td>\n      <td>https://www.cnn.com/2022/12/24/asia/taliban-fe...</td>\n      <td>2022-12-25T02:54:00Z</td>\n      <td>taliban orders ngos to ban female employees fr...</td>\n      <td>taliban orders ngos ban female employees comin...</td>\n      <td>women, taliban, lanez</td>\n    </tr>\n    <tr>\n      <th>38</th>\n      <td>Jacksonville Jaguars vs. New York Jets | 2022 ...</td>\n      <td>https://www.youtube.com/watch?v=C-q2qw_LqoI</td>\n      <td>2022-12-23T04:17:40Z</td>\n      <td>jacksonville jaguars vs new york jets 2022 wee...</td>\n      <td>jacksonville jaguars vs new york jets 2022 wee...</td>\n      <td>nfl, 16, week</td>\n    </tr>\n    <tr>\n      <th>39</th>\n      <td>Read Microsoft's response to the FTC's Activis...</td>\n      <td>https://www.theverge.com/23523563/read-microso...</td>\n      <td>2022-12-23T02:17:00Z</td>\n      <td>read microsoft s response to the ftc s activis...</td>\n      <td>read microsoft response ftc activision blizzar...</td>\n      <td>risk, verge, 250</td>\n    </tr>\n    <tr>\n      <th>40</th>\n      <td>US winter storm will bring frostbite within mi...</td>\n      <td>https://www.bbc.com/news/world-us-canada-64061588</td>\n      <td>2022-12-23T04:41:28Z</td>\n      <td>us winter storm will bring frostbite within mi...</td>\n      <td>us winter storm bring frostbite within minutes...</td>\n      <td>winter, storm, snow</td>\n    </tr>\n    <tr>\n      <th>41</th>\n      <td>'He knows he lost': Cassidy Hutchinson testifi...</td>\n      <td>https://www.cnn.com/2022/12/22/politics/cassid...</td>\n      <td>2022-12-23T01:22:00Z</td>\n      <td>he knows he lost cassidy hutchinson testified ...</td>\n      <td>knows lost cassidy hutchinson testified trump ...</td>\n      <td>arizona, lake, kari</td>\n    </tr>\n    <tr>\n      <th>42</th>\n      <td>Steelers honor Harris by rallying past Raiders...</td>\n      <td>https://www.espn.com/nfl/story/_/id/35317232/s...</td>\n      <td>2022-12-25T05:00:11Z</td>\n      <td>steelers honor harris by rallying past raiders...</td>\n      <td>steelers honor harris rallying past raiders espn</td>\n      <td>nfl, 16, week</td>\n    </tr>\n    <tr>\n      <th>43</th>\n      <td>Arizona to remove shipping container wall from...</td>\n      <td>https://apnews.com/article/politics-mexico-ari...</td>\n      <td>2022-12-23T03:52:47Z</td>\n      <td>arizona to remove shipping container wall from...</td>\n      <td>arizona remove shipping container wall mexico ...</td>\n      <td>arizona, lake, kari</td>\n    </tr>\n    <tr>\n      <th>44</th>\n      <td>Kari Lake's 2-day election challenge trial end...</td>\n      <td>https://www.azcentral.com/story/news/politics/...</td>\n      <td>2022-12-23T01:28:11Z</td>\n      <td>kari lake s 2 day election challenge trial end...</td>\n      <td>kari lake 2 day election challenge trial ends ...</td>\n      <td>arizona, lake, kari</td>\n    </tr>\n    <tr>\n      <th>45</th>\n      <td>Eagles vs. Cowboys: The good, the bad, and the...</td>\n      <td>https://www.bleedinggreennation.com/2022/12/24...</td>\n      <td>2022-12-25T02:21:28Z</td>\n      <td>eagles vs cowboys the good the bad and the ugl...</td>\n      <td>eagles vs cowboys good bad ugly bleeding green...</td>\n      <td>nfl, 16, week</td>\n    </tr>\n    <tr>\n      <th>46</th>\n      <td>Winter Storm Live Updates: Snow and Freezing T...</td>\n      <td>https://www.wsj.com/livecoverage/winter-storm-...</td>\n      <td>2022-12-23T02:23:00Z</td>\n      <td>winter storm live updates snow and freezing te...</td>\n      <td>winter storm live updates snow freezing temps ...</td>\n      <td>winter, storm, snow</td>\n    </tr>\n    <tr>\n      <th>47</th>\n      <td>Latest Soyuz capsule leak prompts Russians to ...</td>\n      <td>https://www.theguardian.com/science/2022/dec/2...</td>\n      <td>2022-12-23T03:33:00Z</td>\n      <td>latest soyuz capsule leak prompts russians to ...</td>\n      <td>latest soyuz capsule leak prompts russians pla...</td>\n      <td>bbc, english, space</td>\n    </tr>\n    <tr>\n      <th>48</th>\n      <td>Lindsay Lohan Beams in New Holiday Selfie With...</td>\n      <td>https://www.eonline.com/news/1359368/lindsay-l...</td>\n      <td>2022-12-24T22:52:00Z</td>\n      <td>lindsay lohan beams in new holiday selfie with...</td>\n      <td>lindsay lohan beams new holiday selfie husband...</td>\n      <td>yahoo, voices, entertainment</td>\n    </tr>\n  </tbody>\n</table>\n</div>"
     },
     "metadata": {},
     "output_type": "display_data"
    },
    {
     "name": "stdout",
     "output_type": "stream",
     "text": [
      "Feature Group created successfully, explore it at \n",
      "https://c.app.hopsworks.ai:443/p/5270/fs/5190/fg/9576\n"
     ]
    },
    {
     "data": {
      "text/plain": "Uploading Dataframe: 0.00% |          | Rows 0/49 | Elapsed Time: 00:00 | Remaining Time: ?",
      "application/vnd.jupyter.widget-view+json": {
       "version_major": 2,
       "version_minor": 0,
       "model_id": "e6fe9fe2087742cd9a58c07b8cc6aa03"
      }
     },
     "metadata": {},
     "output_type": "display_data"
    },
    {
     "name": "stdout",
     "output_type": "stream",
     "text": [
      "Launching offline feature group backfill job...\n",
      "Backfill Job started successfully, you can follow the progress at \n",
      "https://c.app.hopsworks.ai/p/5270/jobs/named/articles_topic_1_offline_fg_backfill/executions\n"
     ]
    }
   ],
   "source": [
    "topic_labels_series = pd.Series(topic_labels)\n",
    "docs_topic = topic_labels_series[topics].tolist()\n",
    "data['predicted_topic'] = docs_topic\n",
    "display(data)\n",
    "\n",
    "if USE_HOPSWORKS:\n",
    "    # Save result to feature_store\n",
    "    article_cleaned_feature_store = feature_store.get_or_create_feature_group(\n",
    "        name=\"articles_topic\",\n",
    "        version=1,\n",
    "        primary_key=[\"url\"],\n",
    "        description=\"Articles with predicted topic\")\n",
    "    article_cleaned_feature_store.insert(data, write_options={\"wait_for_job\" : False})\n",
    "else:\n",
    "    data_path = ( Path.cwd() / \"data/RoundedWithTopic.csv\").resolve()\n",
    "    data.to_csv(data_path, encoding='utf-8', index=False)"
   ],
   "metadata": {
    "collapsed": false
   }
  },
  {
   "cell_type": "code",
   "execution_count": 7,
   "outputs": [
    {
     "data": {
      "text/plain": "Batches:   0%|          | 0/2 [00:00<?, ?it/s]",
      "application/vnd.jupyter.widget-view+json": {
       "version_major": 2,
       "version_minor": 0,
       "model_id": "ecb12ad905c74848933d73b29e52ea2b"
      }
     },
     "metadata": {},
     "output_type": "display_data"
    },
    {
     "name": "stderr",
     "output_type": "stream",
     "text": [
      "C:\\Users\\steem\\StanceDetection\\lib\\site-packages\\plotly\\io\\_renderers.py:395: DeprecationWarning:\n",
      "\n",
      "distutils Version classes are deprecated. Use packaging.version instead.\n",
      "\n"
     ]
    },
    {
     "data": {
      "application/vnd.plotly.v1+json": {
       "data": [
        {
         "hoverinfo": "text",
         "hovertext": [
          null
         ],
         "marker": {
          "color": "#CFD8DC",
          "opacity": 0.5,
          "size": 5
         },
         "mode": "markers+text",
         "name": "other",
         "showlegend": false,
         "x": [
          null
         ],
         "y": [
          null
         ],
         "type": "scattergl"
        },
        {
         "hoverinfo": "text",
         "hovertext": [
          "could power grid rotating outages look like abc6onyourside com",
          "us winter storm bring frostbite within minutes bbc",
          "crematoriums fill china shifts counts covid deaths cnn",
          "migrants dropped outside vice president home freezing weather christmas eve cnn",
          "winter storm live updates snow freezing temps across u impact thousands flights wall street journal",
          "nasa explores winter wonderland mars otherworldly holiday scene cube shaped snow scitechdaily",
          "powerful winter storm claims least 22 lives across us temperatures plunge winds howl power lines fall cnn",
          "buffalo new york winter storm leaves three dead area buried 28 inches snow life threatening fox news",
          "generation storm bears u cbc news national",
          "pm update washington coldest christmas eve afternoon record frigid sunday washington post",
          "china stops publishing daily covid figures amid reports explosion cases guardian",
          null
         ],
         "marker": {
          "opacity": 0.5,
          "size": 5
         },
         "mode": "markers+text",
         "name": "0_winter_storm_snow",
         "text": [
          "",
          "",
          "",
          "",
          "",
          "",
          "",
          "",
          "",
          "",
          "",
          "0_winter_storm_snow"
         ],
         "textfont": {
          "size": 12
         },
         "x": [
          14.329819,
          14.237148,
          13.43474,
          13.982579,
          14.040804,
          13.668965,
          14.353635,
          14.501451,
          14.680344,
          14.00052,
          13.344003,
          14.052184
         ],
         "y": [
          11.648859,
          12.398987,
          11.745248,
          11.915097,
          12.176065,
          12.462643,
          12.146486,
          11.948678,
          12.159799,
          12.524927,
          11.502054,
          12.057168
         ],
         "type": "scattergl"
        },
        {
         "hoverinfo": "text",
         "hovertext": [
          "knows lost cassidy hutchinson testified trump acknowledged lost 2020 election cnn",
          "cassidy hutchinson claims trump figures sought influence testimony washington post",
          "kari lake lawsuit defeat arizona governor race thrown judge cbs news",
          "kari lake 2 day election challenge trial ends judge decides arizona republic",
          "arizona lawyers kari lake election loss lawsuit lacks merit associated press en español",
          "5 arrested 19 year old killed shooting mall america cbs news",
          "arizona remove shipping container wall mexico border associated press en español",
          "missing baby kason thomas found alive nbc4 columbus",
          null
         ],
         "marker": {
          "opacity": 0.5,
          "size": 5
         },
         "mode": "markers+text",
         "name": "1_arizona_lake_kari",
         "text": [
          "",
          "",
          "",
          "",
          "",
          "",
          "",
          "",
          "1_arizona_lake_kari"
         ],
         "textfont": {
          "size": 12
         },
         "x": [
          10.796835,
          10.92543,
          10.495632,
          10.173851,
          10.408773,
          11.560755,
          10.263228,
          10.934439,
          10.694868
         ],
         "y": [
          11.370905,
          11.4688835,
          11.190458,
          11.48459,
          11.367361,
          10.585007,
          10.922421,
          11.073001,
          11.182829
         ],
         "type": "scattergl"
        },
        {
         "hoverinfo": "text",
         "hovertext": [
          "jacksonville jaguars vs new york jets 2022 week 16 game highlights nfl",
          "eagles vs cowboys good bad ugly bleeding green nation",
          "jets bench qb zach wilson chris streveler game vs jaguars usa today",
          "nfl week 16 grades bengals earn b wild win patriots cowboys get b rallying past eagles cbs sports",
          "steelers honor harris rallying past raiders espn",
          "stock futures flat friday morning cnbc",
          "top plays week 16 nfl 2022 highlights nfl",
          null
         ],
         "marker": {
          "opacity": 0.5,
          "size": 5
         },
         "mode": "markers+text",
         "name": "2_nfl_16_week",
         "text": [
          "",
          "",
          "",
          "",
          "",
          "",
          "",
          "2_nfl_16_week"
         ],
         "textfont": {
          "size": 12
         },
         "x": [
          7.857534,
          8.006596,
          7.840327,
          7.982873,
          7.4476414,
          10.364211,
          7.546182,
          8.149338
         ],
         "y": [
          10.477642,
          10.450775,
          10.157013,
          10.603292,
          10.287245,
          10.252183,
          10.390349,
          10.374071
         ],
         "type": "scattergl"
        },
        {
         "hoverinfo": "text",
         "hovertext": [
          "paris shooting aftermath violent unrest following deadly attack kurds bbc",
          "russia considers ways return space crew capsule leak al jazeera english",
          "fuel tanker explosion kills 10 south africa al jazeera english",
          "north korea sold arms russia wagner group u says moscow times",
          "ukraine war zelensky delivers defiant christmas message russian strikes bbc",
          "latest soyuz capsule leak prompts russians plan possible rescue space station crew guardian",
          "airport strikes travellers warned expect disruption bbc",
          null
         ],
         "marker": {
          "opacity": 0.5,
          "size": 5
         },
         "mode": "markers+text",
         "name": "3_bbc_english_space",
         "text": [
          "",
          "",
          "",
          "",
          "",
          "",
          "",
          "3_bbc_english_space"
         ],
         "textfont": {
          "size": 12
         },
         "x": [
          11.934192,
          12.83607,
          12.340397,
          13.194787,
          12.994043,
          12.871664,
          12.600437,
          12.681656
         ],
         "y": [
          10.66607,
          10.25428,
          10.546326,
          10.75467,
          10.481982,
          10.566489,
          10.882154,
          10.593139
         ],
         "type": "scattergl"
        },
        {
         "hoverinfo": "text",
         "hovertext": [
          "deep secrecy high risk zelensky improbable c visit came together washington post",
          "jan 6 house committee releases final report trump capitol riot investigation cnbc",
          "elon musk warns margin debt risk market mass panic yahoo finance",
          "senate passes 1 7 trillion government funding bill axios",
          "ftx co founder sam bankman fried back us released 250 million bail verge",
          "read microsoft response ftc activision blizzard lawsuit verge",
          null
         ],
         "marker": {
          "opacity": 0.5,
          "size": 5
         },
         "mode": "markers+text",
         "name": "4_risk_verge_250",
         "text": [
          "",
          "",
          "",
          "",
          "",
          "",
          "4_risk_verge_250"
         ],
         "textfont": {
          "size": 12
         },
         "x": [
          12.547344,
          11.377602,
          11.601685,
          11.264174,
          11.803753,
          11.800056,
          11.732436
         ],
         "y": [
          10.410008,
          10.857052,
          12.052383,
          12.012613,
          12.095715,
          11.3868065,
          11.469096
         ],
         "type": "scattergl"
        },
        {
         "hoverinfo": "text",
         "hovertext": [
          "chris streveler look jets practice squad quarterback replaced benched zach wilson cbs sports",
          "everything know trevor bauer mlb suspension reduction espn",
          "dodgers trevor bauer reinstated suspension cut 194 games espn",
          "rosenthal mets carlos correa land 12 years 315 million athletic",
          null
         ],
         "marker": {
          "opacity": 0.5,
          "size": 5
         },
         "mode": "markers+text",
         "name": "5_suspension_bauer_trevor",
         "text": [
          "",
          "",
          "",
          "",
          "5_suspension_bauer_trevor"
         ],
         "textfont": {
          "size": 12
         },
         "x": [
          7.551859,
          7.8624635,
          7.670958,
          8.136379,
          7.8054147
         ],
         "y": [
          9.888106,
          9.706093,
          9.86974,
          9.839898,
          9.825959
         ],
         "type": "scattergl"
        },
        {
         "hoverinfo": "text",
         "hovertext": [
          "megan thee stallion boyfriend pardison fontaine shares message support women amid tory lanez trial billboard",
          "taliban minister defends closing universities women global backlash grows guardian",
          "taliban orders ngos ban female employees coming work cnn",
          null
         ],
         "marker": {
          "opacity": 0.5,
          "size": 5
         },
         "mode": "markers+text",
         "name": "6_women_taliban_lanez",
         "text": [
          "",
          "",
          "",
          "6_women_taliban_lanez"
         ],
         "textfont": {
          "size": 12
         },
         "x": [
          12.281186,
          12.712041,
          13.021478,
          12.671569
         ],
         "y": [
          11.999958,
          11.802592,
          11.924902,
          11.909152
         ],
         "type": "scattergl"
        },
        {
         "hoverinfo": "text",
         "hovertext": [
          "charlie cox fascinated daredevil 18 episode order disney says probably gory netflix yahoo entertainment",
          "james webb telescope amazing images show universe never yahoo voices",
          "lindsay lohan beams new holiday selfie husband bader shammas e online e news",
          null
         ],
         "marker": {
          "opacity": 0.5,
          "size": 5
         },
         "mode": "markers+text",
         "name": "7_yahoo_voices_entertainment",
         "text": [
          "",
          "",
          "",
          "7_yahoo_voices_entertainment"
         ],
         "textfont": {
          "size": 12
         },
         "x": [
          12.643344,
          12.959113,
          13.056711,
          12.88639
         ],
         "y": [
          12.718996,
          12.597818,
          12.411801,
          12.576205
         ],
         "type": "scattergl"
        }
       ],
       "layout": {
        "template": {
         "data": {
          "barpolar": [
           {
            "marker": {
             "line": {
              "color": "white",
              "width": 0.5
             },
             "pattern": {
              "fillmode": "overlay",
              "size": 10,
              "solidity": 0.2
             }
            },
            "type": "barpolar"
           }
          ],
          "bar": [
           {
            "error_x": {
             "color": "rgb(36,36,36)"
            },
            "error_y": {
             "color": "rgb(36,36,36)"
            },
            "marker": {
             "line": {
              "color": "white",
              "width": 0.5
             },
             "pattern": {
              "fillmode": "overlay",
              "size": 10,
              "solidity": 0.2
             }
            },
            "type": "bar"
           }
          ],
          "carpet": [
           {
            "aaxis": {
             "endlinecolor": "rgb(36,36,36)",
             "gridcolor": "white",
             "linecolor": "white",
             "minorgridcolor": "white",
             "startlinecolor": "rgb(36,36,36)"
            },
            "baxis": {
             "endlinecolor": "rgb(36,36,36)",
             "gridcolor": "white",
             "linecolor": "white",
             "minorgridcolor": "white",
             "startlinecolor": "rgb(36,36,36)"
            },
            "type": "carpet"
           }
          ],
          "choropleth": [
           {
            "colorbar": {
             "outlinewidth": 1,
             "tickcolor": "rgb(36,36,36)",
             "ticks": "outside"
            },
            "type": "choropleth"
           }
          ],
          "contourcarpet": [
           {
            "colorbar": {
             "outlinewidth": 1,
             "tickcolor": "rgb(36,36,36)",
             "ticks": "outside"
            },
            "type": "contourcarpet"
           }
          ],
          "contour": [
           {
            "colorbar": {
             "outlinewidth": 1,
             "tickcolor": "rgb(36,36,36)",
             "ticks": "outside"
            },
            "colorscale": [
             [
              0.0,
              "#440154"
             ],
             [
              0.1111111111111111,
              "#482878"
             ],
             [
              0.2222222222222222,
              "#3e4989"
             ],
             [
              0.3333333333333333,
              "#31688e"
             ],
             [
              0.4444444444444444,
              "#26828e"
             ],
             [
              0.5555555555555556,
              "#1f9e89"
             ],
             [
              0.6666666666666666,
              "#35b779"
             ],
             [
              0.7777777777777778,
              "#6ece58"
             ],
             [
              0.8888888888888888,
              "#b5de2b"
             ],
             [
              1.0,
              "#fde725"
             ]
            ],
            "type": "contour"
           }
          ],
          "heatmapgl": [
           {
            "colorbar": {
             "outlinewidth": 1,
             "tickcolor": "rgb(36,36,36)",
             "ticks": "outside"
            },
            "colorscale": [
             [
              0.0,
              "#440154"
             ],
             [
              0.1111111111111111,
              "#482878"
             ],
             [
              0.2222222222222222,
              "#3e4989"
             ],
             [
              0.3333333333333333,
              "#31688e"
             ],
             [
              0.4444444444444444,
              "#26828e"
             ],
             [
              0.5555555555555556,
              "#1f9e89"
             ],
             [
              0.6666666666666666,
              "#35b779"
             ],
             [
              0.7777777777777778,
              "#6ece58"
             ],
             [
              0.8888888888888888,
              "#b5de2b"
             ],
             [
              1.0,
              "#fde725"
             ]
            ],
            "type": "heatmapgl"
           }
          ],
          "heatmap": [
           {
            "colorbar": {
             "outlinewidth": 1,
             "tickcolor": "rgb(36,36,36)",
             "ticks": "outside"
            },
            "colorscale": [
             [
              0.0,
              "#440154"
             ],
             [
              0.1111111111111111,
              "#482878"
             ],
             [
              0.2222222222222222,
              "#3e4989"
             ],
             [
              0.3333333333333333,
              "#31688e"
             ],
             [
              0.4444444444444444,
              "#26828e"
             ],
             [
              0.5555555555555556,
              "#1f9e89"
             ],
             [
              0.6666666666666666,
              "#35b779"
             ],
             [
              0.7777777777777778,
              "#6ece58"
             ],
             [
              0.8888888888888888,
              "#b5de2b"
             ],
             [
              1.0,
              "#fde725"
             ]
            ],
            "type": "heatmap"
           }
          ],
          "histogram2dcontour": [
           {
            "colorbar": {
             "outlinewidth": 1,
             "tickcolor": "rgb(36,36,36)",
             "ticks": "outside"
            },
            "colorscale": [
             [
              0.0,
              "#440154"
             ],
             [
              0.1111111111111111,
              "#482878"
             ],
             [
              0.2222222222222222,
              "#3e4989"
             ],
             [
              0.3333333333333333,
              "#31688e"
             ],
             [
              0.4444444444444444,
              "#26828e"
             ],
             [
              0.5555555555555556,
              "#1f9e89"
             ],
             [
              0.6666666666666666,
              "#35b779"
             ],
             [
              0.7777777777777778,
              "#6ece58"
             ],
             [
              0.8888888888888888,
              "#b5de2b"
             ],
             [
              1.0,
              "#fde725"
             ]
            ],
            "type": "histogram2dcontour"
           }
          ],
          "histogram2d": [
           {
            "colorbar": {
             "outlinewidth": 1,
             "tickcolor": "rgb(36,36,36)",
             "ticks": "outside"
            },
            "colorscale": [
             [
              0.0,
              "#440154"
             ],
             [
              0.1111111111111111,
              "#482878"
             ],
             [
              0.2222222222222222,
              "#3e4989"
             ],
             [
              0.3333333333333333,
              "#31688e"
             ],
             [
              0.4444444444444444,
              "#26828e"
             ],
             [
              0.5555555555555556,
              "#1f9e89"
             ],
             [
              0.6666666666666666,
              "#35b779"
             ],
             [
              0.7777777777777778,
              "#6ece58"
             ],
             [
              0.8888888888888888,
              "#b5de2b"
             ],
             [
              1.0,
              "#fde725"
             ]
            ],
            "type": "histogram2d"
           }
          ],
          "histogram": [
           {
            "marker": {
             "line": {
              "color": "white",
              "width": 0.6
             }
            },
            "type": "histogram"
           }
          ],
          "mesh3d": [
           {
            "colorbar": {
             "outlinewidth": 1,
             "tickcolor": "rgb(36,36,36)",
             "ticks": "outside"
            },
            "type": "mesh3d"
           }
          ],
          "parcoords": [
           {
            "line": {
             "colorbar": {
              "outlinewidth": 1,
              "tickcolor": "rgb(36,36,36)",
              "ticks": "outside"
             }
            },
            "type": "parcoords"
           }
          ],
          "pie": [
           {
            "automargin": true,
            "type": "pie"
           }
          ],
          "scatter3d": [
           {
            "line": {
             "colorbar": {
              "outlinewidth": 1,
              "tickcolor": "rgb(36,36,36)",
              "ticks": "outside"
             }
            },
            "marker": {
             "colorbar": {
              "outlinewidth": 1,
              "tickcolor": "rgb(36,36,36)",
              "ticks": "outside"
             }
            },
            "type": "scatter3d"
           }
          ],
          "scattercarpet": [
           {
            "marker": {
             "colorbar": {
              "outlinewidth": 1,
              "tickcolor": "rgb(36,36,36)",
              "ticks": "outside"
             }
            },
            "type": "scattercarpet"
           }
          ],
          "scattergeo": [
           {
            "marker": {
             "colorbar": {
              "outlinewidth": 1,
              "tickcolor": "rgb(36,36,36)",
              "ticks": "outside"
             }
            },
            "type": "scattergeo"
           }
          ],
          "scattergl": [
           {
            "marker": {
             "colorbar": {
              "outlinewidth": 1,
              "tickcolor": "rgb(36,36,36)",
              "ticks": "outside"
             }
            },
            "type": "scattergl"
           }
          ],
          "scattermapbox": [
           {
            "marker": {
             "colorbar": {
              "outlinewidth": 1,
              "tickcolor": "rgb(36,36,36)",
              "ticks": "outside"
             }
            },
            "type": "scattermapbox"
           }
          ],
          "scatterpolargl": [
           {
            "marker": {
             "colorbar": {
              "outlinewidth": 1,
              "tickcolor": "rgb(36,36,36)",
              "ticks": "outside"
             }
            },
            "type": "scatterpolargl"
           }
          ],
          "scatterpolar": [
           {
            "marker": {
             "colorbar": {
              "outlinewidth": 1,
              "tickcolor": "rgb(36,36,36)",
              "ticks": "outside"
             }
            },
            "type": "scatterpolar"
           }
          ],
          "scatter": [
           {
            "fillpattern": {
             "fillmode": "overlay",
             "size": 10,
             "solidity": 0.2
            },
            "type": "scatter"
           }
          ],
          "scatterternary": [
           {
            "marker": {
             "colorbar": {
              "outlinewidth": 1,
              "tickcolor": "rgb(36,36,36)",
              "ticks": "outside"
             }
            },
            "type": "scatterternary"
           }
          ],
          "surface": [
           {
            "colorbar": {
             "outlinewidth": 1,
             "tickcolor": "rgb(36,36,36)",
             "ticks": "outside"
            },
            "colorscale": [
             [
              0.0,
              "#440154"
             ],
             [
              0.1111111111111111,
              "#482878"
             ],
             [
              0.2222222222222222,
              "#3e4989"
             ],
             [
              0.3333333333333333,
              "#31688e"
             ],
             [
              0.4444444444444444,
              "#26828e"
             ],
             [
              0.5555555555555556,
              "#1f9e89"
             ],
             [
              0.6666666666666666,
              "#35b779"
             ],
             [
              0.7777777777777778,
              "#6ece58"
             ],
             [
              0.8888888888888888,
              "#b5de2b"
             ],
             [
              1.0,
              "#fde725"
             ]
            ],
            "type": "surface"
           }
          ],
          "table": [
           {
            "cells": {
             "fill": {
              "color": "rgb(237,237,237)"
             },
             "line": {
              "color": "white"
             }
            },
            "header": {
             "fill": {
              "color": "rgb(217,217,217)"
             },
             "line": {
              "color": "white"
             }
            },
            "type": "table"
           }
          ]
         },
         "layout": {
          "annotationdefaults": {
           "arrowhead": 0,
           "arrowwidth": 1
          },
          "autotypenumbers": "strict",
          "coloraxis": {
           "colorbar": {
            "outlinewidth": 1,
            "tickcolor": "rgb(36,36,36)",
            "ticks": "outside"
           }
          },
          "colorscale": {
           "diverging": [
            [
             0.0,
             "rgb(103,0,31)"
            ],
            [
             0.1,
             "rgb(178,24,43)"
            ],
            [
             0.2,
             "rgb(214,96,77)"
            ],
            [
             0.3,
             "rgb(244,165,130)"
            ],
            [
             0.4,
             "rgb(253,219,199)"
            ],
            [
             0.5,
             "rgb(247,247,247)"
            ],
            [
             0.6,
             "rgb(209,229,240)"
            ],
            [
             0.7,
             "rgb(146,197,222)"
            ],
            [
             0.8,
             "rgb(67,147,195)"
            ],
            [
             0.9,
             "rgb(33,102,172)"
            ],
            [
             1.0,
             "rgb(5,48,97)"
            ]
           ],
           "sequential": [
            [
             0.0,
             "#440154"
            ],
            [
             0.1111111111111111,
             "#482878"
            ],
            [
             0.2222222222222222,
             "#3e4989"
            ],
            [
             0.3333333333333333,
             "#31688e"
            ],
            [
             0.4444444444444444,
             "#26828e"
            ],
            [
             0.5555555555555556,
             "#1f9e89"
            ],
            [
             0.6666666666666666,
             "#35b779"
            ],
            [
             0.7777777777777778,
             "#6ece58"
            ],
            [
             0.8888888888888888,
             "#b5de2b"
            ],
            [
             1.0,
             "#fde725"
            ]
           ],
           "sequentialminus": [
            [
             0.0,
             "#440154"
            ],
            [
             0.1111111111111111,
             "#482878"
            ],
            [
             0.2222222222222222,
             "#3e4989"
            ],
            [
             0.3333333333333333,
             "#31688e"
            ],
            [
             0.4444444444444444,
             "#26828e"
            ],
            [
             0.5555555555555556,
             "#1f9e89"
            ],
            [
             0.6666666666666666,
             "#35b779"
            ],
            [
             0.7777777777777778,
             "#6ece58"
            ],
            [
             0.8888888888888888,
             "#b5de2b"
            ],
            [
             1.0,
             "#fde725"
            ]
           ]
          },
          "colorway": [
           "#1F77B4",
           "#FF7F0E",
           "#2CA02C",
           "#D62728",
           "#9467BD",
           "#8C564B",
           "#E377C2",
           "#7F7F7F",
           "#BCBD22",
           "#17BECF"
          ],
          "font": {
           "color": "rgb(36,36,36)"
          },
          "geo": {
           "bgcolor": "white",
           "lakecolor": "white",
           "landcolor": "white",
           "showlakes": true,
           "showland": true,
           "subunitcolor": "white"
          },
          "hoverlabel": {
           "align": "left"
          },
          "hovermode": "closest",
          "mapbox": {
           "style": "light"
          },
          "paper_bgcolor": "white",
          "plot_bgcolor": "white",
          "polar": {
           "angularaxis": {
            "gridcolor": "rgb(232,232,232)",
            "linecolor": "rgb(36,36,36)",
            "showgrid": false,
            "showline": true,
            "ticks": "outside"
           },
           "bgcolor": "white",
           "radialaxis": {
            "gridcolor": "rgb(232,232,232)",
            "linecolor": "rgb(36,36,36)",
            "showgrid": false,
            "showline": true,
            "ticks": "outside"
           }
          },
          "scene": {
           "xaxis": {
            "backgroundcolor": "white",
            "gridcolor": "rgb(232,232,232)",
            "gridwidth": 2,
            "linecolor": "rgb(36,36,36)",
            "showbackground": true,
            "showgrid": false,
            "showline": true,
            "ticks": "outside",
            "zeroline": false,
            "zerolinecolor": "rgb(36,36,36)"
           },
           "yaxis": {
            "backgroundcolor": "white",
            "gridcolor": "rgb(232,232,232)",
            "gridwidth": 2,
            "linecolor": "rgb(36,36,36)",
            "showbackground": true,
            "showgrid": false,
            "showline": true,
            "ticks": "outside",
            "zeroline": false,
            "zerolinecolor": "rgb(36,36,36)"
           },
           "zaxis": {
            "backgroundcolor": "white",
            "gridcolor": "rgb(232,232,232)",
            "gridwidth": 2,
            "linecolor": "rgb(36,36,36)",
            "showbackground": true,
            "showgrid": false,
            "showline": true,
            "ticks": "outside",
            "zeroline": false,
            "zerolinecolor": "rgb(36,36,36)"
           }
          },
          "shapedefaults": {
           "fillcolor": "black",
           "line": {
            "width": 0
           },
           "opacity": 0.3
          },
          "ternary": {
           "aaxis": {
            "gridcolor": "rgb(232,232,232)",
            "linecolor": "rgb(36,36,36)",
            "showgrid": false,
            "showline": true,
            "ticks": "outside"
           },
           "baxis": {
            "gridcolor": "rgb(232,232,232)",
            "linecolor": "rgb(36,36,36)",
            "showgrid": false,
            "showline": true,
            "ticks": "outside"
           },
           "bgcolor": "white",
           "caxis": {
            "gridcolor": "rgb(232,232,232)",
            "linecolor": "rgb(36,36,36)",
            "showgrid": false,
            "showline": true,
            "ticks": "outside"
           }
          },
          "title": {
           "x": 0.05
          },
          "xaxis": {
           "automargin": true,
           "gridcolor": "rgb(232,232,232)",
           "linecolor": "rgb(36,36,36)",
           "showgrid": false,
           "showline": true,
           "ticks": "outside",
           "title": {
            "standoff": 15
           },
           "zeroline": false,
           "zerolinecolor": "rgb(36,36,36)"
          },
          "yaxis": {
           "automargin": true,
           "gridcolor": "rgb(232,232,232)",
           "linecolor": "rgb(36,36,36)",
           "showgrid": false,
           "showline": true,
           "ticks": "outside",
           "title": {
            "standoff": 15
           },
           "zeroline": false,
           "zerolinecolor": "rgb(36,36,36)"
          }
         }
        },
        "shapes": [
         {
          "line": {
           "color": "#CFD8DC",
           "width": 2
          },
          "type": "line",
          "x0": 11.606445169448852,
          "x1": 11.606445169448852,
          "y0": 8.250178909301757,
          "y1": 14.626845455169677
         },
         {
          "line": {
           "color": "#9E9E9E",
           "width": 2
          },
          "type": "line",
          "x0": 6.330495166778564,
          "x1": 16.88239517211914,
          "y0": 11.438512182235717,
          "y1": 11.438512182235717
         }
        ],
        "annotations": [
         {
          "showarrow": false,
          "text": "D1",
          "x": 6.330495166778564,
          "y": 11.438512182235717,
          "yshift": 10
         },
         {
          "showarrow": false,
          "text": "D2",
          "x": 11.606445169448852,
          "xshift": 10,
          "y": 14.626845455169677
         }
        ],
        "title": {
         "font": {
          "size": 22,
          "color": "Black"
         },
         "text": "<b>Documents and Topics",
         "x": 0.5,
         "xanchor": "center",
         "yanchor": "top"
        },
        "width": 1200,
        "height": 750,
        "xaxis": {
         "visible": false
        },
        "yaxis": {
         "visible": false
        }
       },
       "config": {
        "plotlyServerURL": "https://plot.ly"
       }
      },
      "text/html": "<div>                            <div id=\"dd307c41-6ad4-49a4-b93f-f006f029d1e3\" class=\"plotly-graph-div\" style=\"height:750px; width:1200px;\"></div>            <script type=\"text/javascript\">                require([\"plotly\"], function(Plotly) {                    window.PLOTLYENV=window.PLOTLYENV || {};                                    if (document.getElementById(\"dd307c41-6ad4-49a4-b93f-f006f029d1e3\")) {                    Plotly.newPlot(                        \"dd307c41-6ad4-49a4-b93f-f006f029d1e3\",                        [{\"hoverinfo\":\"text\",\"hovertext\":[null],\"marker\":{\"color\":\"#CFD8DC\",\"opacity\":0.5,\"size\":5},\"mode\":\"markers+text\",\"name\":\"other\",\"showlegend\":false,\"x\":[null],\"y\":[null],\"type\":\"scattergl\"},{\"hoverinfo\":\"text\",\"hovertext\":[\"could power grid rotating outages look like abc6onyourside com\",\"us winter storm bring frostbite within minutes bbc\",\"crematoriums fill china shifts counts covid deaths cnn\",\"migrants dropped outside vice president home freezing weather christmas eve cnn\",\"winter storm live updates snow freezing temps across u impact thousands flights wall street journal\",\"nasa explores winter wonderland mars otherworldly holiday scene cube shaped snow scitechdaily\",\"powerful winter storm claims least 22 lives across us temperatures plunge winds howl power lines fall cnn\",\"buffalo new york winter storm leaves three dead area buried 28 inches snow life threatening fox news\",\"generation storm bears u cbc news national\",\"pm update washington coldest christmas eve afternoon record frigid sunday washington post\",\"china stops publishing daily covid figures amid reports explosion cases guardian\",null],\"marker\":{\"opacity\":0.5,\"size\":5},\"mode\":\"markers+text\",\"name\":\"0_winter_storm_snow\",\"text\":[\"\",\"\",\"\",\"\",\"\",\"\",\"\",\"\",\"\",\"\",\"\",\"0_winter_storm_snow\"],\"textfont\":{\"size\":12},\"x\":[14.329819,14.237148,13.43474,13.982579,14.040804,13.668965,14.353635,14.501451,14.680344,14.00052,13.344003,14.052184],\"y\":[11.648859,12.398987,11.745248,11.915097,12.176065,12.462643,12.146486,11.948678,12.159799,12.524927,11.502054,12.057168],\"type\":\"scattergl\"},{\"hoverinfo\":\"text\",\"hovertext\":[\"knows lost cassidy hutchinson testified trump acknowledged lost 2020 election cnn\",\"cassidy hutchinson claims trump figures sought influence testimony washington post\",\"kari lake lawsuit defeat arizona governor race thrown judge cbs news\",\"kari lake 2 day election challenge trial ends judge decides arizona republic\",\"arizona lawyers kari lake election loss lawsuit lacks merit associated press en español\",\"5 arrested 19 year old killed shooting mall america cbs news\",\"arizona remove shipping container wall mexico border associated press en español\",\"missing baby kason thomas found alive nbc4 columbus\",null],\"marker\":{\"opacity\":0.5,\"size\":5},\"mode\":\"markers+text\",\"name\":\"1_arizona_lake_kari\",\"text\":[\"\",\"\",\"\",\"\",\"\",\"\",\"\",\"\",\"1_arizona_lake_kari\"],\"textfont\":{\"size\":12},\"x\":[10.796835,10.92543,10.495632,10.173851,10.408773,11.560755,10.263228,10.934439,10.694868],\"y\":[11.370905,11.4688835,11.190458,11.48459,11.367361,10.585007,10.922421,11.073001,11.182829],\"type\":\"scattergl\"},{\"hoverinfo\":\"text\",\"hovertext\":[\"jacksonville jaguars vs new york jets 2022 week 16 game highlights nfl\",\"eagles vs cowboys good bad ugly bleeding green nation\",\"jets bench qb zach wilson chris streveler game vs jaguars usa today\",\"nfl week 16 grades bengals earn b wild win patriots cowboys get b rallying past eagles cbs sports\",\"steelers honor harris rallying past raiders espn\",\"stock futures flat friday morning cnbc\",\"top plays week 16 nfl 2022 highlights nfl\",null],\"marker\":{\"opacity\":0.5,\"size\":5},\"mode\":\"markers+text\",\"name\":\"2_nfl_16_week\",\"text\":[\"\",\"\",\"\",\"\",\"\",\"\",\"\",\"2_nfl_16_week\"],\"textfont\":{\"size\":12},\"x\":[7.857534,8.006596,7.840327,7.982873,7.4476414,10.364211,7.546182,8.149338],\"y\":[10.477642,10.450775,10.157013,10.603292,10.287245,10.252183,10.390349,10.374071],\"type\":\"scattergl\"},{\"hoverinfo\":\"text\",\"hovertext\":[\"paris shooting aftermath violent unrest following deadly attack kurds bbc\",\"russia considers ways return space crew capsule leak al jazeera english\",\"fuel tanker explosion kills 10 south africa al jazeera english\",\"north korea sold arms russia wagner group u says moscow times\",\"ukraine war zelensky delivers defiant christmas message russian strikes bbc\",\"latest soyuz capsule leak prompts russians plan possible rescue space station crew guardian\",\"airport strikes travellers warned expect disruption bbc\",null],\"marker\":{\"opacity\":0.5,\"size\":5},\"mode\":\"markers+text\",\"name\":\"3_bbc_english_space\",\"text\":[\"\",\"\",\"\",\"\",\"\",\"\",\"\",\"3_bbc_english_space\"],\"textfont\":{\"size\":12},\"x\":[11.934192,12.83607,12.340397,13.194787,12.994043,12.871664,12.600437,12.681656],\"y\":[10.66607,10.25428,10.546326,10.75467,10.481982,10.566489,10.882154,10.593139],\"type\":\"scattergl\"},{\"hoverinfo\":\"text\",\"hovertext\":[\"deep secrecy high risk zelensky improbable c visit came together washington post\",\"jan 6 house committee releases final report trump capitol riot investigation cnbc\",\"elon musk warns margin debt risk market mass panic yahoo finance\",\"senate passes 1 7 trillion government funding bill axios\",\"ftx co founder sam bankman fried back us released 250 million bail verge\",\"read microsoft response ftc activision blizzard lawsuit verge\",null],\"marker\":{\"opacity\":0.5,\"size\":5},\"mode\":\"markers+text\",\"name\":\"4_risk_verge_250\",\"text\":[\"\",\"\",\"\",\"\",\"\",\"\",\"4_risk_verge_250\"],\"textfont\":{\"size\":12},\"x\":[12.547344,11.377602,11.601685,11.264174,11.803753,11.800056,11.732436],\"y\":[10.410008,10.857052,12.052383,12.012613,12.095715,11.3868065,11.469096],\"type\":\"scattergl\"},{\"hoverinfo\":\"text\",\"hovertext\":[\"chris streveler look jets practice squad quarterback replaced benched zach wilson cbs sports\",\"everything know trevor bauer mlb suspension reduction espn\",\"dodgers trevor bauer reinstated suspension cut 194 games espn\",\"rosenthal mets carlos correa land 12 years 315 million athletic\",null],\"marker\":{\"opacity\":0.5,\"size\":5},\"mode\":\"markers+text\",\"name\":\"5_suspension_bauer_trevor\",\"text\":[\"\",\"\",\"\",\"\",\"5_suspension_bauer_trevor\"],\"textfont\":{\"size\":12},\"x\":[7.551859,7.8624635,7.670958,8.136379,7.8054147],\"y\":[9.888106,9.706093,9.86974,9.839898,9.825959],\"type\":\"scattergl\"},{\"hoverinfo\":\"text\",\"hovertext\":[\"megan thee stallion boyfriend pardison fontaine shares message support women amid tory lanez trial billboard\",\"taliban minister defends closing universities women global backlash grows guardian\",\"taliban orders ngos ban female employees coming work cnn\",null],\"marker\":{\"opacity\":0.5,\"size\":5},\"mode\":\"markers+text\",\"name\":\"6_women_taliban_lanez\",\"text\":[\"\",\"\",\"\",\"6_women_taliban_lanez\"],\"textfont\":{\"size\":12},\"x\":[12.281186,12.712041,13.021478,12.671569],\"y\":[11.999958,11.802592,11.924902,11.909152],\"type\":\"scattergl\"},{\"hoverinfo\":\"text\",\"hovertext\":[\"charlie cox fascinated daredevil 18 episode order disney says probably gory netflix yahoo entertainment\",\"james webb telescope amazing images show universe never yahoo voices\",\"lindsay lohan beams new holiday selfie husband bader shammas e online e news\",null],\"marker\":{\"opacity\":0.5,\"size\":5},\"mode\":\"markers+text\",\"name\":\"7_yahoo_voices_entertainment\",\"text\":[\"\",\"\",\"\",\"7_yahoo_voices_entertainment\"],\"textfont\":{\"size\":12},\"x\":[12.643344,12.959113,13.056711,12.88639],\"y\":[12.718996,12.597818,12.411801,12.576205],\"type\":\"scattergl\"}],                        {\"template\":{\"data\":{\"barpolar\":[{\"marker\":{\"line\":{\"color\":\"white\",\"width\":0.5},\"pattern\":{\"fillmode\":\"overlay\",\"size\":10,\"solidity\":0.2}},\"type\":\"barpolar\"}],\"bar\":[{\"error_x\":{\"color\":\"rgb(36,36,36)\"},\"error_y\":{\"color\":\"rgb(36,36,36)\"},\"marker\":{\"line\":{\"color\":\"white\",\"width\":0.5},\"pattern\":{\"fillmode\":\"overlay\",\"size\":10,\"solidity\":0.2}},\"type\":\"bar\"}],\"carpet\":[{\"aaxis\":{\"endlinecolor\":\"rgb(36,36,36)\",\"gridcolor\":\"white\",\"linecolor\":\"white\",\"minorgridcolor\":\"white\",\"startlinecolor\":\"rgb(36,36,36)\"},\"baxis\":{\"endlinecolor\":\"rgb(36,36,36)\",\"gridcolor\":\"white\",\"linecolor\":\"white\",\"minorgridcolor\":\"white\",\"startlinecolor\":\"rgb(36,36,36)\"},\"type\":\"carpet\"}],\"choropleth\":[{\"colorbar\":{\"outlinewidth\":1,\"tickcolor\":\"rgb(36,36,36)\",\"ticks\":\"outside\"},\"type\":\"choropleth\"}],\"contourcarpet\":[{\"colorbar\":{\"outlinewidth\":1,\"tickcolor\":\"rgb(36,36,36)\",\"ticks\":\"outside\"},\"type\":\"contourcarpet\"}],\"contour\":[{\"colorbar\":{\"outlinewidth\":1,\"tickcolor\":\"rgb(36,36,36)\",\"ticks\":\"outside\"},\"colorscale\":[[0.0,\"#440154\"],[0.1111111111111111,\"#482878\"],[0.2222222222222222,\"#3e4989\"],[0.3333333333333333,\"#31688e\"],[0.4444444444444444,\"#26828e\"],[0.5555555555555556,\"#1f9e89\"],[0.6666666666666666,\"#35b779\"],[0.7777777777777778,\"#6ece58\"],[0.8888888888888888,\"#b5de2b\"],[1.0,\"#fde725\"]],\"type\":\"contour\"}],\"heatmapgl\":[{\"colorbar\":{\"outlinewidth\":1,\"tickcolor\":\"rgb(36,36,36)\",\"ticks\":\"outside\"},\"colorscale\":[[0.0,\"#440154\"],[0.1111111111111111,\"#482878\"],[0.2222222222222222,\"#3e4989\"],[0.3333333333333333,\"#31688e\"],[0.4444444444444444,\"#26828e\"],[0.5555555555555556,\"#1f9e89\"],[0.6666666666666666,\"#35b779\"],[0.7777777777777778,\"#6ece58\"],[0.8888888888888888,\"#b5de2b\"],[1.0,\"#fde725\"]],\"type\":\"heatmapgl\"}],\"heatmap\":[{\"colorbar\":{\"outlinewidth\":1,\"tickcolor\":\"rgb(36,36,36)\",\"ticks\":\"outside\"},\"colorscale\":[[0.0,\"#440154\"],[0.1111111111111111,\"#482878\"],[0.2222222222222222,\"#3e4989\"],[0.3333333333333333,\"#31688e\"],[0.4444444444444444,\"#26828e\"],[0.5555555555555556,\"#1f9e89\"],[0.6666666666666666,\"#35b779\"],[0.7777777777777778,\"#6ece58\"],[0.8888888888888888,\"#b5de2b\"],[1.0,\"#fde725\"]],\"type\":\"heatmap\"}],\"histogram2dcontour\":[{\"colorbar\":{\"outlinewidth\":1,\"tickcolor\":\"rgb(36,36,36)\",\"ticks\":\"outside\"},\"colorscale\":[[0.0,\"#440154\"],[0.1111111111111111,\"#482878\"],[0.2222222222222222,\"#3e4989\"],[0.3333333333333333,\"#31688e\"],[0.4444444444444444,\"#26828e\"],[0.5555555555555556,\"#1f9e89\"],[0.6666666666666666,\"#35b779\"],[0.7777777777777778,\"#6ece58\"],[0.8888888888888888,\"#b5de2b\"],[1.0,\"#fde725\"]],\"type\":\"histogram2dcontour\"}],\"histogram2d\":[{\"colorbar\":{\"outlinewidth\":1,\"tickcolor\":\"rgb(36,36,36)\",\"ticks\":\"outside\"},\"colorscale\":[[0.0,\"#440154\"],[0.1111111111111111,\"#482878\"],[0.2222222222222222,\"#3e4989\"],[0.3333333333333333,\"#31688e\"],[0.4444444444444444,\"#26828e\"],[0.5555555555555556,\"#1f9e89\"],[0.6666666666666666,\"#35b779\"],[0.7777777777777778,\"#6ece58\"],[0.8888888888888888,\"#b5de2b\"],[1.0,\"#fde725\"]],\"type\":\"histogram2d\"}],\"histogram\":[{\"marker\":{\"line\":{\"color\":\"white\",\"width\":0.6}},\"type\":\"histogram\"}],\"mesh3d\":[{\"colorbar\":{\"outlinewidth\":1,\"tickcolor\":\"rgb(36,36,36)\",\"ticks\":\"outside\"},\"type\":\"mesh3d\"}],\"parcoords\":[{\"line\":{\"colorbar\":{\"outlinewidth\":1,\"tickcolor\":\"rgb(36,36,36)\",\"ticks\":\"outside\"}},\"type\":\"parcoords\"}],\"pie\":[{\"automargin\":true,\"type\":\"pie\"}],\"scatter3d\":[{\"line\":{\"colorbar\":{\"outlinewidth\":1,\"tickcolor\":\"rgb(36,36,36)\",\"ticks\":\"outside\"}},\"marker\":{\"colorbar\":{\"outlinewidth\":1,\"tickcolor\":\"rgb(36,36,36)\",\"ticks\":\"outside\"}},\"type\":\"scatter3d\"}],\"scattercarpet\":[{\"marker\":{\"colorbar\":{\"outlinewidth\":1,\"tickcolor\":\"rgb(36,36,36)\",\"ticks\":\"outside\"}},\"type\":\"scattercarpet\"}],\"scattergeo\":[{\"marker\":{\"colorbar\":{\"outlinewidth\":1,\"tickcolor\":\"rgb(36,36,36)\",\"ticks\":\"outside\"}},\"type\":\"scattergeo\"}],\"scattergl\":[{\"marker\":{\"colorbar\":{\"outlinewidth\":1,\"tickcolor\":\"rgb(36,36,36)\",\"ticks\":\"outside\"}},\"type\":\"scattergl\"}],\"scattermapbox\":[{\"marker\":{\"colorbar\":{\"outlinewidth\":1,\"tickcolor\":\"rgb(36,36,36)\",\"ticks\":\"outside\"}},\"type\":\"scattermapbox\"}],\"scatterpolargl\":[{\"marker\":{\"colorbar\":{\"outlinewidth\":1,\"tickcolor\":\"rgb(36,36,36)\",\"ticks\":\"outside\"}},\"type\":\"scatterpolargl\"}],\"scatterpolar\":[{\"marker\":{\"colorbar\":{\"outlinewidth\":1,\"tickcolor\":\"rgb(36,36,36)\",\"ticks\":\"outside\"}},\"type\":\"scatterpolar\"}],\"scatter\":[{\"fillpattern\":{\"fillmode\":\"overlay\",\"size\":10,\"solidity\":0.2},\"type\":\"scatter\"}],\"scatterternary\":[{\"marker\":{\"colorbar\":{\"outlinewidth\":1,\"tickcolor\":\"rgb(36,36,36)\",\"ticks\":\"outside\"}},\"type\":\"scatterternary\"}],\"surface\":[{\"colorbar\":{\"outlinewidth\":1,\"tickcolor\":\"rgb(36,36,36)\",\"ticks\":\"outside\"},\"colorscale\":[[0.0,\"#440154\"],[0.1111111111111111,\"#482878\"],[0.2222222222222222,\"#3e4989\"],[0.3333333333333333,\"#31688e\"],[0.4444444444444444,\"#26828e\"],[0.5555555555555556,\"#1f9e89\"],[0.6666666666666666,\"#35b779\"],[0.7777777777777778,\"#6ece58\"],[0.8888888888888888,\"#b5de2b\"],[1.0,\"#fde725\"]],\"type\":\"surface\"}],\"table\":[{\"cells\":{\"fill\":{\"color\":\"rgb(237,237,237)\"},\"line\":{\"color\":\"white\"}},\"header\":{\"fill\":{\"color\":\"rgb(217,217,217)\"},\"line\":{\"color\":\"white\"}},\"type\":\"table\"}]},\"layout\":{\"annotationdefaults\":{\"arrowhead\":0,\"arrowwidth\":1},\"autotypenumbers\":\"strict\",\"coloraxis\":{\"colorbar\":{\"outlinewidth\":1,\"tickcolor\":\"rgb(36,36,36)\",\"ticks\":\"outside\"}},\"colorscale\":{\"diverging\":[[0.0,\"rgb(103,0,31)\"],[0.1,\"rgb(178,24,43)\"],[0.2,\"rgb(214,96,77)\"],[0.3,\"rgb(244,165,130)\"],[0.4,\"rgb(253,219,199)\"],[0.5,\"rgb(247,247,247)\"],[0.6,\"rgb(209,229,240)\"],[0.7,\"rgb(146,197,222)\"],[0.8,\"rgb(67,147,195)\"],[0.9,\"rgb(33,102,172)\"],[1.0,\"rgb(5,48,97)\"]],\"sequential\":[[0.0,\"#440154\"],[0.1111111111111111,\"#482878\"],[0.2222222222222222,\"#3e4989\"],[0.3333333333333333,\"#31688e\"],[0.4444444444444444,\"#26828e\"],[0.5555555555555556,\"#1f9e89\"],[0.6666666666666666,\"#35b779\"],[0.7777777777777778,\"#6ece58\"],[0.8888888888888888,\"#b5de2b\"],[1.0,\"#fde725\"]],\"sequentialminus\":[[0.0,\"#440154\"],[0.1111111111111111,\"#482878\"],[0.2222222222222222,\"#3e4989\"],[0.3333333333333333,\"#31688e\"],[0.4444444444444444,\"#26828e\"],[0.5555555555555556,\"#1f9e89\"],[0.6666666666666666,\"#35b779\"],[0.7777777777777778,\"#6ece58\"],[0.8888888888888888,\"#b5de2b\"],[1.0,\"#fde725\"]]},\"colorway\":[\"#1F77B4\",\"#FF7F0E\",\"#2CA02C\",\"#D62728\",\"#9467BD\",\"#8C564B\",\"#E377C2\",\"#7F7F7F\",\"#BCBD22\",\"#17BECF\"],\"font\":{\"color\":\"rgb(36,36,36)\"},\"geo\":{\"bgcolor\":\"white\",\"lakecolor\":\"white\",\"landcolor\":\"white\",\"showlakes\":true,\"showland\":true,\"subunitcolor\":\"white\"},\"hoverlabel\":{\"align\":\"left\"},\"hovermode\":\"closest\",\"mapbox\":{\"style\":\"light\"},\"paper_bgcolor\":\"white\",\"plot_bgcolor\":\"white\",\"polar\":{\"angularaxis\":{\"gridcolor\":\"rgb(232,232,232)\",\"linecolor\":\"rgb(36,36,36)\",\"showgrid\":false,\"showline\":true,\"ticks\":\"outside\"},\"bgcolor\":\"white\",\"radialaxis\":{\"gridcolor\":\"rgb(232,232,232)\",\"linecolor\":\"rgb(36,36,36)\",\"showgrid\":false,\"showline\":true,\"ticks\":\"outside\"}},\"scene\":{\"xaxis\":{\"backgroundcolor\":\"white\",\"gridcolor\":\"rgb(232,232,232)\",\"gridwidth\":2,\"linecolor\":\"rgb(36,36,36)\",\"showbackground\":true,\"showgrid\":false,\"showline\":true,\"ticks\":\"outside\",\"zeroline\":false,\"zerolinecolor\":\"rgb(36,36,36)\"},\"yaxis\":{\"backgroundcolor\":\"white\",\"gridcolor\":\"rgb(232,232,232)\",\"gridwidth\":2,\"linecolor\":\"rgb(36,36,36)\",\"showbackground\":true,\"showgrid\":false,\"showline\":true,\"ticks\":\"outside\",\"zeroline\":false,\"zerolinecolor\":\"rgb(36,36,36)\"},\"zaxis\":{\"backgroundcolor\":\"white\",\"gridcolor\":\"rgb(232,232,232)\",\"gridwidth\":2,\"linecolor\":\"rgb(36,36,36)\",\"showbackground\":true,\"showgrid\":false,\"showline\":true,\"ticks\":\"outside\",\"zeroline\":false,\"zerolinecolor\":\"rgb(36,36,36)\"}},\"shapedefaults\":{\"fillcolor\":\"black\",\"line\":{\"width\":0},\"opacity\":0.3},\"ternary\":{\"aaxis\":{\"gridcolor\":\"rgb(232,232,232)\",\"linecolor\":\"rgb(36,36,36)\",\"showgrid\":false,\"showline\":true,\"ticks\":\"outside\"},\"baxis\":{\"gridcolor\":\"rgb(232,232,232)\",\"linecolor\":\"rgb(36,36,36)\",\"showgrid\":false,\"showline\":true,\"ticks\":\"outside\"},\"bgcolor\":\"white\",\"caxis\":{\"gridcolor\":\"rgb(232,232,232)\",\"linecolor\":\"rgb(36,36,36)\",\"showgrid\":false,\"showline\":true,\"ticks\":\"outside\"}},\"title\":{\"x\":0.05},\"xaxis\":{\"automargin\":true,\"gridcolor\":\"rgb(232,232,232)\",\"linecolor\":\"rgb(36,36,36)\",\"showgrid\":false,\"showline\":true,\"ticks\":\"outside\",\"title\":{\"standoff\":15},\"zeroline\":false,\"zerolinecolor\":\"rgb(36,36,36)\"},\"yaxis\":{\"automargin\":true,\"gridcolor\":\"rgb(232,232,232)\",\"linecolor\":\"rgb(36,36,36)\",\"showgrid\":false,\"showline\":true,\"ticks\":\"outside\",\"title\":{\"standoff\":15},\"zeroline\":false,\"zerolinecolor\":\"rgb(36,36,36)\"}}},\"shapes\":[{\"line\":{\"color\":\"#CFD8DC\",\"width\":2},\"type\":\"line\",\"x0\":11.606445169448852,\"x1\":11.606445169448852,\"y0\":8.250178909301757,\"y1\":14.626845455169677},{\"line\":{\"color\":\"#9E9E9E\",\"width\":2},\"type\":\"line\",\"x0\":6.330495166778564,\"x1\":16.88239517211914,\"y0\":11.438512182235717,\"y1\":11.438512182235717}],\"annotations\":[{\"showarrow\":false,\"text\":\"D1\",\"x\":6.330495166778564,\"y\":11.438512182235717,\"yshift\":10},{\"showarrow\":false,\"text\":\"D2\",\"x\":11.606445169448852,\"xshift\":10,\"y\":14.626845455169677}],\"title\":{\"font\":{\"size\":22,\"color\":\"Black\"},\"text\":\"<b>Documents and Topics\",\"x\":0.5,\"xanchor\":\"center\",\"yanchor\":\"top\"},\"width\":1200,\"height\":750,\"xaxis\":{\"visible\":false},\"yaxis\":{\"visible\":false}},                        {\"responsive\": true}                    ).then(function(){\n                            \nvar gd = document.getElementById('dd307c41-6ad4-49a4-b93f-f006f029d1e3');\nvar x = new MutationObserver(function (mutations, observer) {{\n        var display = window.getComputedStyle(gd).display;\n        if (!display || display === 'none') {{\n            console.log([gd, 'removed!']);\n            Plotly.purge(gd);\n            observer.disconnect();\n        }}\n}});\n\n// Listen for the removal of the full notebook cells\nvar notebookContainer = gd.closest('#notebook-container');\nif (notebookContainer) {{\n    x.observe(notebookContainer, {childList: true});\n}}\n\n// Listen for the clearing of the current output cell\nvar outputEl = gd.closest('.output');\nif (outputEl) {{\n    x.observe(outputEl, {childList: true});\n}}\n\n                        })                };                });            </script>        </div>"
     },
     "metadata": {},
     "output_type": "display_data"
    }
   ],
   "source": [
    "topic_model.visualize_documents(data['title_topic'])"
   ],
   "metadata": {
    "collapsed": false
   }
  },
  {
   "cell_type": "code",
   "execution_count": 16,
   "outputs": [
    {
     "name": "stderr",
     "output_type": "stream",
     "text": [
      "100%|██████████| 7/7 [00:00<00:00, 420.26it/s]\n",
      "C:\\Users\\steem\\StanceDetection\\lib\\site-packages\\plotly\\figure_factory\\_dendrogram.py:350: DeprecationWarning:\n",
      "\n",
      "scipy.array is deprecated and will be removed in SciPy 2.0.0, use numpy.array instead\n",
      "\n",
      "C:\\Users\\steem\\StanceDetection\\lib\\site-packages\\plotly\\figure_factory\\_dendrogram.py:351: DeprecationWarning:\n",
      "\n",
      "scipy.array is deprecated and will be removed in SciPy 2.0.0, use numpy.array instead\n",
      "\n",
      "C:\\Users\\steem\\StanceDetection\\lib\\site-packages\\plotly\\figure_factory\\_dendrogram.py:352: DeprecationWarning:\n",
      "\n",
      "scipy.array is deprecated and will be removed in SciPy 2.0.0, use numpy.array instead\n",
      "\n",
      "C:\\Users\\steem\\StanceDetection\\lib\\site-packages\\plotly\\figure_factory\\_dendrogram.py:353: DeprecationWarning:\n",
      "\n",
      "scipy.array is deprecated and will be removed in SciPy 2.0.0, use numpy.array instead\n",
      "\n",
      "C:\\Users\\steem\\StanceDetection\\lib\\site-packages\\plotly\\io\\_renderers.py:395: DeprecationWarning:\n",
      "\n",
      "distutils Version classes are deprecated. Use packaging.version instead.\n",
      "\n"
     ]
    },
    {
     "data": {
      "application/vnd.plotly.v1+json": {
       "data": [
        {
         "hoverinfo": "text",
         "marker": {
          "color": "rgb(0,116,217)"
         },
         "mode": "lines",
         "text": [
          "suspension_bauer_trevor_espn_know",
          "",
          "",
          "nfl_16_week_vs_highlights"
         ],
         "x": [
          0.0,
          1.2610484597877845,
          1.2610484597877845,
          0.0
         ],
         "xaxis": "x",
         "y": [
          -5.0,
          -5.0,
          -15.0,
          -15.0
         ],
         "yaxis": "y",
         "type": "scatter"
        },
        {
         "hoverinfo": "text",
         "marker": {
          "color": "rgb(0,116,217)"
         },
         "mode": "lines",
         "text": [
          "winter_storm_snow_cnn_eve",
          "",
          "",
          "arizona_lake_kari_election_judge"
         ],
         "x": [
          0.0,
          1.337243180060693,
          1.337243180060693,
          0.0
         ],
         "xaxis": "x",
         "y": [
          -35.0,
          -35.0,
          -45.0,
          -45.0
         ],
         "yaxis": "y",
         "type": "scatter"
        },
        {
         "hoverinfo": "text",
         "marker": {
          "color": "rgb(0,116,217)"
         },
         "mode": "lines",
         "text": [
          "storm_winter_arizona_cnn_news",
          "",
          "",
          "risk_verge_250_mass_capitol"
         ],
         "x": [
          1.337243180060693,
          1.3733369040328371,
          1.3733369040328371,
          0.0
         ],
         "xaxis": "x",
         "y": [
          -40.0,
          -40.0,
          -55.0,
          -55.0
         ],
         "yaxis": "y",
         "type": "scatter"
        },
        {
         "hoverinfo": "text",
         "marker": {
          "color": "rgb(0,116,217)"
         },
         "mode": "lines",
         "text": [
          "yahoo_voices_entertainment_fascinated_episode",
          "",
          "",
          "storm_winter_washington_arizona_cnn"
         ],
         "x": [
          0.0,
          1.3958377121837156,
          1.3958377121837156,
          1.3733369040328371
         ],
         "xaxis": "x",
         "y": [
          -25.0,
          -25.0,
          -47.5,
          -47.5
         ],
         "yaxis": "y",
         "type": "scatter"
        },
        {
         "hoverinfo": "text",
         "marker": {
          "color": "rgb(0,116,217)"
         },
         "mode": "lines",
         "text": [
          "bbc_english_space_strikes_crew",
          "",
          "",
          "women_taliban_lanez_support_stallion"
         ],
         "x": [
          0.0,
          1.3794640630547579,
          1.3794640630547579,
          0.0
         ],
         "xaxis": "x",
         "y": [
          -65.0,
          -65.0,
          -75.0,
          -75.0
         ],
         "yaxis": "y",
         "type": "scatter"
        },
        {
         "hoverinfo": "text",
         "marker": {
          "color": "rgb(0,116,217)"
         },
         "mode": "lines",
         "text": [
          "winter_news_storm_washington_arizona",
          "",
          "",
          "bbc_space_taliban_russia_strikes"
         ],
         "x": [
          1.3958377121837156,
          1.4259619919244024,
          1.4259619919244024,
          1.3794640630547579
         ],
         "xaxis": "x",
         "y": [
          -36.25,
          -36.25,
          -70.0,
          -70.0
         ],
         "yaxis": "y",
         "type": "scatter"
        },
        {
         "hoverinfo": "text",
         "marker": {
          "color": "rgb(0,116,217)"
         },
         "mode": "lines",
         "text": [
          "nfl_espn_jets_week_vs",
          "",
          "",
          "storm_winter_cnn_news_arizona"
         ],
         "x": [
          1.2610484597877845,
          1.5409758883198539,
          1.5409758883198539,
          1.4259619919244024
         ],
         "xaxis": "x",
         "y": [
          -10.0,
          -10.0,
          -53.125,
          -53.125
         ],
         "yaxis": "y",
         "type": "scatter"
        },
        {
         "hoverinfo": "text",
         "hovertext": [
          "storm_winter_arizona_cnn_news",
          "winter_news_storm_washington_arizona",
          "nfl_espn_jets_week_vs"
         ],
         "marker": {
          "color": "black"
         },
         "mode": "markers",
         "showlegend": false,
         "x": [
          1.337243180060693,
          1.3958377121837156,
          1.2610484597877845
         ],
         "y": [
          -40.0,
          -36.25,
          -10.0
         ],
         "type": "scatter"
        },
        {
         "hoverinfo": "text",
         "hovertext": [
          "storm_winter_washington_arizona_cnn",
          "bbc_space_taliban_russia_strikes",
          "storm_winter_cnn_news_arizona"
         ],
         "marker": {
          "color": "black"
         },
         "mode": "markers",
         "showlegend": false,
         "x": [
          1.3733369040328371,
          1.3794640630547579,
          1.4259619919244024
         ],
         "y": [
          -47.5,
          -70.0,
          -53.125
         ],
         "type": "scatter"
        }
       ],
       "layout": {
        "autosize": false,
        "height": 320,
        "hovermode": "closest",
        "showlegend": false,
        "width": 1000,
        "xaxis": {
         "mirror": "allticks",
         "rangemode": "tozero",
         "showgrid": false,
         "showline": true,
         "showticklabels": true,
         "ticks": "outside",
         "type": "linear",
         "zeroline": false
        },
        "yaxis": {
         "mirror": "allticks",
         "rangemode": "tozero",
         "showgrid": false,
         "showline": true,
         "showticklabels": true,
         "tickmode": "array",
         "ticks": "outside",
         "ticktext": [
          "5_suspension_bauer_trevor",
          "2_nfl_16_week",
          "7_yahoo_voices_entertainment",
          "0_winter_storm_snow",
          "1_arizona_lake_kari",
          "4_risk_verge_250",
          "3_bbc_english_space",
          "6_women_taliban_lanez"
         ],
         "tickvals": [
          -5.0,
          -15.0,
          -25.0,
          -35.0,
          -45.0,
          -55.0,
          -65.0,
          -75.0
         ],
         "type": "linear",
         "zeroline": false,
         "range": [
          -80.0,
          0.0
         ]
        },
        "template": {
         "data": {
          "barpolar": [
           {
            "marker": {
             "line": {
              "color": "white",
              "width": 0.5
             },
             "pattern": {
              "fillmode": "overlay",
              "size": 10,
              "solidity": 0.2
             }
            },
            "type": "barpolar"
           }
          ],
          "bar": [
           {
            "error_x": {
             "color": "#2a3f5f"
            },
            "error_y": {
             "color": "#2a3f5f"
            },
            "marker": {
             "line": {
              "color": "white",
              "width": 0.5
             },
             "pattern": {
              "fillmode": "overlay",
              "size": 10,
              "solidity": 0.2
             }
            },
            "type": "bar"
           }
          ],
          "carpet": [
           {
            "aaxis": {
             "endlinecolor": "#2a3f5f",
             "gridcolor": "#C8D4E3",
             "linecolor": "#C8D4E3",
             "minorgridcolor": "#C8D4E3",
             "startlinecolor": "#2a3f5f"
            },
            "baxis": {
             "endlinecolor": "#2a3f5f",
             "gridcolor": "#C8D4E3",
             "linecolor": "#C8D4E3",
             "minorgridcolor": "#C8D4E3",
             "startlinecolor": "#2a3f5f"
            },
            "type": "carpet"
           }
          ],
          "choropleth": [
           {
            "colorbar": {
             "outlinewidth": 0,
             "ticks": ""
            },
            "type": "choropleth"
           }
          ],
          "contourcarpet": [
           {
            "colorbar": {
             "outlinewidth": 0,
             "ticks": ""
            },
            "type": "contourcarpet"
           }
          ],
          "contour": [
           {
            "colorbar": {
             "outlinewidth": 0,
             "ticks": ""
            },
            "colorscale": [
             [
              0.0,
              "#0d0887"
             ],
             [
              0.1111111111111111,
              "#46039f"
             ],
             [
              0.2222222222222222,
              "#7201a8"
             ],
             [
              0.3333333333333333,
              "#9c179e"
             ],
             [
              0.4444444444444444,
              "#bd3786"
             ],
             [
              0.5555555555555556,
              "#d8576b"
             ],
             [
              0.6666666666666666,
              "#ed7953"
             ],
             [
              0.7777777777777778,
              "#fb9f3a"
             ],
             [
              0.8888888888888888,
              "#fdca26"
             ],
             [
              1.0,
              "#f0f921"
             ]
            ],
            "type": "contour"
           }
          ],
          "heatmapgl": [
           {
            "colorbar": {
             "outlinewidth": 0,
             "ticks": ""
            },
            "colorscale": [
             [
              0.0,
              "#0d0887"
             ],
             [
              0.1111111111111111,
              "#46039f"
             ],
             [
              0.2222222222222222,
              "#7201a8"
             ],
             [
              0.3333333333333333,
              "#9c179e"
             ],
             [
              0.4444444444444444,
              "#bd3786"
             ],
             [
              0.5555555555555556,
              "#d8576b"
             ],
             [
              0.6666666666666666,
              "#ed7953"
             ],
             [
              0.7777777777777778,
              "#fb9f3a"
             ],
             [
              0.8888888888888888,
              "#fdca26"
             ],
             [
              1.0,
              "#f0f921"
             ]
            ],
            "type": "heatmapgl"
           }
          ],
          "heatmap": [
           {
            "colorbar": {
             "outlinewidth": 0,
             "ticks": ""
            },
            "colorscale": [
             [
              0.0,
              "#0d0887"
             ],
             [
              0.1111111111111111,
              "#46039f"
             ],
             [
              0.2222222222222222,
              "#7201a8"
             ],
             [
              0.3333333333333333,
              "#9c179e"
             ],
             [
              0.4444444444444444,
              "#bd3786"
             ],
             [
              0.5555555555555556,
              "#d8576b"
             ],
             [
              0.6666666666666666,
              "#ed7953"
             ],
             [
              0.7777777777777778,
              "#fb9f3a"
             ],
             [
              0.8888888888888888,
              "#fdca26"
             ],
             [
              1.0,
              "#f0f921"
             ]
            ],
            "type": "heatmap"
           }
          ],
          "histogram2dcontour": [
           {
            "colorbar": {
             "outlinewidth": 0,
             "ticks": ""
            },
            "colorscale": [
             [
              0.0,
              "#0d0887"
             ],
             [
              0.1111111111111111,
              "#46039f"
             ],
             [
              0.2222222222222222,
              "#7201a8"
             ],
             [
              0.3333333333333333,
              "#9c179e"
             ],
             [
              0.4444444444444444,
              "#bd3786"
             ],
             [
              0.5555555555555556,
              "#d8576b"
             ],
             [
              0.6666666666666666,
              "#ed7953"
             ],
             [
              0.7777777777777778,
              "#fb9f3a"
             ],
             [
              0.8888888888888888,
              "#fdca26"
             ],
             [
              1.0,
              "#f0f921"
             ]
            ],
            "type": "histogram2dcontour"
           }
          ],
          "histogram2d": [
           {
            "colorbar": {
             "outlinewidth": 0,
             "ticks": ""
            },
            "colorscale": [
             [
              0.0,
              "#0d0887"
             ],
             [
              0.1111111111111111,
              "#46039f"
             ],
             [
              0.2222222222222222,
              "#7201a8"
             ],
             [
              0.3333333333333333,
              "#9c179e"
             ],
             [
              0.4444444444444444,
              "#bd3786"
             ],
             [
              0.5555555555555556,
              "#d8576b"
             ],
             [
              0.6666666666666666,
              "#ed7953"
             ],
             [
              0.7777777777777778,
              "#fb9f3a"
             ],
             [
              0.8888888888888888,
              "#fdca26"
             ],
             [
              1.0,
              "#f0f921"
             ]
            ],
            "type": "histogram2d"
           }
          ],
          "histogram": [
           {
            "marker": {
             "pattern": {
              "fillmode": "overlay",
              "size": 10,
              "solidity": 0.2
             }
            },
            "type": "histogram"
           }
          ],
          "mesh3d": [
           {
            "colorbar": {
             "outlinewidth": 0,
             "ticks": ""
            },
            "type": "mesh3d"
           }
          ],
          "parcoords": [
           {
            "line": {
             "colorbar": {
              "outlinewidth": 0,
              "ticks": ""
             }
            },
            "type": "parcoords"
           }
          ],
          "pie": [
           {
            "automargin": true,
            "type": "pie"
           }
          ],
          "scatter3d": [
           {
            "line": {
             "colorbar": {
              "outlinewidth": 0,
              "ticks": ""
             }
            },
            "marker": {
             "colorbar": {
              "outlinewidth": 0,
              "ticks": ""
             }
            },
            "type": "scatter3d"
           }
          ],
          "scattercarpet": [
           {
            "marker": {
             "colorbar": {
              "outlinewidth": 0,
              "ticks": ""
             }
            },
            "type": "scattercarpet"
           }
          ],
          "scattergeo": [
           {
            "marker": {
             "colorbar": {
              "outlinewidth": 0,
              "ticks": ""
             }
            },
            "type": "scattergeo"
           }
          ],
          "scattergl": [
           {
            "marker": {
             "colorbar": {
              "outlinewidth": 0,
              "ticks": ""
             }
            },
            "type": "scattergl"
           }
          ],
          "scattermapbox": [
           {
            "marker": {
             "colorbar": {
              "outlinewidth": 0,
              "ticks": ""
             }
            },
            "type": "scattermapbox"
           }
          ],
          "scatterpolargl": [
           {
            "marker": {
             "colorbar": {
              "outlinewidth": 0,
              "ticks": ""
             }
            },
            "type": "scatterpolargl"
           }
          ],
          "scatterpolar": [
           {
            "marker": {
             "colorbar": {
              "outlinewidth": 0,
              "ticks": ""
             }
            },
            "type": "scatterpolar"
           }
          ],
          "scatter": [
           {
            "fillpattern": {
             "fillmode": "overlay",
             "size": 10,
             "solidity": 0.2
            },
            "type": "scatter"
           }
          ],
          "scatterternary": [
           {
            "marker": {
             "colorbar": {
              "outlinewidth": 0,
              "ticks": ""
             }
            },
            "type": "scatterternary"
           }
          ],
          "surface": [
           {
            "colorbar": {
             "outlinewidth": 0,
             "ticks": ""
            },
            "colorscale": [
             [
              0.0,
              "#0d0887"
             ],
             [
              0.1111111111111111,
              "#46039f"
             ],
             [
              0.2222222222222222,
              "#7201a8"
             ],
             [
              0.3333333333333333,
              "#9c179e"
             ],
             [
              0.4444444444444444,
              "#bd3786"
             ],
             [
              0.5555555555555556,
              "#d8576b"
             ],
             [
              0.6666666666666666,
              "#ed7953"
             ],
             [
              0.7777777777777778,
              "#fb9f3a"
             ],
             [
              0.8888888888888888,
              "#fdca26"
             ],
             [
              1.0,
              "#f0f921"
             ]
            ],
            "type": "surface"
           }
          ],
          "table": [
           {
            "cells": {
             "fill": {
              "color": "#EBF0F8"
             },
             "line": {
              "color": "white"
             }
            },
            "header": {
             "fill": {
              "color": "#C8D4E3"
             },
             "line": {
              "color": "white"
             }
            },
            "type": "table"
           }
          ]
         },
         "layout": {
          "annotationdefaults": {
           "arrowcolor": "#2a3f5f",
           "arrowhead": 0,
           "arrowwidth": 1
          },
          "autotypenumbers": "strict",
          "coloraxis": {
           "colorbar": {
            "outlinewidth": 0,
            "ticks": ""
           }
          },
          "colorscale": {
           "diverging": [
            [
             0,
             "#8e0152"
            ],
            [
             0.1,
             "#c51b7d"
            ],
            [
             0.2,
             "#de77ae"
            ],
            [
             0.3,
             "#f1b6da"
            ],
            [
             0.4,
             "#fde0ef"
            ],
            [
             0.5,
             "#f7f7f7"
            ],
            [
             0.6,
             "#e6f5d0"
            ],
            [
             0.7,
             "#b8e186"
            ],
            [
             0.8,
             "#7fbc41"
            ],
            [
             0.9,
             "#4d9221"
            ],
            [
             1,
             "#276419"
            ]
           ],
           "sequential": [
            [
             0.0,
             "#0d0887"
            ],
            [
             0.1111111111111111,
             "#46039f"
            ],
            [
             0.2222222222222222,
             "#7201a8"
            ],
            [
             0.3333333333333333,
             "#9c179e"
            ],
            [
             0.4444444444444444,
             "#bd3786"
            ],
            [
             0.5555555555555556,
             "#d8576b"
            ],
            [
             0.6666666666666666,
             "#ed7953"
            ],
            [
             0.7777777777777778,
             "#fb9f3a"
            ],
            [
             0.8888888888888888,
             "#fdca26"
            ],
            [
             1.0,
             "#f0f921"
            ]
           ],
           "sequentialminus": [
            [
             0.0,
             "#0d0887"
            ],
            [
             0.1111111111111111,
             "#46039f"
            ],
            [
             0.2222222222222222,
             "#7201a8"
            ],
            [
             0.3333333333333333,
             "#9c179e"
            ],
            [
             0.4444444444444444,
             "#bd3786"
            ],
            [
             0.5555555555555556,
             "#d8576b"
            ],
            [
             0.6666666666666666,
             "#ed7953"
            ],
            [
             0.7777777777777778,
             "#fb9f3a"
            ],
            [
             0.8888888888888888,
             "#fdca26"
            ],
            [
             1.0,
             "#f0f921"
            ]
           ]
          },
          "colorway": [
           "#636efa",
           "#EF553B",
           "#00cc96",
           "#ab63fa",
           "#FFA15A",
           "#19d3f3",
           "#FF6692",
           "#B6E880",
           "#FF97FF",
           "#FECB52"
          ],
          "font": {
           "color": "#2a3f5f"
          },
          "geo": {
           "bgcolor": "white",
           "lakecolor": "white",
           "landcolor": "white",
           "showlakes": true,
           "showland": true,
           "subunitcolor": "#C8D4E3"
          },
          "hoverlabel": {
           "align": "left"
          },
          "hovermode": "closest",
          "mapbox": {
           "style": "light"
          },
          "paper_bgcolor": "white",
          "plot_bgcolor": "white",
          "polar": {
           "angularaxis": {
            "gridcolor": "#EBF0F8",
            "linecolor": "#EBF0F8",
            "ticks": ""
           },
           "bgcolor": "white",
           "radialaxis": {
            "gridcolor": "#EBF0F8",
            "linecolor": "#EBF0F8",
            "ticks": ""
           }
          },
          "scene": {
           "xaxis": {
            "backgroundcolor": "white",
            "gridcolor": "#DFE8F3",
            "gridwidth": 2,
            "linecolor": "#EBF0F8",
            "showbackground": true,
            "ticks": "",
            "zerolinecolor": "#EBF0F8"
           },
           "yaxis": {
            "backgroundcolor": "white",
            "gridcolor": "#DFE8F3",
            "gridwidth": 2,
            "linecolor": "#EBF0F8",
            "showbackground": true,
            "ticks": "",
            "zerolinecolor": "#EBF0F8"
           },
           "zaxis": {
            "backgroundcolor": "white",
            "gridcolor": "#DFE8F3",
            "gridwidth": 2,
            "linecolor": "#EBF0F8",
            "showbackground": true,
            "ticks": "",
            "zerolinecolor": "#EBF0F8"
           }
          },
          "shapedefaults": {
           "line": {
            "color": "#2a3f5f"
           }
          },
          "ternary": {
           "aaxis": {
            "gridcolor": "#DFE8F3",
            "linecolor": "#A2B1C6",
            "ticks": ""
           },
           "baxis": {
            "gridcolor": "#DFE8F3",
            "linecolor": "#A2B1C6",
            "ticks": ""
           },
           "bgcolor": "white",
           "caxis": {
            "gridcolor": "#DFE8F3",
            "linecolor": "#A2B1C6",
            "ticks": ""
           }
          },
          "title": {
           "x": 0.05
          },
          "xaxis": {
           "automargin": true,
           "gridcolor": "#EBF0F8",
           "linecolor": "#EBF0F8",
           "ticks": "",
           "title": {
            "standoff": 15
           },
           "zerolinecolor": "#EBF0F8",
           "zerolinewidth": 2
          },
          "yaxis": {
           "automargin": true,
           "gridcolor": "#EBF0F8",
           "linecolor": "#EBF0F8",
           "ticks": "",
           "title": {
            "standoff": 15
           },
           "zerolinecolor": "#EBF0F8",
           "zerolinewidth": 2
          }
         }
        },
        "title": {
         "font": {
          "size": 22,
          "color": "Black"
         },
         "text": "<b>Hierarchical Clustering",
         "x": 0.5,
         "xanchor": "center",
         "yanchor": "top"
        },
        "hoverlabel": {
         "font": {
          "size": 16,
          "family": "Rockwell"
         },
         "bgcolor": "white"
        },
        "plot_bgcolor": "#ECEFF1"
       },
       "config": {
        "plotlyServerURL": "https://plot.ly"
       }
      },
      "text/html": "<div>                            <div id=\"c5c4d81a-3749-4251-879b-db0bafbbae02\" class=\"plotly-graph-div\" style=\"height:320px; width:1000px;\"></div>            <script type=\"text/javascript\">                require([\"plotly\"], function(Plotly) {                    window.PLOTLYENV=window.PLOTLYENV || {};                                    if (document.getElementById(\"c5c4d81a-3749-4251-879b-db0bafbbae02\")) {                    Plotly.newPlot(                        \"c5c4d81a-3749-4251-879b-db0bafbbae02\",                        [{\"hoverinfo\":\"text\",\"marker\":{\"color\":\"rgb(0,116,217)\"},\"mode\":\"lines\",\"text\":[\"suspension_bauer_trevor_espn_know\",\"\",\"\",\"nfl_16_week_vs_highlights\"],\"x\":[0.0,1.2610484597877845,1.2610484597877845,0.0],\"xaxis\":\"x\",\"y\":[-5.0,-5.0,-15.0,-15.0],\"yaxis\":\"y\",\"type\":\"scatter\"},{\"hoverinfo\":\"text\",\"marker\":{\"color\":\"rgb(0,116,217)\"},\"mode\":\"lines\",\"text\":[\"winter_storm_snow_cnn_eve\",\"\",\"\",\"arizona_lake_kari_election_judge\"],\"x\":[0.0,1.337243180060693,1.337243180060693,0.0],\"xaxis\":\"x\",\"y\":[-35.0,-35.0,-45.0,-45.0],\"yaxis\":\"y\",\"type\":\"scatter\"},{\"hoverinfo\":\"text\",\"marker\":{\"color\":\"rgb(0,116,217)\"},\"mode\":\"lines\",\"text\":[\"storm_winter_arizona_cnn_news\",\"\",\"\",\"risk_verge_250_mass_capitol\"],\"x\":[1.337243180060693,1.3733369040328371,1.3733369040328371,0.0],\"xaxis\":\"x\",\"y\":[-40.0,-40.0,-55.0,-55.0],\"yaxis\":\"y\",\"type\":\"scatter\"},{\"hoverinfo\":\"text\",\"marker\":{\"color\":\"rgb(0,116,217)\"},\"mode\":\"lines\",\"text\":[\"yahoo_voices_entertainment_fascinated_episode\",\"\",\"\",\"storm_winter_washington_arizona_cnn\"],\"x\":[0.0,1.3958377121837156,1.3958377121837156,1.3733369040328371],\"xaxis\":\"x\",\"y\":[-25.0,-25.0,-47.5,-47.5],\"yaxis\":\"y\",\"type\":\"scatter\"},{\"hoverinfo\":\"text\",\"marker\":{\"color\":\"rgb(0,116,217)\"},\"mode\":\"lines\",\"text\":[\"bbc_english_space_strikes_crew\",\"\",\"\",\"women_taliban_lanez_support_stallion\"],\"x\":[0.0,1.3794640630547579,1.3794640630547579,0.0],\"xaxis\":\"x\",\"y\":[-65.0,-65.0,-75.0,-75.0],\"yaxis\":\"y\",\"type\":\"scatter\"},{\"hoverinfo\":\"text\",\"marker\":{\"color\":\"rgb(0,116,217)\"},\"mode\":\"lines\",\"text\":[\"winter_news_storm_washington_arizona\",\"\",\"\",\"bbc_space_taliban_russia_strikes\"],\"x\":[1.3958377121837156,1.4259619919244024,1.4259619919244024,1.3794640630547579],\"xaxis\":\"x\",\"y\":[-36.25,-36.25,-70.0,-70.0],\"yaxis\":\"y\",\"type\":\"scatter\"},{\"hoverinfo\":\"text\",\"marker\":{\"color\":\"rgb(0,116,217)\"},\"mode\":\"lines\",\"text\":[\"nfl_espn_jets_week_vs\",\"\",\"\",\"storm_winter_cnn_news_arizona\"],\"x\":[1.2610484597877845,1.5409758883198539,1.5409758883198539,1.4259619919244024],\"xaxis\":\"x\",\"y\":[-10.0,-10.0,-53.125,-53.125],\"yaxis\":\"y\",\"type\":\"scatter\"},{\"hoverinfo\":\"text\",\"hovertext\":[\"storm_winter_arizona_cnn_news\",\"winter_news_storm_washington_arizona\",\"nfl_espn_jets_week_vs\"],\"marker\":{\"color\":\"black\"},\"mode\":\"markers\",\"showlegend\":false,\"x\":[1.337243180060693,1.3958377121837156,1.2610484597877845],\"y\":[-40.0,-36.25,-10.0],\"type\":\"scatter\"},{\"hoverinfo\":\"text\",\"hovertext\":[\"storm_winter_washington_arizona_cnn\",\"bbc_space_taliban_russia_strikes\",\"storm_winter_cnn_news_arizona\"],\"marker\":{\"color\":\"black\"},\"mode\":\"markers\",\"showlegend\":false,\"x\":[1.3733369040328371,1.3794640630547579,1.4259619919244024],\"y\":[-47.5,-70.0,-53.125],\"type\":\"scatter\"}],                        {\"autosize\":false,\"height\":320,\"hovermode\":\"closest\",\"showlegend\":false,\"width\":1000,\"xaxis\":{\"mirror\":\"allticks\",\"rangemode\":\"tozero\",\"showgrid\":false,\"showline\":true,\"showticklabels\":true,\"ticks\":\"outside\",\"type\":\"linear\",\"zeroline\":false},\"yaxis\":{\"mirror\":\"allticks\",\"rangemode\":\"tozero\",\"showgrid\":false,\"showline\":true,\"showticklabels\":true,\"tickmode\":\"array\",\"ticks\":\"outside\",\"ticktext\":[\"5_suspension_bauer_trevor\",\"2_nfl_16_week\",\"7_yahoo_voices_entertainment\",\"0_winter_storm_snow\",\"1_arizona_lake_kari\",\"4_risk_verge_250\",\"3_bbc_english_space\",\"6_women_taliban_lanez\"],\"tickvals\":[-5.0,-15.0,-25.0,-35.0,-45.0,-55.0,-65.0,-75.0],\"type\":\"linear\",\"zeroline\":false,\"range\":[-80.0,0.0]},\"template\":{\"data\":{\"barpolar\":[{\"marker\":{\"line\":{\"color\":\"white\",\"width\":0.5},\"pattern\":{\"fillmode\":\"overlay\",\"size\":10,\"solidity\":0.2}},\"type\":\"barpolar\"}],\"bar\":[{\"error_x\":{\"color\":\"#2a3f5f\"},\"error_y\":{\"color\":\"#2a3f5f\"},\"marker\":{\"line\":{\"color\":\"white\",\"width\":0.5},\"pattern\":{\"fillmode\":\"overlay\",\"size\":10,\"solidity\":0.2}},\"type\":\"bar\"}],\"carpet\":[{\"aaxis\":{\"endlinecolor\":\"#2a3f5f\",\"gridcolor\":\"#C8D4E3\",\"linecolor\":\"#C8D4E3\",\"minorgridcolor\":\"#C8D4E3\",\"startlinecolor\":\"#2a3f5f\"},\"baxis\":{\"endlinecolor\":\"#2a3f5f\",\"gridcolor\":\"#C8D4E3\",\"linecolor\":\"#C8D4E3\",\"minorgridcolor\":\"#C8D4E3\",\"startlinecolor\":\"#2a3f5f\"},\"type\":\"carpet\"}],\"choropleth\":[{\"colorbar\":{\"outlinewidth\":0,\"ticks\":\"\"},\"type\":\"choropleth\"}],\"contourcarpet\":[{\"colorbar\":{\"outlinewidth\":0,\"ticks\":\"\"},\"type\":\"contourcarpet\"}],\"contour\":[{\"colorbar\":{\"outlinewidth\":0,\"ticks\":\"\"},\"colorscale\":[[0.0,\"#0d0887\"],[0.1111111111111111,\"#46039f\"],[0.2222222222222222,\"#7201a8\"],[0.3333333333333333,\"#9c179e\"],[0.4444444444444444,\"#bd3786\"],[0.5555555555555556,\"#d8576b\"],[0.6666666666666666,\"#ed7953\"],[0.7777777777777778,\"#fb9f3a\"],[0.8888888888888888,\"#fdca26\"],[1.0,\"#f0f921\"]],\"type\":\"contour\"}],\"heatmapgl\":[{\"colorbar\":{\"outlinewidth\":0,\"ticks\":\"\"},\"colorscale\":[[0.0,\"#0d0887\"],[0.1111111111111111,\"#46039f\"],[0.2222222222222222,\"#7201a8\"],[0.3333333333333333,\"#9c179e\"],[0.4444444444444444,\"#bd3786\"],[0.5555555555555556,\"#d8576b\"],[0.6666666666666666,\"#ed7953\"],[0.7777777777777778,\"#fb9f3a\"],[0.8888888888888888,\"#fdca26\"],[1.0,\"#f0f921\"]],\"type\":\"heatmapgl\"}],\"heatmap\":[{\"colorbar\":{\"outlinewidth\":0,\"ticks\":\"\"},\"colorscale\":[[0.0,\"#0d0887\"],[0.1111111111111111,\"#46039f\"],[0.2222222222222222,\"#7201a8\"],[0.3333333333333333,\"#9c179e\"],[0.4444444444444444,\"#bd3786\"],[0.5555555555555556,\"#d8576b\"],[0.6666666666666666,\"#ed7953\"],[0.7777777777777778,\"#fb9f3a\"],[0.8888888888888888,\"#fdca26\"],[1.0,\"#f0f921\"]],\"type\":\"heatmap\"}],\"histogram2dcontour\":[{\"colorbar\":{\"outlinewidth\":0,\"ticks\":\"\"},\"colorscale\":[[0.0,\"#0d0887\"],[0.1111111111111111,\"#46039f\"],[0.2222222222222222,\"#7201a8\"],[0.3333333333333333,\"#9c179e\"],[0.4444444444444444,\"#bd3786\"],[0.5555555555555556,\"#d8576b\"],[0.6666666666666666,\"#ed7953\"],[0.7777777777777778,\"#fb9f3a\"],[0.8888888888888888,\"#fdca26\"],[1.0,\"#f0f921\"]],\"type\":\"histogram2dcontour\"}],\"histogram2d\":[{\"colorbar\":{\"outlinewidth\":0,\"ticks\":\"\"},\"colorscale\":[[0.0,\"#0d0887\"],[0.1111111111111111,\"#46039f\"],[0.2222222222222222,\"#7201a8\"],[0.3333333333333333,\"#9c179e\"],[0.4444444444444444,\"#bd3786\"],[0.5555555555555556,\"#d8576b\"],[0.6666666666666666,\"#ed7953\"],[0.7777777777777778,\"#fb9f3a\"],[0.8888888888888888,\"#fdca26\"],[1.0,\"#f0f921\"]],\"type\":\"histogram2d\"}],\"histogram\":[{\"marker\":{\"pattern\":{\"fillmode\":\"overlay\",\"size\":10,\"solidity\":0.2}},\"type\":\"histogram\"}],\"mesh3d\":[{\"colorbar\":{\"outlinewidth\":0,\"ticks\":\"\"},\"type\":\"mesh3d\"}],\"parcoords\":[{\"line\":{\"colorbar\":{\"outlinewidth\":0,\"ticks\":\"\"}},\"type\":\"parcoords\"}],\"pie\":[{\"automargin\":true,\"type\":\"pie\"}],\"scatter3d\":[{\"line\":{\"colorbar\":{\"outlinewidth\":0,\"ticks\":\"\"}},\"marker\":{\"colorbar\":{\"outlinewidth\":0,\"ticks\":\"\"}},\"type\":\"scatter3d\"}],\"scattercarpet\":[{\"marker\":{\"colorbar\":{\"outlinewidth\":0,\"ticks\":\"\"}},\"type\":\"scattercarpet\"}],\"scattergeo\":[{\"marker\":{\"colorbar\":{\"outlinewidth\":0,\"ticks\":\"\"}},\"type\":\"scattergeo\"}],\"scattergl\":[{\"marker\":{\"colorbar\":{\"outlinewidth\":0,\"ticks\":\"\"}},\"type\":\"scattergl\"}],\"scattermapbox\":[{\"marker\":{\"colorbar\":{\"outlinewidth\":0,\"ticks\":\"\"}},\"type\":\"scattermapbox\"}],\"scatterpolargl\":[{\"marker\":{\"colorbar\":{\"outlinewidth\":0,\"ticks\":\"\"}},\"type\":\"scatterpolargl\"}],\"scatterpolar\":[{\"marker\":{\"colorbar\":{\"outlinewidth\":0,\"ticks\":\"\"}},\"type\":\"scatterpolar\"}],\"scatter\":[{\"fillpattern\":{\"fillmode\":\"overlay\",\"size\":10,\"solidity\":0.2},\"type\":\"scatter\"}],\"scatterternary\":[{\"marker\":{\"colorbar\":{\"outlinewidth\":0,\"ticks\":\"\"}},\"type\":\"scatterternary\"}],\"surface\":[{\"colorbar\":{\"outlinewidth\":0,\"ticks\":\"\"},\"colorscale\":[[0.0,\"#0d0887\"],[0.1111111111111111,\"#46039f\"],[0.2222222222222222,\"#7201a8\"],[0.3333333333333333,\"#9c179e\"],[0.4444444444444444,\"#bd3786\"],[0.5555555555555556,\"#d8576b\"],[0.6666666666666666,\"#ed7953\"],[0.7777777777777778,\"#fb9f3a\"],[0.8888888888888888,\"#fdca26\"],[1.0,\"#f0f921\"]],\"type\":\"surface\"}],\"table\":[{\"cells\":{\"fill\":{\"color\":\"#EBF0F8\"},\"line\":{\"color\":\"white\"}},\"header\":{\"fill\":{\"color\":\"#C8D4E3\"},\"line\":{\"color\":\"white\"}},\"type\":\"table\"}]},\"layout\":{\"annotationdefaults\":{\"arrowcolor\":\"#2a3f5f\",\"arrowhead\":0,\"arrowwidth\":1},\"autotypenumbers\":\"strict\",\"coloraxis\":{\"colorbar\":{\"outlinewidth\":0,\"ticks\":\"\"}},\"colorscale\":{\"diverging\":[[0,\"#8e0152\"],[0.1,\"#c51b7d\"],[0.2,\"#de77ae\"],[0.3,\"#f1b6da\"],[0.4,\"#fde0ef\"],[0.5,\"#f7f7f7\"],[0.6,\"#e6f5d0\"],[0.7,\"#b8e186\"],[0.8,\"#7fbc41\"],[0.9,\"#4d9221\"],[1,\"#276419\"]],\"sequential\":[[0.0,\"#0d0887\"],[0.1111111111111111,\"#46039f\"],[0.2222222222222222,\"#7201a8\"],[0.3333333333333333,\"#9c179e\"],[0.4444444444444444,\"#bd3786\"],[0.5555555555555556,\"#d8576b\"],[0.6666666666666666,\"#ed7953\"],[0.7777777777777778,\"#fb9f3a\"],[0.8888888888888888,\"#fdca26\"],[1.0,\"#f0f921\"]],\"sequentialminus\":[[0.0,\"#0d0887\"],[0.1111111111111111,\"#46039f\"],[0.2222222222222222,\"#7201a8\"],[0.3333333333333333,\"#9c179e\"],[0.4444444444444444,\"#bd3786\"],[0.5555555555555556,\"#d8576b\"],[0.6666666666666666,\"#ed7953\"],[0.7777777777777778,\"#fb9f3a\"],[0.8888888888888888,\"#fdca26\"],[1.0,\"#f0f921\"]]},\"colorway\":[\"#636efa\",\"#EF553B\",\"#00cc96\",\"#ab63fa\",\"#FFA15A\",\"#19d3f3\",\"#FF6692\",\"#B6E880\",\"#FF97FF\",\"#FECB52\"],\"font\":{\"color\":\"#2a3f5f\"},\"geo\":{\"bgcolor\":\"white\",\"lakecolor\":\"white\",\"landcolor\":\"white\",\"showlakes\":true,\"showland\":true,\"subunitcolor\":\"#C8D4E3\"},\"hoverlabel\":{\"align\":\"left\"},\"hovermode\":\"closest\",\"mapbox\":{\"style\":\"light\"},\"paper_bgcolor\":\"white\",\"plot_bgcolor\":\"white\",\"polar\":{\"angularaxis\":{\"gridcolor\":\"#EBF0F8\",\"linecolor\":\"#EBF0F8\",\"ticks\":\"\"},\"bgcolor\":\"white\",\"radialaxis\":{\"gridcolor\":\"#EBF0F8\",\"linecolor\":\"#EBF0F8\",\"ticks\":\"\"}},\"scene\":{\"xaxis\":{\"backgroundcolor\":\"white\",\"gridcolor\":\"#DFE8F3\",\"gridwidth\":2,\"linecolor\":\"#EBF0F8\",\"showbackground\":true,\"ticks\":\"\",\"zerolinecolor\":\"#EBF0F8\"},\"yaxis\":{\"backgroundcolor\":\"white\",\"gridcolor\":\"#DFE8F3\",\"gridwidth\":2,\"linecolor\":\"#EBF0F8\",\"showbackground\":true,\"ticks\":\"\",\"zerolinecolor\":\"#EBF0F8\"},\"zaxis\":{\"backgroundcolor\":\"white\",\"gridcolor\":\"#DFE8F3\",\"gridwidth\":2,\"linecolor\":\"#EBF0F8\",\"showbackground\":true,\"ticks\":\"\",\"zerolinecolor\":\"#EBF0F8\"}},\"shapedefaults\":{\"line\":{\"color\":\"#2a3f5f\"}},\"ternary\":{\"aaxis\":{\"gridcolor\":\"#DFE8F3\",\"linecolor\":\"#A2B1C6\",\"ticks\":\"\"},\"baxis\":{\"gridcolor\":\"#DFE8F3\",\"linecolor\":\"#A2B1C6\",\"ticks\":\"\"},\"bgcolor\":\"white\",\"caxis\":{\"gridcolor\":\"#DFE8F3\",\"linecolor\":\"#A2B1C6\",\"ticks\":\"\"}},\"title\":{\"x\":0.05},\"xaxis\":{\"automargin\":true,\"gridcolor\":\"#EBF0F8\",\"linecolor\":\"#EBF0F8\",\"ticks\":\"\",\"title\":{\"standoff\":15},\"zerolinecolor\":\"#EBF0F8\",\"zerolinewidth\":2},\"yaxis\":{\"automargin\":true,\"gridcolor\":\"#EBF0F8\",\"linecolor\":\"#EBF0F8\",\"ticks\":\"\",\"title\":{\"standoff\":15},\"zerolinecolor\":\"#EBF0F8\",\"zerolinewidth\":2}}},\"title\":{\"font\":{\"size\":22,\"color\":\"Black\"},\"text\":\"<b>Hierarchical Clustering\",\"x\":0.5,\"xanchor\":\"center\",\"yanchor\":\"top\"},\"hoverlabel\":{\"font\":{\"size\":16,\"family\":\"Rockwell\"},\"bgcolor\":\"white\"},\"plot_bgcolor\":\"#ECEFF1\"},                        {\"responsive\": true}                    ).then(function(){\n                            \nvar gd = document.getElementById('c5c4d81a-3749-4251-879b-db0bafbbae02');\nvar x = new MutationObserver(function (mutations, observer) {{\n        var display = window.getComputedStyle(gd).display;\n        if (!display || display === 'none') {{\n            console.log([gd, 'removed!']);\n            Plotly.purge(gd);\n            observer.disconnect();\n        }}\n}});\n\n// Listen for the removal of the full notebook cells\nvar notebookContainer = gd.closest('#notebook-container');\nif (notebookContainer) {{\n    x.observe(notebookContainer, {childList: true});\n}}\n\n// Listen for the clearing of the current output cell\nvar outputEl = gd.closest('.output');\nif (outputEl) {{\n    x.observe(outputEl, {childList: true});\n}}\n\n                        })                };                });            </script>        </div>"
     },
     "metadata": {},
     "output_type": "display_data"
    }
   ],
   "source": [
    "topic_model.visualize_hierarchy(hierarchical_topics=topic_model.hierarchical_topics(data['title_topic']))"
   ],
   "metadata": {
    "collapsed": false
   }
  },
  {
   "cell_type": "code",
   "execution_count": 17,
   "outputs": [
    {
     "name": "stderr",
     "output_type": "stream",
     "text": [
      "C:\\Users\\steem\\StanceDetection\\lib\\site-packages\\plotly\\io\\_renderers.py:395: DeprecationWarning:\n",
      "\n",
      "distutils Version classes are deprecated. Use packaging.version instead.\n",
      "\n"
     ]
    },
    {
     "data": {
      "application/vnd.plotly.v1+json": {
       "data": [
        {
         "marker": {
          "color": "#D55E00"
         },
         "orientation": "h",
         "x": [
          0.056184727021296337,
          0.0633373759107662,
          0.07490148999619192,
          0.10556229318461034,
          0.10556229318461034
         ],
         "y": [
          "eve  ",
          "cnn  ",
          "snow  ",
          "storm  ",
          "winter  "
         ],
         "type": "bar",
         "xaxis": "x",
         "yaxis": "y"
        },
        {
         "marker": {
          "color": "#0072B2"
         },
         "orientation": "h",
         "x": [
          0.0826245985607299,
          0.11014924999439989,
          0.11014924999439989,
          0.11014924999439989,
          0.13401468910481737
         ],
         "y": [
          "judge  ",
          "election  ",
          "kari  ",
          "lake  ",
          "arizona  "
         ],
         "type": "bar",
         "xaxis": "x2",
         "yaxis": "y2"
        },
        {
         "marker": {
          "color": "#CC79A7"
         },
         "orientation": "h",
         "x": [
          0.10032986968088631,
          0.1337526607074856,
          0.1337526607074856,
          0.1337526607074856,
          0.16273212248442107
         ],
         "y": [
          "highlights  ",
          "vs  ",
          "week  ",
          "16  ",
          "nfl  "
         ],
         "type": "bar",
         "xaxis": "x3",
         "yaxis": "y3"
        },
        {
         "marker": {
          "color": "#E69F00"
         },
         "orientation": "h",
         "x": [
          0.09891677292481749,
          0.09891677292481749,
          0.09891677292481749,
          0.09891677292481749,
          0.1203300905694663
         ],
         "y": [
          "crew  ",
          "strikes  ",
          "space  ",
          "english  ",
          "bbc  "
         ],
         "type": "bar",
         "xaxis": "x4",
         "yaxis": "y4"
        },
        {
         "marker": {
          "color": "#56B4E9"
         },
         "orientation": "h",
         "x": [
          0.06868286462338402,
          0.06868286462338402,
          0.06868286462338402,
          0.115132637338722,
          0.115132637338722
         ],
         "y": [
          "capitol  ",
          "mass  ",
          "250  ",
          "verge  ",
          "risk  "
         ],
         "type": "bar",
         "xaxis": "x5",
         "yaxis": "y5"
        },
        {
         "marker": {
          "color": "#009E73"
         },
         "orientation": "h",
         "x": [
          0.10474136855066063,
          0.15604477082539986,
          0.17557727194155104,
          0.17557727194155104,
          0.17557727194155104
         ],
         "y": [
          "know  ",
          "espn  ",
          "trevor  ",
          "bauer  ",
          "suspension  "
         ],
         "type": "bar",
         "xaxis": "x6",
         "yaxis": "y6"
        },
        {
         "marker": {
          "color": "#F0E442"
         },
         "orientation": "h",
         "x": [
          0.12322513947136544,
          0.12322513947136544,
          0.12322513947136544,
          0.20656149640182475,
          0.20656149640182475
         ],
         "y": [
          "stallion  ",
          "support  ",
          "lanez  ",
          "taliban  ",
          "women  "
         ],
         "type": "bar",
         "xaxis": "x7",
         "yaxis": "y7"
        },
        {
         "marker": {
          "color": "#D55E00"
         },
         "orientation": "h",
         "x": [
          0.119704421200755,
          0.119704421200755,
          0.119704421200755,
          0.119704421200755,
          0.1783368809433141
         ],
         "y": [
          "episode  ",
          "fascinated  ",
          "entertainment  ",
          "voices  ",
          "yahoo  "
         ],
         "type": "bar",
         "xaxis": "x8",
         "yaxis": "y8"
        }
       ],
       "layout": {
        "template": {
         "data": {
          "barpolar": [
           {
            "marker": {
             "line": {
              "color": "white",
              "width": 0.5
             },
             "pattern": {
              "fillmode": "overlay",
              "size": 10,
              "solidity": 0.2
             }
            },
            "type": "barpolar"
           }
          ],
          "bar": [
           {
            "error_x": {
             "color": "#2a3f5f"
            },
            "error_y": {
             "color": "#2a3f5f"
            },
            "marker": {
             "line": {
              "color": "white",
              "width": 0.5
             },
             "pattern": {
              "fillmode": "overlay",
              "size": 10,
              "solidity": 0.2
             }
            },
            "type": "bar"
           }
          ],
          "carpet": [
           {
            "aaxis": {
             "endlinecolor": "#2a3f5f",
             "gridcolor": "#C8D4E3",
             "linecolor": "#C8D4E3",
             "minorgridcolor": "#C8D4E3",
             "startlinecolor": "#2a3f5f"
            },
            "baxis": {
             "endlinecolor": "#2a3f5f",
             "gridcolor": "#C8D4E3",
             "linecolor": "#C8D4E3",
             "minorgridcolor": "#C8D4E3",
             "startlinecolor": "#2a3f5f"
            },
            "type": "carpet"
           }
          ],
          "choropleth": [
           {
            "colorbar": {
             "outlinewidth": 0,
             "ticks": ""
            },
            "type": "choropleth"
           }
          ],
          "contourcarpet": [
           {
            "colorbar": {
             "outlinewidth": 0,
             "ticks": ""
            },
            "type": "contourcarpet"
           }
          ],
          "contour": [
           {
            "colorbar": {
             "outlinewidth": 0,
             "ticks": ""
            },
            "colorscale": [
             [
              0.0,
              "#0d0887"
             ],
             [
              0.1111111111111111,
              "#46039f"
             ],
             [
              0.2222222222222222,
              "#7201a8"
             ],
             [
              0.3333333333333333,
              "#9c179e"
             ],
             [
              0.4444444444444444,
              "#bd3786"
             ],
             [
              0.5555555555555556,
              "#d8576b"
             ],
             [
              0.6666666666666666,
              "#ed7953"
             ],
             [
              0.7777777777777778,
              "#fb9f3a"
             ],
             [
              0.8888888888888888,
              "#fdca26"
             ],
             [
              1.0,
              "#f0f921"
             ]
            ],
            "type": "contour"
           }
          ],
          "heatmapgl": [
           {
            "colorbar": {
             "outlinewidth": 0,
             "ticks": ""
            },
            "colorscale": [
             [
              0.0,
              "#0d0887"
             ],
             [
              0.1111111111111111,
              "#46039f"
             ],
             [
              0.2222222222222222,
              "#7201a8"
             ],
             [
              0.3333333333333333,
              "#9c179e"
             ],
             [
              0.4444444444444444,
              "#bd3786"
             ],
             [
              0.5555555555555556,
              "#d8576b"
             ],
             [
              0.6666666666666666,
              "#ed7953"
             ],
             [
              0.7777777777777778,
              "#fb9f3a"
             ],
             [
              0.8888888888888888,
              "#fdca26"
             ],
             [
              1.0,
              "#f0f921"
             ]
            ],
            "type": "heatmapgl"
           }
          ],
          "heatmap": [
           {
            "colorbar": {
             "outlinewidth": 0,
             "ticks": ""
            },
            "colorscale": [
             [
              0.0,
              "#0d0887"
             ],
             [
              0.1111111111111111,
              "#46039f"
             ],
             [
              0.2222222222222222,
              "#7201a8"
             ],
             [
              0.3333333333333333,
              "#9c179e"
             ],
             [
              0.4444444444444444,
              "#bd3786"
             ],
             [
              0.5555555555555556,
              "#d8576b"
             ],
             [
              0.6666666666666666,
              "#ed7953"
             ],
             [
              0.7777777777777778,
              "#fb9f3a"
             ],
             [
              0.8888888888888888,
              "#fdca26"
             ],
             [
              1.0,
              "#f0f921"
             ]
            ],
            "type": "heatmap"
           }
          ],
          "histogram2dcontour": [
           {
            "colorbar": {
             "outlinewidth": 0,
             "ticks": ""
            },
            "colorscale": [
             [
              0.0,
              "#0d0887"
             ],
             [
              0.1111111111111111,
              "#46039f"
             ],
             [
              0.2222222222222222,
              "#7201a8"
             ],
             [
              0.3333333333333333,
              "#9c179e"
             ],
             [
              0.4444444444444444,
              "#bd3786"
             ],
             [
              0.5555555555555556,
              "#d8576b"
             ],
             [
              0.6666666666666666,
              "#ed7953"
             ],
             [
              0.7777777777777778,
              "#fb9f3a"
             ],
             [
              0.8888888888888888,
              "#fdca26"
             ],
             [
              1.0,
              "#f0f921"
             ]
            ],
            "type": "histogram2dcontour"
           }
          ],
          "histogram2d": [
           {
            "colorbar": {
             "outlinewidth": 0,
             "ticks": ""
            },
            "colorscale": [
             [
              0.0,
              "#0d0887"
             ],
             [
              0.1111111111111111,
              "#46039f"
             ],
             [
              0.2222222222222222,
              "#7201a8"
             ],
             [
              0.3333333333333333,
              "#9c179e"
             ],
             [
              0.4444444444444444,
              "#bd3786"
             ],
             [
              0.5555555555555556,
              "#d8576b"
             ],
             [
              0.6666666666666666,
              "#ed7953"
             ],
             [
              0.7777777777777778,
              "#fb9f3a"
             ],
             [
              0.8888888888888888,
              "#fdca26"
             ],
             [
              1.0,
              "#f0f921"
             ]
            ],
            "type": "histogram2d"
           }
          ],
          "histogram": [
           {
            "marker": {
             "pattern": {
              "fillmode": "overlay",
              "size": 10,
              "solidity": 0.2
             }
            },
            "type": "histogram"
           }
          ],
          "mesh3d": [
           {
            "colorbar": {
             "outlinewidth": 0,
             "ticks": ""
            },
            "type": "mesh3d"
           }
          ],
          "parcoords": [
           {
            "line": {
             "colorbar": {
              "outlinewidth": 0,
              "ticks": ""
             }
            },
            "type": "parcoords"
           }
          ],
          "pie": [
           {
            "automargin": true,
            "type": "pie"
           }
          ],
          "scatter3d": [
           {
            "line": {
             "colorbar": {
              "outlinewidth": 0,
              "ticks": ""
             }
            },
            "marker": {
             "colorbar": {
              "outlinewidth": 0,
              "ticks": ""
             }
            },
            "type": "scatter3d"
           }
          ],
          "scattercarpet": [
           {
            "marker": {
             "colorbar": {
              "outlinewidth": 0,
              "ticks": ""
             }
            },
            "type": "scattercarpet"
           }
          ],
          "scattergeo": [
           {
            "marker": {
             "colorbar": {
              "outlinewidth": 0,
              "ticks": ""
             }
            },
            "type": "scattergeo"
           }
          ],
          "scattergl": [
           {
            "marker": {
             "colorbar": {
              "outlinewidth": 0,
              "ticks": ""
             }
            },
            "type": "scattergl"
           }
          ],
          "scattermapbox": [
           {
            "marker": {
             "colorbar": {
              "outlinewidth": 0,
              "ticks": ""
             }
            },
            "type": "scattermapbox"
           }
          ],
          "scatterpolargl": [
           {
            "marker": {
             "colorbar": {
              "outlinewidth": 0,
              "ticks": ""
             }
            },
            "type": "scatterpolargl"
           }
          ],
          "scatterpolar": [
           {
            "marker": {
             "colorbar": {
              "outlinewidth": 0,
              "ticks": ""
             }
            },
            "type": "scatterpolar"
           }
          ],
          "scatter": [
           {
            "fillpattern": {
             "fillmode": "overlay",
             "size": 10,
             "solidity": 0.2
            },
            "type": "scatter"
           }
          ],
          "scatterternary": [
           {
            "marker": {
             "colorbar": {
              "outlinewidth": 0,
              "ticks": ""
             }
            },
            "type": "scatterternary"
           }
          ],
          "surface": [
           {
            "colorbar": {
             "outlinewidth": 0,
             "ticks": ""
            },
            "colorscale": [
             [
              0.0,
              "#0d0887"
             ],
             [
              0.1111111111111111,
              "#46039f"
             ],
             [
              0.2222222222222222,
              "#7201a8"
             ],
             [
              0.3333333333333333,
              "#9c179e"
             ],
             [
              0.4444444444444444,
              "#bd3786"
             ],
             [
              0.5555555555555556,
              "#d8576b"
             ],
             [
              0.6666666666666666,
              "#ed7953"
             ],
             [
              0.7777777777777778,
              "#fb9f3a"
             ],
             [
              0.8888888888888888,
              "#fdca26"
             ],
             [
              1.0,
              "#f0f921"
             ]
            ],
            "type": "surface"
           }
          ],
          "table": [
           {
            "cells": {
             "fill": {
              "color": "#EBF0F8"
             },
             "line": {
              "color": "white"
             }
            },
            "header": {
             "fill": {
              "color": "#C8D4E3"
             },
             "line": {
              "color": "white"
             }
            },
            "type": "table"
           }
          ]
         },
         "layout": {
          "annotationdefaults": {
           "arrowcolor": "#2a3f5f",
           "arrowhead": 0,
           "arrowwidth": 1
          },
          "autotypenumbers": "strict",
          "coloraxis": {
           "colorbar": {
            "outlinewidth": 0,
            "ticks": ""
           }
          },
          "colorscale": {
           "diverging": [
            [
             0,
             "#8e0152"
            ],
            [
             0.1,
             "#c51b7d"
            ],
            [
             0.2,
             "#de77ae"
            ],
            [
             0.3,
             "#f1b6da"
            ],
            [
             0.4,
             "#fde0ef"
            ],
            [
             0.5,
             "#f7f7f7"
            ],
            [
             0.6,
             "#e6f5d0"
            ],
            [
             0.7,
             "#b8e186"
            ],
            [
             0.8,
             "#7fbc41"
            ],
            [
             0.9,
             "#4d9221"
            ],
            [
             1,
             "#276419"
            ]
           ],
           "sequential": [
            [
             0.0,
             "#0d0887"
            ],
            [
             0.1111111111111111,
             "#46039f"
            ],
            [
             0.2222222222222222,
             "#7201a8"
            ],
            [
             0.3333333333333333,
             "#9c179e"
            ],
            [
             0.4444444444444444,
             "#bd3786"
            ],
            [
             0.5555555555555556,
             "#d8576b"
            ],
            [
             0.6666666666666666,
             "#ed7953"
            ],
            [
             0.7777777777777778,
             "#fb9f3a"
            ],
            [
             0.8888888888888888,
             "#fdca26"
            ],
            [
             1.0,
             "#f0f921"
            ]
           ],
           "sequentialminus": [
            [
             0.0,
             "#0d0887"
            ],
            [
             0.1111111111111111,
             "#46039f"
            ],
            [
             0.2222222222222222,
             "#7201a8"
            ],
            [
             0.3333333333333333,
             "#9c179e"
            ],
            [
             0.4444444444444444,
             "#bd3786"
            ],
            [
             0.5555555555555556,
             "#d8576b"
            ],
            [
             0.6666666666666666,
             "#ed7953"
            ],
            [
             0.7777777777777778,
             "#fb9f3a"
            ],
            [
             0.8888888888888888,
             "#fdca26"
            ],
            [
             1.0,
             "#f0f921"
            ]
           ]
          },
          "colorway": [
           "#636efa",
           "#EF553B",
           "#00cc96",
           "#ab63fa",
           "#FFA15A",
           "#19d3f3",
           "#FF6692",
           "#B6E880",
           "#FF97FF",
           "#FECB52"
          ],
          "font": {
           "color": "#2a3f5f"
          },
          "geo": {
           "bgcolor": "white",
           "lakecolor": "white",
           "landcolor": "white",
           "showlakes": true,
           "showland": true,
           "subunitcolor": "#C8D4E3"
          },
          "hoverlabel": {
           "align": "left"
          },
          "hovermode": "closest",
          "mapbox": {
           "style": "light"
          },
          "paper_bgcolor": "white",
          "plot_bgcolor": "white",
          "polar": {
           "angularaxis": {
            "gridcolor": "#EBF0F8",
            "linecolor": "#EBF0F8",
            "ticks": ""
           },
           "bgcolor": "white",
           "radialaxis": {
            "gridcolor": "#EBF0F8",
            "linecolor": "#EBF0F8",
            "ticks": ""
           }
          },
          "scene": {
           "xaxis": {
            "backgroundcolor": "white",
            "gridcolor": "#DFE8F3",
            "gridwidth": 2,
            "linecolor": "#EBF0F8",
            "showbackground": true,
            "ticks": "",
            "zerolinecolor": "#EBF0F8"
           },
           "yaxis": {
            "backgroundcolor": "white",
            "gridcolor": "#DFE8F3",
            "gridwidth": 2,
            "linecolor": "#EBF0F8",
            "showbackground": true,
            "ticks": "",
            "zerolinecolor": "#EBF0F8"
           },
           "zaxis": {
            "backgroundcolor": "white",
            "gridcolor": "#DFE8F3",
            "gridwidth": 2,
            "linecolor": "#EBF0F8",
            "showbackground": true,
            "ticks": "",
            "zerolinecolor": "#EBF0F8"
           }
          },
          "shapedefaults": {
           "line": {
            "color": "#2a3f5f"
           }
          },
          "ternary": {
           "aaxis": {
            "gridcolor": "#DFE8F3",
            "linecolor": "#A2B1C6",
            "ticks": ""
           },
           "baxis": {
            "gridcolor": "#DFE8F3",
            "linecolor": "#A2B1C6",
            "ticks": ""
           },
           "bgcolor": "white",
           "caxis": {
            "gridcolor": "#DFE8F3",
            "linecolor": "#A2B1C6",
            "ticks": ""
           }
          },
          "title": {
           "x": 0.05
          },
          "xaxis": {
           "automargin": true,
           "gridcolor": "#EBF0F8",
           "linecolor": "#EBF0F8",
           "ticks": "",
           "title": {
            "standoff": 15
           },
           "zerolinecolor": "#EBF0F8",
           "zerolinewidth": 2
          },
          "yaxis": {
           "automargin": true,
           "gridcolor": "#EBF0F8",
           "linecolor": "#EBF0F8",
           "ticks": "",
           "title": {
            "standoff": 15
           },
           "zerolinecolor": "#EBF0F8",
           "zerolinewidth": 2
          }
         }
        },
        "xaxis": {
         "anchor": "y",
         "domain": [
          0.0,
          0.175
         ],
         "showgrid": true
        },
        "yaxis": {
         "anchor": "x",
         "domain": [
          0.6000000000000001,
          1.0
         ],
         "showgrid": true
        },
        "xaxis2": {
         "anchor": "y2",
         "domain": [
          0.275,
          0.45
         ],
         "showgrid": true
        },
        "yaxis2": {
         "anchor": "x2",
         "domain": [
          0.6000000000000001,
          1.0
         ],
         "showgrid": true
        },
        "xaxis3": {
         "anchor": "y3",
         "domain": [
          0.55,
          0.7250000000000001
         ],
         "showgrid": true
        },
        "yaxis3": {
         "anchor": "x3",
         "domain": [
          0.6000000000000001,
          1.0
         ],
         "showgrid": true
        },
        "xaxis4": {
         "anchor": "y4",
         "domain": [
          0.825,
          1.0
         ],
         "showgrid": true
        },
        "yaxis4": {
         "anchor": "x4",
         "domain": [
          0.6000000000000001,
          1.0
         ],
         "showgrid": true
        },
        "xaxis5": {
         "anchor": "y5",
         "domain": [
          0.0,
          0.175
         ],
         "showgrid": true
        },
        "yaxis5": {
         "anchor": "x5",
         "domain": [
          0.0,
          0.4
         ],
         "showgrid": true
        },
        "xaxis6": {
         "anchor": "y6",
         "domain": [
          0.275,
          0.45
         ],
         "showgrid": true
        },
        "yaxis6": {
         "anchor": "x6",
         "domain": [
          0.0,
          0.4
         ],
         "showgrid": true
        },
        "xaxis7": {
         "anchor": "y7",
         "domain": [
          0.55,
          0.7250000000000001
         ],
         "showgrid": true
        },
        "yaxis7": {
         "anchor": "x7",
         "domain": [
          0.0,
          0.4
         ],
         "showgrid": true
        },
        "xaxis8": {
         "anchor": "y8",
         "domain": [
          0.825,
          1.0
         ],
         "showgrid": true
        },
        "yaxis8": {
         "anchor": "x8",
         "domain": [
          0.0,
          0.4
         ],
         "showgrid": true
        },
        "annotations": [
         {
          "font": {
           "size": 16
          },
          "showarrow": false,
          "text": "Topic 0",
          "x": 0.0875,
          "xanchor": "center",
          "xref": "paper",
          "y": 1.0,
          "yanchor": "bottom",
          "yref": "paper"
         },
         {
          "font": {
           "size": 16
          },
          "showarrow": false,
          "text": "Topic 1",
          "x": 0.36250000000000004,
          "xanchor": "center",
          "xref": "paper",
          "y": 1.0,
          "yanchor": "bottom",
          "yref": "paper"
         },
         {
          "font": {
           "size": 16
          },
          "showarrow": false,
          "text": "Topic 2",
          "x": 0.6375000000000001,
          "xanchor": "center",
          "xref": "paper",
          "y": 1.0,
          "yanchor": "bottom",
          "yref": "paper"
         },
         {
          "font": {
           "size": 16
          },
          "showarrow": false,
          "text": "Topic 3",
          "x": 0.9125,
          "xanchor": "center",
          "xref": "paper",
          "y": 1.0,
          "yanchor": "bottom",
          "yref": "paper"
         },
         {
          "font": {
           "size": 16
          },
          "showarrow": false,
          "text": "Topic 4",
          "x": 0.0875,
          "xanchor": "center",
          "xref": "paper",
          "y": 0.4,
          "yanchor": "bottom",
          "yref": "paper"
         },
         {
          "font": {
           "size": 16
          },
          "showarrow": false,
          "text": "Topic 5",
          "x": 0.36250000000000004,
          "xanchor": "center",
          "xref": "paper",
          "y": 0.4,
          "yanchor": "bottom",
          "yref": "paper"
         },
         {
          "font": {
           "size": 16
          },
          "showarrow": false,
          "text": "Topic 6",
          "x": 0.6375000000000001,
          "xanchor": "center",
          "xref": "paper",
          "y": 0.4,
          "yanchor": "bottom",
          "yref": "paper"
         },
         {
          "font": {
           "size": 16
          },
          "showarrow": false,
          "text": "Topic 7",
          "x": 0.9125,
          "xanchor": "center",
          "xref": "paper",
          "y": 0.4,
          "yanchor": "bottom",
          "yref": "paper"
         }
        ],
        "title": {
         "font": {
          "size": 22,
          "color": "Black"
         },
         "text": "<b>Topic Word Scores",
         "x": 0.5,
         "xanchor": "center",
         "yanchor": "top"
        },
        "hoverlabel": {
         "font": {
          "size": 16,
          "family": "Rockwell"
         },
         "bgcolor": "white"
        },
        "showlegend": false,
        "width": 1000,
        "height": 500
       },
       "config": {
        "plotlyServerURL": "https://plot.ly"
       }
      },
      "text/html": "<div>                            <div id=\"b0a0d0b5-5b0c-4e78-9e84-58a8612d5923\" class=\"plotly-graph-div\" style=\"height:500px; width:1000px;\"></div>            <script type=\"text/javascript\">                require([\"plotly\"], function(Plotly) {                    window.PLOTLYENV=window.PLOTLYENV || {};                                    if (document.getElementById(\"b0a0d0b5-5b0c-4e78-9e84-58a8612d5923\")) {                    Plotly.newPlot(                        \"b0a0d0b5-5b0c-4e78-9e84-58a8612d5923\",                        [{\"marker\":{\"color\":\"#D55E00\"},\"orientation\":\"h\",\"x\":[0.056184727021296337,0.0633373759107662,0.07490148999619192,0.10556229318461034,0.10556229318461034],\"y\":[\"eve  \",\"cnn  \",\"snow  \",\"storm  \",\"winter  \"],\"type\":\"bar\",\"xaxis\":\"x\",\"yaxis\":\"y\"},{\"marker\":{\"color\":\"#0072B2\"},\"orientation\":\"h\",\"x\":[0.0826245985607299,0.11014924999439989,0.11014924999439989,0.11014924999439989,0.13401468910481737],\"y\":[\"judge  \",\"election  \",\"kari  \",\"lake  \",\"arizona  \"],\"type\":\"bar\",\"xaxis\":\"x2\",\"yaxis\":\"y2\"},{\"marker\":{\"color\":\"#CC79A7\"},\"orientation\":\"h\",\"x\":[0.10032986968088631,0.1337526607074856,0.1337526607074856,0.1337526607074856,0.16273212248442107],\"y\":[\"highlights  \",\"vs  \",\"week  \",\"16  \",\"nfl  \"],\"type\":\"bar\",\"xaxis\":\"x3\",\"yaxis\":\"y3\"},{\"marker\":{\"color\":\"#E69F00\"},\"orientation\":\"h\",\"x\":[0.09891677292481749,0.09891677292481749,0.09891677292481749,0.09891677292481749,0.1203300905694663],\"y\":[\"crew  \",\"strikes  \",\"space  \",\"english  \",\"bbc  \"],\"type\":\"bar\",\"xaxis\":\"x4\",\"yaxis\":\"y4\"},{\"marker\":{\"color\":\"#56B4E9\"},\"orientation\":\"h\",\"x\":[0.06868286462338402,0.06868286462338402,0.06868286462338402,0.115132637338722,0.115132637338722],\"y\":[\"capitol  \",\"mass  \",\"250  \",\"verge  \",\"risk  \"],\"type\":\"bar\",\"xaxis\":\"x5\",\"yaxis\":\"y5\"},{\"marker\":{\"color\":\"#009E73\"},\"orientation\":\"h\",\"x\":[0.10474136855066063,0.15604477082539986,0.17557727194155104,0.17557727194155104,0.17557727194155104],\"y\":[\"know  \",\"espn  \",\"trevor  \",\"bauer  \",\"suspension  \"],\"type\":\"bar\",\"xaxis\":\"x6\",\"yaxis\":\"y6\"},{\"marker\":{\"color\":\"#F0E442\"},\"orientation\":\"h\",\"x\":[0.12322513947136544,0.12322513947136544,0.12322513947136544,0.20656149640182475,0.20656149640182475],\"y\":[\"stallion  \",\"support  \",\"lanez  \",\"taliban  \",\"women  \"],\"type\":\"bar\",\"xaxis\":\"x7\",\"yaxis\":\"y7\"},{\"marker\":{\"color\":\"#D55E00\"},\"orientation\":\"h\",\"x\":[0.119704421200755,0.119704421200755,0.119704421200755,0.119704421200755,0.1783368809433141],\"y\":[\"episode  \",\"fascinated  \",\"entertainment  \",\"voices  \",\"yahoo  \"],\"type\":\"bar\",\"xaxis\":\"x8\",\"yaxis\":\"y8\"}],                        {\"template\":{\"data\":{\"barpolar\":[{\"marker\":{\"line\":{\"color\":\"white\",\"width\":0.5},\"pattern\":{\"fillmode\":\"overlay\",\"size\":10,\"solidity\":0.2}},\"type\":\"barpolar\"}],\"bar\":[{\"error_x\":{\"color\":\"#2a3f5f\"},\"error_y\":{\"color\":\"#2a3f5f\"},\"marker\":{\"line\":{\"color\":\"white\",\"width\":0.5},\"pattern\":{\"fillmode\":\"overlay\",\"size\":10,\"solidity\":0.2}},\"type\":\"bar\"}],\"carpet\":[{\"aaxis\":{\"endlinecolor\":\"#2a3f5f\",\"gridcolor\":\"#C8D4E3\",\"linecolor\":\"#C8D4E3\",\"minorgridcolor\":\"#C8D4E3\",\"startlinecolor\":\"#2a3f5f\"},\"baxis\":{\"endlinecolor\":\"#2a3f5f\",\"gridcolor\":\"#C8D4E3\",\"linecolor\":\"#C8D4E3\",\"minorgridcolor\":\"#C8D4E3\",\"startlinecolor\":\"#2a3f5f\"},\"type\":\"carpet\"}],\"choropleth\":[{\"colorbar\":{\"outlinewidth\":0,\"ticks\":\"\"},\"type\":\"choropleth\"}],\"contourcarpet\":[{\"colorbar\":{\"outlinewidth\":0,\"ticks\":\"\"},\"type\":\"contourcarpet\"}],\"contour\":[{\"colorbar\":{\"outlinewidth\":0,\"ticks\":\"\"},\"colorscale\":[[0.0,\"#0d0887\"],[0.1111111111111111,\"#46039f\"],[0.2222222222222222,\"#7201a8\"],[0.3333333333333333,\"#9c179e\"],[0.4444444444444444,\"#bd3786\"],[0.5555555555555556,\"#d8576b\"],[0.6666666666666666,\"#ed7953\"],[0.7777777777777778,\"#fb9f3a\"],[0.8888888888888888,\"#fdca26\"],[1.0,\"#f0f921\"]],\"type\":\"contour\"}],\"heatmapgl\":[{\"colorbar\":{\"outlinewidth\":0,\"ticks\":\"\"},\"colorscale\":[[0.0,\"#0d0887\"],[0.1111111111111111,\"#46039f\"],[0.2222222222222222,\"#7201a8\"],[0.3333333333333333,\"#9c179e\"],[0.4444444444444444,\"#bd3786\"],[0.5555555555555556,\"#d8576b\"],[0.6666666666666666,\"#ed7953\"],[0.7777777777777778,\"#fb9f3a\"],[0.8888888888888888,\"#fdca26\"],[1.0,\"#f0f921\"]],\"type\":\"heatmapgl\"}],\"heatmap\":[{\"colorbar\":{\"outlinewidth\":0,\"ticks\":\"\"},\"colorscale\":[[0.0,\"#0d0887\"],[0.1111111111111111,\"#46039f\"],[0.2222222222222222,\"#7201a8\"],[0.3333333333333333,\"#9c179e\"],[0.4444444444444444,\"#bd3786\"],[0.5555555555555556,\"#d8576b\"],[0.6666666666666666,\"#ed7953\"],[0.7777777777777778,\"#fb9f3a\"],[0.8888888888888888,\"#fdca26\"],[1.0,\"#f0f921\"]],\"type\":\"heatmap\"}],\"histogram2dcontour\":[{\"colorbar\":{\"outlinewidth\":0,\"ticks\":\"\"},\"colorscale\":[[0.0,\"#0d0887\"],[0.1111111111111111,\"#46039f\"],[0.2222222222222222,\"#7201a8\"],[0.3333333333333333,\"#9c179e\"],[0.4444444444444444,\"#bd3786\"],[0.5555555555555556,\"#d8576b\"],[0.6666666666666666,\"#ed7953\"],[0.7777777777777778,\"#fb9f3a\"],[0.8888888888888888,\"#fdca26\"],[1.0,\"#f0f921\"]],\"type\":\"histogram2dcontour\"}],\"histogram2d\":[{\"colorbar\":{\"outlinewidth\":0,\"ticks\":\"\"},\"colorscale\":[[0.0,\"#0d0887\"],[0.1111111111111111,\"#46039f\"],[0.2222222222222222,\"#7201a8\"],[0.3333333333333333,\"#9c179e\"],[0.4444444444444444,\"#bd3786\"],[0.5555555555555556,\"#d8576b\"],[0.6666666666666666,\"#ed7953\"],[0.7777777777777778,\"#fb9f3a\"],[0.8888888888888888,\"#fdca26\"],[1.0,\"#f0f921\"]],\"type\":\"histogram2d\"}],\"histogram\":[{\"marker\":{\"pattern\":{\"fillmode\":\"overlay\",\"size\":10,\"solidity\":0.2}},\"type\":\"histogram\"}],\"mesh3d\":[{\"colorbar\":{\"outlinewidth\":0,\"ticks\":\"\"},\"type\":\"mesh3d\"}],\"parcoords\":[{\"line\":{\"colorbar\":{\"outlinewidth\":0,\"ticks\":\"\"}},\"type\":\"parcoords\"}],\"pie\":[{\"automargin\":true,\"type\":\"pie\"}],\"scatter3d\":[{\"line\":{\"colorbar\":{\"outlinewidth\":0,\"ticks\":\"\"}},\"marker\":{\"colorbar\":{\"outlinewidth\":0,\"ticks\":\"\"}},\"type\":\"scatter3d\"}],\"scattercarpet\":[{\"marker\":{\"colorbar\":{\"outlinewidth\":0,\"ticks\":\"\"}},\"type\":\"scattercarpet\"}],\"scattergeo\":[{\"marker\":{\"colorbar\":{\"outlinewidth\":0,\"ticks\":\"\"}},\"type\":\"scattergeo\"}],\"scattergl\":[{\"marker\":{\"colorbar\":{\"outlinewidth\":0,\"ticks\":\"\"}},\"type\":\"scattergl\"}],\"scattermapbox\":[{\"marker\":{\"colorbar\":{\"outlinewidth\":0,\"ticks\":\"\"}},\"type\":\"scattermapbox\"}],\"scatterpolargl\":[{\"marker\":{\"colorbar\":{\"outlinewidth\":0,\"ticks\":\"\"}},\"type\":\"scatterpolargl\"}],\"scatterpolar\":[{\"marker\":{\"colorbar\":{\"outlinewidth\":0,\"ticks\":\"\"}},\"type\":\"scatterpolar\"}],\"scatter\":[{\"fillpattern\":{\"fillmode\":\"overlay\",\"size\":10,\"solidity\":0.2},\"type\":\"scatter\"}],\"scatterternary\":[{\"marker\":{\"colorbar\":{\"outlinewidth\":0,\"ticks\":\"\"}},\"type\":\"scatterternary\"}],\"surface\":[{\"colorbar\":{\"outlinewidth\":0,\"ticks\":\"\"},\"colorscale\":[[0.0,\"#0d0887\"],[0.1111111111111111,\"#46039f\"],[0.2222222222222222,\"#7201a8\"],[0.3333333333333333,\"#9c179e\"],[0.4444444444444444,\"#bd3786\"],[0.5555555555555556,\"#d8576b\"],[0.6666666666666666,\"#ed7953\"],[0.7777777777777778,\"#fb9f3a\"],[0.8888888888888888,\"#fdca26\"],[1.0,\"#f0f921\"]],\"type\":\"surface\"}],\"table\":[{\"cells\":{\"fill\":{\"color\":\"#EBF0F8\"},\"line\":{\"color\":\"white\"}},\"header\":{\"fill\":{\"color\":\"#C8D4E3\"},\"line\":{\"color\":\"white\"}},\"type\":\"table\"}]},\"layout\":{\"annotationdefaults\":{\"arrowcolor\":\"#2a3f5f\",\"arrowhead\":0,\"arrowwidth\":1},\"autotypenumbers\":\"strict\",\"coloraxis\":{\"colorbar\":{\"outlinewidth\":0,\"ticks\":\"\"}},\"colorscale\":{\"diverging\":[[0,\"#8e0152\"],[0.1,\"#c51b7d\"],[0.2,\"#de77ae\"],[0.3,\"#f1b6da\"],[0.4,\"#fde0ef\"],[0.5,\"#f7f7f7\"],[0.6,\"#e6f5d0\"],[0.7,\"#b8e186\"],[0.8,\"#7fbc41\"],[0.9,\"#4d9221\"],[1,\"#276419\"]],\"sequential\":[[0.0,\"#0d0887\"],[0.1111111111111111,\"#46039f\"],[0.2222222222222222,\"#7201a8\"],[0.3333333333333333,\"#9c179e\"],[0.4444444444444444,\"#bd3786\"],[0.5555555555555556,\"#d8576b\"],[0.6666666666666666,\"#ed7953\"],[0.7777777777777778,\"#fb9f3a\"],[0.8888888888888888,\"#fdca26\"],[1.0,\"#f0f921\"]],\"sequentialminus\":[[0.0,\"#0d0887\"],[0.1111111111111111,\"#46039f\"],[0.2222222222222222,\"#7201a8\"],[0.3333333333333333,\"#9c179e\"],[0.4444444444444444,\"#bd3786\"],[0.5555555555555556,\"#d8576b\"],[0.6666666666666666,\"#ed7953\"],[0.7777777777777778,\"#fb9f3a\"],[0.8888888888888888,\"#fdca26\"],[1.0,\"#f0f921\"]]},\"colorway\":[\"#636efa\",\"#EF553B\",\"#00cc96\",\"#ab63fa\",\"#FFA15A\",\"#19d3f3\",\"#FF6692\",\"#B6E880\",\"#FF97FF\",\"#FECB52\"],\"font\":{\"color\":\"#2a3f5f\"},\"geo\":{\"bgcolor\":\"white\",\"lakecolor\":\"white\",\"landcolor\":\"white\",\"showlakes\":true,\"showland\":true,\"subunitcolor\":\"#C8D4E3\"},\"hoverlabel\":{\"align\":\"left\"},\"hovermode\":\"closest\",\"mapbox\":{\"style\":\"light\"},\"paper_bgcolor\":\"white\",\"plot_bgcolor\":\"white\",\"polar\":{\"angularaxis\":{\"gridcolor\":\"#EBF0F8\",\"linecolor\":\"#EBF0F8\",\"ticks\":\"\"},\"bgcolor\":\"white\",\"radialaxis\":{\"gridcolor\":\"#EBF0F8\",\"linecolor\":\"#EBF0F8\",\"ticks\":\"\"}},\"scene\":{\"xaxis\":{\"backgroundcolor\":\"white\",\"gridcolor\":\"#DFE8F3\",\"gridwidth\":2,\"linecolor\":\"#EBF0F8\",\"showbackground\":true,\"ticks\":\"\",\"zerolinecolor\":\"#EBF0F8\"},\"yaxis\":{\"backgroundcolor\":\"white\",\"gridcolor\":\"#DFE8F3\",\"gridwidth\":2,\"linecolor\":\"#EBF0F8\",\"showbackground\":true,\"ticks\":\"\",\"zerolinecolor\":\"#EBF0F8\"},\"zaxis\":{\"backgroundcolor\":\"white\",\"gridcolor\":\"#DFE8F3\",\"gridwidth\":2,\"linecolor\":\"#EBF0F8\",\"showbackground\":true,\"ticks\":\"\",\"zerolinecolor\":\"#EBF0F8\"}},\"shapedefaults\":{\"line\":{\"color\":\"#2a3f5f\"}},\"ternary\":{\"aaxis\":{\"gridcolor\":\"#DFE8F3\",\"linecolor\":\"#A2B1C6\",\"ticks\":\"\"},\"baxis\":{\"gridcolor\":\"#DFE8F3\",\"linecolor\":\"#A2B1C6\",\"ticks\":\"\"},\"bgcolor\":\"white\",\"caxis\":{\"gridcolor\":\"#DFE8F3\",\"linecolor\":\"#A2B1C6\",\"ticks\":\"\"}},\"title\":{\"x\":0.05},\"xaxis\":{\"automargin\":true,\"gridcolor\":\"#EBF0F8\",\"linecolor\":\"#EBF0F8\",\"ticks\":\"\",\"title\":{\"standoff\":15},\"zerolinecolor\":\"#EBF0F8\",\"zerolinewidth\":2},\"yaxis\":{\"automargin\":true,\"gridcolor\":\"#EBF0F8\",\"linecolor\":\"#EBF0F8\",\"ticks\":\"\",\"title\":{\"standoff\":15},\"zerolinecolor\":\"#EBF0F8\",\"zerolinewidth\":2}}},\"xaxis\":{\"anchor\":\"y\",\"domain\":[0.0,0.175],\"showgrid\":true},\"yaxis\":{\"anchor\":\"x\",\"domain\":[0.6000000000000001,1.0],\"showgrid\":true},\"xaxis2\":{\"anchor\":\"y2\",\"domain\":[0.275,0.45],\"showgrid\":true},\"yaxis2\":{\"anchor\":\"x2\",\"domain\":[0.6000000000000001,1.0],\"showgrid\":true},\"xaxis3\":{\"anchor\":\"y3\",\"domain\":[0.55,0.7250000000000001],\"showgrid\":true},\"yaxis3\":{\"anchor\":\"x3\",\"domain\":[0.6000000000000001,1.0],\"showgrid\":true},\"xaxis4\":{\"anchor\":\"y4\",\"domain\":[0.825,1.0],\"showgrid\":true},\"yaxis4\":{\"anchor\":\"x4\",\"domain\":[0.6000000000000001,1.0],\"showgrid\":true},\"xaxis5\":{\"anchor\":\"y5\",\"domain\":[0.0,0.175],\"showgrid\":true},\"yaxis5\":{\"anchor\":\"x5\",\"domain\":[0.0,0.4],\"showgrid\":true},\"xaxis6\":{\"anchor\":\"y6\",\"domain\":[0.275,0.45],\"showgrid\":true},\"yaxis6\":{\"anchor\":\"x6\",\"domain\":[0.0,0.4],\"showgrid\":true},\"xaxis7\":{\"anchor\":\"y7\",\"domain\":[0.55,0.7250000000000001],\"showgrid\":true},\"yaxis7\":{\"anchor\":\"x7\",\"domain\":[0.0,0.4],\"showgrid\":true},\"xaxis8\":{\"anchor\":\"y8\",\"domain\":[0.825,1.0],\"showgrid\":true},\"yaxis8\":{\"anchor\":\"x8\",\"domain\":[0.0,0.4],\"showgrid\":true},\"annotations\":[{\"font\":{\"size\":16},\"showarrow\":false,\"text\":\"Topic 0\",\"x\":0.0875,\"xanchor\":\"center\",\"xref\":\"paper\",\"y\":1.0,\"yanchor\":\"bottom\",\"yref\":\"paper\"},{\"font\":{\"size\":16},\"showarrow\":false,\"text\":\"Topic 1\",\"x\":0.36250000000000004,\"xanchor\":\"center\",\"xref\":\"paper\",\"y\":1.0,\"yanchor\":\"bottom\",\"yref\":\"paper\"},{\"font\":{\"size\":16},\"showarrow\":false,\"text\":\"Topic 2\",\"x\":0.6375000000000001,\"xanchor\":\"center\",\"xref\":\"paper\",\"y\":1.0,\"yanchor\":\"bottom\",\"yref\":\"paper\"},{\"font\":{\"size\":16},\"showarrow\":false,\"text\":\"Topic 3\",\"x\":0.9125,\"xanchor\":\"center\",\"xref\":\"paper\",\"y\":1.0,\"yanchor\":\"bottom\",\"yref\":\"paper\"},{\"font\":{\"size\":16},\"showarrow\":false,\"text\":\"Topic 4\",\"x\":0.0875,\"xanchor\":\"center\",\"xref\":\"paper\",\"y\":0.4,\"yanchor\":\"bottom\",\"yref\":\"paper\"},{\"font\":{\"size\":16},\"showarrow\":false,\"text\":\"Topic 5\",\"x\":0.36250000000000004,\"xanchor\":\"center\",\"xref\":\"paper\",\"y\":0.4,\"yanchor\":\"bottom\",\"yref\":\"paper\"},{\"font\":{\"size\":16},\"showarrow\":false,\"text\":\"Topic 6\",\"x\":0.6375000000000001,\"xanchor\":\"center\",\"xref\":\"paper\",\"y\":0.4,\"yanchor\":\"bottom\",\"yref\":\"paper\"},{\"font\":{\"size\":16},\"showarrow\":false,\"text\":\"Topic 7\",\"x\":0.9125,\"xanchor\":\"center\",\"xref\":\"paper\",\"y\":0.4,\"yanchor\":\"bottom\",\"yref\":\"paper\"}],\"title\":{\"font\":{\"size\":22,\"color\":\"Black\"},\"text\":\"<b>Topic Word Scores\",\"x\":0.5,\"xanchor\":\"center\",\"yanchor\":\"top\"},\"hoverlabel\":{\"font\":{\"size\":16,\"family\":\"Rockwell\"},\"bgcolor\":\"white\"},\"showlegend\":false,\"width\":1000,\"height\":500},                        {\"responsive\": true}                    ).then(function(){\n                            \nvar gd = document.getElementById('b0a0d0b5-5b0c-4e78-9e84-58a8612d5923');\nvar x = new MutationObserver(function (mutations, observer) {{\n        var display = window.getComputedStyle(gd).display;\n        if (!display || display === 'none') {{\n            console.log([gd, 'removed!']);\n            Plotly.purge(gd);\n            observer.disconnect();\n        }}\n}});\n\n// Listen for the removal of the full notebook cells\nvar notebookContainer = gd.closest('#notebook-container');\nif (notebookContainer) {{\n    x.observe(notebookContainer, {childList: true});\n}}\n\n// Listen for the clearing of the current output cell\nvar outputEl = gd.closest('.output');\nif (outputEl) {{\n    x.observe(outputEl, {childList: true});\n}}\n\n                        })                };                });            </script>        </div>"
     },
     "metadata": {},
     "output_type": "display_data"
    }
   ],
   "source": [
    "topic_model.visualize_barchart()"
   ],
   "metadata": {
    "collapsed": false
   }
  },
  {
   "cell_type": "code",
   "execution_count": 21,
   "outputs": [
    {
     "name": "stderr",
     "output_type": "stream",
     "text": [
      "C:\\Users\\steem\\StanceDetection\\lib\\site-packages\\plotly\\io\\_renderers.py:395: DeprecationWarning:\n",
      "\n",
      "distutils Version classes are deprecated. Use packaging.version instead.\n",
      "\n"
     ]
    },
    {
     "data": {
      "application/vnd.plotly.v1+json": {
       "data": [
        {
         "coloraxis": "coloraxis",
         "name": "0",
         "x": [
          "0_winter_storm_snow",
          "1_arizona_lake_kari",
          "2_nfl_16_week",
          "3_bbc_english_space",
          "4_risk_verge_250",
          "5_suspension_bauer_trevor",
          "6_women_taliban_lanez",
          "7_yahoo_voices_entertainment"
         ],
         "y": [
          "0_winter_storm_snow",
          "1_arizona_lake_kari",
          "2_nfl_16_week",
          "3_bbc_english_space",
          "4_risk_verge_250",
          "5_suspension_bauer_trevor",
          "6_women_taliban_lanez",
          "7_yahoo_voices_entertainment"
         ],
         "z": [
          [
           0.9999999999999999,
           0.69457364012022,
           0.6637581825599426,
           0.7268001647227496,
           0.6580090712249698,
           0.6451760122482224,
           0.6619930865758046,
           0.7235877735910486
          ],
          [
           0.69457364012022,
           1.0,
           0.678203418991805,
           0.7217618342199957,
           0.6976242741689597,
           0.6849160544529073,
           0.6846552038351726,
           0.7498339001954306
          ],
          [
           0.6637581825599426,
           0.678203418991805,
           0.9999999999999998,
           0.6558619397800763,
           0.6486746010071084,
           0.7066861564850396,
           0.641613111473627,
           0.681474434536457
          ],
          [
           0.7268001647227496,
           0.7217618342199957,
           0.6558619397800763,
           0.9999999999999992,
           0.7095763844022921,
           0.7304048128616476,
           0.7702787161725514,
           0.7630068280414989
          ],
          [
           0.6580090712249698,
           0.6976242741689597,
           0.6486746010071084,
           0.7095763844022921,
           1.0000000000000004,
           0.6686616208503908,
           0.726463611907093,
           0.7240517704347311
          ],
          [
           0.6451760122482224,
           0.6849160544529073,
           0.7066861564850396,
           0.7304048128616476,
           0.6686616208503908,
           1.0000000000000002,
           0.6850286839630575,
           0.6962466502384999
          ],
          [
           0.6619930865758046,
           0.6846552038351726,
           0.641613111473627,
           0.7702787161725514,
           0.726463611907093,
           0.6850286839630575,
           0.9999999999999998,
           0.7061653003064672
          ],
          [
           0.7235877735910486,
           0.7498339001954306,
           0.681474434536457,
           0.7630068280414989,
           0.7240517704347311,
           0.6962466502384999,
           0.7061653003064672,
           1.0000000000000004
          ]
         ],
         "type": "heatmap",
         "xaxis": "x",
         "yaxis": "y",
         "hovertemplate": "x: %{x}<br>y: %{y}<br>Similarity Score: %{z}<extra></extra>"
        }
       ],
       "layout": {
        "template": {
         "data": {
          "histogram2dcontour": [
           {
            "type": "histogram2dcontour",
            "colorbar": {
             "outlinewidth": 0,
             "ticks": ""
            },
            "colorscale": [
             [
              0.0,
              "#0d0887"
             ],
             [
              0.1111111111111111,
              "#46039f"
             ],
             [
              0.2222222222222222,
              "#7201a8"
             ],
             [
              0.3333333333333333,
              "#9c179e"
             ],
             [
              0.4444444444444444,
              "#bd3786"
             ],
             [
              0.5555555555555556,
              "#d8576b"
             ],
             [
              0.6666666666666666,
              "#ed7953"
             ],
             [
              0.7777777777777778,
              "#fb9f3a"
             ],
             [
              0.8888888888888888,
              "#fdca26"
             ],
             [
              1.0,
              "#f0f921"
             ]
            ]
           }
          ],
          "choropleth": [
           {
            "type": "choropleth",
            "colorbar": {
             "outlinewidth": 0,
             "ticks": ""
            }
           }
          ],
          "histogram2d": [
           {
            "type": "histogram2d",
            "colorbar": {
             "outlinewidth": 0,
             "ticks": ""
            },
            "colorscale": [
             [
              0.0,
              "#0d0887"
             ],
             [
              0.1111111111111111,
              "#46039f"
             ],
             [
              0.2222222222222222,
              "#7201a8"
             ],
             [
              0.3333333333333333,
              "#9c179e"
             ],
             [
              0.4444444444444444,
              "#bd3786"
             ],
             [
              0.5555555555555556,
              "#d8576b"
             ],
             [
              0.6666666666666666,
              "#ed7953"
             ],
             [
              0.7777777777777778,
              "#fb9f3a"
             ],
             [
              0.8888888888888888,
              "#fdca26"
             ],
             [
              1.0,
              "#f0f921"
             ]
            ]
           }
          ],
          "heatmap": [
           {
            "type": "heatmap",
            "colorbar": {
             "outlinewidth": 0,
             "ticks": ""
            },
            "colorscale": [
             [
              0.0,
              "#0d0887"
             ],
             [
              0.1111111111111111,
              "#46039f"
             ],
             [
              0.2222222222222222,
              "#7201a8"
             ],
             [
              0.3333333333333333,
              "#9c179e"
             ],
             [
              0.4444444444444444,
              "#bd3786"
             ],
             [
              0.5555555555555556,
              "#d8576b"
             ],
             [
              0.6666666666666666,
              "#ed7953"
             ],
             [
              0.7777777777777778,
              "#fb9f3a"
             ],
             [
              0.8888888888888888,
              "#fdca26"
             ],
             [
              1.0,
              "#f0f921"
             ]
            ]
           }
          ],
          "heatmapgl": [
           {
            "type": "heatmapgl",
            "colorbar": {
             "outlinewidth": 0,
             "ticks": ""
            },
            "colorscale": [
             [
              0.0,
              "#0d0887"
             ],
             [
              0.1111111111111111,
              "#46039f"
             ],
             [
              0.2222222222222222,
              "#7201a8"
             ],
             [
              0.3333333333333333,
              "#9c179e"
             ],
             [
              0.4444444444444444,
              "#bd3786"
             ],
             [
              0.5555555555555556,
              "#d8576b"
             ],
             [
              0.6666666666666666,
              "#ed7953"
             ],
             [
              0.7777777777777778,
              "#fb9f3a"
             ],
             [
              0.8888888888888888,
              "#fdca26"
             ],
             [
              1.0,
              "#f0f921"
             ]
            ]
           }
          ],
          "contourcarpet": [
           {
            "type": "contourcarpet",
            "colorbar": {
             "outlinewidth": 0,
             "ticks": ""
            }
           }
          ],
          "contour": [
           {
            "type": "contour",
            "colorbar": {
             "outlinewidth": 0,
             "ticks": ""
            },
            "colorscale": [
             [
              0.0,
              "#0d0887"
             ],
             [
              0.1111111111111111,
              "#46039f"
             ],
             [
              0.2222222222222222,
              "#7201a8"
             ],
             [
              0.3333333333333333,
              "#9c179e"
             ],
             [
              0.4444444444444444,
              "#bd3786"
             ],
             [
              0.5555555555555556,
              "#d8576b"
             ],
             [
              0.6666666666666666,
              "#ed7953"
             ],
             [
              0.7777777777777778,
              "#fb9f3a"
             ],
             [
              0.8888888888888888,
              "#fdca26"
             ],
             [
              1.0,
              "#f0f921"
             ]
            ]
           }
          ],
          "surface": [
           {
            "type": "surface",
            "colorbar": {
             "outlinewidth": 0,
             "ticks": ""
            },
            "colorscale": [
             [
              0.0,
              "#0d0887"
             ],
             [
              0.1111111111111111,
              "#46039f"
             ],
             [
              0.2222222222222222,
              "#7201a8"
             ],
             [
              0.3333333333333333,
              "#9c179e"
             ],
             [
              0.4444444444444444,
              "#bd3786"
             ],
             [
              0.5555555555555556,
              "#d8576b"
             ],
             [
              0.6666666666666666,
              "#ed7953"
             ],
             [
              0.7777777777777778,
              "#fb9f3a"
             ],
             [
              0.8888888888888888,
              "#fdca26"
             ],
             [
              1.0,
              "#f0f921"
             ]
            ]
           }
          ],
          "mesh3d": [
           {
            "type": "mesh3d",
            "colorbar": {
             "outlinewidth": 0,
             "ticks": ""
            }
           }
          ],
          "scatter": [
           {
            "fillpattern": {
             "fillmode": "overlay",
             "size": 10,
             "solidity": 0.2
            },
            "type": "scatter"
           }
          ],
          "parcoords": [
           {
            "type": "parcoords",
            "line": {
             "colorbar": {
              "outlinewidth": 0,
              "ticks": ""
             }
            }
           }
          ],
          "scatterpolargl": [
           {
            "type": "scatterpolargl",
            "marker": {
             "colorbar": {
              "outlinewidth": 0,
              "ticks": ""
             }
            }
           }
          ],
          "bar": [
           {
            "error_x": {
             "color": "#2a3f5f"
            },
            "error_y": {
             "color": "#2a3f5f"
            },
            "marker": {
             "line": {
              "color": "#E5ECF6",
              "width": 0.5
             },
             "pattern": {
              "fillmode": "overlay",
              "size": 10,
              "solidity": 0.2
             }
            },
            "type": "bar"
           }
          ],
          "scattergeo": [
           {
            "type": "scattergeo",
            "marker": {
             "colorbar": {
              "outlinewidth": 0,
              "ticks": ""
             }
            }
           }
          ],
          "scatterpolar": [
           {
            "type": "scatterpolar",
            "marker": {
             "colorbar": {
              "outlinewidth": 0,
              "ticks": ""
             }
            }
           }
          ],
          "histogram": [
           {
            "marker": {
             "pattern": {
              "fillmode": "overlay",
              "size": 10,
              "solidity": 0.2
             }
            },
            "type": "histogram"
           }
          ],
          "scattergl": [
           {
            "type": "scattergl",
            "marker": {
             "colorbar": {
              "outlinewidth": 0,
              "ticks": ""
             }
            }
           }
          ],
          "scatter3d": [
           {
            "type": "scatter3d",
            "line": {
             "colorbar": {
              "outlinewidth": 0,
              "ticks": ""
             }
            },
            "marker": {
             "colorbar": {
              "outlinewidth": 0,
              "ticks": ""
             }
            }
           }
          ],
          "scattermapbox": [
           {
            "type": "scattermapbox",
            "marker": {
             "colorbar": {
              "outlinewidth": 0,
              "ticks": ""
             }
            }
           }
          ],
          "scatterternary": [
           {
            "type": "scatterternary",
            "marker": {
             "colorbar": {
              "outlinewidth": 0,
              "ticks": ""
             }
            }
           }
          ],
          "scattercarpet": [
           {
            "type": "scattercarpet",
            "marker": {
             "colorbar": {
              "outlinewidth": 0,
              "ticks": ""
             }
            }
           }
          ],
          "carpet": [
           {
            "aaxis": {
             "endlinecolor": "#2a3f5f",
             "gridcolor": "white",
             "linecolor": "white",
             "minorgridcolor": "white",
             "startlinecolor": "#2a3f5f"
            },
            "baxis": {
             "endlinecolor": "#2a3f5f",
             "gridcolor": "white",
             "linecolor": "white",
             "minorgridcolor": "white",
             "startlinecolor": "#2a3f5f"
            },
            "type": "carpet"
           }
          ],
          "table": [
           {
            "cells": {
             "fill": {
              "color": "#EBF0F8"
             },
             "line": {
              "color": "white"
             }
            },
            "header": {
             "fill": {
              "color": "#C8D4E3"
             },
             "line": {
              "color": "white"
             }
            },
            "type": "table"
           }
          ],
          "barpolar": [
           {
            "marker": {
             "line": {
              "color": "#E5ECF6",
              "width": 0.5
             },
             "pattern": {
              "fillmode": "overlay",
              "size": 10,
              "solidity": 0.2
             }
            },
            "type": "barpolar"
           }
          ],
          "pie": [
           {
            "automargin": true,
            "type": "pie"
           }
          ]
         },
         "layout": {
          "autotypenumbers": "strict",
          "colorway": [
           "#636efa",
           "#EF553B",
           "#00cc96",
           "#ab63fa",
           "#FFA15A",
           "#19d3f3",
           "#FF6692",
           "#B6E880",
           "#FF97FF",
           "#FECB52"
          ],
          "font": {
           "color": "#2a3f5f"
          },
          "hovermode": "closest",
          "hoverlabel": {
           "align": "left"
          },
          "paper_bgcolor": "white",
          "plot_bgcolor": "#E5ECF6",
          "polar": {
           "bgcolor": "#E5ECF6",
           "angularaxis": {
            "gridcolor": "white",
            "linecolor": "white",
            "ticks": ""
           },
           "radialaxis": {
            "gridcolor": "white",
            "linecolor": "white",
            "ticks": ""
           }
          },
          "ternary": {
           "bgcolor": "#E5ECF6",
           "aaxis": {
            "gridcolor": "white",
            "linecolor": "white",
            "ticks": ""
           },
           "baxis": {
            "gridcolor": "white",
            "linecolor": "white",
            "ticks": ""
           },
           "caxis": {
            "gridcolor": "white",
            "linecolor": "white",
            "ticks": ""
           }
          },
          "coloraxis": {
           "colorbar": {
            "outlinewidth": 0,
            "ticks": ""
           }
          },
          "colorscale": {
           "sequential": [
            [
             0.0,
             "#0d0887"
            ],
            [
             0.1111111111111111,
             "#46039f"
            ],
            [
             0.2222222222222222,
             "#7201a8"
            ],
            [
             0.3333333333333333,
             "#9c179e"
            ],
            [
             0.4444444444444444,
             "#bd3786"
            ],
            [
             0.5555555555555556,
             "#d8576b"
            ],
            [
             0.6666666666666666,
             "#ed7953"
            ],
            [
             0.7777777777777778,
             "#fb9f3a"
            ],
            [
             0.8888888888888888,
             "#fdca26"
            ],
            [
             1.0,
             "#f0f921"
            ]
           ],
           "sequentialminus": [
            [
             0.0,
             "#0d0887"
            ],
            [
             0.1111111111111111,
             "#46039f"
            ],
            [
             0.2222222222222222,
             "#7201a8"
            ],
            [
             0.3333333333333333,
             "#9c179e"
            ],
            [
             0.4444444444444444,
             "#bd3786"
            ],
            [
             0.5555555555555556,
             "#d8576b"
            ],
            [
             0.6666666666666666,
             "#ed7953"
            ],
            [
             0.7777777777777778,
             "#fb9f3a"
            ],
            [
             0.8888888888888888,
             "#fdca26"
            ],
            [
             1.0,
             "#f0f921"
            ]
           ],
           "diverging": [
            [
             0,
             "#8e0152"
            ],
            [
             0.1,
             "#c51b7d"
            ],
            [
             0.2,
             "#de77ae"
            ],
            [
             0.3,
             "#f1b6da"
            ],
            [
             0.4,
             "#fde0ef"
            ],
            [
             0.5,
             "#f7f7f7"
            ],
            [
             0.6,
             "#e6f5d0"
            ],
            [
             0.7,
             "#b8e186"
            ],
            [
             0.8,
             "#7fbc41"
            ],
            [
             0.9,
             "#4d9221"
            ],
            [
             1,
             "#276419"
            ]
           ]
          },
          "xaxis": {
           "gridcolor": "white",
           "linecolor": "white",
           "ticks": "",
           "title": {
            "standoff": 15
           },
           "zerolinecolor": "white",
           "automargin": true,
           "zerolinewidth": 2
          },
          "yaxis": {
           "gridcolor": "white",
           "linecolor": "white",
           "ticks": "",
           "title": {
            "standoff": 15
           },
           "zerolinecolor": "white",
           "automargin": true,
           "zerolinewidth": 2
          },
          "scene": {
           "xaxis": {
            "backgroundcolor": "#E5ECF6",
            "gridcolor": "white",
            "linecolor": "white",
            "showbackground": true,
            "ticks": "",
            "zerolinecolor": "white",
            "gridwidth": 2
           },
           "yaxis": {
            "backgroundcolor": "#E5ECF6",
            "gridcolor": "white",
            "linecolor": "white",
            "showbackground": true,
            "ticks": "",
            "zerolinecolor": "white",
            "gridwidth": 2
           },
           "zaxis": {
            "backgroundcolor": "#E5ECF6",
            "gridcolor": "white",
            "linecolor": "white",
            "showbackground": true,
            "ticks": "",
            "zerolinecolor": "white",
            "gridwidth": 2
           }
          },
          "shapedefaults": {
           "line": {
            "color": "#2a3f5f"
           }
          },
          "annotationdefaults": {
           "arrowcolor": "#2a3f5f",
           "arrowhead": 0,
           "arrowwidth": 1
          },
          "geo": {
           "bgcolor": "white",
           "landcolor": "#E5ECF6",
           "subunitcolor": "white",
           "showland": true,
           "showlakes": true,
           "lakecolor": "white"
          },
          "title": {
           "x": 0.05
          },
          "mapbox": {
           "style": "light"
          }
         }
        },
        "xaxis": {
         "anchor": "y",
         "domain": [
          0.0,
          1.0
         ],
         "scaleanchor": "y",
         "constrain": "domain"
        },
        "yaxis": {
         "anchor": "x",
         "domain": [
          0.0,
          1.0
         ],
         "autorange": "reversed",
         "constrain": "domain"
        },
        "coloraxis": {
         "colorbar": {
          "title": {
           "text": "Similarity Score"
          }
         },
         "colorscale": [
          [
           0.0,
           "rgb(247,252,240)"
          ],
          [
           0.125,
           "rgb(224,243,219)"
          ],
          [
           0.25,
           "rgb(204,235,197)"
          ],
          [
           0.375,
           "rgb(168,221,181)"
          ],
          [
           0.5,
           "rgb(123,204,196)"
          ],
          [
           0.625,
           "rgb(78,179,211)"
          ],
          [
           0.75,
           "rgb(43,140,190)"
          ],
          [
           0.875,
           "rgb(8,104,172)"
          ],
          [
           1.0,
           "rgb(8,64,129)"
          ]
         ]
        },
        "margin": {
         "t": 60
        },
        "title": {
         "font": {
          "size": 22,
          "color": "Black"
         },
         "text": "<b>Similarity Matrix",
         "y": 0.95,
         "x": 0.55,
         "xanchor": "center",
         "yanchor": "top"
        },
        "hoverlabel": {
         "font": {
          "size": 16,
          "family": "Rockwell"
         },
         "bgcolor": "white"
        },
        "width": 800,
        "height": 800,
        "showlegend": true,
        "legend": {
         "title": {
          "text": "Trend"
         }
        }
       },
       "config": {
        "plotlyServerURL": "https://plot.ly"
       }
      },
      "text/html": "<div>                            <div id=\"edb2719f-e820-414b-913b-db928a0486bf\" class=\"plotly-graph-div\" style=\"height:800px; width:800px;\"></div>            <script type=\"text/javascript\">                require([\"plotly\"], function(Plotly) {                    window.PLOTLYENV=window.PLOTLYENV || {};                                    if (document.getElementById(\"edb2719f-e820-414b-913b-db928a0486bf\")) {                    Plotly.newPlot(                        \"edb2719f-e820-414b-913b-db928a0486bf\",                        [{\"coloraxis\":\"coloraxis\",\"name\":\"0\",\"x\":[\"0_winter_storm_snow\",\"1_arizona_lake_kari\",\"2_nfl_16_week\",\"3_bbc_english_space\",\"4_risk_verge_250\",\"5_suspension_bauer_trevor\",\"6_women_taliban_lanez\",\"7_yahoo_voices_entertainment\"],\"y\":[\"0_winter_storm_snow\",\"1_arizona_lake_kari\",\"2_nfl_16_week\",\"3_bbc_english_space\",\"4_risk_verge_250\",\"5_suspension_bauer_trevor\",\"6_women_taliban_lanez\",\"7_yahoo_voices_entertainment\"],\"z\":[[0.9999999999999999,0.69457364012022,0.6637581825599426,0.7268001647227496,0.6580090712249698,0.6451760122482224,0.6619930865758046,0.7235877735910486],[0.69457364012022,1.0,0.678203418991805,0.7217618342199957,0.6976242741689597,0.6849160544529073,0.6846552038351726,0.7498339001954306],[0.6637581825599426,0.678203418991805,0.9999999999999998,0.6558619397800763,0.6486746010071084,0.7066861564850396,0.641613111473627,0.681474434536457],[0.7268001647227496,0.7217618342199957,0.6558619397800763,0.9999999999999992,0.7095763844022921,0.7304048128616476,0.7702787161725514,0.7630068280414989],[0.6580090712249698,0.6976242741689597,0.6486746010071084,0.7095763844022921,1.0000000000000004,0.6686616208503908,0.726463611907093,0.7240517704347311],[0.6451760122482224,0.6849160544529073,0.7066861564850396,0.7304048128616476,0.6686616208503908,1.0000000000000002,0.6850286839630575,0.6962466502384999],[0.6619930865758046,0.6846552038351726,0.641613111473627,0.7702787161725514,0.726463611907093,0.6850286839630575,0.9999999999999998,0.7061653003064672],[0.7235877735910486,0.7498339001954306,0.681474434536457,0.7630068280414989,0.7240517704347311,0.6962466502384999,0.7061653003064672,1.0000000000000004]],\"type\":\"heatmap\",\"xaxis\":\"x\",\"yaxis\":\"y\",\"hovertemplate\":\"x: %{x}<br>y: %{y}<br>Similarity Score: %{z}<extra></extra>\"}],                        {\"template\":{\"data\":{\"histogram2dcontour\":[{\"type\":\"histogram2dcontour\",\"colorbar\":{\"outlinewidth\":0,\"ticks\":\"\"},\"colorscale\":[[0.0,\"#0d0887\"],[0.1111111111111111,\"#46039f\"],[0.2222222222222222,\"#7201a8\"],[0.3333333333333333,\"#9c179e\"],[0.4444444444444444,\"#bd3786\"],[0.5555555555555556,\"#d8576b\"],[0.6666666666666666,\"#ed7953\"],[0.7777777777777778,\"#fb9f3a\"],[0.8888888888888888,\"#fdca26\"],[1.0,\"#f0f921\"]]}],\"choropleth\":[{\"type\":\"choropleth\",\"colorbar\":{\"outlinewidth\":0,\"ticks\":\"\"}}],\"histogram2d\":[{\"type\":\"histogram2d\",\"colorbar\":{\"outlinewidth\":0,\"ticks\":\"\"},\"colorscale\":[[0.0,\"#0d0887\"],[0.1111111111111111,\"#46039f\"],[0.2222222222222222,\"#7201a8\"],[0.3333333333333333,\"#9c179e\"],[0.4444444444444444,\"#bd3786\"],[0.5555555555555556,\"#d8576b\"],[0.6666666666666666,\"#ed7953\"],[0.7777777777777778,\"#fb9f3a\"],[0.8888888888888888,\"#fdca26\"],[1.0,\"#f0f921\"]]}],\"heatmap\":[{\"type\":\"heatmap\",\"colorbar\":{\"outlinewidth\":0,\"ticks\":\"\"},\"colorscale\":[[0.0,\"#0d0887\"],[0.1111111111111111,\"#46039f\"],[0.2222222222222222,\"#7201a8\"],[0.3333333333333333,\"#9c179e\"],[0.4444444444444444,\"#bd3786\"],[0.5555555555555556,\"#d8576b\"],[0.6666666666666666,\"#ed7953\"],[0.7777777777777778,\"#fb9f3a\"],[0.8888888888888888,\"#fdca26\"],[1.0,\"#f0f921\"]]}],\"heatmapgl\":[{\"type\":\"heatmapgl\",\"colorbar\":{\"outlinewidth\":0,\"ticks\":\"\"},\"colorscale\":[[0.0,\"#0d0887\"],[0.1111111111111111,\"#46039f\"],[0.2222222222222222,\"#7201a8\"],[0.3333333333333333,\"#9c179e\"],[0.4444444444444444,\"#bd3786\"],[0.5555555555555556,\"#d8576b\"],[0.6666666666666666,\"#ed7953\"],[0.7777777777777778,\"#fb9f3a\"],[0.8888888888888888,\"#fdca26\"],[1.0,\"#f0f921\"]]}],\"contourcarpet\":[{\"type\":\"contourcarpet\",\"colorbar\":{\"outlinewidth\":0,\"ticks\":\"\"}}],\"contour\":[{\"type\":\"contour\",\"colorbar\":{\"outlinewidth\":0,\"ticks\":\"\"},\"colorscale\":[[0.0,\"#0d0887\"],[0.1111111111111111,\"#46039f\"],[0.2222222222222222,\"#7201a8\"],[0.3333333333333333,\"#9c179e\"],[0.4444444444444444,\"#bd3786\"],[0.5555555555555556,\"#d8576b\"],[0.6666666666666666,\"#ed7953\"],[0.7777777777777778,\"#fb9f3a\"],[0.8888888888888888,\"#fdca26\"],[1.0,\"#f0f921\"]]}],\"surface\":[{\"type\":\"surface\",\"colorbar\":{\"outlinewidth\":0,\"ticks\":\"\"},\"colorscale\":[[0.0,\"#0d0887\"],[0.1111111111111111,\"#46039f\"],[0.2222222222222222,\"#7201a8\"],[0.3333333333333333,\"#9c179e\"],[0.4444444444444444,\"#bd3786\"],[0.5555555555555556,\"#d8576b\"],[0.6666666666666666,\"#ed7953\"],[0.7777777777777778,\"#fb9f3a\"],[0.8888888888888888,\"#fdca26\"],[1.0,\"#f0f921\"]]}],\"mesh3d\":[{\"type\":\"mesh3d\",\"colorbar\":{\"outlinewidth\":0,\"ticks\":\"\"}}],\"scatter\":[{\"fillpattern\":{\"fillmode\":\"overlay\",\"size\":10,\"solidity\":0.2},\"type\":\"scatter\"}],\"parcoords\":[{\"type\":\"parcoords\",\"line\":{\"colorbar\":{\"outlinewidth\":0,\"ticks\":\"\"}}}],\"scatterpolargl\":[{\"type\":\"scatterpolargl\",\"marker\":{\"colorbar\":{\"outlinewidth\":0,\"ticks\":\"\"}}}],\"bar\":[{\"error_x\":{\"color\":\"#2a3f5f\"},\"error_y\":{\"color\":\"#2a3f5f\"},\"marker\":{\"line\":{\"color\":\"#E5ECF6\",\"width\":0.5},\"pattern\":{\"fillmode\":\"overlay\",\"size\":10,\"solidity\":0.2}},\"type\":\"bar\"}],\"scattergeo\":[{\"type\":\"scattergeo\",\"marker\":{\"colorbar\":{\"outlinewidth\":0,\"ticks\":\"\"}}}],\"scatterpolar\":[{\"type\":\"scatterpolar\",\"marker\":{\"colorbar\":{\"outlinewidth\":0,\"ticks\":\"\"}}}],\"histogram\":[{\"marker\":{\"pattern\":{\"fillmode\":\"overlay\",\"size\":10,\"solidity\":0.2}},\"type\":\"histogram\"}],\"scattergl\":[{\"type\":\"scattergl\",\"marker\":{\"colorbar\":{\"outlinewidth\":0,\"ticks\":\"\"}}}],\"scatter3d\":[{\"type\":\"scatter3d\",\"line\":{\"colorbar\":{\"outlinewidth\":0,\"ticks\":\"\"}},\"marker\":{\"colorbar\":{\"outlinewidth\":0,\"ticks\":\"\"}}}],\"scattermapbox\":[{\"type\":\"scattermapbox\",\"marker\":{\"colorbar\":{\"outlinewidth\":0,\"ticks\":\"\"}}}],\"scatterternary\":[{\"type\":\"scatterternary\",\"marker\":{\"colorbar\":{\"outlinewidth\":0,\"ticks\":\"\"}}}],\"scattercarpet\":[{\"type\":\"scattercarpet\",\"marker\":{\"colorbar\":{\"outlinewidth\":0,\"ticks\":\"\"}}}],\"carpet\":[{\"aaxis\":{\"endlinecolor\":\"#2a3f5f\",\"gridcolor\":\"white\",\"linecolor\":\"white\",\"minorgridcolor\":\"white\",\"startlinecolor\":\"#2a3f5f\"},\"baxis\":{\"endlinecolor\":\"#2a3f5f\",\"gridcolor\":\"white\",\"linecolor\":\"white\",\"minorgridcolor\":\"white\",\"startlinecolor\":\"#2a3f5f\"},\"type\":\"carpet\"}],\"table\":[{\"cells\":{\"fill\":{\"color\":\"#EBF0F8\"},\"line\":{\"color\":\"white\"}},\"header\":{\"fill\":{\"color\":\"#C8D4E3\"},\"line\":{\"color\":\"white\"}},\"type\":\"table\"}],\"barpolar\":[{\"marker\":{\"line\":{\"color\":\"#E5ECF6\",\"width\":0.5},\"pattern\":{\"fillmode\":\"overlay\",\"size\":10,\"solidity\":0.2}},\"type\":\"barpolar\"}],\"pie\":[{\"automargin\":true,\"type\":\"pie\"}]},\"layout\":{\"autotypenumbers\":\"strict\",\"colorway\":[\"#636efa\",\"#EF553B\",\"#00cc96\",\"#ab63fa\",\"#FFA15A\",\"#19d3f3\",\"#FF6692\",\"#B6E880\",\"#FF97FF\",\"#FECB52\"],\"font\":{\"color\":\"#2a3f5f\"},\"hovermode\":\"closest\",\"hoverlabel\":{\"align\":\"left\"},\"paper_bgcolor\":\"white\",\"plot_bgcolor\":\"#E5ECF6\",\"polar\":{\"bgcolor\":\"#E5ECF6\",\"angularaxis\":{\"gridcolor\":\"white\",\"linecolor\":\"white\",\"ticks\":\"\"},\"radialaxis\":{\"gridcolor\":\"white\",\"linecolor\":\"white\",\"ticks\":\"\"}},\"ternary\":{\"bgcolor\":\"#E5ECF6\",\"aaxis\":{\"gridcolor\":\"white\",\"linecolor\":\"white\",\"ticks\":\"\"},\"baxis\":{\"gridcolor\":\"white\",\"linecolor\":\"white\",\"ticks\":\"\"},\"caxis\":{\"gridcolor\":\"white\",\"linecolor\":\"white\",\"ticks\":\"\"}},\"coloraxis\":{\"colorbar\":{\"outlinewidth\":0,\"ticks\":\"\"}},\"colorscale\":{\"sequential\":[[0.0,\"#0d0887\"],[0.1111111111111111,\"#46039f\"],[0.2222222222222222,\"#7201a8\"],[0.3333333333333333,\"#9c179e\"],[0.4444444444444444,\"#bd3786\"],[0.5555555555555556,\"#d8576b\"],[0.6666666666666666,\"#ed7953\"],[0.7777777777777778,\"#fb9f3a\"],[0.8888888888888888,\"#fdca26\"],[1.0,\"#f0f921\"]],\"sequentialminus\":[[0.0,\"#0d0887\"],[0.1111111111111111,\"#46039f\"],[0.2222222222222222,\"#7201a8\"],[0.3333333333333333,\"#9c179e\"],[0.4444444444444444,\"#bd3786\"],[0.5555555555555556,\"#d8576b\"],[0.6666666666666666,\"#ed7953\"],[0.7777777777777778,\"#fb9f3a\"],[0.8888888888888888,\"#fdca26\"],[1.0,\"#f0f921\"]],\"diverging\":[[0,\"#8e0152\"],[0.1,\"#c51b7d\"],[0.2,\"#de77ae\"],[0.3,\"#f1b6da\"],[0.4,\"#fde0ef\"],[0.5,\"#f7f7f7\"],[0.6,\"#e6f5d0\"],[0.7,\"#b8e186\"],[0.8,\"#7fbc41\"],[0.9,\"#4d9221\"],[1,\"#276419\"]]},\"xaxis\":{\"gridcolor\":\"white\",\"linecolor\":\"white\",\"ticks\":\"\",\"title\":{\"standoff\":15},\"zerolinecolor\":\"white\",\"automargin\":true,\"zerolinewidth\":2},\"yaxis\":{\"gridcolor\":\"white\",\"linecolor\":\"white\",\"ticks\":\"\",\"title\":{\"standoff\":15},\"zerolinecolor\":\"white\",\"automargin\":true,\"zerolinewidth\":2},\"scene\":{\"xaxis\":{\"backgroundcolor\":\"#E5ECF6\",\"gridcolor\":\"white\",\"linecolor\":\"white\",\"showbackground\":true,\"ticks\":\"\",\"zerolinecolor\":\"white\",\"gridwidth\":2},\"yaxis\":{\"backgroundcolor\":\"#E5ECF6\",\"gridcolor\":\"white\",\"linecolor\":\"white\",\"showbackground\":true,\"ticks\":\"\",\"zerolinecolor\":\"white\",\"gridwidth\":2},\"zaxis\":{\"backgroundcolor\":\"#E5ECF6\",\"gridcolor\":\"white\",\"linecolor\":\"white\",\"showbackground\":true,\"ticks\":\"\",\"zerolinecolor\":\"white\",\"gridwidth\":2}},\"shapedefaults\":{\"line\":{\"color\":\"#2a3f5f\"}},\"annotationdefaults\":{\"arrowcolor\":\"#2a3f5f\",\"arrowhead\":0,\"arrowwidth\":1},\"geo\":{\"bgcolor\":\"white\",\"landcolor\":\"#E5ECF6\",\"subunitcolor\":\"white\",\"showland\":true,\"showlakes\":true,\"lakecolor\":\"white\"},\"title\":{\"x\":0.05},\"mapbox\":{\"style\":\"light\"}}},\"xaxis\":{\"anchor\":\"y\",\"domain\":[0.0,1.0],\"scaleanchor\":\"y\",\"constrain\":\"domain\"},\"yaxis\":{\"anchor\":\"x\",\"domain\":[0.0,1.0],\"autorange\":\"reversed\",\"constrain\":\"domain\"},\"coloraxis\":{\"colorbar\":{\"title\":{\"text\":\"Similarity Score\"}},\"colorscale\":[[0.0,\"rgb(247,252,240)\"],[0.125,\"rgb(224,243,219)\"],[0.25,\"rgb(204,235,197)\"],[0.375,\"rgb(168,221,181)\"],[0.5,\"rgb(123,204,196)\"],[0.625,\"rgb(78,179,211)\"],[0.75,\"rgb(43,140,190)\"],[0.875,\"rgb(8,104,172)\"],[1.0,\"rgb(8,64,129)\"]]},\"margin\":{\"t\":60},\"title\":{\"font\":{\"size\":22,\"color\":\"Black\"},\"text\":\"<b>Similarity Matrix\",\"y\":0.95,\"x\":0.55,\"xanchor\":\"center\",\"yanchor\":\"top\"},\"hoverlabel\":{\"font\":{\"size\":16,\"family\":\"Rockwell\"},\"bgcolor\":\"white\"},\"width\":800,\"height\":800,\"showlegend\":true,\"legend\":{\"title\":{\"text\":\"Trend\"}}},                        {\"responsive\": true}                    ).then(function(){\n                            \nvar gd = document.getElementById('edb2719f-e820-414b-913b-db928a0486bf');\nvar x = new MutationObserver(function (mutations, observer) {{\n        var display = window.getComputedStyle(gd).display;\n        if (!display || display === 'none') {{\n            console.log([gd, 'removed!']);\n            Plotly.purge(gd);\n            observer.disconnect();\n        }}\n}});\n\n// Listen for the removal of the full notebook cells\nvar notebookContainer = gd.closest('#notebook-container');\nif (notebookContainer) {{\n    x.observe(notebookContainer, {childList: true});\n}}\n\n// Listen for the clearing of the current output cell\nvar outputEl = gd.closest('.output');\nif (outputEl) {{\n    x.observe(outputEl, {childList: true});\n}}\n\n                        })                };                });            </script>        </div>"
     },
     "metadata": {},
     "output_type": "display_data"
    }
   ],
   "source": [
    "topic_model.visualize_heatmap()"
   ],
   "metadata": {
    "collapsed": false
   }
  }
 ],
 "metadata": {
  "kernelspec": {
   "display_name": "Python 3",
   "language": "python",
   "name": "python3"
  },
  "language_info": {
   "codemirror_mode": {
    "name": "ipython",
    "version": 2
   },
   "file_extension": ".py",
   "mimetype": "text/x-python",
   "name": "python",
   "nbconvert_exporter": "python",
   "pygments_lexer": "ipython2",
   "version": "2.7.6"
  }
 },
 "nbformat": 4,
 "nbformat_minor": 0
}
