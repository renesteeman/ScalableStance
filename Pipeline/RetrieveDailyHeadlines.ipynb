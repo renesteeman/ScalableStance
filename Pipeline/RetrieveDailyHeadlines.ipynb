{
 "cells": [
  {
   "cell_type": "code",
   "execution_count": 11,
   "metadata": {
    "collapsed": true
   },
   "outputs": [
    {
     "data": {
      "text/plain": "{'status': 'ok',\n 'totalResults': 36,\n 'articles': [{'source': {'id': None, 'name': 'BBC News'},\n   'author': 'https://www.facebook.com/bbcnews',\n   'title': 'Airport strikes: Travellers warned to expect disruption - BBC',\n   'description': 'Border Force staff are walking out in a row over pay while rail passengers face industrial action.',\n   'url': 'https://www.bbc.com/news/business-64060584',\n   'urlToImage': 'https://ichef.bbci.co.uk/news/1024/branded_news/11E4A/production/_128109237_passportgetty.png',\n   'publishedAt': '2022-12-23T07:34:11Z',\n   'content': 'Hundreds of thousands of travellers arriving in the UK have been told to expect disruption as passport control workers begin strikes.\\r\\nBorder Force staff are the latest UK workers to take industrial … [+5180 chars]'},\n  {'source': {'id': None, 'name': 'The Moscow Times'},\n   'author': 'AFP',\n   'title': \"North Korea Sold Arms to Russia's Wagner Group, U.S. Says - The Moscow Times\",\n   'description': 'North Korea has delivered arms to Russia\\'s private military group Wagner, the White House said Thursday, calling the mercenary enterprise a \"rival\" for power to the defense and other ministries in the Kremlin.',\n   'url': 'https://www.themoscowtimes.com/2022/12/23/north-korea-sold-arms-to-russias-wagner-group-us-says-a79782',\n   'urlToImage': 'https://static.themoscowtimes.com/image/og/bb/79782__bbe0beaa1a5bef3660807d16a9860d74.jpg',\n   'publishedAt': '2022-12-23T06:32:27Z',\n   'content': 'North Korea has delivered arms to Russia\\'s private military group Wagner, the White House said Thursday, calling the mercenary enterprise a \"rival\" for power to the defense and other ministries in th… [+4193 chars]'},\n  {'source': {'id': None, 'name': 'CNBC'},\n   'author': 'Samantha Subin',\n   'title': 'Stock futures are flat on Friday morning - CNBC',\n   'description': 'After a brief reprieve, the market resumed its December selloff on Thursday.',\n   'url': 'https://www.cnbc.com/2022/12/22/stock-market-futures-open-to-close-news.html',\n   'urlToImage': 'https://image.cnbcfm.com/api/v1/image/107162756-1670435615911-nys2.jpg?v=1671750134&w=1920&h=1080',\n   'publishedAt': '2022-12-23T05:49:00Z',\n   'content': 'Stock futures inched up in early morning trading Friday.\\r\\nFutures tied to the Dow Jones Industrial Average gained 50 points, or 0.15%. S&amp;P 500 and Nasdaq 100 futures were up 0.12% and 0.03%, resp… [+1711 chars]'},\n  {'source': {'id': None, 'name': 'CBS Sports'},\n   'author': '',\n   'title': 'Who is Chris Streveler? A look at the Jets practice squad quarterback who replaced benched Zach Wilson - CBS Sports',\n   'description': 'Streveler gave the Jets offense a spark on a gloomy night',\n   'url': 'https://www.cbssports.com/nfl/news/who-is-chris-streveler-a-look-at-the-jets-practice-squad-quarterback-who-replaced-benched-zach-wilson/',\n   'urlToImage': 'https://sportshub.cbsistatic.com/i/r/2022/12/23/a753189d-78e2-4766-bae0-d0bd2535aa30/thumbnail/1200x675/9bd12719a7b2a2984b74ed3deb290551/chris-streveler-usatsi.jpg',\n   'publishedAt': '2022-12-23T04:49:00Z',\n   'content': 'As boos rained down at MetLife Stadium, the Jets benched Zach Wilson\\xa0for Chris Streveler\\xa0in the midst of a 19-3 loss to the Jacksonville Jaguars on Thursday night.\\r\\nJets fans had been chanting for ve… [+1730 chars]'},\n  {'source': {'id': None, 'name': 'ESPN'},\n   'author': 'Alden Gonzalez, Jeff Passan',\n   'title': \"Everything to know about Trevor Bauer's MLB suspension reduction - ESPN\",\n   'description': 'Trevor Bauer is soon to be reinstated to Major League Baseball -- but what is his future in the game? We answer that question and more.',\n   'url': 'https://www.espn.com/mlb/story/_/id/35307636/trevor-bauer-mlb-suspension-reduction-dodgers',\n   'urlToImage': 'https://a3.espncdn.com/combiner/i?img=%2Fphoto%2F2021%2F0831%2Fr902869_1296x729_16%2D9.jpg',\n   'publishedAt': '2022-12-23T04:32:12Z',\n   'content': \"On Thursday night, Major League Baseball announced that Trevor Bauer's 324-game suspension had been reduced to 194 games by an independent arbitrator. Bauer is eligible to return to baseball immediat… [+5621 chars]\"},\n  {'source': {'id': None, 'name': 'YouTube'},\n   'author': None,\n   'title': 'Missing baby Kason Thomas found alive - NBC4 Columbus',\n   'description': 'Missing baby Kason Thomas found aliveStay informed about Columbus and central Ohio news, weather and sports! Follow NBC4 on our website and social media chan...',\n   'url': 'https://www.youtube.com/watch?v=LoOR8kPeoSM',\n   'urlToImage': 'https://i.ytimg.com/vi/LoOR8kPeoSM/maxresdefault.jpg',\n   'publishedAt': '2022-12-23T04:23:20Z',\n   'content': None},\n  {'source': {'id': None, 'name': 'YouTube'},\n   'author': None,\n   'title': 'Jacksonville Jaguars vs. New York Jets | 2022 Week 16 Game Highlights - NFL',\n   'description': 'Check out our other channels:NFL Mundo https://www.youtube.com/mundonflNFL Brasil https://www.youtube.com/c/NFLBrasilOficialNFL UK https://www.youtube.com/ch...',\n   'url': 'https://www.youtube.com/watch?v=C-q2qw_LqoI',\n   'urlToImage': 'https://i.ytimg.com/vi/C-q2qw_LqoI/maxresdefault.jpg',\n   'publishedAt': '2022-12-23T04:17:40Z',\n   'content': None},\n  {'source': {'id': 'al-jazeera-english', 'name': 'Al Jazeera English'},\n   'author': 'Al Jazeera',\n   'title': 'Russia considers ways to return space crew after capsule leak - Al Jazeera English',\n   'description': 'Tests are being conducted to determine whether Soyuz capsule is unfit for crewed flight after coolant leak.',\n   'url': 'https://www.aljazeera.com/news/2022/12/23/russia-considers-ways-to-return-crew-from-iss-after-capsule-leak',\n   'urlToImage': 'https://www.aljazeera.com/wp-content/uploads/2022/12/2022-11-18T141646Z_840130815_RC2EOX9R1O10_RTRMADP_3_SPACE-EXPLORATION-SPACEWALK.jpg?resize=1200%2C675',\n   'publishedAt': '2022-12-23T03:59:49Z',\n   'content': 'Russias space agency is considering a rescue plan to bring home three crew members ahead of schedule from the International Space Station (ISS) after their Soyuz capsule sprang a coolant leak.\\r\\nRosco… [+3993 chars]'},\n  {'source': {'id': None, 'name': 'YouTube'},\n   'author': None,\n   'title': \"'Once-in-a-generation storm' bears down on U.S. - CBC News: The National\",\n   'description': 'More than 100 million Americans are under winter weather and wind chill alerts as a major winter storm – called a “once-in-a-generation type event”  – bears ...',\n   'url': 'https://www.youtube.com/watch?v=QxYsdRl-LLk',\n   'urlToImage': 'https://i.ytimg.com/vi/QxYsdRl-LLk/maxresdefault.jpg',\n   'publishedAt': '2022-12-23T03:13:33Z',\n   'content': None},\n  {'source': {'id': 'the-washington-post', 'name': 'The Washington Post'},\n   'author': 'Tyler Pager, Yasmeen Abutaleb',\n   'title': \"Deep secrecy, high risk: How Zelensky's improbable D.C. visit came together - The Washington Post\",\n   'description': \"The Ukrainian president's emotional visit to D.C. was prepared by a flurry of top-secret diplomacy, a recognition of the stakes and a blunt calculation of the risks\",\n   'url': 'https://www.washingtonpost.com/politics/2022/12/22/behind-zelensky-dramatic-dc-trip/',\n   'urlToImage': 'https://www.washingtonpost.com/wp-apps/imrs.php?src=https://arc-anglerfish-washpost-prod-washpost.s3.amazonaws.com/public/2VKUPCMKEXA2YNWNHYPPZHIRXI.JPG&w=1440',\n   'publishedAt': '2022-12-23T03:00:00Z',\n   'content': 'Comment on this story\\r\\nWhen a U.S. military aircraft landed on the tarmac in Rzeszow, Poland, on Tuesday, the plane crew thought they were picking up the U.S. ambassador to Ukraine and a few high-lev… [+10714 chars]'},\n  {'source': {'id': 'axios', 'name': 'Axios'},\n   'author': 'Alayna Treene',\n   'title': 'Senate passes $1.7 trillion government funding bill - Axios',\n   'description': 'The legislation will fund the government through next September.',\n   'url': 'https://www.axios.com/2022/12/22/omnibus-government-spending-bill-2022',\n   'urlToImage': 'https://images.axios.com/k8GLI4WwZaLJprTxQoUPElSaE7c=/0x192:2518x1608/1366x768/2022/12/22/1671728414621.jpg',\n   'publishedAt': '2022-12-23T02:49:13Z',\n   'content': 'The Senate passed the nearly $1.7 trillion long-term, government funding bill 68-29 on Thursday, sending the measure to the House for quick passage before a looming deadline.\\r\\nWhy it matters: The leg… [+4036 chars]'},\n  {'source': {'id': None, 'name': 'CNBC'},\n   'author': 'Kevin Breuninger, Dan Mangan',\n   'title': 'Jan. 6 House committee releases final report on Trump Capitol riot investigation - CNBC',\n   'description': 'The Jan. 6 panel voted this week to refer Trump to the DOJ for possible prosecution over efforts to overturn his election loss to President Joe Biden.',\n   'url': 'https://www.cnbc.com/2022/12/22/trump-capitol-riot-jan-6-committee-issues-final-report.html',\n   'urlToImage': 'https://image.cnbcfm.com/api/v1/image/107168523-16714798402022-12-19t195602z_1165840266_rc279y95ctgy_rtrmadp_0_usa-capitol-security.jpeg?v=1671763712&w=1920&h=1080',\n   'publishedAt': '2022-12-23T02:48:00Z',\n   'content': \"U.S. Rep. Jamie Raskin (D-MD) carries the comittee's final report as he departs after the final public meeting of the U.S. House Select Committee investigating the January 6 Attack on the U.S. Capito… [+10248 chars]\"},\n  {'source': {'id': 'the-wall-street-journal',\n    'name': 'The Wall Street Journal'},\n   'author': 'Adolfo Flores, Jim Carlton, Preetika Rana, Suryatapa Bhattacharya, Joseph Pisani, Alison Sider',\n   'title': 'Winter Storm Live Updates: Snow and Freezing Temps Across U.S. Impact Thousands of Flights - The Wall Street Journal',\n   'description': 'A powerful winter storm is bringing record-breaking cold temperatures, frigid wind chills and heavy snow across a large swath of the U.S., threatening to upend holiday travel.',\n   'url': 'https://www.wsj.com/livecoverage/winter-storm-holiday-travel-flights-snow',\n   'urlToImage': 'https://images.wsj.net/im-690787/social',\n   'publishedAt': '2022-12-23T02:23:00Z',\n   'content': None},\n  {'source': {'id': 'the-verge', 'name': 'The Verge'},\n   'author': 'Richard Lawler',\n   'title': 'FTX co-founder Sam Bankman-Fried is back in the US, released on $250 million bail - The Verge',\n   'description': 'Sam Bankman-Fried was released from federal custody to live with his parents while awaiting trial on fraud and money laundering charges relating to his failed crypto exchange FTX.',\n   'url': 'https://www.theverge.com/2022/12/22/23523149/sam-bankman-fried-250m-bail-ftx-crypto-fraud',\n   'urlToImage': 'https://cdn.vox-cdn.com/thumbor/hKTsJ4kH95ULYiT6T8TXIYcteWE=/221x79:4775x2900/1200x628/filters:focal(2505x1214:2506x1215)/cdn.vox-cdn.com/uploads/chorus_asset/file/24312564/1245786421.jpg',\n   'publishedAt': '2022-12-23T02:17:00Z',\n   'content': 'FTX co-founder Sam Bankman-Fried is back in the US, released on $250 million bail\\r\\nFTX co-founder Sam Bankman-Fried is back in the US, released on $250 million bail\\r\\n / Former executives from SBFs cr… [+4226 chars]'},\n  {'source': {'id': 'the-verge', 'name': 'The Verge'},\n   'author': 'Mitchell Clark',\n   'title': \"Read Microsoft's response to the FTC's Activision Blizzard lawsuit - The Verge\",\n   'description': 'Microsoft is once again explaining why it should be allowed to buy Activision Blizzard King, this time in response to a lawsuit brought on by regulators who expressed concern about competition.',\n   'url': 'https://www.theverge.com/23523563/read-microsoft-response-ftc-antitrust-complaint-activision-blizzard-king',\n   'urlToImage': 'https://cdn.vox-cdn.com/thumbor/n2SnFRk93CgmoGa7JQVfCM4V5v8=/0x0:3000x2000/1200x628/filters:focal(1500x1000:1501x1001)/cdn.vox-cdn.com/uploads/chorus_asset/file/23926024/acastro_STK048_03.jpg',\n   'publishedAt': '2022-12-23T02:17:00Z',\n   'content': 'Read Microsofts response to the FTCs Activision Blizzard lawsuit\\r\\nRead Microsofts response to the FTCs Activision Blizzard lawsuit\\r\\n / The company has filed a 37-page document explaining why it think… [+2744 chars]'},\n  {'source': {'id': 'the-washington-post', 'name': 'The Washington Post'},\n   'author': 'Jacqueline Alemany, Isaac Stanley-Becker, Amy Gardner, Carol D. Leonnig',\n   'title': 'Cassidy Hutchinson claims Trump figures sought to influence her testimony - The Washington Post',\n   'description': 'The former White House aide’s allegations come in transcripts released by the House Jan. 6 committee as it prepares to end its work.',\n   'url': 'https://www.washingtonpost.com/national-security/2022/12/22/cassidy-hutchinson-jan-6-transcript/',\n   'urlToImage': 'https://www.washingtonpost.com/wp-apps/imrs.php?src=https://arc-anglerfish-washpost-prod-washpost.s3.amazonaws.com/public/SNBIATKY5JGT3NIL2B6XCZF66Q.jpg&w=1440',\n   'publishedAt': '2022-12-23T01:55:00Z',\n   'content': 'Former White House aide Cassidy Hutchinson testified to the House select committee investigating the Jan. 6, 2021, attack on the U.S. Capitol that she was advised by her first lawyer to deliberately … [+11950 chars]'},\n  {'source': {'id': None, 'name': 'The Guardian'},\n   'author': 'Guardian staff reporter',\n   'title': 'Taliban minister defends closing universities to women as global backlash grows - The Guardian',\n   'description': 'Neda Mohammad Nadeem says ban was necessary to prevent mixing of genders as rare protests break out',\n   'url': 'https://www.theguardian.com/world/2022/dec/23/taliban-minister-defends-closing-universities-to-women-as-global-backlash-grows',\n   'urlToImage': 'https://i.guim.co.uk/img/media/cc38703065c90a3f34c3b56113d4d0289551d6b9/120_0_1800_1080/master/1800.jpg?width=1200&height=630&quality=85&auto=format&fit=crop&overlay-align=bottom%2Cleft&overlay-width=100p&overlay-base64=L2ltZy9zdGF0aWMvb3ZlcmxheXMvdGctZGVmYXVsdC5wbmc&enable=upscale&s=9d48de18b999e21bcb360c79753fe4a7',\n   'publishedAt': '2022-12-23T01:50:00Z',\n   'content': 'The minister of higher education in Afghanistans Taliban government has defended his decision to ban women from universities a decree that triggered a global backlash and protests inside the country.… [+4159 chars]'},\n  {'source': {'id': 'associated-press', 'name': 'Associated Press'},\n   'author': 'Jacques Billeaud',\n   'title': 'Arizona lawyers: Kari Lake election loss lawsuit lacks merit - The Associated Press - en Español',\n   'description': 'PHOENIX (AP) — Republican Kari Lake didn’t offer evidence to back her claims of widespread, intentional misconduct on Election Day at her two-day trial challenging her loss to Democrat Katie Hobbs  in Arizona governor’s race, lawyers for the state said Thursd…',\n   'url': 'https://apnews.com/article/2022-midterm-elections-politics-arizona-katie-hobbs-d5d05d7359698db2c166909467d719f8',\n   'urlToImage': 'https://storage.googleapis.com/afs-prod/media/785054e81fdd404981bef4063b3b7e5b/3000.webp',\n   'publishedAt': '2022-12-23T01:26:44Z',\n   'content': 'PHOENIX (AP) Republican Kari Lake didnt offer evidence to back her claims of widespread, intentional misconduct on Election Day at her two-day trial challenging her loss to Democrat Katie Hobbs in Ar… [+5064 chars]'},\n  {'source': {'id': None, 'name': 'TVLine'},\n   'author': 'Matt Webb Mitovich',\n   'title': \"Charlie Cox 'Fascinated' by Daredevil's 18-Episode Order on Disney+, Says It 'Probably Won't Be as Gory' as Netflix - Yahoo Entertainment\",\n   'description': 'If you raised an eyebrow (inside your cowl) when it was announced that Disney+’s Daredevil: Born Again will have an 18-episode season, Charlie Cox was intrigued right along with you.',\n   'url': 'https://tvline.com/2022/12/22/charlie-cox-daredevil-born-again-disney-plus-not-gory/',\n   'urlToImage': 'https://tvline.com/wp-content/uploads/2022/12/she-hulk-daredevil-charlie-cox.jpg?w=620',\n   'publishedAt': '2022-12-23T01:00:00Z',\n   'content': 'If you raised an eyebrow (inside your cowl) when it was announced that Disney+’s Daredevil: Born Again will have an 18-episode season, Charlie Cox was intrigued right along with you.\\r\\n“I’m fascinated… [+2393 chars]'},\n  {'source': {'id': 'cnn', 'name': 'CNN'},\n   'author': 'Selina Wang, Nectar Gan',\n   'title': 'As crematoriums fill up, China shifts how it counts Covid deaths - CNN',\n   'description': 'The prospect of a rising death toll, projected by some studies to be as high as one million, has become a thorny issue for a government that staked its legitimacy on \"saving lives.\"',\n   'url': 'https://www.cnn.com/2022/12/22/china/china-covid-deaths-crematorium-intl-hnk-mic/index.html',\n   'urlToImage': 'https://media.cnn.com/api/v1/images/stellar/prod/221222045354-china-covid-deaths-crematorium-intl-hnk.jpg?c=16x9&q=w_800,c_fill',\n   'publishedAt': '2022-12-23T00:18:00Z',\n   'content': 'For much of the pandemic, images of overflowing hospitals and busy funeral homes from the United States have featured heavily on Chinas state-controlled television, where the deaths of over a million… [+6571 chars]'}]}"
     },
     "metadata": {},
     "output_type": "display_data"
    }
   ],
   "source": [
    "from newsapi import NewsApiClient\n",
    "import Secrets\n",
    "\n",
    "# Init\n",
    "newsapi = NewsApiClient(api_key=Secrets.NewsAPI)\n",
    "\n",
    "# /v2/top-headlines\n",
    "top_headlines = newsapi.get_top_headlines(language='en',\n",
    "                                          country='us')\n",
    "\n",
    "display(top_headlines)"
   ]
  },
  {
   "cell_type": "code",
   "execution_count": 12,
   "outputs": [
    {
     "data": {
      "text/plain": "                                                title  \\\n0   Airport strikes: Travellers warned to expect d...   \n1   North Korea Sold Arms to Russia's Wagner Group...   \n2     Stock futures are flat on Friday morning - CNBC   \n3   Who is Chris Streveler? A look at the Jets pra...   \n4   Everything to know about Trevor Bauer's MLB su...   \n5   Missing baby Kason Thomas found alive - NBC4 C...   \n6   Jacksonville Jaguars vs. New York Jets | 2022 ...   \n7   Russia considers ways to return space crew aft...   \n8   'Once-in-a-generation storm' bears down on U.S...   \n9   Deep secrecy, high risk: How Zelensky's improb...   \n10  Senate passes $1.7 trillion government funding...   \n11  Jan. 6 House committee releases final report o...   \n12  Winter Storm Live Updates: Snow and Freezing T...   \n13  FTX co-founder Sam Bankman-Fried is back in th...   \n14  Read Microsoft's response to the FTC's Activis...   \n15  Cassidy Hutchinson claims Trump figures sought...   \n16  Taliban minister defends closing universities ...   \n17  Arizona lawyers: Kari Lake election loss lawsu...   \n18  Charlie Cox 'Fascinated' by Daredevil's 18-Epi...   \n19  As crematoriums fill up, China shifts how it c...   \n\n                                                  url           publishedAt  \n0          https://www.bbc.com/news/business-64060584  2022-12-23T07:34:11Z  \n1   https://www.themoscowtimes.com/2022/12/23/nort...  2022-12-23T06:32:27Z  \n2   https://www.cnbc.com/2022/12/22/stock-market-f...  2022-12-23T05:49:00Z  \n3   https://www.cbssports.com/nfl/news/who-is-chri...  2022-12-23T04:49:00Z  \n4   https://www.espn.com/mlb/story/_/id/35307636/t...  2022-12-23T04:32:12Z  \n5         https://www.youtube.com/watch?v=LoOR8kPeoSM  2022-12-23T04:23:20Z  \n6         https://www.youtube.com/watch?v=C-q2qw_LqoI  2022-12-23T04:17:40Z  \n7   https://www.aljazeera.com/news/2022/12/23/russ...  2022-12-23T03:59:49Z  \n8         https://www.youtube.com/watch?v=QxYsdRl-LLk  2022-12-23T03:13:33Z  \n9   https://www.washingtonpost.com/politics/2022/1...  2022-12-23T03:00:00Z  \n10  https://www.axios.com/2022/12/22/omnibus-gover...  2022-12-23T02:49:13Z  \n11  https://www.cnbc.com/2022/12/22/trump-capitol-...  2022-12-23T02:48:00Z  \n12  https://www.wsj.com/livecoverage/winter-storm-...  2022-12-23T02:23:00Z  \n13  https://www.theverge.com/2022/12/22/23523149/s...  2022-12-23T02:17:00Z  \n14  https://www.theverge.com/23523563/read-microso...  2022-12-23T02:17:00Z  \n15  https://www.washingtonpost.com/national-securi...  2022-12-23T01:55:00Z  \n16  https://www.theguardian.com/world/2022/dec/23/...  2022-12-23T01:50:00Z  \n17  https://apnews.com/article/2022-midterm-electi...  2022-12-23T01:26:44Z  \n18  https://tvline.com/2022/12/22/charlie-cox-dare...  2022-12-23T01:00:00Z  \n19  https://www.cnn.com/2022/12/22/china/china-cov...  2022-12-23T00:18:00Z  ",
      "text/html": "<div>\n<style scoped>\n    .dataframe tbody tr th:only-of-type {\n        vertical-align: middle;\n    }\n\n    .dataframe tbody tr th {\n        vertical-align: top;\n    }\n\n    .dataframe thead th {\n        text-align: right;\n    }\n</style>\n<table border=\"1\" class=\"dataframe\">\n  <thead>\n    <tr style=\"text-align: right;\">\n      <th></th>\n      <th>title</th>\n      <th>url</th>\n      <th>publishedAt</th>\n    </tr>\n  </thead>\n  <tbody>\n    <tr>\n      <th>0</th>\n      <td>Airport strikes: Travellers warned to expect d...</td>\n      <td>https://www.bbc.com/news/business-64060584</td>\n      <td>2022-12-23T07:34:11Z</td>\n    </tr>\n    <tr>\n      <th>1</th>\n      <td>North Korea Sold Arms to Russia's Wagner Group...</td>\n      <td>https://www.themoscowtimes.com/2022/12/23/nort...</td>\n      <td>2022-12-23T06:32:27Z</td>\n    </tr>\n    <tr>\n      <th>2</th>\n      <td>Stock futures are flat on Friday morning - CNBC</td>\n      <td>https://www.cnbc.com/2022/12/22/stock-market-f...</td>\n      <td>2022-12-23T05:49:00Z</td>\n    </tr>\n    <tr>\n      <th>3</th>\n      <td>Who is Chris Streveler? A look at the Jets pra...</td>\n      <td>https://www.cbssports.com/nfl/news/who-is-chri...</td>\n      <td>2022-12-23T04:49:00Z</td>\n    </tr>\n    <tr>\n      <th>4</th>\n      <td>Everything to know about Trevor Bauer's MLB su...</td>\n      <td>https://www.espn.com/mlb/story/_/id/35307636/t...</td>\n      <td>2022-12-23T04:32:12Z</td>\n    </tr>\n    <tr>\n      <th>5</th>\n      <td>Missing baby Kason Thomas found alive - NBC4 C...</td>\n      <td>https://www.youtube.com/watch?v=LoOR8kPeoSM</td>\n      <td>2022-12-23T04:23:20Z</td>\n    </tr>\n    <tr>\n      <th>6</th>\n      <td>Jacksonville Jaguars vs. New York Jets | 2022 ...</td>\n      <td>https://www.youtube.com/watch?v=C-q2qw_LqoI</td>\n      <td>2022-12-23T04:17:40Z</td>\n    </tr>\n    <tr>\n      <th>7</th>\n      <td>Russia considers ways to return space crew aft...</td>\n      <td>https://www.aljazeera.com/news/2022/12/23/russ...</td>\n      <td>2022-12-23T03:59:49Z</td>\n    </tr>\n    <tr>\n      <th>8</th>\n      <td>'Once-in-a-generation storm' bears down on U.S...</td>\n      <td>https://www.youtube.com/watch?v=QxYsdRl-LLk</td>\n      <td>2022-12-23T03:13:33Z</td>\n    </tr>\n    <tr>\n      <th>9</th>\n      <td>Deep secrecy, high risk: How Zelensky's improb...</td>\n      <td>https://www.washingtonpost.com/politics/2022/1...</td>\n      <td>2022-12-23T03:00:00Z</td>\n    </tr>\n    <tr>\n      <th>10</th>\n      <td>Senate passes $1.7 trillion government funding...</td>\n      <td>https://www.axios.com/2022/12/22/omnibus-gover...</td>\n      <td>2022-12-23T02:49:13Z</td>\n    </tr>\n    <tr>\n      <th>11</th>\n      <td>Jan. 6 House committee releases final report o...</td>\n      <td>https://www.cnbc.com/2022/12/22/trump-capitol-...</td>\n      <td>2022-12-23T02:48:00Z</td>\n    </tr>\n    <tr>\n      <th>12</th>\n      <td>Winter Storm Live Updates: Snow and Freezing T...</td>\n      <td>https://www.wsj.com/livecoverage/winter-storm-...</td>\n      <td>2022-12-23T02:23:00Z</td>\n    </tr>\n    <tr>\n      <th>13</th>\n      <td>FTX co-founder Sam Bankman-Fried is back in th...</td>\n      <td>https://www.theverge.com/2022/12/22/23523149/s...</td>\n      <td>2022-12-23T02:17:00Z</td>\n    </tr>\n    <tr>\n      <th>14</th>\n      <td>Read Microsoft's response to the FTC's Activis...</td>\n      <td>https://www.theverge.com/23523563/read-microso...</td>\n      <td>2022-12-23T02:17:00Z</td>\n    </tr>\n    <tr>\n      <th>15</th>\n      <td>Cassidy Hutchinson claims Trump figures sought...</td>\n      <td>https://www.washingtonpost.com/national-securi...</td>\n      <td>2022-12-23T01:55:00Z</td>\n    </tr>\n    <tr>\n      <th>16</th>\n      <td>Taliban minister defends closing universities ...</td>\n      <td>https://www.theguardian.com/world/2022/dec/23/...</td>\n      <td>2022-12-23T01:50:00Z</td>\n    </tr>\n    <tr>\n      <th>17</th>\n      <td>Arizona lawyers: Kari Lake election loss lawsu...</td>\n      <td>https://apnews.com/article/2022-midterm-electi...</td>\n      <td>2022-12-23T01:26:44Z</td>\n    </tr>\n    <tr>\n      <th>18</th>\n      <td>Charlie Cox 'Fascinated' by Daredevil's 18-Epi...</td>\n      <td>https://tvline.com/2022/12/22/charlie-cox-dare...</td>\n      <td>2022-12-23T01:00:00Z</td>\n    </tr>\n    <tr>\n      <th>19</th>\n      <td>As crematoriums fill up, China shifts how it c...</td>\n      <td>https://www.cnn.com/2022/12/22/china/china-cov...</td>\n      <td>2022-12-23T00:18:00Z</td>\n    </tr>\n  </tbody>\n</table>\n</div>"
     },
     "execution_count": 12,
     "metadata": {},
     "output_type": "execute_result"
    }
   ],
   "source": [
    "import pandas as pd\n",
    "headlines = pd.DataFrame(top_headlines['articles'])\n",
    "headlines = headlines[['title', 'url', 'publishedAt']]\n",
    "headlines"
   ],
   "metadata": {
    "collapsed": false
   }
  },
  {
   "cell_type": "code",
   "execution_count": 13,
   "outputs": [
    {
     "name": "stdout",
     "output_type": "stream",
     "text": [
      "Connection closed.\n",
      "Connected. Call `.close()` to terminate connection gracefully.\n",
      "\n",
      "Logged in to project, explore it here https://c.app.hopsworks.ai:443/p/5270\n",
      "Connected. Call `.close()` to terminate connection gracefully.\n"
     ]
    },
    {
     "name": "stderr",
     "output_type": "stream",
     "text": [
      "FeatureGroupWarning: The ingested dataframe contains upper case letters in feature names: `['publishedAt']`. Feature names are sanitized to lower case in the feature store.\n"
     ]
    },
    {
     "data": {
      "text/plain": "Uploading Dataframe: 0.00% |          | Rows 0/20 | Elapsed Time: 00:00 | Remaining Time: ?",
      "application/vnd.jupyter.widget-view+json": {
       "version_major": 2,
       "version_minor": 0,
       "model_id": "4bcdd3938cbe46868aad0d20fabb43cf"
      }
     },
     "metadata": {},
     "output_type": "display_data"
    },
    {
     "name": "stdout",
     "output_type": "stream",
     "text": [
      "Launching offline feature group backfill job...\n",
      "Backfill Job started successfully, you can follow the progress at \n",
      "https://c.app.hopsworks.ai/p/5270/jobs/named/articles_daily_1_offline_fg_backfill/executions\n"
     ]
    },
    {
     "data": {
      "text/plain": "(<hsfs.core.job.Job at 0x270bfeab790>, None)"
     },
     "execution_count": 13,
     "metadata": {},
     "output_type": "execute_result"
    }
   ],
   "source": [
    "import hopsworks\n",
    "\n",
    "project = hopsworks.login()\n",
    "feature_store = project.get_feature_store()\n",
    "article_feature_store = feature_store.get_or_create_feature_group(\n",
    "    name=\"articles_daily\",\n",
    "    version=1,\n",
    "    primary_key=[\"url\"],\n",
    "    description=\"Articles loaded in daily\")\n",
    "article_feature_store.insert(headlines, write_options={\"wait_for_job\" : False})"
   ],
   "metadata": {
    "collapsed": false
   }
  }
 ],
 "metadata": {
  "kernelspec": {
   "display_name": "Python 3",
   "language": "python",
   "name": "python3"
  },
  "language_info": {
   "codemirror_mode": {
    "name": "ipython",
    "version": 2
   },
   "file_extension": ".py",
   "mimetype": "text/x-python",
   "name": "python",
   "nbconvert_exporter": "python",
   "pygments_lexer": "ipython2",
   "version": "2.7.6"
  }
 },
 "nbformat": 4,
 "nbformat_minor": 0
}
