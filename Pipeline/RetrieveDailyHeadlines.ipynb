{
 "cells": [
  {
   "cell_type": "code",
   "execution_count": 1,
   "metadata": {
    "collapsed": true
   },
   "outputs": [
    {
     "data": {
      "text/plain": "{'status': 'ok',\n 'totalResults': 35,\n 'articles': [{'source': {'id': None, 'name': 'The Guardian'},\n   'author': 'Guardian staff reporter',\n   'title': 'China stops publishing daily Covid figures amid reports of explosion in cases - The Guardian',\n   'description': 'The National Health Commission’s decision comes as the country’s health system faces enormous strain after the sudden end to the zero-Covid policy',\n   'url': 'https://www.theguardian.com/world/2022/dec/25/china-stops-publishing-daily-covid-figures-amid-reports-of-explosion-in-cases',\n   'urlToImage': 'https://i.guim.co.uk/img/media/4ebee85188b8fc51e677200b90159c3024a2ab4e/0_295_8256_4954/master/8256.jpg?width=1200&height=630&quality=85&auto=format&fit=crop&overlay-align=bottom%2Cleft&overlay-width=100p&overlay-base64=L2ltZy9zdGF0aWMvb3ZlcmxheXMvdGctZGVmYXVsdC5wbmc&enable=upscale&s=c24c1bb4d93baccdc1f2b8bc7bc5bc88',\n   'publishedAt': '2022-12-25T05:24:00Z',\n   'content': 'Chinas National Health Commission (NHC) has stopped publishing daily Covid-19 data, amid concerns about the reliability of the figures after infections exploded in the wake of an abrupt easing of tou… [+2226 chars]'},\n  {'source': {'id': None, 'name': 'ESPN'},\n   'author': None,\n   'title': 'Steelers honor Harris by rallying past Raiders - ESPN',\n   'description': 'A day after the 50th anniversary of Franco Harris\\' \"Immaculate Reception,\" the Steelers honored the Hall of Famer with a 13-10 win over the Raiders.',\n   'url': 'https://www.espn.com/nfl/story/_/id/35317232/steelers-honor-franco-harris-rallying-raiders',\n   'urlToImage': 'https://a.espncdn.com/combiner/i?img=%2Fphoto%2F2022%2F1225%2Fr1110453_1024x576_16%2D9.jpg',\n   'publishedAt': '2022-12-25T05:00:11Z',\n   'content': \"PITTSBURGH -- Mike Tomlin wasn't ready to go there, with all due respect.\\r\\nYes, the Pittsburgh Steelers coach understands the symmetry between the 13-10 win over the Las Vegas Raiders on Saturday nig… [+4228 chars]\"},\n  {'source': {'id': 'cbs-news', 'name': 'CBS News'},\n   'author': 'WCCO Staff, Allen Henry',\n   'title': '5 arrested after 19-year-old killed in shooting at Mall of America - CBS News',\n   'description': 'Five people are in custody -- including three juveniles -- after a 19-year-old man died in a shooting that prompted the Mall of America to go on lockdown Friday night.',\n   'url': 'https://www.cbsnews.com/minnesota/news/mall-of-america-on-lockdown-2-days-before-christmas/',\n   'urlToImage': 'https://assets2.cbsnewsstatic.com/hub/i/r/2022/12/24/f867ab14-3081-4998-874e-c5b166f825b9/thumbnail/1200x630/71873ef72882716189a8ca527ac40d4a/20221223-201159.jpg',\n   'publishedAt': '2022-12-25T04:43:00Z',\n   'content': 'BLOOMINGTON, Minn. --\\xa0Five people are in custody -- including three juveniles -- after a 19-year-old man died in a shooting that prompted the Mall of America to go on lockdown Friday night.\\r\\nBlooming… [+3306 chars]'},\n  {'source': {'id': None, 'name': 'YouTube'},\n   'author': None,\n   'title': 'Top Plays from Week 16 | NFL 2022 Highlights - NFL',\n   'description': 'Check out our other channels:NFL Mundo https://www.youtube.com/mundonflNFL Brasil https://www.youtube.com/c/NFLBrasilOficialNFL UK https://www.youtube.com/ch...',\n   'url': 'https://www.youtube.com/watch?v=zR1wExd_2Zo',\n   'urlToImage': 'https://i.ytimg.com/vi/zR1wExd_2Zo/maxresdefault.jpg',\n   'publishedAt': '2022-12-25T04:29:07Z',\n   'content': None},\n  {'source': {'id': 'the-washington-post', 'name': 'The Washington Post'},\n   'author': 'Greg Porter',\n   'title': 'PM Update: Washington has coldest Christmas Eve afternoon on record; frigid into Sunday, too - The Washington Post',\n   'description': 'Some moderation, but still quite cold on Christmas Day',\n   'url': 'https://www.washingtonpost.com/weather/2022/12/24/dc-forecast-record-cold-christmas-eve/',\n   'urlToImage': 'https://www.washingtonpost.com/wp-apps/imrs.php?src=https://arc-anglerfish-washpost-prod-washpost.s3.amazonaws.com/public/VAUQYVDG4FEJZAV4VMOFG2IIEM.jpg&w=1440',\n   'publishedAt': '2022-12-25T03:04:00Z',\n   'content': 'Comment on this story\\r\\nWeve officially had the coldest Christmas Eve day on record for the District. Todays high temperature of 22 degrees beats the previous record of 23 degrees set in 1983, and a g… [+1170 chars]'},\n  {'source': {'id': 'cnn', 'name': 'CNN'},\n   'author': 'Aya Elamroussi, Jason Hanna, Ray Sanchez',\n   'title': 'A powerful winter storm claims at least 22 lives across the US as temperatures plunge, winds howl and power lines fall - CNN',\n   'description': 'More than 315,000 homes and businesses nationwide were without power Christmas Eve, thanks to an Arctic blast and winter storm that tore down power lines with destructive winds and heavy snow and dipped temperatures dangerously low -- conditions killing at le…',\n   'url': 'https://www.cnn.com/2022/12/24/weather/christmas-arctic-winter-storm-power-outages-saturday/index.html',\n   'urlToImage': 'https://media.cnn.com/api/v1/images/stellar/prod/221223171142-16-winter-weather-1223-kentucky.jpg?c=16x9&q=w_800,c_fill',\n   'publishedAt': '2022-12-25T02:54:00Z',\n   'content': 'More than 315,000 homes and businesses nationwide were without power Christmas Eve, thanks to an Arctic blast and winter storm that tore down power lines with destructive winds and heavy snow and dip… [+8879 chars]'},\n  {'source': {'id': 'cnn', 'name': 'CNN'},\n   'author': 'Ehsan Popalzai, Sahar Akbarzai, Mohammed Tawfeeq',\n   'title': 'Taliban orders NGOs to ban female employees from coming to work - CNN',\n   'description': 'The Taliban administration in Afghanistan has ordered all local and international non-governmental organizations (NGOs) to stop their female employees from coming to work, according to a letter by the Ministry of Economy sent to all licensed NGOs.',\n   'url': 'https://www.cnn.com/2022/12/24/asia/taliban-female-employees-ngos-intl/index.html',\n   'urlToImage': 'https://media.cnn.com/api/v1/images/stellar/prod/221224110236-01-afghan-women-072922-file.jpg?c=16x9&q=w_800,c_fill',\n   'publishedAt': '2022-12-25T02:54:00Z',\n   'content': 'The Taliban administration in Afghanistan has ordered all local and international non-governmental organizations (NGOs) to stop their female employees from coming to work, according to a letter by th… [+3555 chars]'},\n  {'source': {'id': 'cnn', 'name': 'CNN'},\n   'author': 'Noah Gray',\n   'title': \"More migrants dropped outside vice president's home in freezing weather on Christmas Eve - CNN\",\n   'description': \"Several busloads of migrants were dropped off in front of Vice President Kamala Harris' residence in Washington, DC, on Christmas Eve in 18 degree weather late Saturday.\",\n   'url': 'https://www.cnn.com/2022/12/24/politics/migrants-dropped-off-vice-president-christmas-eve/index.html',\n   'urlToImage': 'https://media.cnn.com/api/v1/images/stellar/prod/221224211607-kamala-harris-0908-file.jpg?c=16x9&q=w_800,c_fill',\n   'publishedAt': '2022-12-25T02:53:00Z',\n   'content': 'Several busloads of migrants were dropped off in front of Vice President Kamala Harris residence in Washington, DC, on Christmas Eve in 18 degree weather late Saturday. \\r\\nAn initial two busloads were… [+1345 chars]'},\n  {'source': {'id': None, 'name': 'Bleeding Green Nation'},\n   'author': 'JosephSantoliquito',\n   'title': 'Eagles vs. Cowboys: The good, the bad, and the ugly - Bleeding Green Nation',\n   'description': 'Highlights and lowlights from Philadelphia’s Week 16 loss.',\n   'url': 'https://www.bleedinggreennation.com/2022/12/24/23525754/eagles-vs-cowboys-good-bad-ugly-recap-analysis-football-gardner-minshew-jonathan-gannon-nfl-news-bgn',\n   'urlToImage': 'https://cdn.vox-cdn.com/thumbor/c27MCxaqCSsi1JUy9d1dgHxWxBc=/0x0:4337x2271/fit-in/1200x630/cdn.vox-cdn.com/uploads/chorus_asset/file/24316281/1452246201.jpg',\n   'publishedAt': '2022-12-25T02:21:28Z',\n   'content': 'The Eagles lost a game that they should have won against the Dallas Cowboys on Saturday at AT&amp;T Stadiumeven without Jalen Hurts.\\r\\nFour Eagles turnovers translated into 20 points for the Cowboys, … [+9303 chars]'},\n  {'source': {'id': 'cbs-news', 'name': 'CBS News'},\n   'author': None,\n   'title': \"Kari Lake's lawsuit over defeat in Arizona governor's race thrown out by judge - CBS News\",\n   'description': 'Kari Lake asked a judge to either declare her the winner or order a revote in a key county.',\n   'url': 'https://www.cbsnews.com/news/kari-lake-lawsuit-arizona-election-results-governor-defeat/',\n   'urlToImage': 'https://assets2.cbsnewsstatic.com/hub/i/r/2022/12/24/91103e96-7cde-494c-ab59-07afcd9d806f/thumbnail/1200x630g2/e6583481da16c75fbe72b05ea8a78853/2022-12-20t193311z-1333993887-rc2u9y9aqp22-rtrmadp-3-usa-politics.jpg',\n   'publishedAt': '2022-12-25T02:20:00Z',\n   'content': \"A judge has thrown out Republican Kari Lake's challenge of her defeat in the Arizona governor's race to Democrat Katie Hobbs, rejecting her claim that problems with ballot printers at some polling pl… [+4446 chars]\"},\n  {'source': {'id': None, 'name': 'CBS Sports'},\n   'author': '',\n   'title': \"NFL Week 16 grades: Bengals earn 'B+' for wild win over Patriots; Cowboys get 'B+' for rallying past Eagles - CBS Sports\",\n   'description': 'Here are the Week 16 grades for every team that played on Christmas Eve',\n   'url': 'https://www.cbssports.com/nfl/news/nfl-week-16-grades-bengals-earn-b-for-wild-win-over-patriots-cowboys-get-b-for-rallying-past-eagles/',\n   'urlToImage': 'https://sportshub.cbsistatic.com/i/r/2022/12/24/c45118e0-84b7-4e1f-a344-e4983f3f99e5/thumbnail/1200x675/6e82f8560b7dce161a95c72c289312a9/bengals-win-patriots-g.jpg',\n   'publishedAt': '2022-12-25T01:17:00Z',\n   'content': 'The NFL officially turned into a winter wonderland in Week 16.\\xa0\\r\\nThe league had eight games that kicked off with a temperature below freezing on Saturday, which was a record for a single day. Things … [+2463 chars]'},\n  {'source': {'id': 'al-jazeera-english', 'name': 'Al Jazeera English'},\n   'author': 'Al Jazeera',\n   'title': 'Fuel tanker explosion kills 10 in South Africa - Al Jazeera English',\n   'description': 'Deadly blast took place after a tanker carrying LPG got caught beneath a bridge close to a hospital and houses.',\n   'url': 'https://www.aljazeera.com/news/2022/12/24/nine-killed-in-fuel-tanker-explosion-near-johannesburg-official',\n   'urlToImage': 'https://www.aljazeera.com/wp-content/uploads/2022/12/AP22358442608435.jpg?resize=1920%2C1440',\n   'publishedAt': '2022-12-25T01:02:47Z',\n   'content': 'At least 10 people have died, and 40 others were injured in South Africa when a fuel tanker exploded in a city near Johannesburg, according to the emergency services.\\r\\nThe explosion took place on Sat… [+2162 chars]'},\n  {'source': {'id': 'fox-news', 'name': 'Fox News'},\n   'author': 'Adam Sabes',\n   'title': \"Buffalo, New York winter storm leaves three dead as area buried in 28 inches of snow: 'life-threatening' - Fox News\",\n   'description': 'Buffalo, New York is experiencing a winter storm with up to four feet of snow expected in some areas, and three people have died during the blizzard.',\n   'url': 'https://www.foxnews.com/us/buffalo-new-york-winter-storm-leaves-three-dead-as-area-buried-in-inches-snow-life-threatening',\n   'urlToImage': 'https://static.foxnews.com/foxnews.com/content/uploads/2022/12/b407008f-NY.1.jpg',\n   'publishedAt': '2022-12-25T00:53:02Z',\n   'content': 'A winter storm barreling through Buffalo, New York has left three people dead with up to four feet of snow expected in some parts of the area.\\r\\nThree people have died during the blizzard as emergency… [+2520 chars]'},\n  {'source': {'id': None, 'name': 'Yahoo Entertainment'},\n   'author': 'Jonathan Amos - BBC Science Correspondent',\n   'title': 'James Webb telescope: Amazing images show the Universe as never before - Yahoo! Voices',\n   'description': \"It's a year since the James Webb telescope launched, and we've marvelled at its pictures ever since.\",\n   'url': 'https://news.yahoo.com/james-webb-telescope-amazing-images-002242001.html',\n   'urlToImage': 'https://media.zenfs.com/en/bbc_us_articles_995/60144d4e9163758aab65369ef35a3d03',\n   'publishedAt': '2022-12-25T00:22:00Z',\n   'content': 'The Tarantula Nebula: Only 161,000 light years from Earth, this is a place where thousands of stars were born\\r\\nIt was the $10bn gift to the world. A machine that would show us our place in the Univer… [+3983 chars]'},\n  {'source': {'id': None, 'name': 'Yahoo Entertainment'},\n   'author': 'Shiyin Chen',\n   'title': 'Elon Musk Warns Against Margin Debt on Risk of Market ‘Mass Panic’ - Yahoo Finance',\n   'description': '(Bloomberg) -- Billionaire Elon Musk is warning against something he himself has done — borrowing against the value of securities one owns — because of the...',\n   'url': 'https://finance.yahoo.com/news/elon-musk-warns-against-margin-215641054.html',\n   'urlToImage': 'https://s.yimg.com/ny/api/res/1.2/oJyjEJHKM23kwJBMYDWbnA--/YXBwaWQ9aGlnaGxhbmRlcjt3PTEyMDA7aD05MDA-/https://media.zenfs.com/en/bloomberg_markets_842/ca303f5cc3223d359d83e05cc7a314fe',\n   'publishedAt': '2022-12-24T23:51:44Z',\n   'content': '(Bloomberg) -- Billionaire Elon Musk is warning against something he himself has done borrowing against the value of securities one owns because of the risk of mass panic in the stock market.\\r\\nMost R… [+1799 chars]'},\n  {'source': {'id': None, 'name': 'BBC News'},\n   'author': 'https://www.facebook.com/bbcnews',\n   'title': 'Ukraine war: Zelensky delivers defiant Christmas message after Russian strikes - BBC',\n   'description': 'President Zelensky urges his people to persevere as Russian attacks leave millions without power.',\n   'url': 'https://www.bbc.com/news/world-europe-64088046',\n   'urlToImage': 'https://ichef.bbci.co.uk/news/1024/branded_news/6150/production/_128121942_mediaitem128121941.jpg',\n   'publishedAt': '2022-12-24T23:22:51Z',\n   'content': 'Ukrainian President Volodymyr Zelensky has urged his people to persevere in the face of Russian attacks as the country celebrates Christmas.\\r\\nIn a defiant speech on Saturday, he said: \"Freedom comes … [+2402 chars]'},\n  {'source': {'id': None, 'name': 'Eonline.com'},\n   'author': 'Alyssa Ray',\n   'title': 'Lindsay Lohan Beams in New Holiday Selfie With Husband Bader Shammas - E! Online - E! NEWS',\n   'description': 'Lindsay Lohan celebrated Christmas Eve by posing for a sweet snap with husband Bader Shammas. See the festive pic of the newlyweds here.',\n   'url': 'https://www.eonline.com/news/1359368/lindsay-lohan-beams-in-new-holiday-selfie-with-husband-bader-shammas',\n   'urlToImage': 'https://akns-images.eonline.com/eol_images/Entire_Site/2022109/rs_1200x1200-221109131546-1200-Lindsay-Lohan-LT-11922-GettyImages-1244612700.jpg?fit=around%7C1080:1080&output-quality=90&crop=1080:1080;center,top',\n   'publishedAt': '2022-12-24T22:52:00Z',\n   'content': \"Lindsay Lohan keeps gifting us holiday content.\\r\\nWhile we wish the Mean Girls alum would announce a Falling for Christmas\\xa0sequel,\\xa0we'll have to settle for a seasonal selfie of Lohan and her husband, … [+726 chars]\"},\n  {'source': {'id': None, 'name': 'ABC6OnYourSide.com'},\n   'author': 'WSYX Staff',\n   'title': \"What could power grid 'rotating outages' look like? - ABC6OnYourSide.com\",\n   'description': 'AEP Ohio spoke with WSYX about what those rotating outages could look like.',\n   'url': 'https://abc6onyourside.com/news/local/power-electricity-grid-rotating-outages-blackout-aep-ohio-pjm',\n   'urlToImage': 'https://abc6onyourside.com/resources/media/c7676158-d7b1-4846-b075-10ef30c37e96-large16x9_IMG_7354.jpg?1630510692176',\n   'publishedAt': '2022-12-24T22:44:53Z',\n   'content': None},\n  {'source': {'id': None, 'name': 'SciTechDaily'},\n   'author': None,\n   'title': 'NASA Explores a Winter Wonderland on Mars – Otherworldly Holiday Scene With Cube-Shaped Snow - SciTechDaily',\n   'description': 'Cube-shaped snow, icy landscapes, and frost are all part of the Red Planet’s coldest season. When winter comes to Mars, the surface is transformed into a truly otherworldly holiday scene. Snow, ice, and frost accompany the season’s sub-zero temperatures. Some…',\n   'url': 'https://scitechdaily.com/nasa-explores-a-winter-wonderland-on-mars-otherworldly-holiday-scene-with-cube-shaped-snow/',\n   'urlToImage': 'https://scitechdaily.com/images/Winter-Wonderland-on-Mars.gif',\n   'publishedAt': '2022-12-24T22:25:39Z',\n   'content': 'ByJet Propulsion LaboratoryDecember 24, 2022\\r\\nThe HiRISE camera aboard NASAs Mars Reconnaissance Orbiter captured these images of sand dunes covered by frost just after winter solstice. The frost her… [+8078 chars]'},\n  {'source': {'id': None, 'name': 'BBC News'},\n   'author': None,\n   'title': 'Paris shooting: Aftermath of violent unrest following deadly attack on Kurds - BBC',\n   'description': 'Protesters in the French capital overturned cars, setting some on fire, and hurled objects at police.',\n   'url': 'https://www.bbc.com/news/av/world-europe-64087161',\n   'urlToImage': 'https://ichef.bbci.co.uk/news/1024/branded_news/E238/production/_128121975_p0drfgww.jpg',\n   'publishedAt': '2022-12-24T22:09:40Z',\n   'content': \"Paris saw a second day of violent unrest, following Friday's deadly attack on the city's Kurdish community.\\r\\nProtesters who gathered on Saturday overturned cars, setting some on fire, and hurled obje… [+232 chars]\"}]}"
     },
     "metadata": {},
     "output_type": "display_data"
    }
   ],
   "source": [
    "from newsapi import NewsApiClient\n",
    "import Secrets\n",
    "import pandas as pd\n",
    "import hopsworks\n",
    "\n",
    "# Init\n",
    "newsapi = NewsApiClient(api_key=Secrets.NewsAPI)\n",
    "\n",
    "# /v2/top-headlines\n",
    "top_headlines = newsapi.get_top_headlines(language='en',\n",
    "                                          country='us')\n",
    "\n",
    "display(top_headlines)"
   ]
  },
  {
   "cell_type": "code",
   "execution_count": 2,
   "outputs": [
    {
     "data": {
      "text/plain": "                                                title  \\\n0   China stops publishing daily Covid figures ami...   \n1   Steelers honor Harris by rallying past Raiders...   \n2   5 arrested after 19-year-old killed in shootin...   \n3   Top Plays from Week 16 | NFL 2022 Highlights -...   \n4   PM Update: Washington has coldest Christmas Ev...   \n5   A powerful winter storm claims at least 22 liv...   \n6   Taliban orders NGOs to ban female employees fr...   \n7   More migrants dropped outside vice president's...   \n8   Eagles vs. Cowboys: The good, the bad, and the...   \n9   Kari Lake's lawsuit over defeat in Arizona gov...   \n10  NFL Week 16 grades: Bengals earn 'B+' for wild...   \n11  Fuel tanker explosion kills 10 in South Africa...   \n12  Buffalo, New York winter storm leaves three de...   \n13  James Webb telescope: Amazing images show the ...   \n14  Elon Musk Warns Against Margin Debt on Risk of...   \n15  Ukraine war: Zelensky delivers defiant Christm...   \n16  Lindsay Lohan Beams in New Holiday Selfie With...   \n17  What could power grid 'rotating outages' look ...   \n18  NASA Explores a Winter Wonderland on Mars – Ot...   \n19  Paris shooting: Aftermath of violent unrest fo...   \n\n                                                  url           publishedAt  \n0   https://www.theguardian.com/world/2022/dec/25/...  2022-12-25T05:24:00Z  \n1   https://www.espn.com/nfl/story/_/id/35317232/s...  2022-12-25T05:00:11Z  \n2   https://www.cbsnews.com/minnesota/news/mall-of...  2022-12-25T04:43:00Z  \n3         https://www.youtube.com/watch?v=zR1wExd_2Zo  2022-12-25T04:29:07Z  \n4   https://www.washingtonpost.com/weather/2022/12...  2022-12-25T03:04:00Z  \n5   https://www.cnn.com/2022/12/24/weather/christm...  2022-12-25T02:54:00Z  \n6   https://www.cnn.com/2022/12/24/asia/taliban-fe...  2022-12-25T02:54:00Z  \n7   https://www.cnn.com/2022/12/24/politics/migran...  2022-12-25T02:53:00Z  \n8   https://www.bleedinggreennation.com/2022/12/24...  2022-12-25T02:21:28Z  \n9   https://www.cbsnews.com/news/kari-lake-lawsuit...  2022-12-25T02:20:00Z  \n10  https://www.cbssports.com/nfl/news/nfl-week-16...  2022-12-25T01:17:00Z  \n11  https://www.aljazeera.com/news/2022/12/24/nine...  2022-12-25T01:02:47Z  \n12  https://www.foxnews.com/us/buffalo-new-york-wi...  2022-12-25T00:53:02Z  \n13  https://news.yahoo.com/james-webb-telescope-am...  2022-12-25T00:22:00Z  \n14  https://finance.yahoo.com/news/elon-musk-warns...  2022-12-24T23:51:44Z  \n15     https://www.bbc.com/news/world-europe-64088046  2022-12-24T23:22:51Z  \n16  https://www.eonline.com/news/1359368/lindsay-l...  2022-12-24T22:52:00Z  \n17  https://abc6onyourside.com/news/local/power-el...  2022-12-24T22:44:53Z  \n18  https://scitechdaily.com/nasa-explores-a-winte...  2022-12-24T22:25:39Z  \n19  https://www.bbc.com/news/av/world-europe-64087161  2022-12-24T22:09:40Z  ",
      "text/html": "<div>\n<style scoped>\n    .dataframe tbody tr th:only-of-type {\n        vertical-align: middle;\n    }\n\n    .dataframe tbody tr th {\n        vertical-align: top;\n    }\n\n    .dataframe thead th {\n        text-align: right;\n    }\n</style>\n<table border=\"1\" class=\"dataframe\">\n  <thead>\n    <tr style=\"text-align: right;\">\n      <th></th>\n      <th>title</th>\n      <th>url</th>\n      <th>publishedAt</th>\n    </tr>\n  </thead>\n  <tbody>\n    <tr>\n      <th>0</th>\n      <td>China stops publishing daily Covid figures ami...</td>\n      <td>https://www.theguardian.com/world/2022/dec/25/...</td>\n      <td>2022-12-25T05:24:00Z</td>\n    </tr>\n    <tr>\n      <th>1</th>\n      <td>Steelers honor Harris by rallying past Raiders...</td>\n      <td>https://www.espn.com/nfl/story/_/id/35317232/s...</td>\n      <td>2022-12-25T05:00:11Z</td>\n    </tr>\n    <tr>\n      <th>2</th>\n      <td>5 arrested after 19-year-old killed in shootin...</td>\n      <td>https://www.cbsnews.com/minnesota/news/mall-of...</td>\n      <td>2022-12-25T04:43:00Z</td>\n    </tr>\n    <tr>\n      <th>3</th>\n      <td>Top Plays from Week 16 | NFL 2022 Highlights -...</td>\n      <td>https://www.youtube.com/watch?v=zR1wExd_2Zo</td>\n      <td>2022-12-25T04:29:07Z</td>\n    </tr>\n    <tr>\n      <th>4</th>\n      <td>PM Update: Washington has coldest Christmas Ev...</td>\n      <td>https://www.washingtonpost.com/weather/2022/12...</td>\n      <td>2022-12-25T03:04:00Z</td>\n    </tr>\n    <tr>\n      <th>5</th>\n      <td>A powerful winter storm claims at least 22 liv...</td>\n      <td>https://www.cnn.com/2022/12/24/weather/christm...</td>\n      <td>2022-12-25T02:54:00Z</td>\n    </tr>\n    <tr>\n      <th>6</th>\n      <td>Taliban orders NGOs to ban female employees fr...</td>\n      <td>https://www.cnn.com/2022/12/24/asia/taliban-fe...</td>\n      <td>2022-12-25T02:54:00Z</td>\n    </tr>\n    <tr>\n      <th>7</th>\n      <td>More migrants dropped outside vice president's...</td>\n      <td>https://www.cnn.com/2022/12/24/politics/migran...</td>\n      <td>2022-12-25T02:53:00Z</td>\n    </tr>\n    <tr>\n      <th>8</th>\n      <td>Eagles vs. Cowboys: The good, the bad, and the...</td>\n      <td>https://www.bleedinggreennation.com/2022/12/24...</td>\n      <td>2022-12-25T02:21:28Z</td>\n    </tr>\n    <tr>\n      <th>9</th>\n      <td>Kari Lake's lawsuit over defeat in Arizona gov...</td>\n      <td>https://www.cbsnews.com/news/kari-lake-lawsuit...</td>\n      <td>2022-12-25T02:20:00Z</td>\n    </tr>\n    <tr>\n      <th>10</th>\n      <td>NFL Week 16 grades: Bengals earn 'B+' for wild...</td>\n      <td>https://www.cbssports.com/nfl/news/nfl-week-16...</td>\n      <td>2022-12-25T01:17:00Z</td>\n    </tr>\n    <tr>\n      <th>11</th>\n      <td>Fuel tanker explosion kills 10 in South Africa...</td>\n      <td>https://www.aljazeera.com/news/2022/12/24/nine...</td>\n      <td>2022-12-25T01:02:47Z</td>\n    </tr>\n    <tr>\n      <th>12</th>\n      <td>Buffalo, New York winter storm leaves three de...</td>\n      <td>https://www.foxnews.com/us/buffalo-new-york-wi...</td>\n      <td>2022-12-25T00:53:02Z</td>\n    </tr>\n    <tr>\n      <th>13</th>\n      <td>James Webb telescope: Amazing images show the ...</td>\n      <td>https://news.yahoo.com/james-webb-telescope-am...</td>\n      <td>2022-12-25T00:22:00Z</td>\n    </tr>\n    <tr>\n      <th>14</th>\n      <td>Elon Musk Warns Against Margin Debt on Risk of...</td>\n      <td>https://finance.yahoo.com/news/elon-musk-warns...</td>\n      <td>2022-12-24T23:51:44Z</td>\n    </tr>\n    <tr>\n      <th>15</th>\n      <td>Ukraine war: Zelensky delivers defiant Christm...</td>\n      <td>https://www.bbc.com/news/world-europe-64088046</td>\n      <td>2022-12-24T23:22:51Z</td>\n    </tr>\n    <tr>\n      <th>16</th>\n      <td>Lindsay Lohan Beams in New Holiday Selfie With...</td>\n      <td>https://www.eonline.com/news/1359368/lindsay-l...</td>\n      <td>2022-12-24T22:52:00Z</td>\n    </tr>\n    <tr>\n      <th>17</th>\n      <td>What could power grid 'rotating outages' look ...</td>\n      <td>https://abc6onyourside.com/news/local/power-el...</td>\n      <td>2022-12-24T22:44:53Z</td>\n    </tr>\n    <tr>\n      <th>18</th>\n      <td>NASA Explores a Winter Wonderland on Mars – Ot...</td>\n      <td>https://scitechdaily.com/nasa-explores-a-winte...</td>\n      <td>2022-12-24T22:25:39Z</td>\n    </tr>\n    <tr>\n      <th>19</th>\n      <td>Paris shooting: Aftermath of violent unrest fo...</td>\n      <td>https://www.bbc.com/news/av/world-europe-64087161</td>\n      <td>2022-12-24T22:09:40Z</td>\n    </tr>\n  </tbody>\n</table>\n</div>"
     },
     "execution_count": 2,
     "metadata": {},
     "output_type": "execute_result"
    }
   ],
   "source": [
    "headlines = pd.DataFrame(top_headlines['articles'])\n",
    "headlines = headlines[['title', 'url', 'publishedAt']]\n",
    "headlines"
   ],
   "metadata": {
    "collapsed": false
   }
  },
  {
   "cell_type": "code",
   "execution_count": 3,
   "outputs": [
    {
     "name": "stdout",
     "output_type": "stream",
     "text": [
      "Connected. Call `.close()` to terminate connection gracefully.\n",
      "\n",
      "Logged in to project, explore it here https://c.app.hopsworks.ai:443/p/5270\n"
     ]
    },
    {
     "name": "stderr",
     "output_type": "stream",
     "text": [
      "DeprecationWarning: the imp module is deprecated in favour of importlib; see the module's documentation for alternative uses\n"
     ]
    },
    {
     "name": "stdout",
     "output_type": "stream",
     "text": [
      "Connected. Call `.close()` to terminate connection gracefully.\n"
     ]
    },
    {
     "name": "stderr",
     "output_type": "stream",
     "text": [
      "FeatureGroupWarning: The ingested dataframe contains upper case letters in feature names: `['publishedAt']`. Feature names are sanitized to lower case in the feature store.\n"
     ]
    },
    {
     "data": {
      "text/plain": "Uploading Dataframe: 0.00% |          | Rows 0/20 | Elapsed Time: 00:00 | Remaining Time: ?",
      "application/vnd.jupyter.widget-view+json": {
       "version_major": 2,
       "version_minor": 0,
       "model_id": "986ce0ddab4c460ba49777bb564e2ab3"
      }
     },
     "metadata": {},
     "output_type": "display_data"
    },
    {
     "name": "stdout",
     "output_type": "stream",
     "text": [
      "Launching offline feature group backfill job...\n",
      "Backfill Job started successfully, you can follow the progress at \n",
      "https://c.app.hopsworks.ai/p/5270/jobs/named/articles_daily_1_offline_fg_backfill/executions\n"
     ]
    },
    {
     "data": {
      "text/plain": "(<hsfs.core.job.Job at 0x27f01553520>, None)"
     },
     "execution_count": 3,
     "metadata": {},
     "output_type": "execute_result"
    }
   ],
   "source": [
    "project = hopsworks.login()\n",
    "feature_store = project.get_feature_store()\n",
    "article_feature_store = feature_store.get_or_create_feature_group(\n",
    "    name=\"articles_daily\",\n",
    "    version=1,\n",
    "    primary_key=[\"url\"],\n",
    "    description=\"Articles loaded in daily\")\n",
    "article_feature_store.insert(headlines, write_options={\"wait_for_job\" : False})"
   ],
   "metadata": {
    "collapsed": false
   }
  }
 ],
 "metadata": {
  "kernelspec": {
   "display_name": "Python 3",
   "language": "python",
   "name": "python3"
  },
  "language_info": {
   "codemirror_mode": {
    "name": "ipython",
    "version": 2
   },
   "file_extension": ".py",
   "mimetype": "text/x-python",
   "name": "python",
   "nbconvert_exporter": "python",
   "pygments_lexer": "ipython2",
   "version": "2.7.6"
  }
 },
 "nbformat": 4,
 "nbformat_minor": 0
}
