{
 "cells": [
  {
   "cell_type": "code",
   "execution_count": 1,
   "outputs": [],
   "source": [
    "import numpy as np\n",
    "import pandas as pd\n",
    "import keras\n",
    "from pathlib import Path\n",
    "import tensorflow_text"
   ],
   "metadata": {
    "collapsed": false
   }
  },
  {
   "cell_type": "code",
   "execution_count": 2,
   "outputs": [
    {
     "name": "stdout",
     "output_type": "stream",
     "text": [
      "1/1 [==============================] - 6s 6s/step\n"
     ]
    }
   ],
   "source": [
    "# load model\n",
    "model_path = ( Path.cwd() / \"models/stance_model_v2\").resolve()\n",
    "model = keras.models.load_model(model_path)\n",
    "\n",
    "data_path = ( Path.cwd() / \"data/RoundedWithTopic.csv\").resolve()\n",
    "data = pd.read_csv(data_path, encoding='utf-8')\n",
    "\n",
    "# inference\n",
    "probs = model.predict(\n",
    "    x=[\n",
    "        data['title_stance'],\n",
    "        data['predicted_topic']\n",
    "    ]\n",
    ")\n",
    "predicted_class = np.argmax(probs, axis=1)"
   ],
   "metadata": {
    "collapsed": false
   }
  },
  {
   "cell_type": "code",
   "execution_count": 3,
   "outputs": [
    {
     "data": {
      "text/plain": "array([[0.6167114 , 0.02334169, 0.35994694],\n       [0.6048739 , 0.02325045, 0.37187567],\n       [0.6135692 , 0.01556098, 0.3708698 ],\n       [0.6534402 , 0.02713952, 0.31942034],\n       [0.6595367 , 0.03448999, 0.30597326],\n       [0.63059455, 0.02212926, 0.34727612],\n       [0.6169769 , 0.02215009, 0.360873  ],\n       [0.6167742 , 0.02029098, 0.36293477],\n       [0.594163  , 0.02146932, 0.38436773],\n       [0.65091604, 0.0253043 , 0.32377973],\n       [0.6840615 , 0.03071343, 0.28522512],\n       [0.6587323 , 0.02937972, 0.311888  ],\n       [0.5906498 , 0.0232282 , 0.38612196],\n       [0.5893612 , 0.02958771, 0.3810511 ],\n       [0.55880314, 0.02750588, 0.41369098],\n       [0.5684861 , 0.02888416, 0.40262976],\n       [0.62643814, 0.04282484, 0.33073705],\n       [0.5920659 , 0.03280802, 0.37512612],\n       [0.6485564 , 0.01757414, 0.33386946],\n       [0.6700064 , 0.0194129 , 0.31058076],\n       [0.67058355, 0.02677658, 0.30263987],\n       [0.66053563, 0.02446907, 0.31499532],\n       [0.6666681 , 0.01933156, 0.31400037],\n       [0.6516018 , 0.01272958, 0.33566868]], dtype=float32)"
     },
     "metadata": {},
     "output_type": "display_data"
    },
    {
     "data": {
      "text/plain": "                                                title  \\\n0   Count Dooku Voice Actor Corey Burton Tried Som...   \n1   'Andor' Episode 8 Explained: 'Rogue One' Cameo...   \n2   Andor Gave Us the Gayest Screen Fade in Star W...   \n3   Ahsoka Tano Herself, Ashley Eckstein, Breaks D...   \n4   Star Wars: The Deckbuilding Game could rule th...   \n5   There's a new Star Wars project from Damon Lin...   \n6   Star Wars Fatigue Shouldn't Stop You From Watc...   \n7   'Andor' is the best 'Star Wars' show since 'Th...   \n8   Star Wars characters take over Mexico City - R...   \n9   Alarmed by suicide attack, China and Pakistan ...   \n10  Death of boy in lockdown fuels backlash agains...   \n11  UPDATE 2-Hong Kong stocks tumble as Xi appoint...   \n12  China supports central SOEs to issue tech inno...   \n13   World Cup: FIFA head comments on beer ban - CP24   \n14  T20 World Cup: Bangladesh bowlers impress to s...   \n15  Canada's goalkeeper Crepeau to miss World Cup ...   \n16  World Cup stadium alcohol ban emblematic of co...   \n17  T20 World Cup: Pakistan beat Netherlands to av...   \n18  Ukraine war: Wagner chief Prigozhin defends br...   \n19  Chance for peace in Ukraine, says France's Mac...   \n20  Ukraine nuclear agency thickens alleged dirty ...   \n21  Ukraine war round-up: Missile blast in Poland ...   \n22  Ukraine round-up: Refugees urged to stay away ...   \n23  Russia says Ukraine hands over 50 prisoners of...   \n\n                                         title_stance  \\\n0   count dooku voice actor corey burton tried som...   \n1   andor episode 8 explained rogue one cameos and...   \n2   andor gave us the gayest screen fade in star w...   \n3   ahsoka tano herself ashley eckstein breaks dow...   \n4   star wars the deckbuilding game could rule the...   \n5   there s a new star wars project from damon lin...   \n6   star wars fatigue shouldn t stop you from watc...   \n7   andor is the best star wars show since the man...   \n8          star wars characters take over mexico city   \n9   alarmed by suicide attack china and pakistan j...   \n10  death of boy in lockdown fuels backlash agains...   \n11  update 2 hong kong stocks tumble as xi appoint...   \n12  china supports central soes to issue tech inno...   \n13      world cup fifa head comments on beer ban cp24   \n14  t20 world cup bangladesh bowlers impress to se...   \n15  canada s goalkeeper crepeau to miss world cup ...   \n16  world cup stadium alcohol ban emblematic of co...   \n17  t20 world cup pakistan beat netherlands to avo...   \n18  ukraine war wagner chief prigozhin defends bru...   \n19   chance for peace in ukraine says france s macron   \n20  ukraine nuclear agency thickens alleged dirty ...   \n21  ukraine war round up missile blast in poland a...   \n22  ukraine round up refugees urged to stay away a...   \n23  russia says ukraine hands over 50 prisoners of...   \n\n                                          title_topic  \\\n0   count dooku voice actor corey burton tried som...   \n1   andor episode 8 explained rogue one cameos sta...   \n2   andor gave us gayest screen fade star wars his...   \n3   ahsoka tano ashley eckstein breaks star wars t...   \n4   star wars deckbuilding game could rule galaxy ...   \n5          new star wars project damon lindelof works   \n6               star wars fatigue stop watching andor   \n7   andor best star wars show since mandalorian le...   \n8               star wars characters take mexico city   \n9   alarmed suicide attack china pakistan join han...   \n10  death boy lockdown fuels backlash china zero c...   \n11  update 2 hong kong stocks tumble xi appointmen...   \n12  china supports central soes issue tech innovat...   \n13         world cup fifa head comments beer ban cp24   \n14  t20 world cup bangladesh bowlers impress secur...   \n15  canada goalkeeper crepeau miss world cup broke...   \n16  world cup stadium alcohol ban emblematic contr...   \n17  t20 world cup pakistan beat netherlands avoid ...   \n18  ukraine war wagner chief prigozhin defends bru...   \n19            chance peace ukraine says france macron   \n20  ukraine nuclear agency thickens alleged dirty ...   \n21  ukraine war round missile blast poland zambian...   \n22  ukraine round refugees urged stay away dirty b...   \n23         russia says ukraine hands 50 prisoners war   \n\n            predicted_topic  predicted_stance  \n0         star, wars, andor                 0  \n1         star, wars, andor                 0  \n2         star, wars, andor                 0  \n3         star, wars, andor                 0  \n4         star, wars, andor                 0  \n5         star, wars, andor                 0  \n6         star, wars, andor                 0  \n7         star, wars, andor                 0  \n8         star, wars, andor                 0  \n9      china, alarmed, yuan                 0  \n10     china, alarmed, yuan                 0  \n11     china, alarmed, yuan                 0  \n12     china, alarmed, yuan                 0  \n13  cup, world, netherlands                 0  \n14  cup, world, netherlands                 0  \n15  cup, world, netherlands                 0  \n16  cup, world, netherlands                 0  \n17  cup, world, netherlands                 0  \n18       ukraine, war, bomb                 0  \n19       ukraine, war, bomb                 0  \n20       ukraine, war, bomb                 0  \n21       ukraine, war, bomb                 0  \n22       ukraine, war, bomb                 0  \n23       ukraine, war, bomb                 0  ",
      "text/html": "<div>\n<style scoped>\n    .dataframe tbody tr th:only-of-type {\n        vertical-align: middle;\n    }\n\n    .dataframe tbody tr th {\n        vertical-align: top;\n    }\n\n    .dataframe thead th {\n        text-align: right;\n    }\n</style>\n<table border=\"1\" class=\"dataframe\">\n  <thead>\n    <tr style=\"text-align: right;\">\n      <th></th>\n      <th>title</th>\n      <th>title_stance</th>\n      <th>title_topic</th>\n      <th>predicted_topic</th>\n      <th>predicted_stance</th>\n    </tr>\n  </thead>\n  <tbody>\n    <tr>\n      <th>0</th>\n      <td>Count Dooku Voice Actor Corey Burton Tried Som...</td>\n      <td>count dooku voice actor corey burton tried som...</td>\n      <td>count dooku voice actor corey burton tried som...</td>\n      <td>star, wars, andor</td>\n      <td>0</td>\n    </tr>\n    <tr>\n      <th>1</th>\n      <td>'Andor' Episode 8 Explained: 'Rogue One' Cameo...</td>\n      <td>andor episode 8 explained rogue one cameos and...</td>\n      <td>andor episode 8 explained rogue one cameos sta...</td>\n      <td>star, wars, andor</td>\n      <td>0</td>\n    </tr>\n    <tr>\n      <th>2</th>\n      <td>Andor Gave Us the Gayest Screen Fade in Star W...</td>\n      <td>andor gave us the gayest screen fade in star w...</td>\n      <td>andor gave us gayest screen fade star wars his...</td>\n      <td>star, wars, andor</td>\n      <td>0</td>\n    </tr>\n    <tr>\n      <th>3</th>\n      <td>Ahsoka Tano Herself, Ashley Eckstein, Breaks D...</td>\n      <td>ahsoka tano herself ashley eckstein breaks dow...</td>\n      <td>ahsoka tano ashley eckstein breaks star wars t...</td>\n      <td>star, wars, andor</td>\n      <td>0</td>\n    </tr>\n    <tr>\n      <th>4</th>\n      <td>Star Wars: The Deckbuilding Game could rule th...</td>\n      <td>star wars the deckbuilding game could rule the...</td>\n      <td>star wars deckbuilding game could rule galaxy ...</td>\n      <td>star, wars, andor</td>\n      <td>0</td>\n    </tr>\n    <tr>\n      <th>5</th>\n      <td>There's a new Star Wars project from Damon Lin...</td>\n      <td>there s a new star wars project from damon lin...</td>\n      <td>new star wars project damon lindelof works</td>\n      <td>star, wars, andor</td>\n      <td>0</td>\n    </tr>\n    <tr>\n      <th>6</th>\n      <td>Star Wars Fatigue Shouldn't Stop You From Watc...</td>\n      <td>star wars fatigue shouldn t stop you from watc...</td>\n      <td>star wars fatigue stop watching andor</td>\n      <td>star, wars, andor</td>\n      <td>0</td>\n    </tr>\n    <tr>\n      <th>7</th>\n      <td>'Andor' is the best 'Star Wars' show since 'Th...</td>\n      <td>andor is the best star wars show since the man...</td>\n      <td>andor best star wars show since mandalorian le...</td>\n      <td>star, wars, andor</td>\n      <td>0</td>\n    </tr>\n    <tr>\n      <th>8</th>\n      <td>Star Wars characters take over Mexico City - R...</td>\n      <td>star wars characters take over mexico city</td>\n      <td>star wars characters take mexico city</td>\n      <td>star, wars, andor</td>\n      <td>0</td>\n    </tr>\n    <tr>\n      <th>9</th>\n      <td>Alarmed by suicide attack, China and Pakistan ...</td>\n      <td>alarmed by suicide attack china and pakistan j...</td>\n      <td>alarmed suicide attack china pakistan join han...</td>\n      <td>china, alarmed, yuan</td>\n      <td>0</td>\n    </tr>\n    <tr>\n      <th>10</th>\n      <td>Death of boy in lockdown fuels backlash agains...</td>\n      <td>death of boy in lockdown fuels backlash agains...</td>\n      <td>death boy lockdown fuels backlash china zero c...</td>\n      <td>china, alarmed, yuan</td>\n      <td>0</td>\n    </tr>\n    <tr>\n      <th>11</th>\n      <td>UPDATE 2-Hong Kong stocks tumble as Xi appoint...</td>\n      <td>update 2 hong kong stocks tumble as xi appoint...</td>\n      <td>update 2 hong kong stocks tumble xi appointmen...</td>\n      <td>china, alarmed, yuan</td>\n      <td>0</td>\n    </tr>\n    <tr>\n      <th>12</th>\n      <td>China supports central SOEs to issue tech inno...</td>\n      <td>china supports central soes to issue tech inno...</td>\n      <td>china supports central soes issue tech innovat...</td>\n      <td>china, alarmed, yuan</td>\n      <td>0</td>\n    </tr>\n    <tr>\n      <th>13</th>\n      <td>World Cup: FIFA head comments on beer ban - CP24</td>\n      <td>world cup fifa head comments on beer ban cp24</td>\n      <td>world cup fifa head comments beer ban cp24</td>\n      <td>cup, world, netherlands</td>\n      <td>0</td>\n    </tr>\n    <tr>\n      <th>14</th>\n      <td>T20 World Cup: Bangladesh bowlers impress to s...</td>\n      <td>t20 world cup bangladesh bowlers impress to se...</td>\n      <td>t20 world cup bangladesh bowlers impress secur...</td>\n      <td>cup, world, netherlands</td>\n      <td>0</td>\n    </tr>\n    <tr>\n      <th>15</th>\n      <td>Canada's goalkeeper Crepeau to miss World Cup ...</td>\n      <td>canada s goalkeeper crepeau to miss world cup ...</td>\n      <td>canada goalkeeper crepeau miss world cup broke...</td>\n      <td>cup, world, netherlands</td>\n      <td>0</td>\n    </tr>\n    <tr>\n      <th>16</th>\n      <td>World Cup stadium alcohol ban emblematic of co...</td>\n      <td>world cup stadium alcohol ban emblematic of co...</td>\n      <td>world cup stadium alcohol ban emblematic contr...</td>\n      <td>cup, world, netherlands</td>\n      <td>0</td>\n    </tr>\n    <tr>\n      <th>17</th>\n      <td>T20 World Cup: Pakistan beat Netherlands to av...</td>\n      <td>t20 world cup pakistan beat netherlands to avo...</td>\n      <td>t20 world cup pakistan beat netherlands avoid ...</td>\n      <td>cup, world, netherlands</td>\n      <td>0</td>\n    </tr>\n    <tr>\n      <th>18</th>\n      <td>Ukraine war: Wagner chief Prigozhin defends br...</td>\n      <td>ukraine war wagner chief prigozhin defends bru...</td>\n      <td>ukraine war wagner chief prigozhin defends bru...</td>\n      <td>ukraine, war, bomb</td>\n      <td>0</td>\n    </tr>\n    <tr>\n      <th>19</th>\n      <td>Chance for peace in Ukraine, says France's Mac...</td>\n      <td>chance for peace in ukraine says france s macron</td>\n      <td>chance peace ukraine says france macron</td>\n      <td>ukraine, war, bomb</td>\n      <td>0</td>\n    </tr>\n    <tr>\n      <th>20</th>\n      <td>Ukraine nuclear agency thickens alleged dirty ...</td>\n      <td>ukraine nuclear agency thickens alleged dirty ...</td>\n      <td>ukraine nuclear agency thickens alleged dirty ...</td>\n      <td>ukraine, war, bomb</td>\n      <td>0</td>\n    </tr>\n    <tr>\n      <th>21</th>\n      <td>Ukraine war round-up: Missile blast in Poland ...</td>\n      <td>ukraine war round up missile blast in poland a...</td>\n      <td>ukraine war round missile blast poland zambian...</td>\n      <td>ukraine, war, bomb</td>\n      <td>0</td>\n    </tr>\n    <tr>\n      <th>22</th>\n      <td>Ukraine round-up: Refugees urged to stay away ...</td>\n      <td>ukraine round up refugees urged to stay away a...</td>\n      <td>ukraine round refugees urged stay away dirty b...</td>\n      <td>ukraine, war, bomb</td>\n      <td>0</td>\n    </tr>\n    <tr>\n      <th>23</th>\n      <td>Russia says Ukraine hands over 50 prisoners of...</td>\n      <td>russia says ukraine hands over 50 prisoners of...</td>\n      <td>russia says ukraine hands 50 prisoners war</td>\n      <td>ukraine, war, bomb</td>\n      <td>0</td>\n    </tr>\n  </tbody>\n</table>\n</div>"
     },
     "metadata": {},
     "output_type": "display_data"
    }
   ],
   "source": [
    "data['predicted_stance'] = predicted_class\n",
    "\n",
    "display(probs)\n",
    "display(data)\n",
    "\n",
    "data_path = ( Path.cwd() / \"data/RoundedWithTopicAndStance.csv\").resolve()\n",
    "data.to_csv(data_path, encoding='utf-8', index=False)"
   ],
   "metadata": {
    "collapsed": false
   }
  }
 ],
 "metadata": {
  "kernelspec": {
   "display_name": "Python 3",
   "language": "python",
   "name": "python3"
  },
  "language_info": {
   "codemirror_mode": {
    "name": "ipython",
    "version": 2
   },
   "file_extension": ".py",
   "mimetype": "text/x-python",
   "name": "python",
   "nbconvert_exporter": "python",
   "pygments_lexer": "ipython2",
   "version": "2.7.6"
  }
 },
 "nbformat": 4,
 "nbformat_minor": 0
}
