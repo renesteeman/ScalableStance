{
 "cells": [
  {
   "cell_type": "code",
   "execution_count": 1,
   "metadata": {
    "collapsed": true
   },
   "outputs": [
    {
     "name": "stderr",
     "output_type": "stream",
     "text": [
      "[nltk_data] Downloading package wordnet to\n",
      "[nltk_data]     C:\\Users\\steem\\AppData\\Roaming\\nltk_data...\n",
      "[nltk_data]   Package wordnet is already up-to-date!\n",
      "[nltk_data] Downloading package omw-1.4 to\n",
      "[nltk_data]     C:\\Users\\steem\\AppData\\Roaming\\nltk_data...\n",
      "[nltk_data]   Package omw-1.4 is already up-to-date!\n",
      "[nltk_data] Downloading package stopwords to\n",
      "[nltk_data]     C:\\Users\\steem\\AppData\\Roaming\\nltk_data...\n",
      "[nltk_data]   Package stopwords is already up-to-date!\n",
      "DeprecationWarning: distutils Version classes are deprecated. Use packaging.version instead.\n",
      "DeprecationWarning: Please use `csr_matrix` from the `scipy.sparse` namespace, the `scipy.sparse.csr` namespace is deprecated.\n"
     ]
    }
   ],
   "source": [
    "import pandas as pd\n",
    "import hopsworks\n",
    "import CleanInputFunction\n",
    "import TopicExtractionFunction"
   ]
  },
  {
   "cell_type": "code",
   "execution_count": 2,
   "outputs": [
    {
     "name": "stdout",
     "output_type": "stream",
     "text": [
      "Connected. Call `.close()` to terminate connection gracefully.\n",
      "\n",
      "Logged in to project, explore it here https://c.app.hopsworks.ai:443/p/5270\n"
     ]
    },
    {
     "name": "stderr",
     "output_type": "stream",
     "text": [
      "DeprecationWarning: the imp module is deprecated in favour of importlib; see the module's documentation for alternative uses\n"
     ]
    },
    {
     "name": "stdout",
     "output_type": "stream",
     "text": [
      "Connected. Call `.close()` to terminate connection gracefully.\n"
     ]
    }
   ],
   "source": [
    "# Connect to Hopsworks\n",
    "project = hopsworks.login()\n",
    "feature_store = project.get_feature_store()"
   ],
   "metadata": {
    "collapsed": false
   }
  },
  {
   "cell_type": "code",
   "execution_count": 3,
   "outputs": [
    {
     "data": {
      "text/plain": "                                                 title          saved_at  \\\n0    Fed interest rate decision today: Live updates...  14/12/2022 18:11   \n1    Moscow police should hand over control of Idah...  14/12/2022 18:11   \n2    World Cup 2022: Morocco fans' heartbreak as Do...  14/12/2022 18:11   \n3    Scream 6 - Official Teaser Trailer (2023) Jenn...  14/12/2022 18:11   \n4    Mortgage demand inches higher as interest rate...  14/12/2022 18:11   \n..                                                 ...               ...   \n567  Ohio county reports more than 80 measles cases...  31/12/2022 17:13   \n568  Idaho college killings suspect is criminology ...  31/12/2022 17:13   \n569  What do your favorite James Webb images say ab...  31/12/2022 17:13   \n570  Mega Millions drawing produces no winner, jack...  31/12/2022 17:13   \n571  US Supreme Court justice's wife disavows her t...  31/12/2022 17:13   \n\n                                                   url  stance  \n0    https://www.usatoday.com/story/money/economy/2...     2.0  \n1    https://nypost.com/2022/12/14/police-should-ha...     2.0  \n2       https://www.bbc.com/news/world-africa-63973938     2.0  \n3          https://www.youtube.com/watch?v=PesQLjkAEew     2.0  \n4    https://www.cnbc.com/2022/12/14/mortgage-deman...     2.0  \n..                                                 ...     ...  \n567  https://www.foxnews.com/health/ohio-county-rep...     1.0  \n568  https://news.yahoo.com/suspect-deaths-idaho-st...     2.0  \n569  https://www.dailymail.co.uk/sciencetech/articl...     2.0  \n570  https://www.cnn.com/2022/12/31/us/mega-million...     1.0  \n571  https://www.bbc.com/news/world-us-canada-64131149     1.0  \n\n[572 rows x 4 columns]",
      "text/html": "<div>\n<style scoped>\n    .dataframe tbody tr th:only-of-type {\n        vertical-align: middle;\n    }\n\n    .dataframe tbody tr th {\n        vertical-align: top;\n    }\n\n    .dataframe thead th {\n        text-align: right;\n    }\n</style>\n<table border=\"1\" class=\"dataframe\">\n  <thead>\n    <tr style=\"text-align: right;\">\n      <th></th>\n      <th>title</th>\n      <th>saved_at</th>\n      <th>url</th>\n      <th>stance</th>\n    </tr>\n  </thead>\n  <tbody>\n    <tr>\n      <th>0</th>\n      <td>Fed interest rate decision today: Live updates...</td>\n      <td>14/12/2022 18:11</td>\n      <td>https://www.usatoday.com/story/money/economy/2...</td>\n      <td>2.0</td>\n    </tr>\n    <tr>\n      <th>1</th>\n      <td>Moscow police should hand over control of Idah...</td>\n      <td>14/12/2022 18:11</td>\n      <td>https://nypost.com/2022/12/14/police-should-ha...</td>\n      <td>2.0</td>\n    </tr>\n    <tr>\n      <th>2</th>\n      <td>World Cup 2022: Morocco fans' heartbreak as Do...</td>\n      <td>14/12/2022 18:11</td>\n      <td>https://www.bbc.com/news/world-africa-63973938</td>\n      <td>2.0</td>\n    </tr>\n    <tr>\n      <th>3</th>\n      <td>Scream 6 - Official Teaser Trailer (2023) Jenn...</td>\n      <td>14/12/2022 18:11</td>\n      <td>https://www.youtube.com/watch?v=PesQLjkAEew</td>\n      <td>2.0</td>\n    </tr>\n    <tr>\n      <th>4</th>\n      <td>Mortgage demand inches higher as interest rate...</td>\n      <td>14/12/2022 18:11</td>\n      <td>https://www.cnbc.com/2022/12/14/mortgage-deman...</td>\n      <td>2.0</td>\n    </tr>\n    <tr>\n      <th>...</th>\n      <td>...</td>\n      <td>...</td>\n      <td>...</td>\n      <td>...</td>\n    </tr>\n    <tr>\n      <th>567</th>\n      <td>Ohio county reports more than 80 measles cases...</td>\n      <td>31/12/2022 17:13</td>\n      <td>https://www.foxnews.com/health/ohio-county-rep...</td>\n      <td>1.0</td>\n    </tr>\n    <tr>\n      <th>568</th>\n      <td>Idaho college killings suspect is criminology ...</td>\n      <td>31/12/2022 17:13</td>\n      <td>https://news.yahoo.com/suspect-deaths-idaho-st...</td>\n      <td>2.0</td>\n    </tr>\n    <tr>\n      <th>569</th>\n      <td>What do your favorite James Webb images say ab...</td>\n      <td>31/12/2022 17:13</td>\n      <td>https://www.dailymail.co.uk/sciencetech/articl...</td>\n      <td>2.0</td>\n    </tr>\n    <tr>\n      <th>570</th>\n      <td>Mega Millions drawing produces no winner, jack...</td>\n      <td>31/12/2022 17:13</td>\n      <td>https://www.cnn.com/2022/12/31/us/mega-million...</td>\n      <td>1.0</td>\n    </tr>\n    <tr>\n      <th>571</th>\n      <td>US Supreme Court justice's wife disavows her t...</td>\n      <td>31/12/2022 17:13</td>\n      <td>https://www.bbc.com/news/world-us-canada-64131149</td>\n      <td>1.0</td>\n    </tr>\n  </tbody>\n</table>\n<p>572 rows × 4 columns</p>\n</div>"
     },
     "execution_count": 3,
     "metadata": {},
     "output_type": "execute_result"
    }
   ],
   "source": [
    "# Read in training data\n",
    "data = pd.read_csv('data/RoundedLabelled.csv')\n",
    "data = data.rename(columns={'title': 'title', 'topic': 'subjects', 'stance / attitude towards': 'stance', 'article URL': 'url', 'savedAt': 'saved_at', 'main topic': 'labelled_topic'})\n",
    "data = data.drop(['query', 'language', 'Clickbaityness/credibility (0 is good, 1 is very bad)', 'labelled_topic'], axis=1) # labelled_topic is dropped as this is only for testing the topic extraction and is not used as training data, Hopsworks requires all columns to be filled which won't always be the case for labelled_topic\n",
    "data = data[data['stance'].notnull()]\n",
    "data['stance'] = data['stance'].astype('double')\n",
    "data"
   ],
   "metadata": {
    "collapsed": false
   }
  },
  {
   "cell_type": "code",
   "execution_count": 4,
   "outputs": [
    {
     "data": {
      "text/plain": "                                                 title          saved_at  \\\n0    Fed interest rate decision today: Live updates...  14/12/2022 18:11   \n1    Moscow police should hand over control of Idah...  14/12/2022 18:11   \n2    World Cup 2022: Morocco fans' heartbreak as Do...  14/12/2022 18:11   \n3    Scream 6 - Official Teaser Trailer (2023) Jenn...  14/12/2022 18:11   \n4    Mortgage demand inches higher as interest rate...  14/12/2022 18:11   \n..                                                 ...               ...   \n567  Ohio county reports more than 80 measles cases...  31/12/2022 17:13   \n568  Idaho college killings suspect is criminology ...  31/12/2022 17:13   \n569  What do your favorite James Webb images say ab...  31/12/2022 17:13   \n570  Mega Millions drawing produces no winner, jack...  31/12/2022 17:13   \n571  US Supreme Court justice's wife disavows her t...  31/12/2022 17:13   \n\n                                                   url  stance  \\\n0    https://www.usatoday.com/story/money/economy/2...     2.0   \n1    https://nypost.com/2022/12/14/police-should-ha...     2.0   \n2       https://www.bbc.com/news/world-africa-63973938     2.0   \n3          https://www.youtube.com/watch?v=PesQLjkAEew     2.0   \n4    https://www.cnbc.com/2022/12/14/mortgage-deman...     2.0   \n..                                                 ...     ...   \n567  https://www.foxnews.com/health/ohio-county-rep...     1.0   \n568  https://news.yahoo.com/suspect-deaths-idaho-st...     2.0   \n569  https://www.dailymail.co.uk/sciencetech/articl...     2.0   \n570  https://www.cnn.com/2022/12/31/us/mega-million...     1.0   \n571  https://www.bbc.com/news/world-us-canada-64131149     1.0   \n\n                                          title_stance  \\\n0    fed interest rate decision today live updates ...   \n1    moscow police should hand over control of idah...   \n2    world cup 2022 morocco fans heartbreak as doha...   \n3    scream 6 official teaser trailer 2023 jenna or...   \n4    mortgage demand inches higher as interest rate...   \n..                                                 ...   \n567  ohio county reports more than 80 measles cases...   \n568  idaho college killings suspect is criminology ...   \n569  what do your favorite james webb images say ab...   \n570  mega millions drawing produces no winner jackp...   \n571  us supreme court justice s wife disavows her t...   \n\n                                           title_topic  \n0    fed interest rate decision today live updates ...  \n1    moscow police hand control idaho murder invest...  \n2    world cup 2022 morocco fans heartbreak doha fl...  \n3    scream 6 official teaser trailer 2023 jenna or...  \n4    mortgage demand inches higher interest rates m...  \n..                                                 ...  \n567  ohio county reports 80 measles cases majority ...  \n568  idaho college killings suspect criminology phd...  \n569          favorite james webb images say daily mail  \n570  mega millions drawing produces winner jackpot ...  \n571   us supreme court justice wife disavows texts bbc  \n\n[572 rows x 6 columns]",
      "text/html": "<div>\n<style scoped>\n    .dataframe tbody tr th:only-of-type {\n        vertical-align: middle;\n    }\n\n    .dataframe tbody tr th {\n        vertical-align: top;\n    }\n\n    .dataframe thead th {\n        text-align: right;\n    }\n</style>\n<table border=\"1\" class=\"dataframe\">\n  <thead>\n    <tr style=\"text-align: right;\">\n      <th></th>\n      <th>title</th>\n      <th>saved_at</th>\n      <th>url</th>\n      <th>stance</th>\n      <th>title_stance</th>\n      <th>title_topic</th>\n    </tr>\n  </thead>\n  <tbody>\n    <tr>\n      <th>0</th>\n      <td>Fed interest rate decision today: Live updates...</td>\n      <td>14/12/2022 18:11</td>\n      <td>https://www.usatoday.com/story/money/economy/2...</td>\n      <td>2.0</td>\n      <td>fed interest rate decision today live updates ...</td>\n      <td>fed interest rate decision today live updates ...</td>\n    </tr>\n    <tr>\n      <th>1</th>\n      <td>Moscow police should hand over control of Idah...</td>\n      <td>14/12/2022 18:11</td>\n      <td>https://nypost.com/2022/12/14/police-should-ha...</td>\n      <td>2.0</td>\n      <td>moscow police should hand over control of idah...</td>\n      <td>moscow police hand control idaho murder invest...</td>\n    </tr>\n    <tr>\n      <th>2</th>\n      <td>World Cup 2022: Morocco fans' heartbreak as Do...</td>\n      <td>14/12/2022 18:11</td>\n      <td>https://www.bbc.com/news/world-africa-63973938</td>\n      <td>2.0</td>\n      <td>world cup 2022 morocco fans heartbreak as doha...</td>\n      <td>world cup 2022 morocco fans heartbreak doha fl...</td>\n    </tr>\n    <tr>\n      <th>3</th>\n      <td>Scream 6 - Official Teaser Trailer (2023) Jenn...</td>\n      <td>14/12/2022 18:11</td>\n      <td>https://www.youtube.com/watch?v=PesQLjkAEew</td>\n      <td>2.0</td>\n      <td>scream 6 official teaser trailer 2023 jenna or...</td>\n      <td>scream 6 official teaser trailer 2023 jenna or...</td>\n    </tr>\n    <tr>\n      <th>4</th>\n      <td>Mortgage demand inches higher as interest rate...</td>\n      <td>14/12/2022 18:11</td>\n      <td>https://www.cnbc.com/2022/12/14/mortgage-deman...</td>\n      <td>2.0</td>\n      <td>mortgage demand inches higher as interest rate...</td>\n      <td>mortgage demand inches higher interest rates m...</td>\n    </tr>\n    <tr>\n      <th>...</th>\n      <td>...</td>\n      <td>...</td>\n      <td>...</td>\n      <td>...</td>\n      <td>...</td>\n      <td>...</td>\n    </tr>\n    <tr>\n      <th>567</th>\n      <td>Ohio county reports more than 80 measles cases...</td>\n      <td>31/12/2022 17:13</td>\n      <td>https://www.foxnews.com/health/ohio-county-rep...</td>\n      <td>1.0</td>\n      <td>ohio county reports more than 80 measles cases...</td>\n      <td>ohio county reports 80 measles cases majority ...</td>\n    </tr>\n    <tr>\n      <th>568</th>\n      <td>Idaho college killings suspect is criminology ...</td>\n      <td>31/12/2022 17:13</td>\n      <td>https://news.yahoo.com/suspect-deaths-idaho-st...</td>\n      <td>2.0</td>\n      <td>idaho college killings suspect is criminology ...</td>\n      <td>idaho college killings suspect criminology phd...</td>\n    </tr>\n    <tr>\n      <th>569</th>\n      <td>What do your favorite James Webb images say ab...</td>\n      <td>31/12/2022 17:13</td>\n      <td>https://www.dailymail.co.uk/sciencetech/articl...</td>\n      <td>2.0</td>\n      <td>what do your favorite james webb images say ab...</td>\n      <td>favorite james webb images say daily mail</td>\n    </tr>\n    <tr>\n      <th>570</th>\n      <td>Mega Millions drawing produces no winner, jack...</td>\n      <td>31/12/2022 17:13</td>\n      <td>https://www.cnn.com/2022/12/31/us/mega-million...</td>\n      <td>1.0</td>\n      <td>mega millions drawing produces no winner jackp...</td>\n      <td>mega millions drawing produces winner jackpot ...</td>\n    </tr>\n    <tr>\n      <th>571</th>\n      <td>US Supreme Court justice's wife disavows her t...</td>\n      <td>31/12/2022 17:13</td>\n      <td>https://www.bbc.com/news/world-us-canada-64131149</td>\n      <td>1.0</td>\n      <td>us supreme court justice s wife disavows her t...</td>\n      <td>us supreme court justice wife disavows texts bbc</td>\n    </tr>\n  </tbody>\n</table>\n<p>572 rows × 6 columns</p>\n</div>"
     },
     "metadata": {},
     "output_type": "display_data"
    }
   ],
   "source": [
    "# Pre-process\n",
    "data = CleanInputFunction.clean_input(data)\n",
    "display(data)"
   ],
   "metadata": {
    "collapsed": false
   }
  },
  {
   "cell_type": "code",
   "execution_count": 5,
   "outputs": [
    {
     "name": "stdout",
     "output_type": "stream",
     "text": [
      "2022-12-31 17:44:16,797 INFO: Load pretrained SentenceTransformer: paraphrase-multilingual-mpnet-base-v2\n",
      "2022-12-31 17:44:19,833 INFO: Use pytorch device: cpu\n"
     ]
    },
    {
     "data": {
      "text/plain": "Batches:   0%|          | 0/18 [00:00<?, ?it/s]",
      "application/vnd.jupyter.widget-view+json": {
       "version_major": 2,
       "version_minor": 0,
       "model_id": "ecf2eba40c054cd3b4e73a62f5dcc1f7"
      }
     },
     "metadata": {},
     "output_type": "display_data"
    },
    {
     "name": "stdout",
     "output_type": "stream",
     "text": [
      "2022-12-31 17:44:30,203 INFO: Load pretrained SentenceTransformer: all-MiniLM-L6-v2\n",
      "2022-12-31 17:44:30,423 INFO: Use pytorch device: cpu\n"
     ]
    },
    {
     "data": {
      "text/plain": "                                                 title          saved_at  \\\n0    Fed interest rate decision today: Live updates...  14/12/2022 18:11   \n1    Moscow police should hand over control of Idah...  14/12/2022 18:11   \n2    World Cup 2022: Morocco fans' heartbreak as Do...  14/12/2022 18:11   \n3    Scream 6 - Official Teaser Trailer (2023) Jenn...  14/12/2022 18:11   \n4    Mortgage demand inches higher as interest rate...  14/12/2022 18:11   \n..                                                 ...               ...   \n567  Ohio county reports more than 80 measles cases...  31/12/2022 17:13   \n568  Idaho college killings suspect is criminology ...  31/12/2022 17:13   \n569  What do your favorite James Webb images say ab...  31/12/2022 17:13   \n570  Mega Millions drawing produces no winner, jack...  31/12/2022 17:13   \n571  US Supreme Court justice's wife disavows her t...  31/12/2022 17:13   \n\n                                                   url  stance  \\\n0    https://www.usatoday.com/story/money/economy/2...     2.0   \n1    https://nypost.com/2022/12/14/police-should-ha...     2.0   \n2       https://www.bbc.com/news/world-africa-63973938     2.0   \n3          https://www.youtube.com/watch?v=PesQLjkAEew     2.0   \n4    https://www.cnbc.com/2022/12/14/mortgage-deman...     2.0   \n..                                                 ...     ...   \n567  https://www.foxnews.com/health/ohio-county-rep...     1.0   \n568  https://news.yahoo.com/suspect-deaths-idaho-st...     2.0   \n569  https://www.dailymail.co.uk/sciencetech/articl...     2.0   \n570  https://www.cnn.com/2022/12/31/us/mega-million...     1.0   \n571  https://www.bbc.com/news/world-us-canada-64131149     1.0   \n\n                                          title_stance  \\\n0    fed interest rate decision today live updates ...   \n1    moscow police should hand over control of idah...   \n2    world cup 2022 morocco fans heartbreak as doha...   \n3    scream 6 official teaser trailer 2023 jenna or...   \n4    mortgage demand inches higher as interest rate...   \n..                                                 ...   \n567  ohio county reports more than 80 measles cases...   \n568  idaho college killings suspect is criminology ...   \n569  what do your favorite james webb images say ab...   \n570  mega millions drawing produces no winner jackp...   \n571  us supreme court justice s wife disavows her t...   \n\n                                           title_topic  \\\n0    fed interest rate decision today live updates ...   \n1    moscow police hand control idaho murder invest...   \n2    world cup 2022 morocco fans heartbreak doha fl...   \n3    scream 6 official teaser trailer 2023 jenna or...   \n4    mortgage demand inches higher interest rates m...   \n..                                                 ...   \n567  ohio county reports 80 measles cases majority ...   \n568  idaho college killings suspect criminology phd...   \n569          favorite james webb images say daily mail   \n570  mega millions drawing produces winner jackpot ...   \n571   us supreme court justice wife disavows texts bbc   \n\n               predicted_topic  \n0        inflation, fed, rates  \n1     idaho, coroner, arrested  \n2              africa, cup, al  \n3    nintendo, gematsu, switch  \n4            cnbc, fed, cramer  \n..                         ...  \n567      strep, children, died  \n568   idaho, coroner, arrested  \n569     webb, telescope, james  \n570     meghan, harry, netflix  \n571     pelosi, arizona, court  \n\n[572 rows x 7 columns]",
      "text/html": "<div>\n<style scoped>\n    .dataframe tbody tr th:only-of-type {\n        vertical-align: middle;\n    }\n\n    .dataframe tbody tr th {\n        vertical-align: top;\n    }\n\n    .dataframe thead th {\n        text-align: right;\n    }\n</style>\n<table border=\"1\" class=\"dataframe\">\n  <thead>\n    <tr style=\"text-align: right;\">\n      <th></th>\n      <th>title</th>\n      <th>saved_at</th>\n      <th>url</th>\n      <th>stance</th>\n      <th>title_stance</th>\n      <th>title_topic</th>\n      <th>predicted_topic</th>\n    </tr>\n  </thead>\n  <tbody>\n    <tr>\n      <th>0</th>\n      <td>Fed interest rate decision today: Live updates...</td>\n      <td>14/12/2022 18:11</td>\n      <td>https://www.usatoday.com/story/money/economy/2...</td>\n      <td>2.0</td>\n      <td>fed interest rate decision today live updates ...</td>\n      <td>fed interest rate decision today live updates ...</td>\n      <td>inflation, fed, rates</td>\n    </tr>\n    <tr>\n      <th>1</th>\n      <td>Moscow police should hand over control of Idah...</td>\n      <td>14/12/2022 18:11</td>\n      <td>https://nypost.com/2022/12/14/police-should-ha...</td>\n      <td>2.0</td>\n      <td>moscow police should hand over control of idah...</td>\n      <td>moscow police hand control idaho murder invest...</td>\n      <td>idaho, coroner, arrested</td>\n    </tr>\n    <tr>\n      <th>2</th>\n      <td>World Cup 2022: Morocco fans' heartbreak as Do...</td>\n      <td>14/12/2022 18:11</td>\n      <td>https://www.bbc.com/news/world-africa-63973938</td>\n      <td>2.0</td>\n      <td>world cup 2022 morocco fans heartbreak as doha...</td>\n      <td>world cup 2022 morocco fans heartbreak doha fl...</td>\n      <td>africa, cup, al</td>\n    </tr>\n    <tr>\n      <th>3</th>\n      <td>Scream 6 - Official Teaser Trailer (2023) Jenn...</td>\n      <td>14/12/2022 18:11</td>\n      <td>https://www.youtube.com/watch?v=PesQLjkAEew</td>\n      <td>2.0</td>\n      <td>scream 6 official teaser trailer 2023 jenna or...</td>\n      <td>scream 6 official teaser trailer 2023 jenna or...</td>\n      <td>nintendo, gematsu, switch</td>\n    </tr>\n    <tr>\n      <th>4</th>\n      <td>Mortgage demand inches higher as interest rate...</td>\n      <td>14/12/2022 18:11</td>\n      <td>https://www.cnbc.com/2022/12/14/mortgage-deman...</td>\n      <td>2.0</td>\n      <td>mortgage demand inches higher as interest rate...</td>\n      <td>mortgage demand inches higher interest rates m...</td>\n      <td>cnbc, fed, cramer</td>\n    </tr>\n    <tr>\n      <th>...</th>\n      <td>...</td>\n      <td>...</td>\n      <td>...</td>\n      <td>...</td>\n      <td>...</td>\n      <td>...</td>\n      <td>...</td>\n    </tr>\n    <tr>\n      <th>567</th>\n      <td>Ohio county reports more than 80 measles cases...</td>\n      <td>31/12/2022 17:13</td>\n      <td>https://www.foxnews.com/health/ohio-county-rep...</td>\n      <td>1.0</td>\n      <td>ohio county reports more than 80 measles cases...</td>\n      <td>ohio county reports 80 measles cases majority ...</td>\n      <td>strep, children, died</td>\n    </tr>\n    <tr>\n      <th>568</th>\n      <td>Idaho college killings suspect is criminology ...</td>\n      <td>31/12/2022 17:13</td>\n      <td>https://news.yahoo.com/suspect-deaths-idaho-st...</td>\n      <td>2.0</td>\n      <td>idaho college killings suspect is criminology ...</td>\n      <td>idaho college killings suspect criminology phd...</td>\n      <td>idaho, coroner, arrested</td>\n    </tr>\n    <tr>\n      <th>569</th>\n      <td>What do your favorite James Webb images say ab...</td>\n      <td>31/12/2022 17:13</td>\n      <td>https://www.dailymail.co.uk/sciencetech/articl...</td>\n      <td>2.0</td>\n      <td>what do your favorite james webb images say ab...</td>\n      <td>favorite james webb images say daily mail</td>\n      <td>webb, telescope, james</td>\n    </tr>\n    <tr>\n      <th>570</th>\n      <td>Mega Millions drawing produces no winner, jack...</td>\n      <td>31/12/2022 17:13</td>\n      <td>https://www.cnn.com/2022/12/31/us/mega-million...</td>\n      <td>1.0</td>\n      <td>mega millions drawing produces no winner jackp...</td>\n      <td>mega millions drawing produces winner jackpot ...</td>\n      <td>meghan, harry, netflix</td>\n    </tr>\n    <tr>\n      <th>571</th>\n      <td>US Supreme Court justice's wife disavows her t...</td>\n      <td>31/12/2022 17:13</td>\n      <td>https://www.bbc.com/news/world-us-canada-64131149</td>\n      <td>1.0</td>\n      <td>us supreme court justice s wife disavows her t...</td>\n      <td>us supreme court justice wife disavows texts bbc</td>\n      <td>pelosi, arizona, court</td>\n    </tr>\n  </tbody>\n</table>\n<p>572 rows × 7 columns</p>\n</div>"
     },
     "metadata": {},
     "output_type": "display_data"
    }
   ],
   "source": [
    "# Add topics\n",
    "data, _ = TopicExtractionFunction.extract_topics(data)\n",
    "display(data)"
   ],
   "metadata": {
    "collapsed": false
   }
  },
  {
   "cell_type": "code",
   "execution_count": 6,
   "outputs": [
    {
     "data": {
      "text/plain": "Uploading Dataframe: 0.00% |          | Rows 0/572 | Elapsed Time: 00:00 | Remaining Time: ?",
      "application/vnd.jupyter.widget-view+json": {
       "version_major": 2,
       "version_minor": 0,
       "model_id": "e1aaff225b3445eb9332249aef5690d4"
      }
     },
     "metadata": {},
     "output_type": "display_data"
    },
    {
     "name": "stdout",
     "output_type": "stream",
     "text": [
      "Launching offline feature group backfill job...\n",
      "Backfill Job started successfully, you can follow the progress at \n",
      "https://c.app.hopsworks.ai/p/5270/jobs/named/training_data_stance_1_offline_fg_backfill/executions\n"
     ]
    },
    {
     "data": {
      "text/plain": "(<hsfs.core.job.Job at 0x23f78032670>, None)"
     },
     "execution_count": 6,
     "metadata": {},
     "output_type": "execute_result"
    }
   ],
   "source": [
    "# Save result to feature_store\n",
    "article_cleaned_feature_store = feature_store.get_or_create_feature_group(\n",
    "    name=\"training_data_stance\",\n",
    "    version=1,\n",
    "    primary_key=[\"url\"],\n",
    "    description=\"Articles with predicted topic\")\n",
    "article_cleaned_feature_store.insert(data, write_options={\"wait_for_job\" : False})"
   ],
   "metadata": {
    "collapsed": false
   }
  },
  {
   "cell_type": "markdown",
   "source": [],
   "metadata": {
    "collapsed": false
   }
  }
 ],
 "metadata": {
  "kernelspec": {
   "display_name": "Python 3",
   "language": "python",
   "name": "python3"
  },
  "language_info": {
   "codemirror_mode": {
    "name": "ipython",
    "version": 2
   },
   "file_extension": ".py",
   "mimetype": "text/x-python",
   "name": "python",
   "nbconvert_exporter": "python",
   "pygments_lexer": "ipython2",
   "version": "2.7.6"
  }
 },
 "nbformat": 4,
 "nbformat_minor": 0
}
