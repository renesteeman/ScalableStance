{
 "cells": [
  {
   "cell_type": "code",
   "execution_count": 24,
   "metadata": {
    "collapsed": true
   },
   "outputs": [],
   "source": [
    "import pandas as pd\n",
    "import hopsworks\n",
    "import CleanInputFunction\n",
    "import TopicExtractionFunction"
   ]
  },
  {
   "cell_type": "code",
   "execution_count": 25,
   "outputs": [
    {
     "name": "stdout",
     "output_type": "stream",
     "text": [
      "Connection closed.\n",
      "Connected. Call `.close()` to terminate connection gracefully.\n",
      "\n",
      "Logged in to project, explore it here https://c.app.hopsworks.ai:443/p/5270\n",
      "Connected. Call `.close()` to terminate connection gracefully.\n"
     ]
    }
   ],
   "source": [
    "# Connect to Hopsworks\n",
    "project = hopsworks.login()\n",
    "feature_store = project.get_feature_store()"
   ],
   "metadata": {
    "collapsed": false
   }
  },
  {
   "cell_type": "code",
   "execution_count": 26,
   "outputs": [
    {
     "data": {
      "text/plain": "                                                 title          saved_at  \\\n0    Fed interest rate decision today: Live updates...  14/12/2022 18:11   \n1    Moscow police should hand over control of Idah...  14/12/2022 18:11   \n2    World Cup 2022: Morocco fans' heartbreak as Do...  14/12/2022 18:11   \n3    Scream 6 - Official Teaser Trailer (2023) Jenn...  14/12/2022 18:11   \n4    Mortgage demand inches higher as interest rate...  14/12/2022 18:11   \n..                                                 ...               ...   \n414  These lawmakers probing FTX's collapse got don...  16/12/2022 09:23   \n415  Futures: Nasdaq Breaks Key Level; Here's The S...  16/12/2022 09:23   \n416  Adobe stock climbs on a more profitable quarte...  16/12/2022 09:23   \n417  Netflix stock sinks after reported ad target m...  16/12/2022 09:23   \n418  ECB raises rates to 2% and warns of more incre...  16/12/2022 09:23   \n\n                                                   url  stance  \n0    https://www.usatoday.com/story/money/economy/2...     2.0  \n1    https://nypost.com/2022/12/14/police-should-ha...     2.0  \n2       https://www.bbc.com/news/world-africa-63973938     2.0  \n3          https://www.youtube.com/watch?v=PesQLjkAEew     2.0  \n4    https://www.cnbc.com/2022/12/14/mortgage-deman...     2.0  \n..                                                 ...     ...  \n414  https://nypost.com/2022/12/15/these-lawmakers-...     1.0  \n415  https://www.investors.com/market-trend/stock-m...     3.0  \n416  https://www.cnbc.com/2022/12/15/adobe-adbe-ear...     3.0  \n417  https://finance.yahoo.com/news/netflix-stock-s...     1.0  \n418  https://www.ft.com/content/c76d26a3-b103-49a3-...     1.0  \n\n[419 rows x 4 columns]",
      "text/html": "<div>\n<style scoped>\n    .dataframe tbody tr th:only-of-type {\n        vertical-align: middle;\n    }\n\n    .dataframe tbody tr th {\n        vertical-align: top;\n    }\n\n    .dataframe thead th {\n        text-align: right;\n    }\n</style>\n<table border=\"1\" class=\"dataframe\">\n  <thead>\n    <tr style=\"text-align: right;\">\n      <th></th>\n      <th>title</th>\n      <th>saved_at</th>\n      <th>url</th>\n      <th>stance</th>\n    </tr>\n  </thead>\n  <tbody>\n    <tr>\n      <th>0</th>\n      <td>Fed interest rate decision today: Live updates...</td>\n      <td>14/12/2022 18:11</td>\n      <td>https://www.usatoday.com/story/money/economy/2...</td>\n      <td>2.0</td>\n    </tr>\n    <tr>\n      <th>1</th>\n      <td>Moscow police should hand over control of Idah...</td>\n      <td>14/12/2022 18:11</td>\n      <td>https://nypost.com/2022/12/14/police-should-ha...</td>\n      <td>2.0</td>\n    </tr>\n    <tr>\n      <th>2</th>\n      <td>World Cup 2022: Morocco fans' heartbreak as Do...</td>\n      <td>14/12/2022 18:11</td>\n      <td>https://www.bbc.com/news/world-africa-63973938</td>\n      <td>2.0</td>\n    </tr>\n    <tr>\n      <th>3</th>\n      <td>Scream 6 - Official Teaser Trailer (2023) Jenn...</td>\n      <td>14/12/2022 18:11</td>\n      <td>https://www.youtube.com/watch?v=PesQLjkAEew</td>\n      <td>2.0</td>\n    </tr>\n    <tr>\n      <th>4</th>\n      <td>Mortgage demand inches higher as interest rate...</td>\n      <td>14/12/2022 18:11</td>\n      <td>https://www.cnbc.com/2022/12/14/mortgage-deman...</td>\n      <td>2.0</td>\n    </tr>\n    <tr>\n      <th>...</th>\n      <td>...</td>\n      <td>...</td>\n      <td>...</td>\n      <td>...</td>\n    </tr>\n    <tr>\n      <th>414</th>\n      <td>These lawmakers probing FTX's collapse got don...</td>\n      <td>16/12/2022 09:23</td>\n      <td>https://nypost.com/2022/12/15/these-lawmakers-...</td>\n      <td>1.0</td>\n    </tr>\n    <tr>\n      <th>415</th>\n      <td>Futures: Nasdaq Breaks Key Level; Here's The S...</td>\n      <td>16/12/2022 09:23</td>\n      <td>https://www.investors.com/market-trend/stock-m...</td>\n      <td>3.0</td>\n    </tr>\n    <tr>\n      <th>416</th>\n      <td>Adobe stock climbs on a more profitable quarte...</td>\n      <td>16/12/2022 09:23</td>\n      <td>https://www.cnbc.com/2022/12/15/adobe-adbe-ear...</td>\n      <td>3.0</td>\n    </tr>\n    <tr>\n      <th>417</th>\n      <td>Netflix stock sinks after reported ad target m...</td>\n      <td>16/12/2022 09:23</td>\n      <td>https://finance.yahoo.com/news/netflix-stock-s...</td>\n      <td>1.0</td>\n    </tr>\n    <tr>\n      <th>418</th>\n      <td>ECB raises rates to 2% and warns of more incre...</td>\n      <td>16/12/2022 09:23</td>\n      <td>https://www.ft.com/content/c76d26a3-b103-49a3-...</td>\n      <td>1.0</td>\n    </tr>\n  </tbody>\n</table>\n<p>419 rows × 4 columns</p>\n</div>"
     },
     "execution_count": 26,
     "metadata": {},
     "output_type": "execute_result"
    }
   ],
   "source": [
    "# Read in training data\n",
    "data = pd.read_csv('data/RoundedLabelled.csv')\n",
    "data = data.rename(columns={'title': 'title', 'topic': 'subjects', 'stance / attitude towards': 'stance', 'article URL': 'url', 'savedAt': 'saved_at', 'main topic': 'labelled_topic'})\n",
    "data = data.drop(['query', 'language', 'Clickbaityness/credibility (0 is good, 1 is very bad)', 'labelled_topic'], axis=1) # labelled_topic is dropped as this is only for testing the topic extraction and is not used as training data, Hopsworks requires all columns to be filled which won't always be the case for labelled_topic\n",
    "data"
   ],
   "metadata": {
    "collapsed": false
   }
  },
  {
   "cell_type": "code",
   "execution_count": 27,
   "outputs": [
    {
     "data": {
      "text/plain": "                                                 title          saved_at  \\\n0    Fed interest rate decision today: Live updates...  14/12/2022 18:11   \n1    Moscow police should hand over control of Idah...  14/12/2022 18:11   \n2    World Cup 2022: Morocco fans' heartbreak as Do...  14/12/2022 18:11   \n3    Scream 6 - Official Teaser Trailer (2023) Jenn...  14/12/2022 18:11   \n4    Mortgage demand inches higher as interest rate...  14/12/2022 18:11   \n..                                                 ...               ...   \n414  These lawmakers probing FTX's collapse got don...  16/12/2022 09:23   \n415  Futures: Nasdaq Breaks Key Level; Here's The S...  16/12/2022 09:23   \n416  Adobe stock climbs on a more profitable quarte...  16/12/2022 09:23   \n417  Netflix stock sinks after reported ad target m...  16/12/2022 09:23   \n418  ECB raises rates to 2% and warns of more incre...  16/12/2022 09:23   \n\n                                                   url  stance  \\\n0    https://www.usatoday.com/story/money/economy/2...     2.0   \n1    https://nypost.com/2022/12/14/police-should-ha...     2.0   \n2       https://www.bbc.com/news/world-africa-63973938     2.0   \n3          https://www.youtube.com/watch?v=PesQLjkAEew     2.0   \n4    https://www.cnbc.com/2022/12/14/mortgage-deman...     2.0   \n..                                                 ...     ...   \n414  https://nypost.com/2022/12/15/these-lawmakers-...     1.0   \n415  https://www.investors.com/market-trend/stock-m...     3.0   \n416  https://www.cnbc.com/2022/12/15/adobe-adbe-ear...     3.0   \n417  https://finance.yahoo.com/news/netflix-stock-s...     1.0   \n418  https://www.ft.com/content/c76d26a3-b103-49a3-...     1.0   \n\n                                          title_stance  \\\n0    fed interest rate decision today live updates ...   \n1    moscow police should hand over control of idah...   \n2    world cup 2022 morocco fans heartbreak as doha...   \n3    scream 6 official teaser trailer 2023 jenna or...   \n4    mortgage demand inches higher as interest rate...   \n..                                                 ...   \n414  these lawmakers probing ftx s collapse got don...   \n415  futures nasdaq breaks key level here s the sil...   \n416  adobe stock climbs on a more profitable quarte...   \n417  netflix stock sinks after reported ad target m...   \n418  ecb raises rates to 2 and warns of more increa...   \n\n                                           title_topic  \n0    fed interest rate decision today live updates ...  \n1    moscow police hand control idaho murder invest...  \n2    world cup 2022 morocco fans heartbreak doha fl...  \n3    scream 6 official teaser trailer 2023 jenna or...  \n4    mortgage demand inches higher interest rates m...  \n..                                                 ...  \n414  lawmakers probing ftx collapse got donations s...  \n415  futures nasdaq breaks key level silver lining ...  \n416  adobe stock climbs profitable quarter predicte...  \n417  netflix stock sinks reported ad target miss an...  \n418  ecb raises rates 2 warns increases come financ...  \n\n[419 rows x 6 columns]",
      "text/html": "<div>\n<style scoped>\n    .dataframe tbody tr th:only-of-type {\n        vertical-align: middle;\n    }\n\n    .dataframe tbody tr th {\n        vertical-align: top;\n    }\n\n    .dataframe thead th {\n        text-align: right;\n    }\n</style>\n<table border=\"1\" class=\"dataframe\">\n  <thead>\n    <tr style=\"text-align: right;\">\n      <th></th>\n      <th>title</th>\n      <th>saved_at</th>\n      <th>url</th>\n      <th>stance</th>\n      <th>title_stance</th>\n      <th>title_topic</th>\n    </tr>\n  </thead>\n  <tbody>\n    <tr>\n      <th>0</th>\n      <td>Fed interest rate decision today: Live updates...</td>\n      <td>14/12/2022 18:11</td>\n      <td>https://www.usatoday.com/story/money/economy/2...</td>\n      <td>2.0</td>\n      <td>fed interest rate decision today live updates ...</td>\n      <td>fed interest rate decision today live updates ...</td>\n    </tr>\n    <tr>\n      <th>1</th>\n      <td>Moscow police should hand over control of Idah...</td>\n      <td>14/12/2022 18:11</td>\n      <td>https://nypost.com/2022/12/14/police-should-ha...</td>\n      <td>2.0</td>\n      <td>moscow police should hand over control of idah...</td>\n      <td>moscow police hand control idaho murder invest...</td>\n    </tr>\n    <tr>\n      <th>2</th>\n      <td>World Cup 2022: Morocco fans' heartbreak as Do...</td>\n      <td>14/12/2022 18:11</td>\n      <td>https://www.bbc.com/news/world-africa-63973938</td>\n      <td>2.0</td>\n      <td>world cup 2022 morocco fans heartbreak as doha...</td>\n      <td>world cup 2022 morocco fans heartbreak doha fl...</td>\n    </tr>\n    <tr>\n      <th>3</th>\n      <td>Scream 6 - Official Teaser Trailer (2023) Jenn...</td>\n      <td>14/12/2022 18:11</td>\n      <td>https://www.youtube.com/watch?v=PesQLjkAEew</td>\n      <td>2.0</td>\n      <td>scream 6 official teaser trailer 2023 jenna or...</td>\n      <td>scream 6 official teaser trailer 2023 jenna or...</td>\n    </tr>\n    <tr>\n      <th>4</th>\n      <td>Mortgage demand inches higher as interest rate...</td>\n      <td>14/12/2022 18:11</td>\n      <td>https://www.cnbc.com/2022/12/14/mortgage-deman...</td>\n      <td>2.0</td>\n      <td>mortgage demand inches higher as interest rate...</td>\n      <td>mortgage demand inches higher interest rates m...</td>\n    </tr>\n    <tr>\n      <th>...</th>\n      <td>...</td>\n      <td>...</td>\n      <td>...</td>\n      <td>...</td>\n      <td>...</td>\n      <td>...</td>\n    </tr>\n    <tr>\n      <th>414</th>\n      <td>These lawmakers probing FTX's collapse got don...</td>\n      <td>16/12/2022 09:23</td>\n      <td>https://nypost.com/2022/12/15/these-lawmakers-...</td>\n      <td>1.0</td>\n      <td>these lawmakers probing ftx s collapse got don...</td>\n      <td>lawmakers probing ftx collapse got donations s...</td>\n    </tr>\n    <tr>\n      <th>415</th>\n      <td>Futures: Nasdaq Breaks Key Level; Here's The S...</td>\n      <td>16/12/2022 09:23</td>\n      <td>https://www.investors.com/market-trend/stock-m...</td>\n      <td>3.0</td>\n      <td>futures nasdaq breaks key level here s the sil...</td>\n      <td>futures nasdaq breaks key level silver lining ...</td>\n    </tr>\n    <tr>\n      <th>416</th>\n      <td>Adobe stock climbs on a more profitable quarte...</td>\n      <td>16/12/2022 09:23</td>\n      <td>https://www.cnbc.com/2022/12/15/adobe-adbe-ear...</td>\n      <td>3.0</td>\n      <td>adobe stock climbs on a more profitable quarte...</td>\n      <td>adobe stock climbs profitable quarter predicte...</td>\n    </tr>\n    <tr>\n      <th>417</th>\n      <td>Netflix stock sinks after reported ad target m...</td>\n      <td>16/12/2022 09:23</td>\n      <td>https://finance.yahoo.com/news/netflix-stock-s...</td>\n      <td>1.0</td>\n      <td>netflix stock sinks after reported ad target m...</td>\n      <td>netflix stock sinks reported ad target miss an...</td>\n    </tr>\n    <tr>\n      <th>418</th>\n      <td>ECB raises rates to 2% and warns of more incre...</td>\n      <td>16/12/2022 09:23</td>\n      <td>https://www.ft.com/content/c76d26a3-b103-49a3-...</td>\n      <td>1.0</td>\n      <td>ecb raises rates to 2 and warns of more increa...</td>\n      <td>ecb raises rates 2 warns increases come financ...</td>\n    </tr>\n  </tbody>\n</table>\n<p>419 rows × 6 columns</p>\n</div>"
     },
     "metadata": {},
     "output_type": "display_data"
    }
   ],
   "source": [
    "# Pre-process\n",
    "data = CleanInputFunction.clean_input(data)\n",
    "display(data)"
   ],
   "metadata": {
    "collapsed": false
   }
  },
  {
   "cell_type": "code",
   "execution_count": 28,
   "outputs": [
    {
     "name": "stdout",
     "output_type": "stream",
     "text": [
      "2022-12-28 14:13:42,276 INFO: Load pretrained SentenceTransformer: paraphrase-multilingual-mpnet-base-v2\n",
      "2022-12-28 14:13:44,510 INFO: Use pytorch device: cpu\n"
     ]
    },
    {
     "data": {
      "text/plain": "Batches:   0%|          | 0/14 [00:00<?, ?it/s]",
      "application/vnd.jupyter.widget-view+json": {
       "version_major": 2,
       "version_minor": 0,
       "model_id": "12f51d303af442c1aa70a747a2594b85"
      }
     },
     "metadata": {},
     "output_type": "display_data"
    },
    {
     "name": "stdout",
     "output_type": "stream",
     "text": [
      "2022-12-28 14:13:50,522 INFO: Load pretrained SentenceTransformer: all-MiniLM-L6-v2\n",
      "2022-12-28 14:13:50,673 INFO: Use pytorch device: cpu\n"
     ]
    },
    {
     "data": {
      "text/plain": "                                                 title          saved_at  \\\n0    Fed interest rate decision today: Live updates...  14/12/2022 18:11   \n1    Moscow police should hand over control of Idah...  14/12/2022 18:11   \n2    World Cup 2022: Morocco fans' heartbreak as Do...  14/12/2022 18:11   \n3    Scream 6 - Official Teaser Trailer (2023) Jenn...  14/12/2022 18:11   \n4    Mortgage demand inches higher as interest rate...  14/12/2022 18:11   \n..                                                 ...               ...   \n414  These lawmakers probing FTX's collapse got don...  16/12/2022 09:23   \n415  Futures: Nasdaq Breaks Key Level; Here's The S...  16/12/2022 09:23   \n416  Adobe stock climbs on a more profitable quarte...  16/12/2022 09:23   \n417  Netflix stock sinks after reported ad target m...  16/12/2022 09:23   \n418  ECB raises rates to 2% and warns of more incre...  16/12/2022 09:23   \n\n                                                   url  stance  \\\n0    https://www.usatoday.com/story/money/economy/2...     2.0   \n1    https://nypost.com/2022/12/14/police-should-ha...     2.0   \n2       https://www.bbc.com/news/world-africa-63973938     2.0   \n3          https://www.youtube.com/watch?v=PesQLjkAEew     2.0   \n4    https://www.cnbc.com/2022/12/14/mortgage-deman...     2.0   \n..                                                 ...     ...   \n414  https://nypost.com/2022/12/15/these-lawmakers-...     1.0   \n415  https://www.investors.com/market-trend/stock-m...     3.0   \n416  https://www.cnbc.com/2022/12/15/adobe-adbe-ear...     3.0   \n417  https://finance.yahoo.com/news/netflix-stock-s...     1.0   \n418  https://www.ft.com/content/c76d26a3-b103-49a3-...     1.0   \n\n                                          title_stance  \\\n0    fed interest rate decision today live updates ...   \n1    moscow police should hand over control of idah...   \n2    world cup 2022 morocco fans heartbreak as doha...   \n3    scream 6 official teaser trailer 2023 jenna or...   \n4    mortgage demand inches higher as interest rate...   \n..                                                 ...   \n414  these lawmakers probing ftx s collapse got don...   \n415  futures nasdaq breaks key level here s the sil...   \n416  adobe stock climbs on a more profitable quarte...   \n417  netflix stock sinks after reported ad target m...   \n418  ecb raises rates to 2 and warns of more increa...   \n\n                                           title_topic  \\\n0    fed interest rate decision today live updates ...   \n1    moscow police hand control idaho murder invest...   \n2    world cup 2022 morocco fans heartbreak doha fl...   \n3    scream 6 official teaser trailer 2023 jenna or...   \n4    mortgage demand inches higher interest rates m...   \n..                                                 ...   \n414  lawmakers probing ftx collapse got donations s...   \n415  futures nasdaq breaks key level silver lining ...   \n416  adobe stock climbs profitable quarter predicte...   \n417  netflix stock sinks reported ad target miss an...   \n418  ecb raises rates 2 warns increases come financ...   \n\n                  predicted_topic  \n0           inflation, fed, rates  \n1            ukraine, russia, war  \n2                cup, world, doha  \n3             ign, showdown, hunt  \n4              fed, cnbc, economy  \n..                            ...  \n414           bankman, fried, sam  \n415  investor, business, electric  \n416           stock, cramer, cnbc  \n417           stock, cramer, cnbc  \n418         inflation, fed, rates  \n\n[419 rows x 7 columns]",
      "text/html": "<div>\n<style scoped>\n    .dataframe tbody tr th:only-of-type {\n        vertical-align: middle;\n    }\n\n    .dataframe tbody tr th {\n        vertical-align: top;\n    }\n\n    .dataframe thead th {\n        text-align: right;\n    }\n</style>\n<table border=\"1\" class=\"dataframe\">\n  <thead>\n    <tr style=\"text-align: right;\">\n      <th></th>\n      <th>title</th>\n      <th>saved_at</th>\n      <th>url</th>\n      <th>stance</th>\n      <th>title_stance</th>\n      <th>title_topic</th>\n      <th>predicted_topic</th>\n    </tr>\n  </thead>\n  <tbody>\n    <tr>\n      <th>0</th>\n      <td>Fed interest rate decision today: Live updates...</td>\n      <td>14/12/2022 18:11</td>\n      <td>https://www.usatoday.com/story/money/economy/2...</td>\n      <td>2.0</td>\n      <td>fed interest rate decision today live updates ...</td>\n      <td>fed interest rate decision today live updates ...</td>\n      <td>inflation, fed, rates</td>\n    </tr>\n    <tr>\n      <th>1</th>\n      <td>Moscow police should hand over control of Idah...</td>\n      <td>14/12/2022 18:11</td>\n      <td>https://nypost.com/2022/12/14/police-should-ha...</td>\n      <td>2.0</td>\n      <td>moscow police should hand over control of idah...</td>\n      <td>moscow police hand control idaho murder invest...</td>\n      <td>ukraine, russia, war</td>\n    </tr>\n    <tr>\n      <th>2</th>\n      <td>World Cup 2022: Morocco fans' heartbreak as Do...</td>\n      <td>14/12/2022 18:11</td>\n      <td>https://www.bbc.com/news/world-africa-63973938</td>\n      <td>2.0</td>\n      <td>world cup 2022 morocco fans heartbreak as doha...</td>\n      <td>world cup 2022 morocco fans heartbreak doha fl...</td>\n      <td>cup, world, doha</td>\n    </tr>\n    <tr>\n      <th>3</th>\n      <td>Scream 6 - Official Teaser Trailer (2023) Jenn...</td>\n      <td>14/12/2022 18:11</td>\n      <td>https://www.youtube.com/watch?v=PesQLjkAEew</td>\n      <td>2.0</td>\n      <td>scream 6 official teaser trailer 2023 jenna or...</td>\n      <td>scream 6 official teaser trailer 2023 jenna or...</td>\n      <td>ign, showdown, hunt</td>\n    </tr>\n    <tr>\n      <th>4</th>\n      <td>Mortgage demand inches higher as interest rate...</td>\n      <td>14/12/2022 18:11</td>\n      <td>https://www.cnbc.com/2022/12/14/mortgage-deman...</td>\n      <td>2.0</td>\n      <td>mortgage demand inches higher as interest rate...</td>\n      <td>mortgage demand inches higher interest rates m...</td>\n      <td>fed, cnbc, economy</td>\n    </tr>\n    <tr>\n      <th>...</th>\n      <td>...</td>\n      <td>...</td>\n      <td>...</td>\n      <td>...</td>\n      <td>...</td>\n      <td>...</td>\n      <td>...</td>\n    </tr>\n    <tr>\n      <th>414</th>\n      <td>These lawmakers probing FTX's collapse got don...</td>\n      <td>16/12/2022 09:23</td>\n      <td>https://nypost.com/2022/12/15/these-lawmakers-...</td>\n      <td>1.0</td>\n      <td>these lawmakers probing ftx s collapse got don...</td>\n      <td>lawmakers probing ftx collapse got donations s...</td>\n      <td>bankman, fried, sam</td>\n    </tr>\n    <tr>\n      <th>415</th>\n      <td>Futures: Nasdaq Breaks Key Level; Here's The S...</td>\n      <td>16/12/2022 09:23</td>\n      <td>https://www.investors.com/market-trend/stock-m...</td>\n      <td>3.0</td>\n      <td>futures nasdaq breaks key level here s the sil...</td>\n      <td>futures nasdaq breaks key level silver lining ...</td>\n      <td>investor, business, electric</td>\n    </tr>\n    <tr>\n      <th>416</th>\n      <td>Adobe stock climbs on a more profitable quarte...</td>\n      <td>16/12/2022 09:23</td>\n      <td>https://www.cnbc.com/2022/12/15/adobe-adbe-ear...</td>\n      <td>3.0</td>\n      <td>adobe stock climbs on a more profitable quarte...</td>\n      <td>adobe stock climbs profitable quarter predicte...</td>\n      <td>stock, cramer, cnbc</td>\n    </tr>\n    <tr>\n      <th>417</th>\n      <td>Netflix stock sinks after reported ad target m...</td>\n      <td>16/12/2022 09:23</td>\n      <td>https://finance.yahoo.com/news/netflix-stock-s...</td>\n      <td>1.0</td>\n      <td>netflix stock sinks after reported ad target m...</td>\n      <td>netflix stock sinks reported ad target miss an...</td>\n      <td>stock, cramer, cnbc</td>\n    </tr>\n    <tr>\n      <th>418</th>\n      <td>ECB raises rates to 2% and warns of more incre...</td>\n      <td>16/12/2022 09:23</td>\n      <td>https://www.ft.com/content/c76d26a3-b103-49a3-...</td>\n      <td>1.0</td>\n      <td>ecb raises rates to 2 and warns of more increa...</td>\n      <td>ecb raises rates 2 warns increases come financ...</td>\n      <td>inflation, fed, rates</td>\n    </tr>\n  </tbody>\n</table>\n<p>419 rows × 7 columns</p>\n</div>"
     },
     "metadata": {},
     "output_type": "display_data"
    }
   ],
   "source": [
    "# Add topics\n",
    "data, _ = TopicExtractionFunction.extract_topics(data)\n",
    "display(data)"
   ],
   "metadata": {
    "collapsed": false
   }
  },
  {
   "cell_type": "code",
   "execution_count": 29,
   "outputs": [
    {
     "data": {
      "text/plain": "Uploading Dataframe: 0.00% |          | Rows 0/419 | Elapsed Time: 00:00 | Remaining Time: ?",
      "application/vnd.jupyter.widget-view+json": {
       "version_major": 2,
       "version_minor": 0,
       "model_id": "518b96b26db942a683e10a923e888966"
      }
     },
     "metadata": {},
     "output_type": "display_data"
    },
    {
     "name": "stdout",
     "output_type": "stream",
     "text": [
      "Launching offline feature group backfill job...\n",
      "Backfill Job started successfully, you can follow the progress at \n",
      "https://c.app.hopsworks.ai/p/5270/jobs/named/training_data_stance_1_offline_fg_backfill/executions\n"
     ]
    },
    {
     "data": {
      "text/plain": "(<hsfs.core.job.Job at 0x1602df426a0>, None)"
     },
     "execution_count": 29,
     "metadata": {},
     "output_type": "execute_result"
    }
   ],
   "source": [
    "# Save result to feature_store\n",
    "article_cleaned_feature_store = feature_store.get_or_create_feature_group(\n",
    "    name=\"training_data_stance\",\n",
    "    version=1,\n",
    "    primary_key=[\"url\"],\n",
    "    description=\"Articles with predicted topic\")\n",
    "article_cleaned_feature_store.insert(data, write_options={\"wait_for_job\" : False})"
   ],
   "metadata": {
    "collapsed": false
   }
  },
  {
   "cell_type": "markdown",
   "source": [],
   "metadata": {
    "collapsed": false
   }
  }
 ],
 "metadata": {
  "kernelspec": {
   "display_name": "Python 3",
   "language": "python",
   "name": "python3"
  },
  "language_info": {
   "codemirror_mode": {
    "name": "ipython",
    "version": 2
   },
   "file_extension": ".py",
   "mimetype": "text/x-python",
   "name": "python",
   "nbconvert_exporter": "python",
   "pygments_lexer": "ipython2",
   "version": "2.7.6"
  }
 },
 "nbformat": 4,
 "nbformat_minor": 0
}
