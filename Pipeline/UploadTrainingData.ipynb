{
 "cells": [
  {
   "cell_type": "code",
   "execution_count": 9,
   "metadata": {
    "collapsed": true
   },
   "outputs": [],
   "source": [
    "import pandas as pd\n",
    "import hopsworks\n",
    "import CleanInputFunction\n",
    "import TopicExtractionFunction"
   ]
  },
  {
   "cell_type": "code",
   "execution_count": 10,
   "outputs": [
    {
     "name": "stdout",
     "output_type": "stream",
     "text": [
      "Connection closed.\n",
      "Connected. Call `.close()` to terminate connection gracefully.\n",
      "\n",
      "Logged in to project, explore it here https://c.app.hopsworks.ai:443/p/5270\n",
      "Connected. Call `.close()` to terminate connection gracefully.\n"
     ]
    }
   ],
   "source": [
    "# Connect to Hopsworks\n",
    "project = hopsworks.login()\n",
    "feature_store = project.get_feature_store()"
   ],
   "metadata": {
    "collapsed": false
   }
  },
  {
   "cell_type": "code",
   "execution_count": 11,
   "outputs": [
    {
     "data": {
      "text/plain": "                                                 title    saved_at  \\\n0    Fed interest rate decision today: Live updates...  14/12/2022   \n1    Moscow police should hand over control of Idah...  14/12/2022   \n2    World Cup 2022: Morocco fans' heartbreak as Do...  14/12/2022   \n3    Scream 6 - Official Teaser Trailer (2023) Jenn...  14/12/2022   \n4    Mortgage demand inches higher as interest rate...  14/12/2022   \n..                                                 ...         ...   \n487        Russia's war in Ukraine: Live updates - CNN  27/12/2022   \n488  Russia’s Lavrov issues ultimatum to Ukraine: ‘...  27/12/2022   \n489  Southwest Airlines apparently cancels all depa...  27/12/2022   \n490  The 7 most spectacular images from the James W...  27/12/2022   \n491  US Snow Storm LIVE | US Braces For More Deaths...  27/12/2022   \n\n                                                   url  stance  \n0    https://www.usatoday.com/story/money/economy/2...     2.0  \n1    https://nypost.com/2022/12/14/police-should-ha...     2.0  \n2       https://www.bbc.com/news/world-africa-63973938     2.0  \n3          https://www.youtube.com/watch?v=PesQLjkAEew     2.0  \n4    https://www.cnbc.com/2022/12/14/mortgage-deman...     2.0  \n..                                                 ...     ...  \n487  https://www.cnn.com/europe/live-news/russia-uk...     2.0  \n488  https://www.aljazeera.com/news/2022/12/27/russ...     2.0  \n489  https://ktla.com/news/local-news/southwest-can...     1.0  \n490  https://www.salon.com/2022/12/25/the-7-most-sp...     3.0  \n491        https://www.youtube.com/watch?v=QJwK4wcKFOo     1.0  \n\n[492 rows x 4 columns]",
      "text/html": "<div>\n<style scoped>\n    .dataframe tbody tr th:only-of-type {\n        vertical-align: middle;\n    }\n\n    .dataframe tbody tr th {\n        vertical-align: top;\n    }\n\n    .dataframe thead th {\n        text-align: right;\n    }\n</style>\n<table border=\"1\" class=\"dataframe\">\n  <thead>\n    <tr style=\"text-align: right;\">\n      <th></th>\n      <th>title</th>\n      <th>saved_at</th>\n      <th>url</th>\n      <th>stance</th>\n    </tr>\n  </thead>\n  <tbody>\n    <tr>\n      <th>0</th>\n      <td>Fed interest rate decision today: Live updates...</td>\n      <td>14/12/2022</td>\n      <td>https://www.usatoday.com/story/money/economy/2...</td>\n      <td>2.0</td>\n    </tr>\n    <tr>\n      <th>1</th>\n      <td>Moscow police should hand over control of Idah...</td>\n      <td>14/12/2022</td>\n      <td>https://nypost.com/2022/12/14/police-should-ha...</td>\n      <td>2.0</td>\n    </tr>\n    <tr>\n      <th>2</th>\n      <td>World Cup 2022: Morocco fans' heartbreak as Do...</td>\n      <td>14/12/2022</td>\n      <td>https://www.bbc.com/news/world-africa-63973938</td>\n      <td>2.0</td>\n    </tr>\n    <tr>\n      <th>3</th>\n      <td>Scream 6 - Official Teaser Trailer (2023) Jenn...</td>\n      <td>14/12/2022</td>\n      <td>https://www.youtube.com/watch?v=PesQLjkAEew</td>\n      <td>2.0</td>\n    </tr>\n    <tr>\n      <th>4</th>\n      <td>Mortgage demand inches higher as interest rate...</td>\n      <td>14/12/2022</td>\n      <td>https://www.cnbc.com/2022/12/14/mortgage-deman...</td>\n      <td>2.0</td>\n    </tr>\n    <tr>\n      <th>...</th>\n      <td>...</td>\n      <td>...</td>\n      <td>...</td>\n      <td>...</td>\n    </tr>\n    <tr>\n      <th>487</th>\n      <td>Russia's war in Ukraine: Live updates - CNN</td>\n      <td>27/12/2022</td>\n      <td>https://www.cnn.com/europe/live-news/russia-uk...</td>\n      <td>2.0</td>\n    </tr>\n    <tr>\n      <th>488</th>\n      <td>Russia’s Lavrov issues ultimatum to Ukraine: ‘...</td>\n      <td>27/12/2022</td>\n      <td>https://www.aljazeera.com/news/2022/12/27/russ...</td>\n      <td>2.0</td>\n    </tr>\n    <tr>\n      <th>489</th>\n      <td>Southwest Airlines apparently cancels all depa...</td>\n      <td>27/12/2022</td>\n      <td>https://ktla.com/news/local-news/southwest-can...</td>\n      <td>1.0</td>\n    </tr>\n    <tr>\n      <th>490</th>\n      <td>The 7 most spectacular images from the James W...</td>\n      <td>27/12/2022</td>\n      <td>https://www.salon.com/2022/12/25/the-7-most-sp...</td>\n      <td>3.0</td>\n    </tr>\n    <tr>\n      <th>491</th>\n      <td>US Snow Storm LIVE | US Braces For More Deaths...</td>\n      <td>27/12/2022</td>\n      <td>https://www.youtube.com/watch?v=QJwK4wcKFOo</td>\n      <td>1.0</td>\n    </tr>\n  </tbody>\n</table>\n<p>492 rows × 4 columns</p>\n</div>"
     },
     "execution_count": 11,
     "metadata": {},
     "output_type": "execute_result"
    }
   ],
   "source": [
    "# Read in training data\n",
    "data = pd.read_csv('data/RoundedLabelled.csv')\n",
    "data = data.rename(columns={'title': 'title', 'topic': 'subjects', 'stance / attitude towards': 'stance', 'article URL': 'url', 'savedAt': 'saved_at', 'main topic': 'labelled_topic'})\n",
    "data = data.drop(['query', 'language', 'Clickbaityness/credibility (0 is good, 1 is very bad)', 'labelled_topic'], axis=1) # labelled_topic is dropped as this is only for testing the topic extraction and is not used as training data, Hopsworks requires all columns to be filled which won't always be the case for labelled_topic\n",
    "data = data[data['stance'].notnull()]\n",
    "data['stance'] = data['stance'].astype('double')\n",
    "data"
   ],
   "metadata": {
    "collapsed": false
   }
  },
  {
   "cell_type": "code",
   "execution_count": 12,
   "outputs": [
    {
     "data": {
      "text/plain": "                                                 title    saved_at  \\\n0    Fed interest rate decision today: Live updates...  14/12/2022   \n1    Moscow police should hand over control of Idah...  14/12/2022   \n2    World Cup 2022: Morocco fans' heartbreak as Do...  14/12/2022   \n3    Scream 6 - Official Teaser Trailer (2023) Jenn...  14/12/2022   \n4    Mortgage demand inches higher as interest rate...  14/12/2022   \n..                                                 ...         ...   \n487        Russia's war in Ukraine: Live updates - CNN  27/12/2022   \n488  Russia’s Lavrov issues ultimatum to Ukraine: ‘...  27/12/2022   \n489  Southwest Airlines apparently cancels all depa...  27/12/2022   \n490  The 7 most spectacular images from the James W...  27/12/2022   \n491  US Snow Storm LIVE | US Braces For More Deaths...  27/12/2022   \n\n                                                   url  stance  \\\n0    https://www.usatoday.com/story/money/economy/2...     2.0   \n1    https://nypost.com/2022/12/14/police-should-ha...     2.0   \n2       https://www.bbc.com/news/world-africa-63973938     2.0   \n3          https://www.youtube.com/watch?v=PesQLjkAEew     2.0   \n4    https://www.cnbc.com/2022/12/14/mortgage-deman...     2.0   \n..                                                 ...     ...   \n487  https://www.cnn.com/europe/live-news/russia-uk...     2.0   \n488  https://www.aljazeera.com/news/2022/12/27/russ...     2.0   \n489  https://ktla.com/news/local-news/southwest-can...     1.0   \n490  https://www.salon.com/2022/12/25/the-7-most-sp...     3.0   \n491        https://www.youtube.com/watch?v=QJwK4wcKFOo     1.0   \n\n                                          title_stance  \\\n0    fed interest rate decision today live updates ...   \n1    moscow police should hand over control of idah...   \n2    world cup 2022 morocco fans heartbreak as doha...   \n3    scream 6 official teaser trailer 2023 jenna or...   \n4    mortgage demand inches higher as interest rate...   \n..                                                 ...   \n487           russia s war in ukraine live updates cnn   \n488  russia s lavrov issues ultimatum to ukraine fo...   \n489  southwest airlines apparently cancels all depa...   \n490  the 7 most spectacular images from the james w...   \n491  us snow storm live us braces for more deaths a...   \n\n                                           title_topic  \n0    fed interest rate decision today live updates ...  \n1    moscow police hand control idaho murder invest...  \n2    world cup 2022 morocco fans heartbreak doha fl...  \n3    scream 6 official teaser trailer 2023 jenna or...  \n4    mortgage demand inches higher interest rates m...  \n..                                                 ...  \n487                russia war ukraine live updates cnn  \n488  russia lavrov issues ultimatum ukraine good al...  \n489  southwest airlines apparently cancels departin...  \n490  7 spectacular images james webb space telescop...  \n491  us snow storm live us braces deaths bomb cyclo...  \n\n[492 rows x 6 columns]",
      "text/html": "<div>\n<style scoped>\n    .dataframe tbody tr th:only-of-type {\n        vertical-align: middle;\n    }\n\n    .dataframe tbody tr th {\n        vertical-align: top;\n    }\n\n    .dataframe thead th {\n        text-align: right;\n    }\n</style>\n<table border=\"1\" class=\"dataframe\">\n  <thead>\n    <tr style=\"text-align: right;\">\n      <th></th>\n      <th>title</th>\n      <th>saved_at</th>\n      <th>url</th>\n      <th>stance</th>\n      <th>title_stance</th>\n      <th>title_topic</th>\n    </tr>\n  </thead>\n  <tbody>\n    <tr>\n      <th>0</th>\n      <td>Fed interest rate decision today: Live updates...</td>\n      <td>14/12/2022</td>\n      <td>https://www.usatoday.com/story/money/economy/2...</td>\n      <td>2.0</td>\n      <td>fed interest rate decision today live updates ...</td>\n      <td>fed interest rate decision today live updates ...</td>\n    </tr>\n    <tr>\n      <th>1</th>\n      <td>Moscow police should hand over control of Idah...</td>\n      <td>14/12/2022</td>\n      <td>https://nypost.com/2022/12/14/police-should-ha...</td>\n      <td>2.0</td>\n      <td>moscow police should hand over control of idah...</td>\n      <td>moscow police hand control idaho murder invest...</td>\n    </tr>\n    <tr>\n      <th>2</th>\n      <td>World Cup 2022: Morocco fans' heartbreak as Do...</td>\n      <td>14/12/2022</td>\n      <td>https://www.bbc.com/news/world-africa-63973938</td>\n      <td>2.0</td>\n      <td>world cup 2022 morocco fans heartbreak as doha...</td>\n      <td>world cup 2022 morocco fans heartbreak doha fl...</td>\n    </tr>\n    <tr>\n      <th>3</th>\n      <td>Scream 6 - Official Teaser Trailer (2023) Jenn...</td>\n      <td>14/12/2022</td>\n      <td>https://www.youtube.com/watch?v=PesQLjkAEew</td>\n      <td>2.0</td>\n      <td>scream 6 official teaser trailer 2023 jenna or...</td>\n      <td>scream 6 official teaser trailer 2023 jenna or...</td>\n    </tr>\n    <tr>\n      <th>4</th>\n      <td>Mortgage demand inches higher as interest rate...</td>\n      <td>14/12/2022</td>\n      <td>https://www.cnbc.com/2022/12/14/mortgage-deman...</td>\n      <td>2.0</td>\n      <td>mortgage demand inches higher as interest rate...</td>\n      <td>mortgage demand inches higher interest rates m...</td>\n    </tr>\n    <tr>\n      <th>...</th>\n      <td>...</td>\n      <td>...</td>\n      <td>...</td>\n      <td>...</td>\n      <td>...</td>\n      <td>...</td>\n    </tr>\n    <tr>\n      <th>487</th>\n      <td>Russia's war in Ukraine: Live updates - CNN</td>\n      <td>27/12/2022</td>\n      <td>https://www.cnn.com/europe/live-news/russia-uk...</td>\n      <td>2.0</td>\n      <td>russia s war in ukraine live updates cnn</td>\n      <td>russia war ukraine live updates cnn</td>\n    </tr>\n    <tr>\n      <th>488</th>\n      <td>Russia’s Lavrov issues ultimatum to Ukraine: ‘...</td>\n      <td>27/12/2022</td>\n      <td>https://www.aljazeera.com/news/2022/12/27/russ...</td>\n      <td>2.0</td>\n      <td>russia s lavrov issues ultimatum to ukraine fo...</td>\n      <td>russia lavrov issues ultimatum ukraine good al...</td>\n    </tr>\n    <tr>\n      <th>489</th>\n      <td>Southwest Airlines apparently cancels all depa...</td>\n      <td>27/12/2022</td>\n      <td>https://ktla.com/news/local-news/southwest-can...</td>\n      <td>1.0</td>\n      <td>southwest airlines apparently cancels all depa...</td>\n      <td>southwest airlines apparently cancels departin...</td>\n    </tr>\n    <tr>\n      <th>490</th>\n      <td>The 7 most spectacular images from the James W...</td>\n      <td>27/12/2022</td>\n      <td>https://www.salon.com/2022/12/25/the-7-most-sp...</td>\n      <td>3.0</td>\n      <td>the 7 most spectacular images from the james w...</td>\n      <td>7 spectacular images james webb space telescop...</td>\n    </tr>\n    <tr>\n      <th>491</th>\n      <td>US Snow Storm LIVE | US Braces For More Deaths...</td>\n      <td>27/12/2022</td>\n      <td>https://www.youtube.com/watch?v=QJwK4wcKFOo</td>\n      <td>1.0</td>\n      <td>us snow storm live us braces for more deaths a...</td>\n      <td>us snow storm live us braces deaths bomb cyclo...</td>\n    </tr>\n  </tbody>\n</table>\n<p>492 rows × 6 columns</p>\n</div>"
     },
     "metadata": {},
     "output_type": "display_data"
    }
   ],
   "source": [
    "# Pre-process\n",
    "data = CleanInputFunction.clean_input(data)\n",
    "display(data)"
   ],
   "metadata": {
    "collapsed": false
   }
  },
  {
   "cell_type": "code",
   "execution_count": 13,
   "outputs": [
    {
     "name": "stdout",
     "output_type": "stream",
     "text": [
      "2022-12-29 11:31:57,537 INFO: Load pretrained SentenceTransformer: paraphrase-multilingual-mpnet-base-v2\n",
      "2022-12-29 11:31:59,387 INFO: Use pytorch device: cpu\n"
     ]
    },
    {
     "data": {
      "text/plain": "Batches:   0%|          | 0/16 [00:00<?, ?it/s]",
      "application/vnd.jupyter.widget-view+json": {
       "version_major": 2,
       "version_minor": 0,
       "model_id": "a79fa24efe0942398ace8bb0a4bdaed2"
      }
     },
     "metadata": {},
     "output_type": "display_data"
    },
    {
     "name": "stdout",
     "output_type": "stream",
     "text": [
      "2022-12-29 11:32:06,011 INFO: Load pretrained SentenceTransformer: all-MiniLM-L6-v2\n",
      "2022-12-29 11:32:06,149 INFO: Use pytorch device: cpu\n"
     ]
    },
    {
     "data": {
      "text/plain": "                                                 title    saved_at  \\\n0    Fed interest rate decision today: Live updates...  14/12/2022   \n1    Moscow police should hand over control of Idah...  14/12/2022   \n2    World Cup 2022: Morocco fans' heartbreak as Do...  14/12/2022   \n3    Scream 6 - Official Teaser Trailer (2023) Jenn...  14/12/2022   \n4    Mortgage demand inches higher as interest rate...  14/12/2022   \n..                                                 ...         ...   \n487        Russia's war in Ukraine: Live updates - CNN  27/12/2022   \n488  Russia’s Lavrov issues ultimatum to Ukraine: ‘...  27/12/2022   \n489  Southwest Airlines apparently cancels all depa...  27/12/2022   \n490  The 7 most spectacular images from the James W...  27/12/2022   \n491  US Snow Storm LIVE | US Braces For More Deaths...  27/12/2022   \n\n                                                   url  stance  \\\n0    https://www.usatoday.com/story/money/economy/2...     2.0   \n1    https://nypost.com/2022/12/14/police-should-ha...     2.0   \n2       https://www.bbc.com/news/world-africa-63973938     2.0   \n3          https://www.youtube.com/watch?v=PesQLjkAEew     2.0   \n4    https://www.cnbc.com/2022/12/14/mortgage-deman...     2.0   \n..                                                 ...     ...   \n487  https://www.cnn.com/europe/live-news/russia-uk...     2.0   \n488  https://www.aljazeera.com/news/2022/12/27/russ...     2.0   \n489  https://ktla.com/news/local-news/southwest-can...     1.0   \n490  https://www.salon.com/2022/12/25/the-7-most-sp...     3.0   \n491        https://www.youtube.com/watch?v=QJwK4wcKFOo     1.0   \n\n                                          title_stance  \\\n0    fed interest rate decision today live updates ...   \n1    moscow police should hand over control of idah...   \n2    world cup 2022 morocco fans heartbreak as doha...   \n3    scream 6 official teaser trailer 2023 jenna or...   \n4    mortgage demand inches higher as interest rate...   \n..                                                 ...   \n487           russia s war in ukraine live updates cnn   \n488  russia s lavrov issues ultimatum to ukraine fo...   \n489  southwest airlines apparently cancels all depa...   \n490  the 7 most spectacular images from the james w...   \n491  us snow storm live us braces for more deaths a...   \n\n                                           title_topic  \\\n0    fed interest rate decision today live updates ...   \n1    moscow police hand control idaho murder invest...   \n2    world cup 2022 morocco fans heartbreak doha fl...   \n3    scream 6 official teaser trailer 2023 jenna or...   \n4    mortgage demand inches higher interest rates m...   \n..                                                 ...   \n487                russia war ukraine live updates cnn   \n488  russia lavrov issues ultimatum ukraine good al...   \n489  southwest airlines apparently cancels departin...   \n490  7 spectacular images james webb space telescop...   \n491  us snow storm live us braces deaths bomb cyclo...   \n\n                  predicted_topic  \n0           inflation, fed, rates  \n1          shooting, paris, kurds  \n2              cup, africa, world  \n3       weekend, showdown, avatar  \n4     mortgage, rates, television  \n..                            ...  \n487          ukraine, russia, war  \n488          ukraine, russia, war  \n489  flights, airlines, departing  \n490              nasa, webb, mars  \n491          storm, power, winter  \n\n[492 rows x 7 columns]",
      "text/html": "<div>\n<style scoped>\n    .dataframe tbody tr th:only-of-type {\n        vertical-align: middle;\n    }\n\n    .dataframe tbody tr th {\n        vertical-align: top;\n    }\n\n    .dataframe thead th {\n        text-align: right;\n    }\n</style>\n<table border=\"1\" class=\"dataframe\">\n  <thead>\n    <tr style=\"text-align: right;\">\n      <th></th>\n      <th>title</th>\n      <th>saved_at</th>\n      <th>url</th>\n      <th>stance</th>\n      <th>title_stance</th>\n      <th>title_topic</th>\n      <th>predicted_topic</th>\n    </tr>\n  </thead>\n  <tbody>\n    <tr>\n      <th>0</th>\n      <td>Fed interest rate decision today: Live updates...</td>\n      <td>14/12/2022</td>\n      <td>https://www.usatoday.com/story/money/economy/2...</td>\n      <td>2.0</td>\n      <td>fed interest rate decision today live updates ...</td>\n      <td>fed interest rate decision today live updates ...</td>\n      <td>inflation, fed, rates</td>\n    </tr>\n    <tr>\n      <th>1</th>\n      <td>Moscow police should hand over control of Idah...</td>\n      <td>14/12/2022</td>\n      <td>https://nypost.com/2022/12/14/police-should-ha...</td>\n      <td>2.0</td>\n      <td>moscow police should hand over control of idah...</td>\n      <td>moscow police hand control idaho murder invest...</td>\n      <td>shooting, paris, kurds</td>\n    </tr>\n    <tr>\n      <th>2</th>\n      <td>World Cup 2022: Morocco fans' heartbreak as Do...</td>\n      <td>14/12/2022</td>\n      <td>https://www.bbc.com/news/world-africa-63973938</td>\n      <td>2.0</td>\n      <td>world cup 2022 morocco fans heartbreak as doha...</td>\n      <td>world cup 2022 morocco fans heartbreak doha fl...</td>\n      <td>cup, africa, world</td>\n    </tr>\n    <tr>\n      <th>3</th>\n      <td>Scream 6 - Official Teaser Trailer (2023) Jenn...</td>\n      <td>14/12/2022</td>\n      <td>https://www.youtube.com/watch?v=PesQLjkAEew</td>\n      <td>2.0</td>\n      <td>scream 6 official teaser trailer 2023 jenna or...</td>\n      <td>scream 6 official teaser trailer 2023 jenna or...</td>\n      <td>weekend, showdown, avatar</td>\n    </tr>\n    <tr>\n      <th>4</th>\n      <td>Mortgage demand inches higher as interest rate...</td>\n      <td>14/12/2022</td>\n      <td>https://www.cnbc.com/2022/12/14/mortgage-deman...</td>\n      <td>2.0</td>\n      <td>mortgage demand inches higher as interest rate...</td>\n      <td>mortgage demand inches higher interest rates m...</td>\n      <td>mortgage, rates, television</td>\n    </tr>\n    <tr>\n      <th>...</th>\n      <td>...</td>\n      <td>...</td>\n      <td>...</td>\n      <td>...</td>\n      <td>...</td>\n      <td>...</td>\n      <td>...</td>\n    </tr>\n    <tr>\n      <th>487</th>\n      <td>Russia's war in Ukraine: Live updates - CNN</td>\n      <td>27/12/2022</td>\n      <td>https://www.cnn.com/europe/live-news/russia-uk...</td>\n      <td>2.0</td>\n      <td>russia s war in ukraine live updates cnn</td>\n      <td>russia war ukraine live updates cnn</td>\n      <td>ukraine, russia, war</td>\n    </tr>\n    <tr>\n      <th>488</th>\n      <td>Russia’s Lavrov issues ultimatum to Ukraine: ‘...</td>\n      <td>27/12/2022</td>\n      <td>https://www.aljazeera.com/news/2022/12/27/russ...</td>\n      <td>2.0</td>\n      <td>russia s lavrov issues ultimatum to ukraine fo...</td>\n      <td>russia lavrov issues ultimatum ukraine good al...</td>\n      <td>ukraine, russia, war</td>\n    </tr>\n    <tr>\n      <th>489</th>\n      <td>Southwest Airlines apparently cancels all depa...</td>\n      <td>27/12/2022</td>\n      <td>https://ktla.com/news/local-news/southwest-can...</td>\n      <td>1.0</td>\n      <td>southwest airlines apparently cancels all depa...</td>\n      <td>southwest airlines apparently cancels departin...</td>\n      <td>flights, airlines, departing</td>\n    </tr>\n    <tr>\n      <th>490</th>\n      <td>The 7 most spectacular images from the James W...</td>\n      <td>27/12/2022</td>\n      <td>https://www.salon.com/2022/12/25/the-7-most-sp...</td>\n      <td>3.0</td>\n      <td>the 7 most spectacular images from the james w...</td>\n      <td>7 spectacular images james webb space telescop...</td>\n      <td>nasa, webb, mars</td>\n    </tr>\n    <tr>\n      <th>491</th>\n      <td>US Snow Storm LIVE | US Braces For More Deaths...</td>\n      <td>27/12/2022</td>\n      <td>https://www.youtube.com/watch?v=QJwK4wcKFOo</td>\n      <td>1.0</td>\n      <td>us snow storm live us braces for more deaths a...</td>\n      <td>us snow storm live us braces deaths bomb cyclo...</td>\n      <td>storm, power, winter</td>\n    </tr>\n  </tbody>\n</table>\n<p>492 rows × 7 columns</p>\n</div>"
     },
     "metadata": {},
     "output_type": "display_data"
    }
   ],
   "source": [
    "# Add topics\n",
    "data, _ = TopicExtractionFunction.extract_topics(data)\n",
    "display(data)"
   ],
   "metadata": {
    "collapsed": false
   }
  },
  {
   "cell_type": "code",
   "execution_count": 14,
   "outputs": [
    {
     "data": {
      "text/plain": "Uploading Dataframe: 0.00% |          | Rows 0/492 | Elapsed Time: 00:00 | Remaining Time: ?",
      "application/vnd.jupyter.widget-view+json": {
       "version_major": 2,
       "version_minor": 0,
       "model_id": "a4f2b088fb8c4bb2b42778644750a80b"
      }
     },
     "metadata": {},
     "output_type": "display_data"
    },
    {
     "name": "stdout",
     "output_type": "stream",
     "text": [
      "Launching offline feature group backfill job...\n",
      "Backfill Job started successfully, you can follow the progress at \n",
      "https://c.app.hopsworks.ai/p/5270/jobs/named/training_data_stance_1_offline_fg_backfill/executions\n"
     ]
    },
    {
     "data": {
      "text/plain": "(<hsfs.core.job.Job at 0x18a576dfcd0>, None)"
     },
     "execution_count": 14,
     "metadata": {},
     "output_type": "execute_result"
    }
   ],
   "source": [
    "# Save result to feature_store\n",
    "article_cleaned_feature_store = feature_store.get_or_create_feature_group(\n",
    "    name=\"training_data_stance\",\n",
    "    version=1,\n",
    "    primary_key=[\"url\"],\n",
    "    description=\"Articles with predicted topic\")\n",
    "article_cleaned_feature_store.insert(data, write_options={\"wait_for_job\" : False})"
   ],
   "metadata": {
    "collapsed": false
   }
  },
  {
   "cell_type": "markdown",
   "source": [],
   "metadata": {
    "collapsed": false
   }
  }
 ],
 "metadata": {
  "kernelspec": {
   "display_name": "Python 3",
   "language": "python",
   "name": "python3"
  },
  "language_info": {
   "codemirror_mode": {
    "name": "ipython",
    "version": 2
   },
   "file_extension": ".py",
   "mimetype": "text/x-python",
   "name": "python",
   "nbconvert_exporter": "python",
   "pygments_lexer": "ipython2",
   "version": "2.7.6"
  }
 },
 "nbformat": 4,
 "nbformat_minor": 0
}
