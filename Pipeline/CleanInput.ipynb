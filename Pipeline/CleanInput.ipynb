{
 "cells": [
  {
   "cell_type": "code",
   "execution_count": 1,
   "outputs": [
    {
     "name": "stderr",
     "output_type": "stream",
     "text": [
      "[nltk_data] Downloading package wordnet to\n",
      "[nltk_data]     C:\\Users\\steem\\AppData\\Roaming\\nltk_data...\n",
      "[nltk_data]   Package wordnet is already up-to-date!\n",
      "[nltk_data] Downloading package omw-1.4 to\n",
      "[nltk_data]     C:\\Users\\steem\\AppData\\Roaming\\nltk_data...\n",
      "[nltk_data]   Package omw-1.4 is already up-to-date!\n",
      "[nltk_data] Downloading package stopwords to\n",
      "[nltk_data]     C:\\Users\\steem\\AppData\\Roaming\\nltk_data...\n",
      "[nltk_data]   Package stopwords is already up-to-date!\n",
      "[nltk_data] Downloading package wordnet to\n",
      "[nltk_data]     C:\\Users\\steem\\AppData\\Roaming\\nltk_data...\n",
      "[nltk_data]   Package wordnet is already up-to-date!\n",
      "[nltk_data] Downloading package omw-1.4 to\n",
      "[nltk_data]     C:\\Users\\steem\\AppData\\Roaming\\nltk_data...\n",
      "[nltk_data]   Package omw-1.4 is already up-to-date!\n",
      "[nltk_data] Downloading package stopwords to\n",
      "[nltk_data]     C:\\Users\\steem\\AppData\\Roaming\\nltk_data...\n",
      "[nltk_data]   Package stopwords is already up-to-date!\n"
     ]
    }
   ],
   "source": [
    "import nltk\n",
    "nltk.download('wordnet')\n",
    "nltk.download('omw-1.4')\n",
    "nltk.download('stopwords')\n",
    "import pandas as pd\n",
    "from pathlib import Path\n",
    "import hopsworks\n",
    "import CleanInputFunction"
   ],
   "metadata": {
    "collapsed": false
   }
  },
  {
   "cell_type": "code",
   "execution_count": 2,
   "outputs": [
    {
     "name": "stdout",
     "output_type": "stream",
     "text": [
      "Connected. Call `.close()` to terminate connection gracefully.\n",
      "\n",
      "Logged in to project, explore it here https://c.app.hopsworks.ai:443/p/5270\n"
     ]
    },
    {
     "name": "stderr",
     "output_type": "stream",
     "text": [
      "DeprecationWarning: the imp module is deprecated in favour of importlib; see the module's documentation for alternative uses\n"
     ]
    },
    {
     "name": "stdout",
     "output_type": "stream",
     "text": [
      "Connected. Call `.close()` to terminate connection gracefully.\n",
      "2022-12-28 13:56:43,507 INFO: USE `scalablemltask1_featurestore`\n",
      "2022-12-28 13:56:46,521 INFO: SELECT `fg0`.`title` `title`, `fg0`.`url` `url`, `fg0`.`publishedat` `publishedat`\n",
      "FROM `scalablemltask1_featurestore`.`articles_daily_1` `fg0`\n"
     ]
    },
    {
     "name": "stderr",
     "output_type": "stream",
     "text": [
      "UserWarning: pandas only supports SQLAlchemy connectable (engine/connection) or database string URI or sqlite3 DBAPI2 connection. Other DBAPI2 objects are not tested. Please consider using SQLAlchemy.\n"
     ]
    }
   ],
   "source": [
    "USE_HOPSWORKS = True\n",
    "\n",
    "if USE_HOPSWORKS:\n",
    "    # Get data from feature store\n",
    "    project = hopsworks.login()\n",
    "    feature_store = project.get_feature_store()\n",
    "    article_feature_group = feature_store.get_feature_group(name=\"articles_daily\", version=1)\n",
    "    data = article_feature_group.read()\n",
    "else:\n",
    "    data_path = ( Path.cwd() / \"data/RoundedRawArticles.csv\").resolve()\n",
    "    data = pd.read_csv(data_path, encoding='utf-8')"
   ],
   "metadata": {
    "collapsed": false
   }
  },
  {
   "cell_type": "code",
   "execution_count": 3,
   "outputs": [
    {
     "data": {
      "text/plain": "                                                title  \\\n0   Taliban minister defends closing universities ...   \n1   Jan. 6 House committee releases final report o...   \n2   Dodgers' Trevor Bauer reinstated after suspens...   \n3   As crematoriums fill up, China shifts how it c...   \n4   Rosenthal: How did Mets and Carlos Correa land...   \n5   Megan Thee Stallion's Boyfriend Pardison Fonta...   \n6   Deep secrecy, high risk: How Zelensky's improb...   \n7   Airport strikes: Travellers warned to expect d...   \n8   Jets bench QB Zach Wilson for Chris Streveler ...   \n9   FTX co-founder Sam Bankman-Fried is back in th...   \n10  Senate passes $1.7 trillion government funding...   \n11    Stock futures are flat on Friday morning - CNBC   \n12  Jacksonville Jaguars vs. New York Jets | 2022 ...   \n13  Read Microsoft's response to the FTC's Activis...   \n14  US winter storm will bring frostbite within mi...   \n15  'He knows he lost': Cassidy Hutchinson testifi...   \n16  Arizona to remove shipping container wall from...   \n17  Kari Lake's 2-day election challenge trial end...   \n18  Winter Storm Live Updates: Snow and Freezing T...   \n19  Latest Soyuz capsule leak prompts Russians to ...   \n20  Russia considers ways to return space crew aft...   \n21  Arizona lawyers: Kari Lake election loss lawsu...   \n22  Who is Chris Streveler? A look at the Jets pra...   \n23  'Once-in-a-generation storm' bears down on U.S...   \n24  Charlie Cox 'Fascinated' by Daredevil's 18-Epi...   \n25  Missing baby Kason Thomas found alive - NBC4 C...   \n26  Cassidy Hutchinson claims Trump figures sought...   \n27  Everything to know about Trevor Bauer's MLB su...   \n28  North Korea Sold Arms to Russia's Wagner Group...   \n29  Paris shooting: Aftermath of violent unrest fo...   \n30  NFL Week 16 grades: Bengals earn 'B+' for wild...   \n31  Lindsay Lohan Beams in New Holiday Selfie With...   \n32  NASA Explores a Winter Wonderland on Mars – Ot...   \n33  More migrants dropped outside vice president's...   \n34  Steelers honor Harris by rallying past Raiders...   \n35  A powerful winter storm claims at least 22 liv...   \n36  Elon Musk Warns Against Margin Debt on Risk of...   \n37  Fuel tanker explosion kills 10 in South Africa...   \n38  Top Plays from Week 16 | NFL 2022 Highlights -...   \n39  Buffalo, New York winter storm leaves three de...   \n40  China stops publishing daily Covid figures ami...   \n41  5 arrested after 19-year-old killed in shootin...   \n42  Kari Lake's lawsuit over defeat in Arizona gov...   \n43  Ukraine war: Zelensky delivers defiant Christm...   \n44  James Webb telescope: Amazing images show the ...   \n45  Taliban orders NGOs to ban female employees fr...   \n46  What could power grid 'rotating outages' look ...   \n47  Eagles vs. Cowboys: The good, the bad, and the...   \n48  PM Update: Washington has coldest Christmas Ev...   \n\n                                                  url           publishedat  \\\n0   https://www.theguardian.com/world/2022/dec/23/...  2022-12-23T01:50:00Z   \n1   https://www.cnbc.com/2022/12/22/trump-capitol-...  2022-12-23T02:48:00Z   \n2   https://www.espn.com/mlb/story/_/id/35306975/d...  2022-12-23T04:24:35Z   \n3   https://www.cnn.com/2022/12/22/china/china-cov...  2022-12-23T00:18:00Z   \n4   https://theathletic.com/4029332/2022/12/22/met...  2022-12-23T04:08:14Z   \n5   https://www.billboard.com/music/music-news/meg...  2022-12-23T02:08:47Z   \n6   https://www.washingtonpost.com/politics/2022/1...  2022-12-23T03:00:00Z   \n7          https://www.bbc.com/news/business-64060584  2022-12-23T07:34:11Z   \n8   https://www.usatoday.com/story/sports/nfl/jets...  2022-12-23T03:51:00Z   \n9   https://www.theverge.com/2022/12/22/23523149/s...  2022-12-23T02:17:00Z   \n10  https://www.axios.com/2022/12/22/omnibus-gover...  2022-12-23T02:49:13Z   \n11  https://www.cnbc.com/2022/12/22/stock-market-f...  2022-12-23T05:49:00Z   \n12        https://www.youtube.com/watch?v=C-q2qw_LqoI  2022-12-23T04:17:40Z   \n13  https://www.theverge.com/23523563/read-microso...  2022-12-23T02:17:00Z   \n14  https://www.bbc.com/news/world-us-canada-64061588  2022-12-23T04:41:28Z   \n15  https://www.cnn.com/2022/12/22/politics/cassid...  2022-12-23T01:22:00Z   \n16  https://apnews.com/article/politics-mexico-ari...  2022-12-23T03:52:47Z   \n17  https://www.azcentral.com/story/news/politics/...  2022-12-23T01:28:11Z   \n18  https://www.wsj.com/livecoverage/winter-storm-...  2022-12-23T02:23:00Z   \n19  https://www.theguardian.com/science/2022/dec/2...  2022-12-23T03:33:00Z   \n20  https://www.aljazeera.com/news/2022/12/23/russ...  2022-12-23T03:59:49Z   \n21  https://apnews.com/article/2022-midterm-electi...  2022-12-23T01:26:44Z   \n22  https://www.cbssports.com/nfl/news/who-is-chri...  2022-12-23T04:49:00Z   \n23        https://www.youtube.com/watch?v=QxYsdRl-LLk  2022-12-23T03:13:33Z   \n24  https://tvline.com/2022/12/22/charlie-cox-dare...  2022-12-23T01:00:00Z   \n25        https://www.youtube.com/watch?v=LoOR8kPeoSM  2022-12-23T04:23:20Z   \n26  https://www.washingtonpost.com/national-securi...  2022-12-23T01:55:00Z   \n27  https://www.espn.com/mlb/story/_/id/35307636/t...  2022-12-23T04:32:12Z   \n28  https://www.themoscowtimes.com/2022/12/23/nort...  2022-12-23T06:32:27Z   \n29  https://www.bbc.com/news/av/world-europe-64087161  2022-12-24T22:09:40Z   \n30  https://www.cbssports.com/nfl/news/nfl-week-16...  2022-12-25T01:17:00Z   \n31  https://www.eonline.com/news/1359368/lindsay-l...  2022-12-24T22:52:00Z   \n32  https://scitechdaily.com/nasa-explores-a-winte...  2022-12-24T22:25:39Z   \n33  https://www.cnn.com/2022/12/24/politics/migran...  2022-12-25T02:53:00Z   \n34  https://www.espn.com/nfl/story/_/id/35317232/s...  2022-12-25T05:00:11Z   \n35  https://www.cnn.com/2022/12/24/weather/christm...  2022-12-25T02:54:00Z   \n36  https://finance.yahoo.com/news/elon-musk-warns...  2022-12-24T23:51:44Z   \n37  https://www.aljazeera.com/news/2022/12/24/nine...  2022-12-25T01:02:47Z   \n38        https://www.youtube.com/watch?v=zR1wExd_2Zo  2022-12-25T04:29:07Z   \n39  https://www.foxnews.com/us/buffalo-new-york-wi...  2022-12-25T00:53:02Z   \n40  https://www.theguardian.com/world/2022/dec/25/...  2022-12-25T05:24:00Z   \n41  https://www.cbsnews.com/minnesota/news/mall-of...  2022-12-25T04:43:00Z   \n42  https://www.cbsnews.com/news/kari-lake-lawsuit...  2022-12-25T02:20:00Z   \n43     https://www.bbc.com/news/world-europe-64088046  2022-12-24T23:22:51Z   \n44  https://news.yahoo.com/james-webb-telescope-am...  2022-12-25T00:22:00Z   \n45  https://www.cnn.com/2022/12/24/asia/taliban-fe...  2022-12-25T02:54:00Z   \n46  https://abc6onyourside.com/news/local/power-el...  2022-12-24T22:44:53Z   \n47  https://www.bleedinggreennation.com/2022/12/24...  2022-12-25T02:21:28Z   \n48  https://www.washingtonpost.com/weather/2022/12...  2022-12-25T03:04:00Z   \n\n                                         title_stance  \\\n0   taliban minister defends closing universities ...   \n1   jan 6 house committee releases final report on...   \n2   dodgers trevor bauer reinstated after suspensi...   \n3   as crematoriums fill up china shifts how it co...   \n4   rosenthal how did mets and carlos correa land ...   \n5   megan thee stallion s boyfriend pardison fonta...   \n6   deep secrecy high risk how zelensky s improbab...   \n7   airport strikes travellers warned to expect di...   \n8   jets bench qb zach wilson for chris streveler ...   \n9   ftx co founder sam bankman fried is back in th...   \n10  senate passes 1 7 trillion government funding ...   \n11      stock futures are flat on friday morning cnbc   \n12  jacksonville jaguars vs new york jets 2022 wee...   \n13  read microsoft s response to the ftc s activis...   \n14  us winter storm will bring frostbite within mi...   \n15  he knows he lost cassidy hutchinson testified ...   \n16  arizona to remove shipping container wall from...   \n17  kari lake s 2 day election challenge trial end...   \n18  winter storm live updates snow and freezing te...   \n19  latest soyuz capsule leak prompts russians to ...   \n20  russia considers ways to return space crew aft...   \n21  arizona lawyers kari lake election loss lawsui...   \n22  who is chris streveler a look at the jets prac...   \n23  once in a generation storm bears down on u s c...   \n24  charlie cox fascinated by daredevil s 18 episo...   \n25  missing baby kason thomas found alive nbc4 col...   \n26  cassidy hutchinson claims trump figures sought...   \n27  everything to know about trevor bauer s mlb su...   \n28  north korea sold arms to russia s wagner group...   \n29  paris shooting aftermath of violent unrest fol...   \n30  nfl week 16 grades bengals earn b for wild win...   \n31  lindsay lohan beams in new holiday selfie with...   \n32  nasa explores a winter wonderland on mars othe...   \n33  more migrants dropped outside vice president s...   \n34  steelers honor harris by rallying past raiders...   \n35  a powerful winter storm claims at least 22 liv...   \n36  elon musk warns against margin debt on risk of...   \n37  fuel tanker explosion kills 10 in south africa...   \n38     top plays from week 16 nfl 2022 highlights nfl   \n39  buffalo new york winter storm leaves three dea...   \n40  china stops publishing daily covid figures ami...   \n41  5 arrested after 19 year old killed in shootin...   \n42  kari lake s lawsuit over defeat in arizona gov...   \n43  ukraine war zelensky delivers defiant christma...   \n44  james webb telescope amazing images show the u...   \n45  taliban orders ngos to ban female employees fr...   \n46  what could power grid rotating outages look li...   \n47  eagles vs cowboys the good the bad and the ugl...   \n48  pm update washington has coldest christmas eve...   \n\n                                          title_topic  \n0   taliban minister defends closing universities ...  \n1   jan 6 house committee releases final report tr...  \n2   dodgers trevor bauer reinstated suspension cut...  \n3   crematoriums fill china shifts counts covid de...  \n4   rosenthal mets carlos correa land 12 years 315...  \n5   megan thee stallion boyfriend pardison fontain...  \n6   deep secrecy high risk zelensky improbable c v...  \n7   airport strikes travellers warned expect disru...  \n8   jets bench qb zach wilson chris streveler game...  \n9   ftx co founder sam bankman fried back us relea...  \n10  senate passes 1 7 trillion government funding ...  \n11             stock futures flat friday morning cnbc  \n12  jacksonville jaguars vs new york jets 2022 wee...  \n13  read microsoft response ftc activision blizzar...  \n14  us winter storm bring frostbite within minutes...  \n15  knows lost cassidy hutchinson testified trump ...  \n16  arizona remove shipping container wall mexico ...  \n17  kari lake 2 day election challenge trial ends ...  \n18  winter storm live updates snow freezing temps ...  \n19  latest soyuz capsule leak prompts russians pla...  \n20  russia considers ways return space crew capsul...  \n21  arizona lawyers kari lake election loss lawsui...  \n22  chris streveler look jets practice squad quart...  \n23         generation storm bears u cbc news national  \n24  charlie cox fascinated daredevil 18 episode or...  \n25  missing baby kason thomas found alive nbc4 col...  \n26  cassidy hutchinson claims trump figures sought...  \n27  everything know trevor bauer mlb suspension re...  \n28  north korea sold arms russia wagner group u sa...  \n29  paris shooting aftermath violent unrest follow...  \n30  nfl week 16 grades bengals earn b wild win pat...  \n31  lindsay lohan beams new holiday selfie husband...  \n32  nasa explores winter wonderland mars otherworl...  \n33  migrants dropped outside vice president home f...  \n34   steelers honor harris rallying past raiders espn  \n35  powerful winter storm claims least 22 lives ac...  \n36  elon musk warns margin debt risk market mass p...  \n37  fuel tanker explosion kills 10 south africa al...  \n38          top plays week 16 nfl 2022 highlights nfl  \n39  buffalo new york winter storm leaves three dea...  \n40  china stops publishing daily covid figures ami...  \n41  5 arrested 19 year old killed shooting mall am...  \n42  kari lake lawsuit defeat arizona governor race...  \n43  ukraine war zelensky delivers defiant christma...  \n44  james webb telescope amazing images show unive...  \n45  taliban orders ngos ban female employees comin...  \n46  could power grid rotating outages look like ab...  \n47  eagles vs cowboys good bad ugly bleeding green...  \n48  pm update washington coldest christmas eve aft...  ",
      "text/html": "<div>\n<style scoped>\n    .dataframe tbody tr th:only-of-type {\n        vertical-align: middle;\n    }\n\n    .dataframe tbody tr th {\n        vertical-align: top;\n    }\n\n    .dataframe thead th {\n        text-align: right;\n    }\n</style>\n<table border=\"1\" class=\"dataframe\">\n  <thead>\n    <tr style=\"text-align: right;\">\n      <th></th>\n      <th>title</th>\n      <th>url</th>\n      <th>publishedat</th>\n      <th>title_stance</th>\n      <th>title_topic</th>\n    </tr>\n  </thead>\n  <tbody>\n    <tr>\n      <th>0</th>\n      <td>Taliban minister defends closing universities ...</td>\n      <td>https://www.theguardian.com/world/2022/dec/23/...</td>\n      <td>2022-12-23T01:50:00Z</td>\n      <td>taliban minister defends closing universities ...</td>\n      <td>taliban minister defends closing universities ...</td>\n    </tr>\n    <tr>\n      <th>1</th>\n      <td>Jan. 6 House committee releases final report o...</td>\n      <td>https://www.cnbc.com/2022/12/22/trump-capitol-...</td>\n      <td>2022-12-23T02:48:00Z</td>\n      <td>jan 6 house committee releases final report on...</td>\n      <td>jan 6 house committee releases final report tr...</td>\n    </tr>\n    <tr>\n      <th>2</th>\n      <td>Dodgers' Trevor Bauer reinstated after suspens...</td>\n      <td>https://www.espn.com/mlb/story/_/id/35306975/d...</td>\n      <td>2022-12-23T04:24:35Z</td>\n      <td>dodgers trevor bauer reinstated after suspensi...</td>\n      <td>dodgers trevor bauer reinstated suspension cut...</td>\n    </tr>\n    <tr>\n      <th>3</th>\n      <td>As crematoriums fill up, China shifts how it c...</td>\n      <td>https://www.cnn.com/2022/12/22/china/china-cov...</td>\n      <td>2022-12-23T00:18:00Z</td>\n      <td>as crematoriums fill up china shifts how it co...</td>\n      <td>crematoriums fill china shifts counts covid de...</td>\n    </tr>\n    <tr>\n      <th>4</th>\n      <td>Rosenthal: How did Mets and Carlos Correa land...</td>\n      <td>https://theathletic.com/4029332/2022/12/22/met...</td>\n      <td>2022-12-23T04:08:14Z</td>\n      <td>rosenthal how did mets and carlos correa land ...</td>\n      <td>rosenthal mets carlos correa land 12 years 315...</td>\n    </tr>\n    <tr>\n      <th>5</th>\n      <td>Megan Thee Stallion's Boyfriend Pardison Fonta...</td>\n      <td>https://www.billboard.com/music/music-news/meg...</td>\n      <td>2022-12-23T02:08:47Z</td>\n      <td>megan thee stallion s boyfriend pardison fonta...</td>\n      <td>megan thee stallion boyfriend pardison fontain...</td>\n    </tr>\n    <tr>\n      <th>6</th>\n      <td>Deep secrecy, high risk: How Zelensky's improb...</td>\n      <td>https://www.washingtonpost.com/politics/2022/1...</td>\n      <td>2022-12-23T03:00:00Z</td>\n      <td>deep secrecy high risk how zelensky s improbab...</td>\n      <td>deep secrecy high risk zelensky improbable c v...</td>\n    </tr>\n    <tr>\n      <th>7</th>\n      <td>Airport strikes: Travellers warned to expect d...</td>\n      <td>https://www.bbc.com/news/business-64060584</td>\n      <td>2022-12-23T07:34:11Z</td>\n      <td>airport strikes travellers warned to expect di...</td>\n      <td>airport strikes travellers warned expect disru...</td>\n    </tr>\n    <tr>\n      <th>8</th>\n      <td>Jets bench QB Zach Wilson for Chris Streveler ...</td>\n      <td>https://www.usatoday.com/story/sports/nfl/jets...</td>\n      <td>2022-12-23T03:51:00Z</td>\n      <td>jets bench qb zach wilson for chris streveler ...</td>\n      <td>jets bench qb zach wilson chris streveler game...</td>\n    </tr>\n    <tr>\n      <th>9</th>\n      <td>FTX co-founder Sam Bankman-Fried is back in th...</td>\n      <td>https://www.theverge.com/2022/12/22/23523149/s...</td>\n      <td>2022-12-23T02:17:00Z</td>\n      <td>ftx co founder sam bankman fried is back in th...</td>\n      <td>ftx co founder sam bankman fried back us relea...</td>\n    </tr>\n    <tr>\n      <th>10</th>\n      <td>Senate passes $1.7 trillion government funding...</td>\n      <td>https://www.axios.com/2022/12/22/omnibus-gover...</td>\n      <td>2022-12-23T02:49:13Z</td>\n      <td>senate passes 1 7 trillion government funding ...</td>\n      <td>senate passes 1 7 trillion government funding ...</td>\n    </tr>\n    <tr>\n      <th>11</th>\n      <td>Stock futures are flat on Friday morning - CNBC</td>\n      <td>https://www.cnbc.com/2022/12/22/stock-market-f...</td>\n      <td>2022-12-23T05:49:00Z</td>\n      <td>stock futures are flat on friday morning cnbc</td>\n      <td>stock futures flat friday morning cnbc</td>\n    </tr>\n    <tr>\n      <th>12</th>\n      <td>Jacksonville Jaguars vs. New York Jets | 2022 ...</td>\n      <td>https://www.youtube.com/watch?v=C-q2qw_LqoI</td>\n      <td>2022-12-23T04:17:40Z</td>\n      <td>jacksonville jaguars vs new york jets 2022 wee...</td>\n      <td>jacksonville jaguars vs new york jets 2022 wee...</td>\n    </tr>\n    <tr>\n      <th>13</th>\n      <td>Read Microsoft's response to the FTC's Activis...</td>\n      <td>https://www.theverge.com/23523563/read-microso...</td>\n      <td>2022-12-23T02:17:00Z</td>\n      <td>read microsoft s response to the ftc s activis...</td>\n      <td>read microsoft response ftc activision blizzar...</td>\n    </tr>\n    <tr>\n      <th>14</th>\n      <td>US winter storm will bring frostbite within mi...</td>\n      <td>https://www.bbc.com/news/world-us-canada-64061588</td>\n      <td>2022-12-23T04:41:28Z</td>\n      <td>us winter storm will bring frostbite within mi...</td>\n      <td>us winter storm bring frostbite within minutes...</td>\n    </tr>\n    <tr>\n      <th>15</th>\n      <td>'He knows he lost': Cassidy Hutchinson testifi...</td>\n      <td>https://www.cnn.com/2022/12/22/politics/cassid...</td>\n      <td>2022-12-23T01:22:00Z</td>\n      <td>he knows he lost cassidy hutchinson testified ...</td>\n      <td>knows lost cassidy hutchinson testified trump ...</td>\n    </tr>\n    <tr>\n      <th>16</th>\n      <td>Arizona to remove shipping container wall from...</td>\n      <td>https://apnews.com/article/politics-mexico-ari...</td>\n      <td>2022-12-23T03:52:47Z</td>\n      <td>arizona to remove shipping container wall from...</td>\n      <td>arizona remove shipping container wall mexico ...</td>\n    </tr>\n    <tr>\n      <th>17</th>\n      <td>Kari Lake's 2-day election challenge trial end...</td>\n      <td>https://www.azcentral.com/story/news/politics/...</td>\n      <td>2022-12-23T01:28:11Z</td>\n      <td>kari lake s 2 day election challenge trial end...</td>\n      <td>kari lake 2 day election challenge trial ends ...</td>\n    </tr>\n    <tr>\n      <th>18</th>\n      <td>Winter Storm Live Updates: Snow and Freezing T...</td>\n      <td>https://www.wsj.com/livecoverage/winter-storm-...</td>\n      <td>2022-12-23T02:23:00Z</td>\n      <td>winter storm live updates snow and freezing te...</td>\n      <td>winter storm live updates snow freezing temps ...</td>\n    </tr>\n    <tr>\n      <th>19</th>\n      <td>Latest Soyuz capsule leak prompts Russians to ...</td>\n      <td>https://www.theguardian.com/science/2022/dec/2...</td>\n      <td>2022-12-23T03:33:00Z</td>\n      <td>latest soyuz capsule leak prompts russians to ...</td>\n      <td>latest soyuz capsule leak prompts russians pla...</td>\n    </tr>\n    <tr>\n      <th>20</th>\n      <td>Russia considers ways to return space crew aft...</td>\n      <td>https://www.aljazeera.com/news/2022/12/23/russ...</td>\n      <td>2022-12-23T03:59:49Z</td>\n      <td>russia considers ways to return space crew aft...</td>\n      <td>russia considers ways return space crew capsul...</td>\n    </tr>\n    <tr>\n      <th>21</th>\n      <td>Arizona lawyers: Kari Lake election loss lawsu...</td>\n      <td>https://apnews.com/article/2022-midterm-electi...</td>\n      <td>2022-12-23T01:26:44Z</td>\n      <td>arizona lawyers kari lake election loss lawsui...</td>\n      <td>arizona lawyers kari lake election loss lawsui...</td>\n    </tr>\n    <tr>\n      <th>22</th>\n      <td>Who is Chris Streveler? A look at the Jets pra...</td>\n      <td>https://www.cbssports.com/nfl/news/who-is-chri...</td>\n      <td>2022-12-23T04:49:00Z</td>\n      <td>who is chris streveler a look at the jets prac...</td>\n      <td>chris streveler look jets practice squad quart...</td>\n    </tr>\n    <tr>\n      <th>23</th>\n      <td>'Once-in-a-generation storm' bears down on U.S...</td>\n      <td>https://www.youtube.com/watch?v=QxYsdRl-LLk</td>\n      <td>2022-12-23T03:13:33Z</td>\n      <td>once in a generation storm bears down on u s c...</td>\n      <td>generation storm bears u cbc news national</td>\n    </tr>\n    <tr>\n      <th>24</th>\n      <td>Charlie Cox 'Fascinated' by Daredevil's 18-Epi...</td>\n      <td>https://tvline.com/2022/12/22/charlie-cox-dare...</td>\n      <td>2022-12-23T01:00:00Z</td>\n      <td>charlie cox fascinated by daredevil s 18 episo...</td>\n      <td>charlie cox fascinated daredevil 18 episode or...</td>\n    </tr>\n    <tr>\n      <th>25</th>\n      <td>Missing baby Kason Thomas found alive - NBC4 C...</td>\n      <td>https://www.youtube.com/watch?v=LoOR8kPeoSM</td>\n      <td>2022-12-23T04:23:20Z</td>\n      <td>missing baby kason thomas found alive nbc4 col...</td>\n      <td>missing baby kason thomas found alive nbc4 col...</td>\n    </tr>\n    <tr>\n      <th>26</th>\n      <td>Cassidy Hutchinson claims Trump figures sought...</td>\n      <td>https://www.washingtonpost.com/national-securi...</td>\n      <td>2022-12-23T01:55:00Z</td>\n      <td>cassidy hutchinson claims trump figures sought...</td>\n      <td>cassidy hutchinson claims trump figures sought...</td>\n    </tr>\n    <tr>\n      <th>27</th>\n      <td>Everything to know about Trevor Bauer's MLB su...</td>\n      <td>https://www.espn.com/mlb/story/_/id/35307636/t...</td>\n      <td>2022-12-23T04:32:12Z</td>\n      <td>everything to know about trevor bauer s mlb su...</td>\n      <td>everything know trevor bauer mlb suspension re...</td>\n    </tr>\n    <tr>\n      <th>28</th>\n      <td>North Korea Sold Arms to Russia's Wagner Group...</td>\n      <td>https://www.themoscowtimes.com/2022/12/23/nort...</td>\n      <td>2022-12-23T06:32:27Z</td>\n      <td>north korea sold arms to russia s wagner group...</td>\n      <td>north korea sold arms russia wagner group u sa...</td>\n    </tr>\n    <tr>\n      <th>29</th>\n      <td>Paris shooting: Aftermath of violent unrest fo...</td>\n      <td>https://www.bbc.com/news/av/world-europe-64087161</td>\n      <td>2022-12-24T22:09:40Z</td>\n      <td>paris shooting aftermath of violent unrest fol...</td>\n      <td>paris shooting aftermath violent unrest follow...</td>\n    </tr>\n    <tr>\n      <th>30</th>\n      <td>NFL Week 16 grades: Bengals earn 'B+' for wild...</td>\n      <td>https://www.cbssports.com/nfl/news/nfl-week-16...</td>\n      <td>2022-12-25T01:17:00Z</td>\n      <td>nfl week 16 grades bengals earn b for wild win...</td>\n      <td>nfl week 16 grades bengals earn b wild win pat...</td>\n    </tr>\n    <tr>\n      <th>31</th>\n      <td>Lindsay Lohan Beams in New Holiday Selfie With...</td>\n      <td>https://www.eonline.com/news/1359368/lindsay-l...</td>\n      <td>2022-12-24T22:52:00Z</td>\n      <td>lindsay lohan beams in new holiday selfie with...</td>\n      <td>lindsay lohan beams new holiday selfie husband...</td>\n    </tr>\n    <tr>\n      <th>32</th>\n      <td>NASA Explores a Winter Wonderland on Mars – Ot...</td>\n      <td>https://scitechdaily.com/nasa-explores-a-winte...</td>\n      <td>2022-12-24T22:25:39Z</td>\n      <td>nasa explores a winter wonderland on mars othe...</td>\n      <td>nasa explores winter wonderland mars otherworl...</td>\n    </tr>\n    <tr>\n      <th>33</th>\n      <td>More migrants dropped outside vice president's...</td>\n      <td>https://www.cnn.com/2022/12/24/politics/migran...</td>\n      <td>2022-12-25T02:53:00Z</td>\n      <td>more migrants dropped outside vice president s...</td>\n      <td>migrants dropped outside vice president home f...</td>\n    </tr>\n    <tr>\n      <th>34</th>\n      <td>Steelers honor Harris by rallying past Raiders...</td>\n      <td>https://www.espn.com/nfl/story/_/id/35317232/s...</td>\n      <td>2022-12-25T05:00:11Z</td>\n      <td>steelers honor harris by rallying past raiders...</td>\n      <td>steelers honor harris rallying past raiders espn</td>\n    </tr>\n    <tr>\n      <th>35</th>\n      <td>A powerful winter storm claims at least 22 liv...</td>\n      <td>https://www.cnn.com/2022/12/24/weather/christm...</td>\n      <td>2022-12-25T02:54:00Z</td>\n      <td>a powerful winter storm claims at least 22 liv...</td>\n      <td>powerful winter storm claims least 22 lives ac...</td>\n    </tr>\n    <tr>\n      <th>36</th>\n      <td>Elon Musk Warns Against Margin Debt on Risk of...</td>\n      <td>https://finance.yahoo.com/news/elon-musk-warns...</td>\n      <td>2022-12-24T23:51:44Z</td>\n      <td>elon musk warns against margin debt on risk of...</td>\n      <td>elon musk warns margin debt risk market mass p...</td>\n    </tr>\n    <tr>\n      <th>37</th>\n      <td>Fuel tanker explosion kills 10 in South Africa...</td>\n      <td>https://www.aljazeera.com/news/2022/12/24/nine...</td>\n      <td>2022-12-25T01:02:47Z</td>\n      <td>fuel tanker explosion kills 10 in south africa...</td>\n      <td>fuel tanker explosion kills 10 south africa al...</td>\n    </tr>\n    <tr>\n      <th>38</th>\n      <td>Top Plays from Week 16 | NFL 2022 Highlights -...</td>\n      <td>https://www.youtube.com/watch?v=zR1wExd_2Zo</td>\n      <td>2022-12-25T04:29:07Z</td>\n      <td>top plays from week 16 nfl 2022 highlights nfl</td>\n      <td>top plays week 16 nfl 2022 highlights nfl</td>\n    </tr>\n    <tr>\n      <th>39</th>\n      <td>Buffalo, New York winter storm leaves three de...</td>\n      <td>https://www.foxnews.com/us/buffalo-new-york-wi...</td>\n      <td>2022-12-25T00:53:02Z</td>\n      <td>buffalo new york winter storm leaves three dea...</td>\n      <td>buffalo new york winter storm leaves three dea...</td>\n    </tr>\n    <tr>\n      <th>40</th>\n      <td>China stops publishing daily Covid figures ami...</td>\n      <td>https://www.theguardian.com/world/2022/dec/25/...</td>\n      <td>2022-12-25T05:24:00Z</td>\n      <td>china stops publishing daily covid figures ami...</td>\n      <td>china stops publishing daily covid figures ami...</td>\n    </tr>\n    <tr>\n      <th>41</th>\n      <td>5 arrested after 19-year-old killed in shootin...</td>\n      <td>https://www.cbsnews.com/minnesota/news/mall-of...</td>\n      <td>2022-12-25T04:43:00Z</td>\n      <td>5 arrested after 19 year old killed in shootin...</td>\n      <td>5 arrested 19 year old killed shooting mall am...</td>\n    </tr>\n    <tr>\n      <th>42</th>\n      <td>Kari Lake's lawsuit over defeat in Arizona gov...</td>\n      <td>https://www.cbsnews.com/news/kari-lake-lawsuit...</td>\n      <td>2022-12-25T02:20:00Z</td>\n      <td>kari lake s lawsuit over defeat in arizona gov...</td>\n      <td>kari lake lawsuit defeat arizona governor race...</td>\n    </tr>\n    <tr>\n      <th>43</th>\n      <td>Ukraine war: Zelensky delivers defiant Christm...</td>\n      <td>https://www.bbc.com/news/world-europe-64088046</td>\n      <td>2022-12-24T23:22:51Z</td>\n      <td>ukraine war zelensky delivers defiant christma...</td>\n      <td>ukraine war zelensky delivers defiant christma...</td>\n    </tr>\n    <tr>\n      <th>44</th>\n      <td>James Webb telescope: Amazing images show the ...</td>\n      <td>https://news.yahoo.com/james-webb-telescope-am...</td>\n      <td>2022-12-25T00:22:00Z</td>\n      <td>james webb telescope amazing images show the u...</td>\n      <td>james webb telescope amazing images show unive...</td>\n    </tr>\n    <tr>\n      <th>45</th>\n      <td>Taliban orders NGOs to ban female employees fr...</td>\n      <td>https://www.cnn.com/2022/12/24/asia/taliban-fe...</td>\n      <td>2022-12-25T02:54:00Z</td>\n      <td>taliban orders ngos to ban female employees fr...</td>\n      <td>taliban orders ngos ban female employees comin...</td>\n    </tr>\n    <tr>\n      <th>46</th>\n      <td>What could power grid 'rotating outages' look ...</td>\n      <td>https://abc6onyourside.com/news/local/power-el...</td>\n      <td>2022-12-24T22:44:53Z</td>\n      <td>what could power grid rotating outages look li...</td>\n      <td>could power grid rotating outages look like ab...</td>\n    </tr>\n    <tr>\n      <th>47</th>\n      <td>Eagles vs. Cowboys: The good, the bad, and the...</td>\n      <td>https://www.bleedinggreennation.com/2022/12/24...</td>\n      <td>2022-12-25T02:21:28Z</td>\n      <td>eagles vs cowboys the good the bad and the ugl...</td>\n      <td>eagles vs cowboys good bad ugly bleeding green...</td>\n    </tr>\n    <tr>\n      <th>48</th>\n      <td>PM Update: Washington has coldest Christmas Ev...</td>\n      <td>https://www.washingtonpost.com/weather/2022/12...</td>\n      <td>2022-12-25T03:04:00Z</td>\n      <td>pm update washington has coldest christmas eve...</td>\n      <td>pm update washington coldest christmas eve aft...</td>\n    </tr>\n  </tbody>\n</table>\n</div>"
     },
     "metadata": {},
     "output_type": "display_data"
    }
   ],
   "source": [
    "data = CleanInputFunction.clean_input(data)\n",
    "display(data)"
   ],
   "metadata": {
    "collapsed": false
   }
  },
  {
   "cell_type": "code",
   "execution_count": 4,
   "outputs": [
    {
     "data": {
      "text/plain": "Uploading Dataframe: 0.00% |          | Rows 0/49 | Elapsed Time: 00:00 | Remaining Time: ?",
      "application/vnd.jupyter.widget-view+json": {
       "version_major": 2,
       "version_minor": 0,
       "model_id": "f5ac3aa69911486b9019c271c7ca0131"
      }
     },
     "metadata": {},
     "output_type": "display_data"
    },
    {
     "name": "stdout",
     "output_type": "stream",
     "text": [
      "Launching offline feature group backfill job...\n",
      "Backfill Job started successfully, you can follow the progress at \n",
      "https://c.app.hopsworks.ai/p/5270/jobs/named/articles_daily_cleaned_1_offline_fg_backfill/executions\n"
     ]
    }
   ],
   "source": [
    "if USE_HOPSWORKS:\n",
    "    # Save result to feature_store\n",
    "    article_cleaned_feature_store = feature_store.get_or_create_feature_group(\n",
    "        name=\"articles_daily_cleaned\",\n",
    "        version=1,\n",
    "        primary_key=[\"url\"],\n",
    "        description=\"Articles loaded in daily that have gone through pre-processing\")\n",
    "    article_cleaned_feature_store.insert(data, write_options={\"wait_for_job\" : False})\n",
    "else:\n",
    "    data_path = ( Path.cwd() / \"data/RoundedCleanedArticles.csv\").resolve()\n",
    "    data.to_csv(data_path, encoding='utf-8', index=False)"
   ],
   "metadata": {
    "collapsed": false
   }
  }
 ],
 "metadata": {
  "kernelspec": {
   "display_name": "Python 3",
   "language": "python",
   "name": "python3"
  },
  "language_info": {
   "codemirror_mode": {
    "name": "ipython",
    "version": 2
   },
   "file_extension": ".py",
   "mimetype": "text/x-python",
   "name": "python",
   "nbconvert_exporter": "python",
   "pygments_lexer": "ipython2",
   "version": "2.7.6"
  }
 },
 "nbformat": 4,
 "nbformat_minor": 0
}
