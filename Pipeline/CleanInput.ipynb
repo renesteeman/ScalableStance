{
 "cells": [
  {
   "cell_type": "code",
   "execution_count": 4,
   "outputs": [
    {
     "name": "stderr",
     "output_type": "stream",
     "text": [
      "[nltk_data] Downloading package wordnet to\n",
      "[nltk_data]     C:\\Users\\steem\\AppData\\Roaming\\nltk_data...\n",
      "[nltk_data]   Package wordnet is already up-to-date!\n",
      "[nltk_data] Downloading package omw-1.4 to\n",
      "[nltk_data]     C:\\Users\\steem\\AppData\\Roaming\\nltk_data...\n",
      "[nltk_data]   Package omw-1.4 is already up-to-date!\n",
      "[nltk_data] Downloading package stopwords to\n",
      "[nltk_data]     C:\\Users\\steem\\AppData\\Roaming\\nltk_data...\n",
      "[nltk_data]   Package stopwords is already up-to-date!\n"
     ]
    }
   ],
   "source": [
    "import nltk\n",
    "nltk.download('wordnet')\n",
    "nltk.download('omw-1.4')\n",
    "nltk.download('stopwords')\n",
    "import string\n",
    "import numpy as np\n",
    "import pandas as pd\n",
    "from pathlib import Path"
   ],
   "metadata": {
    "collapsed": false
   }
  },
  {
   "cell_type": "code",
   "execution_count": 5,
   "outputs": [],
   "source": [
    "custom_words_to_filter = ['reuters', 'reuterscom', 'cnet', 'com']\n",
    "\n",
    "lemmatizer = nltk.stem.WordNetLemmatizer()\n",
    "tokenizer = nltk.tokenize.RegexpTokenizer(r'\\w+')\n",
    "stop_words = nltk.corpus.stopwords.words('english')\n",
    "\n",
    "def clean_text(text, filter_stop_words=True):\n",
    "    if filter_stop_words:\n",
    "        words_to_filter = np.concatenate((stop_words, custom_words_to_filter))\n",
    "    else:\n",
    "        words_to_filter = custom_words_to_filter\n",
    "\n",
    "    text = text.lower()\n",
    "    text = \"\".join([char for char in text if char not in string.punctuation])\n",
    "    text = lemmatizer.lemmatize(text)\n",
    "    text = tokenizer.tokenize(text)\n",
    "    text = [word for word in text if word not in words_to_filter]\n",
    "    text = ' '.join(text)\n",
    "\n",
    "    return text"
   ],
   "metadata": {
    "collapsed": false
   }
  },
  {
   "cell_type": "code",
   "execution_count": 6,
   "outputs": [
    {
     "data": {
      "text/plain": "                                                title  \\\n0   Count Dooku Voice Actor Corey Burton Tried Som...   \n1   'Andor' Episode 8 Explained: 'Rogue One' Cameo...   \n2   Andor Gave Us the Gayest Screen Fade in Star W...   \n3   Ahsoka Tano Herself, Ashley Eckstein, Breaks D...   \n4   Star Wars: The Deckbuilding Game could rule th...   \n5   There's a new Star Wars project from Damon Lin...   \n6   Star Wars Fatigue Shouldn't Stop You From Watc...   \n7   'Andor' is the best 'Star Wars' show since 'Th...   \n8   Star Wars characters take over Mexico City - R...   \n9   Alarmed by suicide attack, China and Pakistan ...   \n10  Death of boy in lockdown fuels backlash agains...   \n11  UPDATE 2-Hong Kong stocks tumble as Xi appoint...   \n12  China supports central SOEs to issue tech inno...   \n13   World Cup: FIFA head comments on beer ban - CP24   \n14  T20 World Cup: Bangladesh bowlers impress to s...   \n15  Canada's goalkeeper Crepeau to miss World Cup ...   \n16  World Cup stadium alcohol ban emblematic of co...   \n17  T20 World Cup: Pakistan beat Netherlands to av...   \n18  Ukraine war: Wagner chief Prigozhin defends br...   \n19  Chance for peace in Ukraine, says France's Mac...   \n20  Ukraine nuclear agency thickens alleged dirty ...   \n21  Ukraine war round-up: Missile blast in Poland ...   \n22  Ukraine round-up: Refugees urged to stay away ...   \n23  Russia says Ukraine hands over 50 prisoners of...   \n\n                                         title_stance  \\\n0   count dooku voice actor corey burton tried som...   \n1   andor episode 8 explained rogue one cameos and...   \n2   andor gave us the gayest screen fade in star w...   \n3   ahsoka tano herself ashley eckstein breaks dow...   \n4   star wars the deckbuilding game could rule the...   \n5   theres a new star wars project from damon lind...   \n6   star wars fatigue shouldnt stop you from watch...   \n7   andor is the best star wars show since the man...   \n8          star wars characters take over mexico city   \n9   alarmed by suicide attack china and pakistan j...   \n10  death of boy in lockdown fuels backlash agains...   \n11  update 2hong kong stocks tumble as xi appointm...   \n12  china supports central soes to issue tech inno...   \n13      world cup fifa head comments on beer ban cp24   \n14  t20 world cup bangladesh bowlers impress to se...   \n15  canadas goalkeeper crepeau to miss world cup w...   \n16  world cup stadium alcohol ban emblematic of co...   \n17  t20 world cup pakistan beat netherlands to avo...   \n18  ukraine war wagner chief prigozhin defends bru...   \n19    chance for peace in ukraine says frances macron   \n20  ukraine nuclear agency thickens alleged dirty ...   \n21  ukraine war roundup missile blast in poland an...   \n22  ukraine roundup refugees urged to stay away an...   \n23  russia says ukraine hands over 50 prisoners of...   \n\n                                          title_topic  \n0   count dooku voice actor corey burton tried som...  \n1   andor episode 8 explained rogue one cameos sta...  \n2   andor gave us gayest screen fade star wars his...  \n3   ahsoka tano ashley eckstein breaks star wars t...  \n4   star wars deckbuilding game could rule galaxy ...  \n5   theres new star wars project damon lindelof works  \n6      star wars fatigue shouldnt stop watching andor  \n7   andor best star wars show since mandalorian le...  \n8               star wars characters take mexico city  \n9   alarmed suicide attack china pakistan join han...  \n10  death boy lockdown fuels backlash chinas zeroc...  \n11  update 2hong kong stocks tumble xi appointment...  \n12  china supports central soes issue tech innovat...  \n13         world cup fifa head comments beer ban cp24  \n14  t20 world cup bangladesh bowlers impress secur...  \n15  canadas goalkeeper crepeau miss world cup brok...  \n16  world cup stadium alcohol ban emblematic contr...  \n17  t20 world cup pakistan beat netherlands avoid ...  \n18  ukraine war wagner chief prigozhin defends bru...  \n19           chance peace ukraine says frances macron  \n20  ukraine nuclear agency thickens alleged dirty ...  \n21  ukraine war roundup missile blast poland zambi...  \n22  ukraine roundup refugees urged stay away dirty...  \n23         russia says ukraine hands 50 prisoners war  ",
      "text/html": "<div>\n<style scoped>\n    .dataframe tbody tr th:only-of-type {\n        vertical-align: middle;\n    }\n\n    .dataframe tbody tr th {\n        vertical-align: top;\n    }\n\n    .dataframe thead th {\n        text-align: right;\n    }\n</style>\n<table border=\"1\" class=\"dataframe\">\n  <thead>\n    <tr style=\"text-align: right;\">\n      <th></th>\n      <th>title</th>\n      <th>title_stance</th>\n      <th>title_topic</th>\n    </tr>\n  </thead>\n  <tbody>\n    <tr>\n      <th>0</th>\n      <td>Count Dooku Voice Actor Corey Burton Tried Som...</td>\n      <td>count dooku voice actor corey burton tried som...</td>\n      <td>count dooku voice actor corey burton tried som...</td>\n    </tr>\n    <tr>\n      <th>1</th>\n      <td>'Andor' Episode 8 Explained: 'Rogue One' Cameo...</td>\n      <td>andor episode 8 explained rogue one cameos and...</td>\n      <td>andor episode 8 explained rogue one cameos sta...</td>\n    </tr>\n    <tr>\n      <th>2</th>\n      <td>Andor Gave Us the Gayest Screen Fade in Star W...</td>\n      <td>andor gave us the gayest screen fade in star w...</td>\n      <td>andor gave us gayest screen fade star wars his...</td>\n    </tr>\n    <tr>\n      <th>3</th>\n      <td>Ahsoka Tano Herself, Ashley Eckstein, Breaks D...</td>\n      <td>ahsoka tano herself ashley eckstein breaks dow...</td>\n      <td>ahsoka tano ashley eckstein breaks star wars t...</td>\n    </tr>\n    <tr>\n      <th>4</th>\n      <td>Star Wars: The Deckbuilding Game could rule th...</td>\n      <td>star wars the deckbuilding game could rule the...</td>\n      <td>star wars deckbuilding game could rule galaxy ...</td>\n    </tr>\n    <tr>\n      <th>5</th>\n      <td>There's a new Star Wars project from Damon Lin...</td>\n      <td>theres a new star wars project from damon lind...</td>\n      <td>theres new star wars project damon lindelof works</td>\n    </tr>\n    <tr>\n      <th>6</th>\n      <td>Star Wars Fatigue Shouldn't Stop You From Watc...</td>\n      <td>star wars fatigue shouldnt stop you from watch...</td>\n      <td>star wars fatigue shouldnt stop watching andor</td>\n    </tr>\n    <tr>\n      <th>7</th>\n      <td>'Andor' is the best 'Star Wars' show since 'Th...</td>\n      <td>andor is the best star wars show since the man...</td>\n      <td>andor best star wars show since mandalorian le...</td>\n    </tr>\n    <tr>\n      <th>8</th>\n      <td>Star Wars characters take over Mexico City - R...</td>\n      <td>star wars characters take over mexico city</td>\n      <td>star wars characters take mexico city</td>\n    </tr>\n    <tr>\n      <th>9</th>\n      <td>Alarmed by suicide attack, China and Pakistan ...</td>\n      <td>alarmed by suicide attack china and pakistan j...</td>\n      <td>alarmed suicide attack china pakistan join han...</td>\n    </tr>\n    <tr>\n      <th>10</th>\n      <td>Death of boy in lockdown fuels backlash agains...</td>\n      <td>death of boy in lockdown fuels backlash agains...</td>\n      <td>death boy lockdown fuels backlash chinas zeroc...</td>\n    </tr>\n    <tr>\n      <th>11</th>\n      <td>UPDATE 2-Hong Kong stocks tumble as Xi appoint...</td>\n      <td>update 2hong kong stocks tumble as xi appointm...</td>\n      <td>update 2hong kong stocks tumble xi appointment...</td>\n    </tr>\n    <tr>\n      <th>12</th>\n      <td>China supports central SOEs to issue tech inno...</td>\n      <td>china supports central soes to issue tech inno...</td>\n      <td>china supports central soes issue tech innovat...</td>\n    </tr>\n    <tr>\n      <th>13</th>\n      <td>World Cup: FIFA head comments on beer ban - CP24</td>\n      <td>world cup fifa head comments on beer ban cp24</td>\n      <td>world cup fifa head comments beer ban cp24</td>\n    </tr>\n    <tr>\n      <th>14</th>\n      <td>T20 World Cup: Bangladesh bowlers impress to s...</td>\n      <td>t20 world cup bangladesh bowlers impress to se...</td>\n      <td>t20 world cup bangladesh bowlers impress secur...</td>\n    </tr>\n    <tr>\n      <th>15</th>\n      <td>Canada's goalkeeper Crepeau to miss World Cup ...</td>\n      <td>canadas goalkeeper crepeau to miss world cup w...</td>\n      <td>canadas goalkeeper crepeau miss world cup brok...</td>\n    </tr>\n    <tr>\n      <th>16</th>\n      <td>World Cup stadium alcohol ban emblematic of co...</td>\n      <td>world cup stadium alcohol ban emblematic of co...</td>\n      <td>world cup stadium alcohol ban emblematic contr...</td>\n    </tr>\n    <tr>\n      <th>17</th>\n      <td>T20 World Cup: Pakistan beat Netherlands to av...</td>\n      <td>t20 world cup pakistan beat netherlands to avo...</td>\n      <td>t20 world cup pakistan beat netherlands avoid ...</td>\n    </tr>\n    <tr>\n      <th>18</th>\n      <td>Ukraine war: Wagner chief Prigozhin defends br...</td>\n      <td>ukraine war wagner chief prigozhin defends bru...</td>\n      <td>ukraine war wagner chief prigozhin defends bru...</td>\n    </tr>\n    <tr>\n      <th>19</th>\n      <td>Chance for peace in Ukraine, says France's Mac...</td>\n      <td>chance for peace in ukraine says frances macron</td>\n      <td>chance peace ukraine says frances macron</td>\n    </tr>\n    <tr>\n      <th>20</th>\n      <td>Ukraine nuclear agency thickens alleged dirty ...</td>\n      <td>ukraine nuclear agency thickens alleged dirty ...</td>\n      <td>ukraine nuclear agency thickens alleged dirty ...</td>\n    </tr>\n    <tr>\n      <th>21</th>\n      <td>Ukraine war round-up: Missile blast in Poland ...</td>\n      <td>ukraine war roundup missile blast in poland an...</td>\n      <td>ukraine war roundup missile blast poland zambi...</td>\n    </tr>\n    <tr>\n      <th>22</th>\n      <td>Ukraine round-up: Refugees urged to stay away ...</td>\n      <td>ukraine roundup refugees urged to stay away an...</td>\n      <td>ukraine roundup refugees urged stay away dirty...</td>\n    </tr>\n    <tr>\n      <th>23</th>\n      <td>Russia says Ukraine hands over 50 prisoners of...</td>\n      <td>russia says ukraine hands over 50 prisoners of...</td>\n      <td>russia says ukraine hands 50 prisoners war</td>\n    </tr>\n  </tbody>\n</table>\n</div>"
     },
     "metadata": {},
     "output_type": "display_data"
    }
   ],
   "source": [
    "data_path = ( Path.cwd() / \"data/RoundedRawArticles.csv\").resolve()\n",
    "data = pd.read_csv(data_path, encoding='utf-8')\n",
    "data['title_stance'] = data.apply(lambda row : clean_text(row['title'], filter_stop_words=False), axis=1)\n",
    "data['title_topic'] = data.apply(lambda row : clean_text(row['title'], filter_stop_words=True), axis=1)\n",
    "display(data)\n",
    "\n",
    "data_path = ( Path.cwd() / \"data/RoundedCleanedArticles.csv\").resolve()\n",
    "data.to_csv(data_path, encoding='utf-8', index=False)"
   ],
   "metadata": {
    "collapsed": false
   }
  }
 ],
 "metadata": {
  "kernelspec": {
   "display_name": "Python 3",
   "language": "python",
   "name": "python3"
  },
  "language_info": {
   "codemirror_mode": {
    "name": "ipython",
    "version": 2
   },
   "file_extension": ".py",
   "mimetype": "text/x-python",
   "name": "python",
   "nbconvert_exporter": "python",
   "pygments_lexer": "ipython2",
   "version": "2.7.6"
  }
 },
 "nbformat": 4,
 "nbformat_minor": 0
}
