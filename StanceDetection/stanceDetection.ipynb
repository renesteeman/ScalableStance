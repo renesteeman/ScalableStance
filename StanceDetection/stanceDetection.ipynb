{
 "cells": [
  {
   "cell_type": "code",
   "execution_count": 33,
   "outputs": [],
   "source": [
    "# from sentence_transformers import SentenceTransformer\n",
    "#\n",
    "# sentenceModel = SentenceTransformer('all-mpnet-base-v2')\n",
    "#\n",
    "# embeddings = sentenceModel.encode(data['post'])"
   ],
   "metadata": {
    "collapsed": false
   }
  },
  {
   "cell_type": "code",
   "execution_count": 34,
   "outputs": [
    {
     "name": "stdout",
     "output_type": "stream",
     "text": [
      "['star wars characters take mexico city', 'world cup fifa head comments beer ban cp24', 'death boy lockdown fuels backlash chinas zerocovid policy', 'ukraine war wagner chief prigozhin defends brutal killing video', 'ukraine nuclear agency thickens alleged dirty bomb plot ctv news', 'andor episode 8 explained rogue one cameos star wars hell prison', 'star wars the deckbuilding game could rule galaxy 2player card games', 'ahsoka tano herself ashley eckstein breaks down star wars tales jedi', 't20 world cup pakistan beat netherlands avoid elimination', 'alarmed suicide attack china pakistan join hands probe', 't20 world cup bangladesh bowlers impress secure victory netherlands', 'world cup stadium alcohol ban emblematic contradictions', 'canadas goalkeeper crepeau miss world cup broken leg', 'chance peace ukraine says frances macron', 'andor gave us gayest screen fade star wars history', 'andor best star wars show since the mandalorian least popular', 'ukraine roundup refugees urged stay away dirty bomb claims', 'china supports central soes issue tech innovation bonds', 'count dooku voice actor corey burton tried something new star wars tales jedi', 'star wars fatigue shouldnt stop you from watching andor', 'ukraine war roundup missile blast poland zambian familys grief', 'update 2hong kong stocks tumble xi appointments fan economic fears yuan weakens', 'russia says ukraine hands 50 prisoners war reuterscom', 'theres new star wars project damon lindelof works']\n"
     ]
    }
   ],
   "source": [
    "import string\n",
    "import numpy as np\n",
    "import random\n",
    "import nltk\n",
    "import tensorflow as tf\n",
    "import tensorflow_hub as hub\n",
    "import tensorflow_text\n",
    "import pandas as pd\n",
    "\n",
    "custom_words_to_filter = ['Reuters', 'Reuters.com', 'CNET']\n",
    "\n",
    "docs_StarWars = [\"Count Dooku Voice Actor Corey Burton Tried Something New on Star Wars: Tales of the Jedi\", \"'Andor' Episode 8 Explained: 'Rogue One' Cameos and a 'Star Wars' Hell Prison - CNET\", \"Andor Gave Us the Gayest Screen Fade in Star Wars History\", \"Ahsoka Tano Herself, Ashley Eckstein, Breaks Down Star Wars: Tales of the Jedi\", \"Star Wars: The Deckbuilding Game could rule the galaxy of 2-player card games\", \"There's a new Star Wars project from Damon Lindelof in the works\", \"Star Wars Fatigue Shouldn't Stop You From Watching 'Andor' - CNET\", \"'Andor' is the best 'Star Wars' show since 'The Mandalorian' — but the least popular\", \"Star Wars characters take over Mexico City - Reuters\"]\n",
    "\n",
    "docs_China = [\"Alarmed by suicide attack, China and Pakistan join hands in probe - Reuters\", \"Death of boy in lockdown fuels backlash against China's zero-Covid policy\", \"UPDATE 2-Hong Kong stocks tumble as Xi appointments fan economic fears; yuan weakens\", \"China supports central SOEs to issue tech innovation bonds - Reuters\"]\n",
    "\n",
    "docs_WorldCup = [\"World Cup: FIFA head comments on beer ban - CP24\", \"T20 World Cup: Bangladesh bowlers impress to secure victory over Netherlands\", \"Canada's goalkeeper Crepeau to miss World Cup with broken leg - Reuters\", \"World Cup stadium alcohol ban emblematic of contradictions\", \"T20 World Cup: Pakistan beat Netherlands to avoid elimination\"]\n",
    "\n",
    "docs_Ukraine = [\"Ukraine war: Wagner chief Prigozhin defends brutal killing video\", \"Chance for peace in Ukraine, says France's Macron - Reuters\", \"Ukraine nuclear agency thickens alleged dirty bomb plot - CTV News\", \"Ukraine war round-up: Missile blast in Poland and Zambian family's grief\", \"Ukraine round-up: Refugees urged to stay away and 'dirty bomb' claims\", \"Russia says Ukraine hands over 50 prisoners of war - Reuters.com\"]\n",
    "\n",
    "docs = [docs_StarWars, docs_China, docs_WorldCup, docs_Ukraine]\n",
    "docs = list(np.concatenate(docs).flat)\n",
    "random.shuffle(docs)\n",
    "\n",
    "lemmatizer = nltk.stem.WordNetLemmatizer()\n",
    "tokenizer = nltk.tokenize.RegexpTokenizer(r'\\w+')\n",
    "stop_words = nltk.corpus.stopwords.words('english')\n",
    "words_to_filter = np.concatenate((stop_words, custom_words_to_filter))\n",
    "\n",
    "def clean_text(text):\n",
    "    text = \"\".join([char for char in text if char not in string.punctuation])\n",
    "    text = lemmatizer.lemmatize(text)\n",
    "    text = tokenizer.tokenize(text)\n",
    "    text = [word for word in text if word not in words_to_filter]\n",
    "    text = ' '.join(text)\n",
    "    text = text.lower()\n",
    "\n",
    "    return text\n",
    "\n",
    "docs = [clean_text(doc) for doc in docs]\n",
    "print(docs)"
   ],
   "metadata": {
    "collapsed": false
   }
  },
  {
   "cell_type": "code",
   "execution_count": 34,
   "outputs": [],
   "source": [],
   "metadata": {
    "collapsed": false
   }
  },
  {
   "cell_type": "code",
   "execution_count": 35,
   "outputs": [
    {
     "data": {
      "text/plain": "                                                                                                                                                                                                                                                                                                                                                                                                                                                                                                                                                                                                                                                                                                                                                                                                                                                                                                                                                                                                                                                                                                                                                                                                                                                            titles  \\\n0                                                                                                                                                                                                                                                                                                                                                                                                                                                                                                                                                                                                                                                                                                                                                                                                                                                                             Regulation of corporations has been subverted by corporations. States that incorporate corporations are not equipped to regulate corporations that are rich enough to influence elections, are rich enough to muster a legal team that can bankrupt the state. Money from corporations and their principals cannot be permitted in the political process if democracy is to survive.   \n1                                                                                                                                                                                                                                                                                                                                                                                                                                                                                                                                                                                                                                                                                                                                                                                                                                            Absolutely it's needs to be defined and regulated in its use, as currently the word 'natural' when used on food products is totally confusing and meaningless. Clearly they are trying to imply the item is 'healthy' or possibly 'organic', but when you see food 'manufacturers' like Frito-Lay or Campbell's with products labelled 'natural', that alone should set off alarms that all is not what it seems. ;-)   \n2                                                                                                                                                                                                                                                                                                                                                                                                                                                                                                                                                                                                                                                                                                                                                                                                                                                                                                                                                                                             \"...one must ask how much money they must make to demonstrate that they are among the best managed companies on the planet.\" They must make enough money to insure that they can never fail and threaten the stability of the worlds economy again. That much money.   \n3                                                                                                                                                                                                                                                                                                                                                                                                                                                                                                                                                                                                                                                                                                                                                                                                                                                                        The whole media mess surrounding the royals is a consequence of the promotional fervor with which royal households (aka, public relations experts) developed stage-set performances for the public to devour. Prior to the Victorian era, those elaborate and lethally expensive weddings, coronations, and funerals - and the fairy tales that went along with them - just didn't exist.   \n4                                                                                                                                                                                                                                                                                                                                                                                                                                                    Violence is inherent in the sex industry only in the same way that criminality is inherent in business in Russia. All private business in Russia was illegal under communism, so when communism fell, the first and strongest entrants were people from criminal backgrounds who had already been engaging in it illegally. They have not yet lost control; not enough time has passed. Similarly, because prostitution has been illegal in many places, even where it has become legal, there is a tendency for it to initially be dominated by the sometimes violent pimps who prevailed when it was illegal. As time passes, in large areas where it is fully legal, it will become less dominated by the criminal element and less violent (although it will never cease to be unpleasant in other ways).   \n...                                                                                                                                                                                                                                                                                                                                                                                                                                                                                                                                                                                                                                                                                                                                                                                                                                                                                                                                                                                                                                                                                                                                                                                                                                                            ...   \n1716                                                                                                                                                                                                                                                                                                                                                                                                                                                                                                                                                                                                                                                                                                                                                                                                                                                                    Allowing maximum access does not cause maximum use. It distributes use over a broader set of beaches, actually reducing crowding. Further, people don't change rental-car oil because that is the contractual responsibility of the rental company. It is not akin to a commons. The shore is a commons and the public has both the right to enjoy it and he responsibility to protect it.   \n1717                                                                                                                                                                                                                                                                                                                                                                                                                                                                                                                                                                                                                                                                                                                                                                                                                                                                                                                                                        The issue is what do I have to pay for the bankers to have the privlege of using my money to make a profit. In older times they went out and made good investments. Now they just want to shake me down for every last farthing. Shame on them. They will be made to change and the sooner the better.   \n1718  I personally believe that whatever the outcome of the civil war, the one outcome which would lead to a much wider and more destructive war would be a true victory by Assad's forces which would empower Hezbollah and project Iranian power through its erstwhile clients to the shores of the Mediterranean. This is a truly regionally destabilizing possibility which would present many powers in the area with difficult potentially war causing choices. That fear draws ample support from the powers that most fear that outcome and it tends to place those resources in the hands of the most destabilizing forces in the opposition which include the most militant of islamists and those bearing the greatest ressentinent against Shiites and minority groups in Syria. The only way to stanch that flow of resources is to at least supply the most acceptable opposition forces and to marginalize the more dangerous opposition actors. What all this means is that intervention is inevitable and that the cost and complexity of intervention only increases with time. Our response to this crisis will be studied for decades as the primary example of how nonintervention bears the same if not greater human costs as intervention.   \n1719                                                                                                                                                                                                                                                                                                                                                                                                                                                                                                                                                                                                                                                                                                                                                                                                                                                  Only 40 women's colleges are left in the U.S. And, while there are a variety of opinions on their value, to the women who have attended (and do attend) them, they have been (and continue to be) tremendously valuable. Why object to the choice that many women make and find so rewarding? As a proud graduate of one of them (Sweet Briar College), I wouldn't trade my experience for another, any day.   \n1720                                                                                                                                                                                                                                                                                                                                                                                                                                                                                                                                                                                                                                                                     Back in the day when I had my own office I could display artwork, plants, photos, and make my workspace an oasis where I enjoyed spending time. And I could welcome others in to share that space with me. The open plan destroyed individuality. It is DE-HUMANIZING. I now have no place to keep my possessions. Collaboration is DISCOURAGED because people can't sit comfortably together and talk for any length of time. In an open space, most people keep headphones on to shut out distractions. I find that when there are no walls, people build their own, just to keep sane.   \n\n               subjects stances  \n0            regulation       0  \n1               healthy       2  \n2           the economy       0  \n3            the royals       2  \n4           prostituion       2  \n...                 ...     ...  \n1716    rental companys       2  \n1717             banker       0  \n1718              syria       0  \n1719  same-sex colleges       1  \n1720      office layout       1  \n\n[1721 rows x 3 columns]",
      "text/html": "<div>\n<style scoped>\n    .dataframe tbody tr th:only-of-type {\n        vertical-align: middle;\n    }\n\n    .dataframe tbody tr th {\n        vertical-align: top;\n    }\n\n    .dataframe thead th {\n        text-align: right;\n    }\n</style>\n<table border=\"1\" class=\"dataframe\">\n  <thead>\n    <tr style=\"text-align: right;\">\n      <th></th>\n      <th>titles</th>\n      <th>subjects</th>\n      <th>stances</th>\n    </tr>\n  </thead>\n  <tbody>\n    <tr>\n      <th>0</th>\n      <td>Regulation of corporations has been subverted by corporations. States that incorporate corporations are not equipped to regulate corporations that are rich enough to influence elections, are rich enough to muster a legal team that can bankrupt the state. Money from corporations and their principals cannot be permitted in the political process if democracy is to survive.</td>\n      <td>regulation</td>\n      <td>0</td>\n    </tr>\n    <tr>\n      <th>1</th>\n      <td>Absolutely it's needs to be defined and regulated in its use, as currently the word 'natural' when used on food products is totally confusing and meaningless. Clearly they are trying to imply the item is 'healthy' or possibly 'organic', but when you see food 'manufacturers' like Frito-Lay or Campbell's with products labelled 'natural', that alone should set off alarms that all is not what it seems. ;-)</td>\n      <td>healthy</td>\n      <td>2</td>\n    </tr>\n    <tr>\n      <th>2</th>\n      <td>\"...one must ask how much money they must make to demonstrate that they are among the best managed companies on the planet.\" They must make enough money to insure that they can never fail and threaten the stability of the worlds economy again. That much money.</td>\n      <td>the economy</td>\n      <td>0</td>\n    </tr>\n    <tr>\n      <th>3</th>\n      <td>The whole media mess surrounding the royals is a consequence of the promotional fervor with which royal households (aka, public relations experts) developed stage-set performances for the public to devour. Prior to the Victorian era, those elaborate and lethally expensive weddings, coronations, and funerals - and the fairy tales that went along with them - just didn't exist.</td>\n      <td>the royals</td>\n      <td>2</td>\n    </tr>\n    <tr>\n      <th>4</th>\n      <td>Violence is inherent in the sex industry only in the same way that criminality is inherent in business in Russia. All private business in Russia was illegal under communism, so when communism fell, the first and strongest entrants were people from criminal backgrounds who had already been engaging in it illegally. They have not yet lost control; not enough time has passed. Similarly, because prostitution has been illegal in many places, even where it has become legal, there is a tendency for it to initially be dominated by the sometimes violent pimps who prevailed when it was illegal. As time passes, in large areas where it is fully legal, it will become less dominated by the criminal element and less violent (although it will never cease to be unpleasant in other ways).</td>\n      <td>prostituion</td>\n      <td>2</td>\n    </tr>\n    <tr>\n      <th>...</th>\n      <td>...</td>\n      <td>...</td>\n      <td>...</td>\n    </tr>\n    <tr>\n      <th>1716</th>\n      <td>Allowing maximum access does not cause maximum use. It distributes use over a broader set of beaches, actually reducing crowding. Further, people don't change rental-car oil because that is the contractual responsibility of the rental company. It is not akin to a commons. The shore is a commons and the public has both the right to enjoy it and he responsibility to protect it.</td>\n      <td>rental companys</td>\n      <td>2</td>\n    </tr>\n    <tr>\n      <th>1717</th>\n      <td>The issue is what do I have to pay for the bankers to have the privlege of using my money to make a profit. In older times they went out and made good investments. Now they just want to shake me down for every last farthing. Shame on them. They will be made to change and the sooner the better.</td>\n      <td>banker</td>\n      <td>0</td>\n    </tr>\n    <tr>\n      <th>1718</th>\n      <td>I personally believe that whatever the outcome of the civil war, the one outcome which would lead to a much wider and more destructive war would be a true victory by Assad's forces which would empower Hezbollah and project Iranian power through its erstwhile clients to the shores of the Mediterranean. This is a truly regionally destabilizing possibility which would present many powers in the area with difficult potentially war causing choices. That fear draws ample support from the powers that most fear that outcome and it tends to place those resources in the hands of the most destabilizing forces in the opposition which include the most militant of islamists and those bearing the greatest ressentinent against Shiites and minority groups in Syria. The only way to stanch that flow of resources is to at least supply the most acceptable opposition forces and to marginalize the more dangerous opposition actors. What all this means is that intervention is inevitable and that the cost and complexity of intervention only increases with time. Our response to this crisis will be studied for decades as the primary example of how nonintervention bears the same if not greater human costs as intervention.</td>\n      <td>syria</td>\n      <td>0</td>\n    </tr>\n    <tr>\n      <th>1719</th>\n      <td>Only 40 women's colleges are left in the U.S. And, while there are a variety of opinions on their value, to the women who have attended (and do attend) them, they have been (and continue to be) tremendously valuable. Why object to the choice that many women make and find so rewarding? As a proud graduate of one of them (Sweet Briar College), I wouldn't trade my experience for another, any day.</td>\n      <td>same-sex colleges</td>\n      <td>1</td>\n    </tr>\n    <tr>\n      <th>1720</th>\n      <td>Back in the day when I had my own office I could display artwork, plants, photos, and make my workspace an oasis where I enjoyed spending time. And I could welcome others in to share that space with me. The open plan destroyed individuality. It is DE-HUMANIZING. I now have no place to keep my possessions. Collaboration is DISCOURAGED because people can't sit comfortably together and talk for any length of time. In an open space, most people keep headphones on to shut out distractions. I find that when there are no walls, people build their own, just to keep sane.</td>\n      <td>office layout</td>\n      <td>1</td>\n    </tr>\n  </tbody>\n</table>\n<p>1721 rows × 3 columns</p>\n</div>"
     },
     "metadata": {},
     "output_type": "display_data"
    },
    {
     "name": "stdout",
     "output_type": "stream",
     "text": [
      "titles        object\n",
      "subjects      object\n",
      "stances     category\n",
      "dtype: object\n"
     ]
    }
   ],
   "source": [
    "USE_DATASET = True\n",
    "\n",
    "if USE_DATASET:\n",
    "    data = pd.read_csv('stance_data.csv')\n",
    "    data = data.rename(columns={'post': 'titles', 'new_topic': 'subjects', 'label': 'stances'})\n",
    "    data['stances'] = data['stances'].astype('category')\n",
    "    # convert from 0=con, 1=pro, 2=neutral to 0=neg, 1=neu, 2=pro\n",
    "    neu = data['stances'] == 1\n",
    "    data.loc[data['stances'] == 2, 'stances'] = 1\n",
    "    data.loc[neu, 'stances'] = 2\n",
    "else:\n",
    "    data = pd.DataFrame(docs, columns=['titles'])\n",
    "    label_options = ['world cup', 'Andor', 'China', 'Ukraine'] # Ukraine subjects reflecting positive outcome of war (pos = could end 'well')\n",
    "    subjects = ['world cup', 'world cup', 'world cup', 'Ukraine', 'Andor', 'Ukraine', 'Ukraine', 'Andor', 'Ukraine', 'China', 'China', 'China', 'Andor', 'world cup', 'Andor', 'Andor', 'Andor', 'Andor', 'Ukraine', 'world cup', 'Andor', 'Andor', 'China', 'Ukraine']\n",
    "    stances = ['neu', 'neg', 'pos', 'neg', 'neu', 'pos', 'neg', 'pos', 'neu', 'neg', 'neu', 'neg', 'pos', 'neg', 'neu', 'neu', 'pos', 'neu', 'neg', 'neu', 'pos', 'pos', 'neg', 'neg']\n",
    "    data['stances'] = stances\n",
    "    data['subjects'] = subjects\n",
    "\n",
    "    # Note that the categorical index has to start at 0 (so -1 for negative stance isn't allowed)\n",
    "    data.loc[ data['stances'] == 'neg', 'stances' ] = 0\n",
    "    data.loc[ data['stances'] == 'neu', 'stances' ] = 1\n",
    "    data.loc[ data['stances'] == 'pos', 'stances' ] = 2\n",
    "\n",
    "    data['titles'] = data['titles'].astype('str')\n",
    "    data['subjects'] = data['subjects'].astype('str')\n",
    "    data['stances'] = data['stances'].astype('category')\n",
    "\n",
    "# TODO train/test split\n",
    "data_train = data\n",
    "\n",
    "pd.set_option('display.max_colwidth', None)\n",
    "display(data)\n",
    "print(data.dtypes)"
   ],
   "metadata": {
    "collapsed": false
   }
  },
  {
   "cell_type": "code",
   "execution_count": 36,
   "outputs": [
    {
     "name": "stdout",
     "output_type": "stream",
     "text": [
      "Model: \"model_4\"\n",
      "__________________________________________________________________________________________________\n",
      " Layer (type)                   Output Shape         Param #     Connected to                     \n",
      "==================================================================================================\n",
      " titles (InputLayer)            [(None,)]            0           []                               \n",
      "                                                                                                  \n",
      " subjects (InputLayer)          [(None,)]            0           []                               \n",
      "                                                                                                  \n",
      " preprocessing (KerasLayer)     {'input_word_ids':   0           ['titles[0][0]',                 \n",
      "                                (None, 128),                      'subjects[0][0]']               \n",
      "                                 'input_mask': (Non                                               \n",
      "                                e, 128),                                                          \n",
      "                                 'input_type_ids':                                                \n",
      "                                (None, 128)}                                                      \n",
      "                                                                                                  \n",
      " BERT_encoder (KerasLayer)      {'sequence_output':  177853441   ['preprocessing[0][0]',          \n",
      "                                 (None, 128, 768),                'preprocessing[0][1]',          \n",
      "                                 'default': (None,                'preprocessing[0][2]',          \n",
      "                                768),                             'preprocessing[1][0]',          \n",
      "                                 'pooled_output': (               'preprocessing[1][1]',          \n",
      "                                None, 768),                       'preprocessing[1][2]']          \n",
      "                                 'encoder_outputs':                                               \n",
      "                                 [(None, 128, 768),                                               \n",
      "                                 (None, 128, 768),                                                \n",
      "                                 (None, 128, 768),                                                \n",
      "                                 (None, 128, 768),                                                \n",
      "                                 (None, 128, 768),                                                \n",
      "                                 (None, 128, 768),                                                \n",
      "                                 (None, 128, 768),                                                \n",
      "                                 (None, 128, 768),                                                \n",
      "                                 (None, 128, 768),                                                \n",
      "                                 (None, 128, 768),                                                \n",
      "                                 (None, 128, 768),                                                \n",
      "                                 (None, 128, 768)]}                                               \n",
      "                                                                                                  \n",
      " concatenate_4 (Concatenate)    (None, 1536)         0           ['BERT_encoder[0][13]',          \n",
      "                                                                  'BERT_encoder[1][13]']          \n",
      "                                                                                                  \n",
      " dense_10 (Dense)               (None, 300)          461100      ['concatenate_4[0][0]']          \n",
      "                                                                                                  \n",
      " dense_11 (Dense)               (None, 100)          30100       ['dense_10[0][0]']               \n",
      "                                                                                                  \n",
      " prediction (Dense)             (None, 3)            303         ['dense_11[0][0]']               \n",
      "                                                                                                  \n",
      "==================================================================================================\n",
      "Total params: 178,344,944\n",
      "Trainable params: 491,503\n",
      "Non-trainable params: 177,853,441\n",
      "__________________________________________________________________________________________________\n"
     ]
    },
    {
     "data": {
      "image/png": "[encoded data removed]",
      "text/plain": "<IPython.core.display.Image object>"
     },
     "execution_count": 36,
     "metadata": {},
     "output_type": "execute_result"
    }
   ],
   "source": [
    "tfhub_handle_preprocess = \"https://tfhub.dev/tensorflow/bert_multi_cased_preprocess/3\"\n",
    "tfhub_handle_encoder = \"https://tfhub.dev/tensorflow/bert_multi_cased_L-12_H-768_A-12/4\"\n",
    "hidden_layer_sizes = [300, 100]\n",
    "alpha_leaky_relu = 0.01\n",
    "dropout = 0\n",
    "number_of_output_classes = 3\n",
    "\n",
    "def build_classifier_model():\n",
    "    # Handle categorical labels\n",
    "    # encoded_stance = get_category_encoding_layer(name='categorical', dataset=data_train, dtype='string')\n",
    "\n",
    "    # BERT embeddings\n",
    "    preprocessor = hub.KerasLayer(tfhub_handle_preprocess, name='preprocessing')\n",
    "    encoder = hub.KerasLayer(tfhub_handle_encoder, trainable=False, name='BERT_encoder')\n",
    "\n",
    "    titles = tf.keras.layers.Input(shape=(), dtype=tf.string, name='titles')\n",
    "    titles_preprocessed = preprocessor(titles)\n",
    "\n",
    "    subjects = tf.keras.layers.Input(shape=(), dtype=tf.string, name='subjects')\n",
    "    subjects_preprocessed = preprocessor(subjects)\n",
    "\n",
    "    # pooled_output gives the embedding per input sequence, alternatively sequence_output would give it per input token\n",
    "    titles_embedded = encoder(titles_preprocessed)[\"pooled_output\"]\n",
    "    subjects_embedded = encoder(subjects_preprocessed)[\"pooled_output\"]\n",
    "\n",
    "    # Concat features\n",
    "    # titles_embedded = tf.keras.layers.Flatten()(titles_embedded)\n",
    "    # subjects_embedded = tf.keras.layers.Flatten()(subjects_embedded)\n",
    "    concatenated_features = tf.keras.layers.Concatenate()([titles_embedded, subjects_embedded])\n",
    "    out = concatenated_features\n",
    "\n",
    "    # Neural network hidden layers\n",
    "    for number_of_hidden_units in hidden_layer_sizes:\n",
    "        out = tf.keras.layers.Dense(number_of_hidden_units, activation=tf.keras.layers.LeakyReLU(alpha=alpha_leaky_relu))(out)\n",
    "        if dropout > 0:\n",
    "            out = tf.keras.layers.Dropout(dropout)(out)\n",
    "\n",
    "    # Output\n",
    "    out = tf.keras.layers.Dense(number_of_output_classes, activation=tf.nn.softmax, name='prediction')(out)\n",
    "\n",
    "    return tf.keras.Model(\n",
    "        inputs = [titles, subjects],\n",
    "        outputs = out\n",
    "    )\n",
    "\n",
    "model = build_classifier_model()\n",
    "model.summary()\n",
    "tf.keras.utils.plot_model(model)"
   ],
   "metadata": {
    "collapsed": false
   }
  },
  {
   "cell_type": "code",
   "execution_count": 37,
   "outputs": [
    {
     "name": "stdout",
     "output_type": "stream",
     "text": [
      "titles        object\n",
      "subjects      object\n",
      "stances     category\n",
      "dtype: object\n"
     ]
    }
   ],
   "source": [
    "data_train['titles']\n",
    "data_train['subjects']\n",
    "# data_train.loc['stances'] = data_train['stances'].values.astype(np.float32)\n",
    "data_train['stances']\n",
    "\n",
    "print(data.dtypes)"
   ],
   "metadata": {
    "collapsed": false
   }
  },
  {
   "cell_type": "code",
   "execution_count": 38,
   "outputs": [
    {
     "name": "stdout",
     "output_type": "stream",
     "text": [
      "Epoch 1/5\n",
      "54/54 [==============================] - 726s 13s/step - loss: 0.8113 - accuracy: 0.4991\n",
      "Epoch 2/5\n",
      "54/54 [==============================] - 583s 11s/step - loss: 0.7448 - accuracy: 0.5427\n",
      "Epoch 3/5\n",
      "54/54 [==============================] - 595s 11s/step - loss: 0.7375 - accuracy: 0.5648\n",
      "Epoch 4/5\n",
      "54/54 [==============================] - 585s 11s/step - loss: 0.7288 - accuracy: 0.5787\n",
      "Epoch 5/5\n",
      "54/54 [==============================] - 590s 11s/step - loss: 0.7175 - accuracy: 0.5758\n"
     ]
    }
   ],
   "source": [
    "# steps_per_epoch = tf.data.experimental.cardinality(data_train).numpy()\n",
    "# num_train_steps = steps_per_epoch * epochs\n",
    "# num_warmup_steps = int(0.1*num_train_steps)\n",
    "#\n",
    "# init_lr = 3e-5\n",
    "# optimizer = tf.keras.optimizers.create_optimizer( init_lr=init_lr,\n",
    "#                                                   num_train_steps=num_train_steps,\n",
    "#                                                   num_warmup_steps=num_warmup_steps,\n",
    "#                                                   optimizer_type='adamw')\n",
    "\n",
    "model.compile(optimizer=tf.keras.optimizers.Adam(),\n",
    "              loss=tf.keras.losses.SparseCategoricalCrossentropy(),\n",
    "              metrics=[\"accuracy\"])\n",
    "\n",
    "history = model.fit(\n",
    "    x=[\n",
    "        data_train['titles'],\n",
    "        data_train['subjects']\n",
    "    ],\n",
    "    y=data_train['stances'],\n",
    "    epochs=5\n",
    ")\n"
   ],
   "metadata": {
    "collapsed": false
   }
  },
  {
   "cell_type": "code",
   "execution_count": 39,
   "outputs": [
    {
     "name": "stderr",
     "output_type": "stream",
     "text": [
      "WARNING:absl:Found untraced functions such as leaky_re_lu_10_layer_call_fn, leaky_re_lu_10_layer_call_and_return_conditional_losses, leaky_re_lu_11_layer_call_fn, leaky_re_lu_11_layer_call_and_return_conditional_losses, restored_function_body while saving (showing 5 of 370). These functions will not be directly callable after loading.\n"
     ]
    },
    {
     "name": "stdout",
     "output_type": "stream",
     "text": [
      "INFO:tensorflow:Assets written to: /models/stance_model_v3\\assets\n"
     ]
    },
    {
     "name": "stderr",
     "output_type": "stream",
     "text": [
      "INFO:tensorflow:Assets written to: /models/stance_model_v3\\assets\n"
     ]
    }
   ],
   "source": [
    "model.save(\"/models/stance_model_v3\")"
   ],
   "metadata": {
    "collapsed": false
   }
  },
  {
   "cell_type": "code",
   "execution_count": 40,
   "outputs": [],
   "source": [
    "from tensorflow import keras\n",
    "\n",
    "# load model\n",
    "# model = keras.models.load_model(\"/models/stance_model_v1\")"
   ],
   "metadata": {
    "collapsed": false
   }
  }
 ],
 "metadata": {
  "kernelspec": {
   "display_name": "Python 3",
   "language": "python",
   "name": "python3"
  },
  "language_info": {
   "codemirror_mode": {
    "name": "ipython",
    "version": 2
   },
   "file_extension": ".py",
   "mimetype": "text/x-python",
   "name": "python",
   "nbconvert_exporter": "python",
   "pygments_lexer": "ipython2",
   "version": "2.7.6"
  }
 },
 "nbformat": 4,
 "nbformat_minor": 0
}
